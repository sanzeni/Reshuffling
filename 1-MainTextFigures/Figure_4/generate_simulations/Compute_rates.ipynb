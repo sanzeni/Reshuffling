{
 "cells": [
  {
   "cell_type": "code",
   "execution_count": 1,
   "metadata": {},
   "outputs": [],
   "source": [
    "import sys\n",
    "import os\n",
    "sys.path.insert(0, './../../../DataAndScripts/unstructured_scripts/')"
   ]
  },
  {
   "cell_type": "code",
   "execution_count": 2,
   "metadata": {},
   "outputs": [
    {
     "name": "stdout",
     "output_type": "stream",
     "text": [
      "Once deleted, variables cannot be recovered. Proceed (y/[n])? y\n"
     ]
    }
   ],
   "source": [
    "%reset\n",
    "#%qtconsole\n",
    "%load_ext autoreload\n",
    "%autoreload 2\n",
    "%matplotlib inline \n",
    "import matplotlib.pyplot as plt\n",
    "import functions_old as fun\n",
    "\n",
    "import numpy as np\n",
    "import matplotlib as mpl\n",
    "from scipy import stats\n",
    "\n",
    "from scipy.interpolate import interp1d,interp2d\n",
    "from scipy.optimize import least_squares\n",
    "\n",
    "import pandas as pd\n",
    "\n",
    "\n",
    "\n"
   ]
  },
  {
   "cell_type": "markdown",
   "metadata": {},
   "source": [
    "# Define Network Parameters"
   ]
  },
  {
   "cell_type": "code",
   "execution_count": 3,
   "metadata": {},
   "outputs": [],
   "source": [
    "sigma_t=0.01; # Input noise, determine how smooth the single neuron transfer function is \n",
    "tau_rp=0.002; # Refractory period\n",
    "\n",
    "g_E=8.; g_I=3;beta=1.; # parameters characterizing the relative strength of synaptic connections\n",
    "K=500*4; # average number of E connections per neuron (I connections are 1/4 of that)\n",
    "sigma_Lambda_over_Lambda=1; # ratio between mean and standard deviation of the opsin expression\n",
    "#sigma_Lambda_over_Lambda=0.5; # ratio between mean and standard deviation of the opsin expression\n",
    "\n",
    "L=[0.,  20. ]; #  Laser intensity that fits the data\n",
    "r_X=20*np.ones(1)\n",
    "#[20,20,20]; # To speed up the code, I show results onlye for low anf high contrast and laser\n",
    "\n",
    "Tmax_over_tau_E=100;\n",
    "#Tmax_over_tau_E=15;\n",
    "\n",
    "p=0.1; # probability of connection between cells. \n",
    "sigma_X_over_r_X=0.2; # Presynaptic population has mean rate r_X, Gaussianly distributed with std=0.2* r_X\n",
    "Lambda=1*10**-3; # mean opsin expression in Volt\n",
    "\n",
    "sigma_Lambda=sigma_Lambda_over_Lambda*Lambda\n",
    "\n",
    "\n",
    "N=int(K/p);\n",
    "N_E,N_I=N,int(N*fun.gamma);\n",
    "N_X=N_E+N_I"
   ]
  },
  {
   "cell_type": "code",
   "execution_count": 4,
   "metadata": {},
   "outputs": [
    {
     "data": {
      "text/plain": [
       "0.5555555555555557"
      ]
     },
     "execution_count": 4,
     "metadata": {},
     "output_type": "execute_result"
    }
   ],
   "source": [
    "J=0.0006\n",
    "(sigma_Lambda*L[-1])**2/K/J**2"
   ]
  },
  {
   "cell_type": "code",
   "execution_count": 7,
   "metadata": {},
   "outputs": [
    {
     "name": "stderr",
     "output_type": "stream",
     "text": [
      "/Users/tuannguyen/Reshuffling/1-MainTextFigures/Figure_4/generate_simulations/./../../../DataAndScripts/unstructured_scripts/functions_old.py:53: IntegrationWarning: The occurrence of roundoff error is detected, which prevents \n",
      "  the requested tolerance from being achieved.  The error may be \n",
      "  underestimated.\n",
      "  adelleh=integrate.quad(lambda u: f(u),minimo,massimo)\n",
      "/Users/tuannguyen/Reshuffling/1-MainTextFigures/Figure_4/generate_simulations/./../../../DataAndScripts/unstructured_scripts/functions_old.py:53: IntegrationWarning: The maximum number of subdivisions (50) has been achieved.\n",
      "  If increasing the limit yields no improvement it is advised to analyze \n",
      "  the integrand in order to determine the difficulties.  If the position of a \n",
      "  local difficulty can be determined (singularity, discontinuity) one will \n",
      "  probably gain from splitting up the interval and calling the integrator \n",
      "  on the subranges.  Perhaps a special-purpose integrator should be used.\n",
      "  adelleh=integrate.quad(lambda u: f(u),minimo,massimo)\n"
     ]
    }
   ],
   "source": [
    "\n",
    "mu_tab_max=10.0;\n",
    "mu_tab=np.linspace(-mu_tab_max,mu_tab_max,200000)\n",
    "mu_tab=np.concatenate(([-10000],mu_tab))\n",
    "mu_tab=np.concatenate((mu_tab,[10000]))\n",
    "\n",
    "phi_tab_E,phi_tab_I=mu_tab*0,mu_tab*0;\n",
    "for idx in range(len(phi_tab_E)):\n",
    "    phi_tab_E[idx]=fun.comp_phi_tab(mu_tab[idx],fun.tau_E,tau_rp,sigma_t)\n",
    "    phi_tab_I[idx]=fun.comp_phi_tab(mu_tab[idx],fun.tau_I,tau_rp,sigma_t)\n",
    "\n",
    "phi_int_E=interp1d(mu_tab, phi_tab_E, kind='linear')  \n",
    "phi_int_I=interp1d(mu_tab, phi_tab_I, kind='linear')\n"
   ]
  },
  {
   "cell_type": "markdown",
   "metadata": {},
   "source": [
    "# Simulate Networks"
   ]
  },
  {
   "cell_type": "code",
   "execution_count": 8,
   "metadata": {},
   "outputs": [
    {
     "name": "stdout",
     "output_type": "stream",
     "text": [
      "Computing and saving network response\n",
      "[3.  2.5]\n",
      "[[ 1.e-05 -8.e-05]\n",
      " [ 1.e-05 -3.e-05]]\n",
      "0.5 0.5\n",
      "17.183130645265685 23.275535666882263 2.3663801196247047 1.0427117942688515\n",
      "0.5 1.0\n",
      "68.04961823933819 51.41855491358233 48.18676301308314 2.750824429861978\n",
      "[ 18.40161165  46.32179392   3.26129381  43.87095322 -15.97918925]\n",
      "[3.  0.5]\n",
      "[[ 0.0003 -0.0024]\n",
      " [ 0.0003 -0.0009]]\n",
      "1.0 0.5\n"
     ]
    },
    {
     "ename": "KeyboardInterrupt",
     "evalue": "",
     "output_type": "error",
     "traceback": [
      "\u001b[0;31m---------------------------------------------------------------------------\u001b[0m",
      "\u001b[0;31mKeyboardInterrupt\u001b[0m                         Traceback (most recent call last)",
      "Cell \u001b[0;32mIn[8], line 43\u001b[0m\n\u001b[1;32m     41\u001b[0m r_X_local,L_local\u001b[38;5;241m=\u001b[39mr_X[\u001b[38;5;241m0\u001b[39m],L[idx_L];\n\u001b[1;32m     42\u001b[0m \u001b[38;5;28mprint\u001b[39m((idx_J\u001b[38;5;241m+\u001b[39m\u001b[38;5;241m1\u001b[39m)\u001b[38;5;241m/\u001b[39m\u001b[38;5;28mlen\u001b[39m(Possible_J),(idx_L\u001b[38;5;241m+\u001b[39m\u001b[38;5;241m1\u001b[39m)\u001b[38;5;241m/\u001b[39m\u001b[38;5;28mlen\u001b[39m(L))\n\u001b[0;32m---> 43\u001b[0m DYNA[idx_J,idx_L,:,:], MUS[idx_J,idx_L,:],Lambda_i_L[idx_J,idx_L,:]\u001b[38;5;241m=\u001b[39m\u001b[43mfun\u001b[49m\u001b[38;5;241;43m.\u001b[39;49m\u001b[43mHigh_dimensional_dynamics\u001b[49m\u001b[43m(\u001b[49m\u001b[43mT\u001b[49m\u001b[43m,\u001b[49m\u001b[43mL_local\u001b[49m\u001b[43m,\u001b[49m\u001b[43mr_X_local\u001b[49m\u001b[43m,\u001b[49m\u001b[43mM\u001b[49m\u001b[43m,\u001b[49m\u001b[43mmu_X_over_r_X_tau\u001b[49m\u001b[43m,\u001b[49m\u001b[43mLambda_i\u001b[49m\u001b[43m,\u001b[49m\u001b[43mN_E\u001b[49m\u001b[43m,\u001b[49m\u001b[43mN_I\u001b[49m\u001b[43m,\u001b[49m\u001b[43mphi_int_E\u001b[49m\u001b[43m,\u001b[49m\u001b[43mphi_int_I\u001b[49m\u001b[43m)\u001b[49m;\n\u001b[1;32m     44\u001b[0m RATES[idx_J,idx_L,:]\u001b[38;5;241m=\u001b[39mnp\u001b[38;5;241m.\u001b[39mmean(DYNA[idx_J,idx_L,:,mask_time],axis\u001b[38;5;241m=\u001b[39m\u001b[38;5;241m0\u001b[39m)\n\u001b[1;32m     45\u001b[0m \u001b[38;5;28mprint\u001b[39m(np\u001b[38;5;241m.\u001b[39mmean(RATES[idx_J,idx_L,\u001b[38;5;241m0\u001b[39m:N_E]),\n\u001b[1;32m     46\u001b[0m       np\u001b[38;5;241m.\u001b[39mmean(RATES[idx_J,idx_L,N_E::]),\n\u001b[1;32m     47\u001b[0m       np\u001b[38;5;241m.\u001b[39mstd(RATES[idx_J,idx_L,\u001b[38;5;241m0\u001b[39m:N_E]),\n\u001b[1;32m     48\u001b[0m       np\u001b[38;5;241m.\u001b[39mstd(RATES[idx_J,idx_L,N_E::]))\n",
      "File \u001b[0;32m~/Reshuffling/1-MainTextFigures/Figure_4/generate_simulations/./../../../DataAndScripts/unstructured_scripts/functions_old.py:112\u001b[0m, in \u001b[0;36mHigh_dimensional_dynamics\u001b[0;34m(T, L, r_X, M, mu_X_over_r_X_tau, Lambda_i, N_E, N_I, phi_int_E, phi_int_I)\u001b[0m\n\u001b[1;32m    109\u001b[0m     \u001b[38;5;28;01mreturn\u001b[39;00m F\n\u001b[1;32m    111\u001b[0m RATES\u001b[38;5;241m=\u001b[39mnp\u001b[38;5;241m.\u001b[39mzeros((N_E\u001b[38;5;241m+\u001b[39mN_I,\u001b[38;5;28mlen\u001b[39m(T)));\n\u001b[0;32m--> 112\u001b[0m sol \u001b[38;5;241m=\u001b[39m \u001b[43msolve_ivp\u001b[49m\u001b[43m(\u001b[49m\u001b[43msystem_RK45\u001b[49m\u001b[43m,\u001b[49m\u001b[43m[\u001b[49m\u001b[43mnp\u001b[49m\u001b[38;5;241;43m.\u001b[39;49m\u001b[43mmin\u001b[49m\u001b[43m(\u001b[49m\u001b[43mT\u001b[49m\u001b[43m)\u001b[49m\u001b[43m,\u001b[49m\u001b[43mnp\u001b[49m\u001b[38;5;241;43m.\u001b[39;49m\u001b[43mmax\u001b[49m\u001b[43m(\u001b[49m\u001b[43mT\u001b[49m\u001b[43m)\u001b[49m\u001b[43m]\u001b[49m\u001b[43m,\u001b[49m\u001b[43mRATES\u001b[49m\u001b[43m[\u001b[49m\u001b[43m:\u001b[49m\u001b[43m,\u001b[49m\u001b[38;5;241;43m0\u001b[39;49m\u001b[43m]\u001b[49m\u001b[43m,\u001b[49m\u001b[43m \u001b[49m\u001b[43mmethod\u001b[49m\u001b[38;5;241;43m=\u001b[39;49m\u001b[38;5;124;43m'\u001b[39;49m\u001b[38;5;124;43mRK45\u001b[39;49m\u001b[38;5;124;43m'\u001b[39;49m\u001b[43m,\u001b[49m\n\u001b[1;32m    113\u001b[0m \u001b[43m        \u001b[49m\u001b[43mt_eval\u001b[49m\u001b[38;5;241;43m=\u001b[39;49m\u001b[43mT\u001b[49m\u001b[43m)\u001b[49m\n\u001b[1;32m    114\u001b[0m RATES\u001b[38;5;241m=\u001b[39msol\u001b[38;5;241m.\u001b[39my;  \n\u001b[1;32m    116\u001b[0m MU\u001b[38;5;241m=\u001b[39mnp\u001b[38;5;241m.\u001b[39mmatmul(M,RATES[:,\u001b[38;5;241m-\u001b[39m\u001b[38;5;241m1\u001b[39m])\u001b[38;5;241m+\u001b[39mmu_X_over_r_X_tau\u001b[38;5;241m*\u001b[39mr_X\n",
      "File \u001b[0;32m/usr/local/lib/python3.11/site-packages/scipy/integrate/_ivp/ivp.py:591\u001b[0m, in \u001b[0;36msolve_ivp\u001b[0;34m(fun, t_span, y0, method, t_eval, dense_output, events, vectorized, args, **options)\u001b[0m\n\u001b[1;32m    589\u001b[0m status \u001b[38;5;241m=\u001b[39m \u001b[38;5;28;01mNone\u001b[39;00m\n\u001b[1;32m    590\u001b[0m \u001b[38;5;28;01mwhile\u001b[39;00m status \u001b[38;5;129;01mis\u001b[39;00m \u001b[38;5;28;01mNone\u001b[39;00m:\n\u001b[0;32m--> 591\u001b[0m     message \u001b[38;5;241m=\u001b[39m \u001b[43msolver\u001b[49m\u001b[38;5;241;43m.\u001b[39;49m\u001b[43mstep\u001b[49m\u001b[43m(\u001b[49m\u001b[43m)\u001b[49m\n\u001b[1;32m    593\u001b[0m     \u001b[38;5;28;01mif\u001b[39;00m solver\u001b[38;5;241m.\u001b[39mstatus \u001b[38;5;241m==\u001b[39m \u001b[38;5;124m'\u001b[39m\u001b[38;5;124mfinished\u001b[39m\u001b[38;5;124m'\u001b[39m:\n\u001b[1;32m    594\u001b[0m         status \u001b[38;5;241m=\u001b[39m \u001b[38;5;241m0\u001b[39m\n",
      "File \u001b[0;32m/usr/local/lib/python3.11/site-packages/scipy/integrate/_ivp/base.py:181\u001b[0m, in \u001b[0;36mOdeSolver.step\u001b[0;34m(self)\u001b[0m\n\u001b[1;32m    179\u001b[0m \u001b[38;5;28;01melse\u001b[39;00m:\n\u001b[1;32m    180\u001b[0m     t \u001b[38;5;241m=\u001b[39m \u001b[38;5;28mself\u001b[39m\u001b[38;5;241m.\u001b[39mt\n\u001b[0;32m--> 181\u001b[0m     success, message \u001b[38;5;241m=\u001b[39m \u001b[38;5;28;43mself\u001b[39;49m\u001b[38;5;241;43m.\u001b[39;49m\u001b[43m_step_impl\u001b[49m\u001b[43m(\u001b[49m\u001b[43m)\u001b[49m\n\u001b[1;32m    183\u001b[0m     \u001b[38;5;28;01mif\u001b[39;00m \u001b[38;5;129;01mnot\u001b[39;00m success:\n\u001b[1;32m    184\u001b[0m         \u001b[38;5;28mself\u001b[39m\u001b[38;5;241m.\u001b[39mstatus \u001b[38;5;241m=\u001b[39m \u001b[38;5;124m'\u001b[39m\u001b[38;5;124mfailed\u001b[39m\u001b[38;5;124m'\u001b[39m\n",
      "File \u001b[0;32m/usr/local/lib/python3.11/site-packages/scipy/integrate/_ivp/rk.py:144\u001b[0m, in \u001b[0;36mRungeKutta._step_impl\u001b[0;34m(self)\u001b[0m\n\u001b[1;32m    141\u001b[0m h \u001b[38;5;241m=\u001b[39m t_new \u001b[38;5;241m-\u001b[39m t\n\u001b[1;32m    142\u001b[0m h_abs \u001b[38;5;241m=\u001b[39m np\u001b[38;5;241m.\u001b[39mabs(h)\n\u001b[0;32m--> 144\u001b[0m y_new, f_new \u001b[38;5;241m=\u001b[39m \u001b[43mrk_step\u001b[49m\u001b[43m(\u001b[49m\u001b[38;5;28;43mself\u001b[39;49m\u001b[38;5;241;43m.\u001b[39;49m\u001b[43mfun\u001b[49m\u001b[43m,\u001b[49m\u001b[43m \u001b[49m\u001b[43mt\u001b[49m\u001b[43m,\u001b[49m\u001b[43m \u001b[49m\u001b[43my\u001b[49m\u001b[43m,\u001b[49m\u001b[43m \u001b[49m\u001b[38;5;28;43mself\u001b[39;49m\u001b[38;5;241;43m.\u001b[39;49m\u001b[43mf\u001b[49m\u001b[43m,\u001b[49m\u001b[43m \u001b[49m\u001b[43mh\u001b[49m\u001b[43m,\u001b[49m\u001b[43m \u001b[49m\u001b[38;5;28;43mself\u001b[39;49m\u001b[38;5;241;43m.\u001b[39;49m\u001b[43mA\u001b[49m\u001b[43m,\u001b[49m\n\u001b[1;32m    145\u001b[0m \u001b[43m                       \u001b[49m\u001b[38;5;28;43mself\u001b[39;49m\u001b[38;5;241;43m.\u001b[39;49m\u001b[43mB\u001b[49m\u001b[43m,\u001b[49m\u001b[43m \u001b[49m\u001b[38;5;28;43mself\u001b[39;49m\u001b[38;5;241;43m.\u001b[39;49m\u001b[43mC\u001b[49m\u001b[43m,\u001b[49m\u001b[43m \u001b[49m\u001b[38;5;28;43mself\u001b[39;49m\u001b[38;5;241;43m.\u001b[39;49m\u001b[43mK\u001b[49m\u001b[43m)\u001b[49m\n\u001b[1;32m    146\u001b[0m scale \u001b[38;5;241m=\u001b[39m atol \u001b[38;5;241m+\u001b[39m np\u001b[38;5;241m.\u001b[39mmaximum(np\u001b[38;5;241m.\u001b[39mabs(y), np\u001b[38;5;241m.\u001b[39mabs(y_new)) \u001b[38;5;241m*\u001b[39m rtol\n\u001b[1;32m    147\u001b[0m error_norm \u001b[38;5;241m=\u001b[39m \u001b[38;5;28mself\u001b[39m\u001b[38;5;241m.\u001b[39m_estimate_error_norm(\u001b[38;5;28mself\u001b[39m\u001b[38;5;241m.\u001b[39mK, h, scale)\n",
      "File \u001b[0;32m/usr/local/lib/python3.11/site-packages/scipy/integrate/_ivp/rk.py:64\u001b[0m, in \u001b[0;36mrk_step\u001b[0;34m(fun, t, y, f, h, A, B, C, K)\u001b[0m\n\u001b[1;32m     62\u001b[0m \u001b[38;5;28;01mfor\u001b[39;00m s, (a, c) \u001b[38;5;129;01min\u001b[39;00m \u001b[38;5;28menumerate\u001b[39m(\u001b[38;5;28mzip\u001b[39m(A[\u001b[38;5;241m1\u001b[39m:], C[\u001b[38;5;241m1\u001b[39m:]), start\u001b[38;5;241m=\u001b[39m\u001b[38;5;241m1\u001b[39m):\n\u001b[1;32m     63\u001b[0m     dy \u001b[38;5;241m=\u001b[39m np\u001b[38;5;241m.\u001b[39mdot(K[:s]\u001b[38;5;241m.\u001b[39mT, a[:s]) \u001b[38;5;241m*\u001b[39m h\n\u001b[0;32m---> 64\u001b[0m     K[s] \u001b[38;5;241m=\u001b[39m \u001b[43mfun\u001b[49m\u001b[43m(\u001b[49m\u001b[43mt\u001b[49m\u001b[43m \u001b[49m\u001b[38;5;241;43m+\u001b[39;49m\u001b[43m \u001b[49m\u001b[43mc\u001b[49m\u001b[43m \u001b[49m\u001b[38;5;241;43m*\u001b[39;49m\u001b[43m \u001b[49m\u001b[43mh\u001b[49m\u001b[43m,\u001b[49m\u001b[43m \u001b[49m\u001b[43my\u001b[49m\u001b[43m \u001b[49m\u001b[38;5;241;43m+\u001b[39;49m\u001b[43m \u001b[49m\u001b[43mdy\u001b[49m\u001b[43m)\u001b[49m\n\u001b[1;32m     66\u001b[0m y_new \u001b[38;5;241m=\u001b[39m y \u001b[38;5;241m+\u001b[39m h \u001b[38;5;241m*\u001b[39m np\u001b[38;5;241m.\u001b[39mdot(K[:\u001b[38;5;241m-\u001b[39m\u001b[38;5;241m1\u001b[39m]\u001b[38;5;241m.\u001b[39mT, B)\n\u001b[1;32m     67\u001b[0m f_new \u001b[38;5;241m=\u001b[39m fun(t \u001b[38;5;241m+\u001b[39m h, y_new)\n",
      "File \u001b[0;32m/usr/local/lib/python3.11/site-packages/scipy/integrate/_ivp/base.py:138\u001b[0m, in \u001b[0;36mOdeSolver.__init__.<locals>.fun\u001b[0;34m(t, y)\u001b[0m\n\u001b[1;32m    136\u001b[0m \u001b[38;5;28;01mdef\u001b[39;00m \u001b[38;5;21mfun\u001b[39m(t, y):\n\u001b[1;32m    137\u001b[0m     \u001b[38;5;28mself\u001b[39m\u001b[38;5;241m.\u001b[39mnfev \u001b[38;5;241m+\u001b[39m\u001b[38;5;241m=\u001b[39m \u001b[38;5;241m1\u001b[39m\n\u001b[0;32m--> 138\u001b[0m     \u001b[38;5;28;01mreturn\u001b[39;00m \u001b[38;5;28;43mself\u001b[39;49m\u001b[38;5;241;43m.\u001b[39;49m\u001b[43mfun_single\u001b[49m\u001b[43m(\u001b[49m\u001b[43mt\u001b[49m\u001b[43m,\u001b[49m\u001b[43m \u001b[49m\u001b[43my\u001b[49m\u001b[43m)\u001b[49m\n",
      "File \u001b[0;32m/usr/local/lib/python3.11/site-packages/scipy/integrate/_ivp/base.py:20\u001b[0m, in \u001b[0;36mcheck_arguments.<locals>.fun_wrapped\u001b[0;34m(t, y)\u001b[0m\n\u001b[1;32m     19\u001b[0m \u001b[38;5;28;01mdef\u001b[39;00m \u001b[38;5;21mfun_wrapped\u001b[39m(t, y):\n\u001b[0;32m---> 20\u001b[0m     \u001b[38;5;28;01mreturn\u001b[39;00m np\u001b[38;5;241m.\u001b[39masarray(\u001b[43mfun\u001b[49m\u001b[43m(\u001b[49m\u001b[43mt\u001b[49m\u001b[43m,\u001b[49m\u001b[43m \u001b[49m\u001b[43my\u001b[49m\u001b[43m)\u001b[49m, dtype\u001b[38;5;241m=\u001b[39mdtype)\n",
      "File \u001b[0;32m~/Reshuffling/1-MainTextFigures/Figure_4/generate_simulations/./../../../DataAndScripts/unstructured_scripts/functions_old.py:102\u001b[0m, in \u001b[0;36mHigh_dimensional_dynamics.<locals>.system_RK45\u001b[0;34m(t, R)\u001b[0m\n\u001b[1;32m    101\u001b[0m \u001b[38;5;28;01mdef\u001b[39;00m \u001b[38;5;21msystem_RK45\u001b[39m(t,R):\n\u001b[0;32m--> 102\u001b[0m     MU\u001b[38;5;241m=\u001b[39m\u001b[43mnp\u001b[49m\u001b[38;5;241;43m.\u001b[39;49m\u001b[43mmatmul\u001b[49m\u001b[43m(\u001b[49m\u001b[43mM\u001b[49m\u001b[43m,\u001b[49m\u001b[43mR\u001b[49m\u001b[43m)\u001b[49m\u001b[38;5;241m+\u001b[39mmu_X_over_r_X_tau\u001b[38;5;241m*\u001b[39mr_X\n\u001b[1;32m    103\u001b[0m     MU[\u001b[38;5;241m0\u001b[39m:N_E]\u001b[38;5;241m=\u001b[39mtau_E\u001b[38;5;241m*\u001b[39mMU[\u001b[38;5;241m0\u001b[39m:N_E]\n\u001b[1;32m    104\u001b[0m     MU[N_E::]\u001b[38;5;241m=\u001b[39mtau_I\u001b[38;5;241m*\u001b[39mMU[N_E::]\n",
      "\u001b[0;31mKeyboardInterrupt\u001b[0m: "
     ]
    }
   ],
   "source": [
    "print('Computing and saving network response')\n",
    "T=np.arange(0,Tmax_over_tau_E*fun.tau_E,fun.tau_I/3);\n",
    "\n",
    "#mask_time=T>(10*fun.tau_E)\n",
    "mask_time=T>(T/2)\n",
    "\n",
    "# Generate quenched disorder\n",
    "Possible_J=[0.00002,0.0006]#,0.0007,0.0008]#10**np.linspace(-5,-3,20); # Synaptic efficacy in Volts\n",
    "\n",
    "\n",
    "RATES=-1*np.ones((len(Possible_J),len(L),N_E+N_I))\n",
    "DYNA=-1*np.ones((len(Possible_J),len(L),N_E+N_I,len(T)))\n",
    "MUS=-1*np.ones((len(Possible_J),len(L),N_E+N_I))\n",
    "Lambda_i_L=1./tau_rp*np.ones((len(Possible_J),len(L),N_E+N_I))\n",
    "MFT_SOL_R=np.ones((len(Possible_J),len(L),10))\n",
    "MFT_SOL_M=np.ones((len(Possible_J),len(L),10))\n",
    "Phi=[phi_int_E,phi_int_I];\n",
    "for idx_J in [0,1]:#range(len(Possible_J)):\n",
    "\n",
    "    G_E,G_I=1.0,2.0 # Gain of Excitatory and inhibitory cells and I cells\n",
    "    w_EE=1;w_IE=w_EE/beta;\n",
    "    w_EI=g_E*w_EE;w_II=g_I*w_IE;\n",
    "    \n",
    "    w_EX,w_IX=(G_I*fun.gamma*g_E-G_E)*w_EE,(G_I*fun.gamma*g_I-G_E)*w_IE; \n",
    "    J=Possible_J[idx_J]*np.sqrt(500/K)\n",
    "    if idx_J==0:\n",
    "        w_X=np.asarray([w_EX,5*w_IX]);\n",
    "        #w_X=np.asarray([w_EX,w_IX]);\n",
    "    if idx_J>0:\n",
    "        w_X=np.asarray([w_EX,w_IX]);\n",
    "    print(w_X)\n",
    "    w=np.zeros((2,2));\n",
    "    w[0,:]=w_EE,-w_EI\n",
    "    w[1,:]=w_IE,-w_II\n",
    "\n",
    "    M,mu_X_over_r_X_tau,Lambda_i,N_E,N_I=fun.Generate_quenched_disorder(sigma_X_over_r_X,J,K,w,w_X,p,Lambda,sigma_Lambda)\n",
    "\n",
    "    print(w*J)\n",
    "    \n",
    "    for idx_L in range(len(L)):\n",
    "        r_X_local,L_local=r_X[0],L[idx_L];\n",
    "        print((idx_J+1)/len(Possible_J),(idx_L+1)/len(L))\n",
    "        DYNA[idx_J,idx_L,:,:], MUS[idx_J,idx_L,:],Lambda_i_L[idx_J,idx_L,:]=fun.High_dimensional_dynamics(T,L_local,r_X_local,M,mu_X_over_r_X_tau,Lambda_i,N_E,N_I,phi_int_E,phi_int_I);\n",
    "        RATES[idx_J,idx_L,:]=np.mean(DYNA[idx_J,idx_L,:,mask_time],axis=0)\n",
    "        print(np.mean(RATES[idx_J,idx_L,0:N_E]),\n",
    "              np.mean(RATES[idx_J,idx_L,N_E::]),\n",
    "              np.std(RATES[idx_J,idx_L,0:N_E]),\n",
    "              np.std(RATES[idx_J,idx_L,N_E::]))\n",
    "    Base_Sim=RATES[idx_J,0,:]\n",
    "    Delta_Sim=RATES[idx_J,idx_L,:]-RATES[idx_J,0,:]\n",
    "\n",
    "    moments_of_r_sim=np.zeros(5)\n",
    "    moments_of_r_sim[0]=np.mean(Base_Sim)\n",
    "    moments_of_r_sim[1]=np.mean(Delta_Sim)\n",
    "    moments_of_r_sim[2]=np.std(Base_Sim)\n",
    "    moments_of_r_sim[3]=np.std(Delta_Sim)\n",
    "    moments_of_r_sim[4]=np.cov(Base_Sim,Delta_Sim)[0,1]\n",
    "    print(moments_of_r_sim[:])\n",
    "\n",
    "    "
   ]
  },
  {
   "cell_type": "markdown",
   "metadata": {},
   "source": [
    "# Save Parameters, Rates, and Js"
   ]
  },
  {
   "cell_type": "code",
   "execution_count": 354,
   "metadata": {},
   "outputs": [],
   "source": [
    "params=[sigma_t,tau_rp,g_E,g_I,beta,K,sigma_Lambda_over_Lambda,L[1],r_X[0],Tmax_over_tau_E,p,sigma_X_over_r_X,Lambda,N_E,N_I]\n",
    "\n",
    "np.save('simulations/RATES',RATES)\n",
    "np.save('simulations/params',params)\n",
    "np.save('simulations/Possible_J',Possible_J)\n",
    "\n",
    "\n"
   ]
  },
  {
   "cell_type": "code",
   "execution_count": null,
   "metadata": {},
   "outputs": [],
   "source": []
  }
 ],
 "metadata": {
  "anaconda-cloud": {},
  "kernelspec": {
   "display_name": "Python 3 (ipykernel)",
   "language": "python",
   "name": "python3"
  },
  "language_info": {
   "codemirror_mode": {
    "name": "ipython",
    "version": 3
   },
   "file_extension": ".py",
   "mimetype": "text/x-python",
   "name": "python",
   "nbconvert_exporter": "python",
   "pygments_lexer": "ipython3",
   "version": "3.11.4"
  }
 },
 "nbformat": 4,
 "nbformat_minor": 4
}
