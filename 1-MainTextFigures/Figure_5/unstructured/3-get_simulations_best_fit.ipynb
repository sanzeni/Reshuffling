{
 "cells": [
  {
   "cell_type": "code",
   "execution_count": 32,
   "metadata": {},
   "outputs": [
    {
     "name": "stdout",
     "output_type": "stream",
     "text": [
      "The autoreload extension is already loaded. To reload it, use:\n",
      "  %reload_ext autoreload\n"
     ]
    }
   ],
   "source": [
    "import warnings\n",
    "warnings.filterwarnings(\"ignore\")\n",
    "\n",
    "%load_ext autoreload\n",
    "%autoreload 2\n",
    "%matplotlib inline \n",
    "\n",
    "\n",
    "import matplotlib.pyplot as plt\n",
    "import numpy as np\n",
    "import matplotlib as mpl\n",
    "from scipy import stats\n",
    "from scipy.interpolate import interp1d,interp2d\n",
    "from scipy.optimize import least_squares\n",
    "import pandas as pd\n",
    "import sys\n",
    "import pickle\n",
    "from tqdm import tqdm\n",
    "from importlib import reload\n",
    "\n",
    "\n",
    "\n",
    "# Import code\n",
    "sys.path.insert(0, './../../../DataAndScripts/unstructured_scripts/')\n",
    "import functions_optimal as fun\n",
    "import functions_dynamics as fun_dyn"
   ]
  },
  {
   "cell_type": "code",
   "execution_count": 25,
   "metadata": {},
   "outputs": [],
   "source": [
    "\n",
    "#######################################\n",
    "folder_data='./../../../DataAndScripts/experimental_data/'\n",
    "#######################################\n",
    "\n",
    "data_monkeys=np.loadtxt(folder_data+'Monkeys_with_trials.txt');\n",
    "data_mice=np.loadtxt(folder_data+'Mice_with_trials.txt');\n",
    "\n",
    "data_both_species=[data_mice,data_monkeys]\n",
    "species=['Mice','Monkeys']\n",
    "\n",
    "dataset_both_species,Con_both_species,nCon_both_species,normalization_both_species=[],[],[],[]\n",
    "for idx_species in range(2):\n",
    "    dataset,Con,nCon=fun.build_dataset(data_both_species[idx_species])\n",
    "    normalization=1.0;#np.mean(dataset[0,:,0])\n",
    "    dataset_both_species=dataset_both_species+[dataset]\n",
    "    Con_both_species=Con_both_species+[Con]\n",
    "    nCon_both_species=nCon_both_species+[nCon]\n",
    "    normalization_both_species=normalization_both_species+[normalization]"
   ]
  },
  {
   "cell_type": "markdown",
   "metadata": {},
   "source": [
    "# Load best fit params from the previous notebook "
   ]
  },
  {
   "cell_type": "code",
   "execution_count": 35,
   "metadata": {},
   "outputs": [],
   "source": [
    "with open('./best_fit/Model_Fit_Separately_UntructModel-Best.pkl', 'rb') as handle:\n",
    "    best_separately=pickle.load(handle)"
   ]
  },
  {
   "cell_type": "markdown",
   "metadata": {},
   "source": [
    "# Choose the species "
   ]
  },
  {
   "cell_type": "code",
   "execution_count": 36,
   "metadata": {},
   "outputs": [
    {
     "name": "stdout",
     "output_type": "stream",
     "text": [
      "You are running Mice\n"
     ]
    }
   ],
   "source": [
    "idx_species=0\n",
    "print('You are running ' +species[idx_species])\n",
    "\n",
    "best_inputs= best_separately['best_input_'+species[idx_species]]\n",
    "best_param = best_separately['best_params_'+species[idx_species]]\n"
   ]
  },
  {
   "cell_type": "markdown",
   "metadata": {},
   "source": [
    "# Simulation parameters"
   ]
  },
  {
   "cell_type": "code",
   "execution_count": 38,
   "metadata": {
    "scrolled": true
   },
   "outputs": [],
   "source": [
    "\n",
    "# parameters characterizing the relative strength of synaptic connections\n",
    "g_E=best_param[0]; g_I=best_param[1];beta=10**best_param[2]; \n",
    "\n",
    "# average number of E connections per neuron (I connections are 1/4 of that)\n",
    "K=500; \n",
    "\n",
    "# ratio between mean and standard deviation of the opsin expression\n",
    "sigma_Lambda_over_Lambda=10**best_param[4]; \n",
    "\n",
    "# CV_K\n",
    "CV_K=10**best_param[3]\n",
    "\n",
    "# Synaptic efficacy in Volts\n",
    "J=10**best_param[5]; \n",
    "\n",
    "#  Laser intensity that fits the data\n",
    "L=[0., 10**best_inputs[-1]]; \n",
    "\n",
    "# FF inputs\n",
    "r_X=10**best_inputs[0:-1]\n",
    "\n",
    "\n"
   ]
  },
  {
   "cell_type": "code",
   "execution_count": 39,
   "metadata": {},
   "outputs": [],
   "source": [
    "reload(fun)\n",
    "# probability of connection between cells. \n",
    "p=0.1\n",
    "\n",
    "# Presynaptic population has mean rate r_X, Gaussianly distributed with std=0.2* r_X\n",
    "sigma_X_over_r_X=0.2\n",
    "\n",
    "# mean opsin expression in Volt\n",
    "Lambda=1*10**-3; \n",
    "sigma_Lambda=sigma_Lambda_over_Lambda*Lambda\n",
    "\n",
    "# Compute W_{AB} starting from the parameters defined above\n",
    "\n",
    "# Gain of Excitatory and inhibitory cells and I cells\n",
    "G_E,G_I=1.0,2.0 \n",
    "\n",
    "w_EE=1;w_IE=w_EE/beta;\n",
    "w_EI=g_E*w_EE;w_II=g_I*w_IE;\n",
    "w_EX,w_IX=(G_I*fun_dyn.gamma*g_E-G_E)*w_EE,(G_I*fun_dyn.gamma*g_I-G_E)*w_IE; \n",
    "w_X=np.asarray([w_EX,w_IX]);\n",
    "w=np.zeros((2,2));\n",
    "w[0,:]=w_EE,-w_EI\n",
    "w[1,:]=w_IE,-w_II\n"
   ]
  },
  {
   "cell_type": "markdown",
   "metadata": {},
   "source": [
    "# Obtain the LIF nonlinearity"
   ]
  },
  {
   "cell_type": "code",
   "execution_count": 40,
   "metadata": {},
   "outputs": [],
   "source": [
    "# Input noise, determine how smooth the single neuron transfer function is \n",
    "sigma_t=0.01;\n",
    "\n",
    "# Refractory period\n",
    "tau_rp=0.002; \n",
    "\n",
    "\n",
    "#'''\n",
    "mu_tab_max=10.0;\n",
    "mu_tab=np.linspace(-mu_tab_max,mu_tab_max,200000)\n",
    "mu_tab=np.concatenate(([-10000],mu_tab))\n",
    "mu_tab=np.concatenate((mu_tab,[10000]))\n",
    "\n",
    "phi_tab_E,phi_tab_I=mu_tab*0,mu_tab*0;\n",
    "for idx in range(len(phi_tab_E)):\n",
    "    phi_tab_E[idx]=fun_dyn.comp_phi_tab(mu_tab[idx],fun_dyn.tau_E,tau_rp,sigma_t)\n",
    "    phi_tab_I[idx]=fun_dyn.comp_phi_tab(mu_tab[idx],fun_dyn.tau_I,tau_rp,sigma_t)\n",
    "\n",
    "phi_int_E=interp1d(mu_tab, phi_tab_E, kind='linear')  \n",
    "phi_int_I=interp1d(mu_tab, phi_tab_I, kind='linear')\n",
    "#'''"
   ]
  },
  {
   "cell_type": "markdown",
   "metadata": {},
   "source": [
    "# Generate quenched disorder"
   ]
  },
  {
   "cell_type": "code",
   "execution_count": 41,
   "metadata": {},
   "outputs": [],
   "source": [
    "\n",
    "M,mu_X_over_r_X_tau,Lambda_i,N_E,N_I=fun_dyn.Generate_quenched_disorder(CV_K,J,K,w,w_X,p,Lambda,sigma_Lambda)\n"
   ]
  },
  {
   "cell_type": "markdown",
   "metadata": {},
   "source": [
    "# Computing and saving network response"
   ]
  },
  {
   "cell_type": "code",
   "execution_count": null,
   "metadata": {},
   "outputs": [
    {
     "name": "stderr",
     "output_type": "stream",
     "text": [
      "  0%|          | 0/7 [00:00<?, ?it/s]"
     ]
    }
   ],
   "source": [
    "\n",
    "# Time in units of E time constant\n",
    "Tmax_over_tau_E=200;\n",
    "\n",
    "T=np.arange(0,Tmax_over_tau_E*fun_dyn.tau_E,fun_dyn.tau_I/3);\n",
    "\n",
    "mask_time=T>(10*fun_dyn.tau_E)\n",
    "RATES=-1*np.ones((len(r_X),len(L),N_E+N_I))\n",
    "DYNA=-1*np.ones((len(r_X),len(L),N_E+N_I,len(T)))\n",
    "MUS=-1*np.ones((len(r_X),len(L),N_E+N_I))\n",
    "Lambda_i_L=1./tau_rp*np.ones((len(r_X),len(L),N_E+N_I))\n",
    "MFT_SOL_R=np.ones((len(r_X),len(L),10))\n",
    "MFT_SOL_M=np.ones((len(r_X),len(L),10))\n",
    "Phi=[phi_int_E,phi_int_I];\n",
    "for idx_r_X in tqdm(range(len(r_X))):\n",
    "    for idx_L in range(len(L)):\n",
    "        r_X_local,L_local=r_X[idx_r_X],L[idx_L];\n",
    "        DYNA[idx_r_X,idx_L,:,:], MUS[idx_r_X,idx_L,:],Lambda_i_L[idx_r_X,idx_L,:]=fun_dyn.High_dimensional_dynamics(T,L_local,r_X_local,M,mu_X_over_r_X_tau,Lambda_i,N_E,N_I,phi_int_E,phi_int_I);\n",
    "        RATES[idx_r_X,idx_L,:]=np.mean(DYNA[idx_r_X,idx_L,:,mask_time],axis=0)\n",
    "\n",
    "    Base_Sim=RATES[idx_r_X,0,:]\n",
    "    Delta_Sim=RATES[idx_r_X,idx_L,:]-RATES[idx_r_X,0,:]\n",
    "\n",
    "    moments_of_r_sim=np.zeros(5)\n",
    "    moments_of_r_sim[0]=np.mean(Base_Sim)\n",
    "    moments_of_r_sim[1]=np.mean(Delta_Sim)\n",
    "    moments_of_r_sim[2]=np.std(Base_Sim)\n",
    "    moments_of_r_sim[3]=np.std(Delta_Sim)\n",
    "    moments_of_r_sim[4]=np.cov(Base_Sim,Delta_Sim)[0,1]\n"
   ]
  },
  {
   "cell_type": "markdown",
   "metadata": {},
   "source": [
    "# Save single cell rate\n"
   ]
  },
  {
   "cell_type": "code",
   "execution_count": 8,
   "metadata": {},
   "outputs": [],
   "source": [
    "# np.save('RATES_unstructured'++species[idx_species],RATES)\n"
   ]
  },
  {
   "cell_type": "markdown",
   "metadata": {},
   "source": [
    "# Look at the dynamics of the simulations"
   ]
  },
  {
   "cell_type": "code",
   "execution_count": null,
   "metadata": {},
   "outputs": [],
   "source": [
    "bin_edges=np.arange(0,1./tau_rp,.1)\n",
    "spacings=np.diff(bin_edges)[0];\n",
    "bin_means=0.5*(bin_edges[0:-1]+bin_edges[1::])\n",
    "bin_edges_Delta=np.arange(-1./tau_rp,1./tau_rp,.1)\n",
    "spacings_Delta=np.diff(bin_edges)[0];\n",
    "bin_means_Delta=0.5*(bin_edges_Delta[0:-1]+bin_edges_Delta[1::])\n",
    "\n",
    "fig, axs = plt.subplots(len(r_X),4, figsize=(2.5*4,2.0*len(r_X)), facecolor='w', edgecolor='k')#,sharey='row')#,sharex=True)\n",
    "fig.subplots_adjust(hspace = .5, wspace=.5)\n",
    "area=1.0;linethicknes=1.0;\n",
    "axs = axs.ravel()\n",
    "font = {'family' : 'normal','weight' : 'normal','size'   : 7, 'family':'serif','serif':['Arial']}\n",
    "mpl.rc('font', **font)\n",
    "mpl.rcParams['lines.linewidth'] =linethicknes\n",
    "mpl.rcParams['text.usetex'] = False\n",
    "mpl.rcParams['mathtext.fontset'] = 'stix'\n",
    "mpl.rcParams['mathtext.rm'] = 'serif'\n",
    "mpl.rcParams['pdf.fonttype'] = 42\n",
    "\n",
    "idx_r_X=0\n",
    "mask_active_cells=(RATES[idx_r_X,1,:]>=0)|(RATES[idx_r_X,0,:]>=0)\n",
    "for idx_r_X in np.arange(1,len(r_X),1):\n",
    "    mask_active_cells=mask_active_cells|(RATES[idx_r_X,1,:]>=0)|(RATES[idx_r_X,0,:]>=0)\n",
    "\n",
    "for idx_r_X in range(len(r_X)):\n",
    "    \n",
    "\n",
    "    color=['k','b',];\n",
    "    label=['Without opto','With opto']\n",
    "    for idx_L in range(len(L)):\n",
    "        #hist, bin_edges=np.histogram(RATES[idx_r_X,idx_L,0:N_E],bin_edges)#,normed=True)\n",
    "        hist, bin_edges=np.histogram(RATES[idx_r_X,idx_L,mask_active_cells],bin_edges)#,normed=True)\n",
    "        bin_mean=0.5*(bin_edges[0:-1]+bin_edges[1::])\n",
    "        spacings=np.diff(bin_edges)[0];\n",
    "        hist=hist/np.sum(hist*spacings)\n",
    "        axs[idx_r_X*4+0].scatter(bin_mean,np.cumsum(spacings*hist),c=color[idx_L],s=area,label=label[idx_L])\n",
    "\n",
    "        \n",
    "    Delta_Sim=RATES[idx_r_X,1,mask_active_cells]-RATES[idx_r_X,0,mask_active_cells]\n",
    "    print(len(Delta_Sim[Delta_Sim<0])/len(Delta_Sim))\n",
    "    \n",
    "    hist_Delta, bin_edges_Delta=np.histogram(Delta_Sim,bin_edges_Delta,normed=True)\n",
    "    CDF_Resp_Delta=np.cumsum(hist_Delta*spacings_Delta)\n",
    "    axs[idx_r_X*4+1].scatter(bin_means_Delta,CDF_Resp_Delta,c='b',s=area);\n",
    "\n",
    "\n",
    "    #axs[idx_r_X*4+2].scatter(RATES[idx_r_X,0,maks_cells],RATES[idx_r_X,1,maks_cells]-RATES[idx_r_X,0,maks_cells],c='b',s=1,alpha=0.3);\n",
    "    idx_cells=np.where(np.arange(len(Lambda_i))<N_E)\n",
    "    axs[idx_r_X*4+2].scatter(RATES[idx_r_X,0,idx_cells],RATES[idx_r_X,1,idx_cells]-RATES[idx_r_X,0,idx_cells],c='r',s=1,alpha=0.1);\n",
    "    idx_cells=np.where(np.arange(len(Lambda_i))>N_E)\n",
    "    axs[idx_r_X*4+2].scatter(RATES[idx_r_X,0,idx_cells],RATES[idx_r_X,1,idx_cells]-RATES[idx_r_X,0,idx_cells],c='b',s=1,alpha=0.1);\n",
    "\n",
    "    cov=np.cov(RATES[idx_r_X,0,mask_active_cells],RATES[idx_r_X,1,mask_active_cells]-RATES[idx_r_X,0,mask_active_cells])\n",
    "    axs[idx_r_X*4+2].set_title(cov[0,1]/cov[1,1])\n",
    "\n",
    "\n",
    "    for idx_cell in range(17):\n",
    "        axs[idx_r_X*4+3].plot(T[mask_time]-T[mask_time][0],DYNA[idx_r_X,1,idx_cell,mask_time],marker='o',markersize=0.1,alpha=0.5)\n",
    "\n",
    "    axs[idx_r_X*4+0].axis([0,250,.0,1.])\n",
    "    axs[idx_r_X*4+0].legend(loc='lower right')\n",
    "    axs[idx_r_X*4+1].axis([-100,100,0,1.])\n",
    "    axs[idx_r_X*4+0].set_title('J=%.2fmV'%(J*10**3))\n",
    "    axs[idx_r_X*4+0].set_ylabel('CDF')\n",
    "    axs[idx_r_X*4+1].set_ylabel('CDF')\n",
    "    axs[idx_r_X*4+0].set_xlabel('$r$ (spk/s)')\n",
    "    axs[idx_r_X*4+1].set_xlabel('$\\Delta r$ (spk/s)')\n",
    "    axs[idx_r_X*4+2].set_ylabel('$\\Delta r$ (spk/s)')\n",
    "    axs[idx_r_X*4+2].set_xlabel('$r$ (spk/s)')\n",
    "    axs[idx_r_X*4+3].set_ylabel('$r$ (spk/s)')\n",
    "    axs[idx_r_X*4+3].set_xlabel('time (s)')\n",
    "    axs[idx_r_X*4+3].set_title('Trajectory of example cells')\n",
    "\n"
   ]
  },
  {
   "cell_type": "code",
   "execution_count": null,
   "metadata": {},
   "outputs": [],
   "source": []
  }
 ],
 "metadata": {
  "anaconda-cloud": {},
  "kernelspec": {
   "display_name": "Python 3",
   "language": "python",
   "name": "python3"
  },
  "language_info": {
   "codemirror_mode": {
    "name": "ipython",
    "version": 3
   },
   "file_extension": ".py",
   "mimetype": "text/x-python",
   "name": "python",
   "nbconvert_exporter": "python",
   "pygments_lexer": "ipython3",
   "version": "3.6.13"
  }
 },
 "nbformat": 4,
 "nbformat_minor": 4
}
