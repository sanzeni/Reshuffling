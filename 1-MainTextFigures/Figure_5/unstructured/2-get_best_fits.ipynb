{
 "cells": [
  {
   "cell_type": "markdown",
   "metadata": {},
   "source": [
    "# Find best parameters describing data, both combined and separated fits. \n"
   ]
  },
  {
   "cell_type": "code",
   "execution_count": 35,
   "metadata": {},
   "outputs": [],
   "source": [
    "import warnings\n",
    "warnings.filterwarnings(\"ignore\")\n",
    "%matplotlib inline \n",
    "from scipy.optimize import curve_fit\n",
    "import pickle\n",
    "import sys\n",
    "import matplotlib.pyplot as plt\n",
    "import numpy as np\n",
    "import matplotlib.cm as cm\n",
    "import matplotlib as mpl\n",
    "import scipy.stats as stats\n",
    "import pandas as pd\n",
    "from importlib import reload\n",
    "from scipy.interpolate import interp1d,interp2d\n",
    "\n",
    "import os\n",
    "cwd=os.getcwd()\n",
    "\n",
    "area=4.0;linethicknes=1.0;\n",
    "\n",
    "font = {'family' : 'normal','weight' : 'normal','size'   : 7, 'family':'serif','serif':['Arial']}\n",
    "mpl.rc('font', **font)\n",
    "mpl.rcParams['lines.linewidth'] =linethicknes\n",
    "mpl.rcParams['text.usetex'] = False\n",
    "mpl.rcParams['mathtext.fontset'] = 'stix'\n",
    "mpl.rcParams['mathtext.rm'] = 'serif'\n",
    "mpl.rcParams['pdf.fonttype'] = 42\n",
    "area=4.0;linethicknes=1.0;\n",
    "\n",
    "\n",
    "########################################################################\n",
    "############# Import code\n",
    "\n",
    "sys.path.insert(0, './../../../DataAndScripts/unstructured_scripts/')\n",
    "import functions_optimal as fun\n",
    "import sims_utils as su\n",
    "import functions_dynamics as fun_dyna"
   ]
  },
  {
   "cell_type": "markdown",
   "metadata": {},
   "source": [
    "# Load results file\n",
    "This file is the outcome of hundreds of thousands of simulations run in the cluster"
   ]
  },
  {
   "cell_type": "code",
   "execution_count": 2,
   "metadata": {},
   "outputs": [
    {
     "name": "stdout",
     "output_type": "stream",
     "text": [
      "Your results files are of the form: results\n",
      "Found 5 results files\n",
      "Last loaded file number: 4\n"
     ]
    }
   ],
   "source": [
    "\n",
    "path2results=cwd+'/../../../DataAndScripts/unstructured_scripts/simulation_results/'\n",
    "results, jn = su.get_concatenated_results(path2results)\n",
    "\n",
    "    "
   ]
  },
  {
   "cell_type": "code",
   "execution_count": 3,
   "metadata": {},
   "outputs": [
    {
     "name": "stdout",
     "output_type": "stream",
     "text": [
      "(770195, 28)\n"
     ]
    }
   ],
   "source": [
    "sim_param_all=results[:,0:15]\n",
    "moments_of_r_sim_all=results[:,15:20]\n",
    "\n",
    "sim_g_E=(sim_param_all[:,2])\n",
    "sim_g_I=(sim_param_all[:,3])\n",
    "sim_beta=(sim_param_all[:,4])\n",
    "sim_CV_K=(sim_param_all[:,7])\n",
    "sim_sigma_Lambda_over_Lambda=(sim_param_all[:,10])\n",
    "sim_J=(sim_param_all[:,11])\n",
    "sim_r_X=(sim_param_all[:,12])\n",
    "sim_ell=(sim_param_all[:,13])\n",
    "\n",
    "print(np.shape(results))\n",
    "#(121278, 28)\n",
    "\n",
    "\n",
    "param_min=np.asarray([np.min(sim_g_E),np.min(sim_g_I),np.min(np.log10(sim_beta)),\n",
    "                      np.min(np.log10(sim_CV_K)),np.min(np.log10(sim_sigma_Lambda_over_Lambda)),np.min(np.log10(sim_J)),])\n",
    "param_max=np.asarray([np.max(sim_g_E),np.max(sim_g_I),np.max(np.log10(sim_beta)),\n",
    "                      np.max(np.log10(sim_CV_K)),np.max(np.log10(sim_sigma_Lambda_over_Lambda)),np.max(np.log10(sim_J)),])\n",
    "    \n"
   ]
  },
  {
   "cell_type": "markdown",
   "metadata": {},
   "source": [
    "# Load recordings in mice and monkeys"
   ]
  },
  {
   "cell_type": "code",
   "execution_count": 4,
   "metadata": {},
   "outputs": [],
   "source": [
    "\n",
    "#######################################\n",
    "folder_data='./../../../DataAndScripts/experimental_data/'\n",
    "#######################################\n",
    "\n",
    "data_monkeys=np.loadtxt(folder_data+'Monkeys_with_trials.txt');\n",
    "data_mice=np.loadtxt(folder_data+'Mice_with_trials.txt');\n",
    "\n",
    "data_both_species=[data_mice,data_monkeys]\n",
    "species=['Mice','Monkeys']\n",
    "\n",
    "dataset_both_species,Con_both_species,nCon_both_species,normalization_both_species=[],[],[],[]\n",
    "for idx_species in range(2):\n",
    "    dataset,Con,nCon=fun.build_dataset(data_both_species[idx_species])\n",
    "    normalization=1.0;#np.mean(dataset[0,:,0])\n",
    "    dataset_both_species=dataset_both_species+[dataset]\n",
    "    Con_both_species=Con_both_species+[Con]\n",
    "    nCon_both_species=nCon_both_species+[nCon]\n",
    "    normalization_both_species=normalization_both_species+[normalization]\n"
   ]
  },
  {
   "cell_type": "code",
   "execution_count": 5,
   "metadata": {},
   "outputs": [
    {
     "data": {
      "image/png": "[encoded data removed]",
      "text/plain": [
       "<Figure size 360x576 with 8 Axes>"
      ]
     },
     "metadata": {},
     "output_type": "display_data"
    }
   ],
   "source": [
    "\n",
    "rows=4\n",
    "cols=2\n",
    "\n",
    "colors=['c','m']\n",
    "fig, axs = plt.subplots(rows,cols, figsize=(2.5*cols,2.*rows), facecolor='w', edgecolor='k')\n",
    "fig.subplots_adjust(hspace = .5, wspace=.5)\n",
    "axs = axs.ravel()\n",
    "\n",
    "\n",
    "\n",
    "for idx_species in range(2):\n",
    "    dataset=dataset_both_species[idx_species]\n",
    "    Con=Con_both_species[idx_species]\n",
    "    nCon=nCon_both_species[idx_species]\n",
    "\n",
    "    for idx_moment in range(6):\n",
    "        if idx_moment<2:\n",
    "            idx_row=0\n",
    "            ccc=['k',colors[idx_species]][idx_moment]\n",
    "            \n",
    "        if (idx_moment>=2)&(idx_moment<4):\n",
    "            idx_row=1\n",
    "            ccc=['k',colors[idx_species]][idx_moment-2]\n",
    "\n",
    "        if (idx_moment==4):\n",
    "            idx_row=2\n",
    "            ccc=colors[idx_species]\n",
    "\n",
    "        if (idx_moment==5):\n",
    "            idx_row=3\n",
    "            ccc=colors[idx_species]\n",
    "            \n",
    "        axs[2*idx_row+idx_species].errorbar(Con,dataset[idx_moment,:,0],dataset[idx_moment,:,1],\n",
    "                                                 color=ccc,)\n",
    "\n",
    "        axs[2*idx_row+idx_species].set_xscale('symlog', linthreshx=12)\n",
    "\n",
    "\n"
   ]
  },
  {
   "cell_type": "markdown",
   "metadata": {},
   "source": [
    "# Obtain predicted activity from the MLP fitted in the previous notebook\n",
    "\n",
    "The fun.build_function, loads the files created in design_fits (which are MLP fitted to many simulation results, creating a mapping from simulation paramter to network statistics), and creates functions that, given a parameter set,gives us statistics of network response "
   ]
  },
  {
   "cell_type": "code",
   "execution_count": 25,
   "metadata": {},
   "outputs": [],
   "source": [
    "with open('./../../../DataAndScripts/unstructured_scripts//model_files/scaler.pkl', 'rb') as f:\n",
    "    scaler = pickle.load(f)"
   ]
  },
  {
   "cell_type": "code",
   "execution_count": 11,
   "metadata": {},
   "outputs": [],
   "source": [
    "cwd=os.getcwd()\n",
    "Predictor_sim, Predictor_data=fun.build_function('./../../../DataAndScripts/unstructured_scripts/')"
   ]
  },
  {
   "cell_type": "markdown",
   "metadata": {},
   "source": [
    "# Fit a model to each species separately\n",
    "\n",
    "\n",
    "In this part, we fit the model multiple times, with different initial conditions, compute the error and store it, then we have an ensamble of fits and choose the best\n"
   ]
  },
  {
   "cell_type": "code",
   "execution_count": 19,
   "metadata": {},
   "outputs": [
    {
     "name": "stderr",
     "output_type": "stream",
     "text": [
      "  0%|          | 0/10 [00:00<?, ?it/s]"
     ]
    },
    {
     "name": "stdout",
     "output_type": "stream",
     "text": [
      "Doing Species Mice\n"
     ]
    },
    {
     "name": "stderr",
     "output_type": "stream",
     "text": [
      "100%|██████████| 10/10 [01:12<00:00,  7.20s/it]\n",
      "  0%|          | 0/10 [00:00<?, ?it/s]"
     ]
    },
    {
     "name": "stdout",
     "output_type": "stream",
     "text": [
      "Doing Species Monkeys\n"
     ]
    },
    {
     "name": "stderr",
     "output_type": "stream",
     "text": [
      "100%|██████████| 10/10 [00:57<00:00,  5.75s/it]\n"
     ]
    }
   ],
   "source": [
    "reload(fun)\n",
    "\n",
    "nRep=10;\n",
    "ALL_sol,ALL_cost=[],[]\n",
    "for idx_species in range(2):\n",
    "    print('Doing '+ species[idx_species])\n",
    "    dataset=dataset_both_species[idx_species]\n",
    "    Con=Con_both_species[idx_species]\n",
    "    nCon=nCon_both_species[idx_species]\n",
    "    sol,cost=fun.fit_model_to_data(dataset,Predictor_data,nCon,nRep,param_min=None,param_max=None)\n",
    "    \n",
    "    ALL_sol=ALL_sol+[sol]\n",
    "    ALL_cost=ALL_cost+[cost]\n"
   ]
  },
  {
   "cell_type": "markdown",
   "metadata": {},
   "source": [
    "# Save the best fit prediction of this separate fits to load it in the next notebook"
   ]
  },
  {
   "cell_type": "code",
   "execution_count": 36,
   "metadata": {},
   "outputs": [],
   "source": [
    "\n",
    "#########################################################################################################\n",
    "# We save this parameters to simulate the network in the next notebook\n",
    "#########################################################################################################\n",
    "\n",
    "best_separately={}\n",
    "\n",
    "\n",
    "for idx_species in range(2):\n",
    "    dataset=dataset_both_species[idx_species]\n",
    "    Con=Con_both_species[idx_species]\n",
    "    nCon=nCon_both_species[idx_species]\n",
    "    \n",
    "    sol=ALL_sol[idx_species]\n",
    "    cost=ALL_cost[idx_species]\n",
    "    idx_best=np.argmin(cost)\n",
    "    best_param=sol[idx_best,:]\n",
    "    best_cost=cost[idx_best]\n",
    "    best_inputs=fun.fit_inputs_to_data_given_param(dataset,Predictor_data,best_param,nCon)\n",
    "    \n",
    "\n",
    "    best_separately['best_input_'+species[idx_species]]=best_inputs\n",
    "    best_separately['best_params_'+species[idx_species]]=best_param\n",
    "\n",
    "with open('./best_fit/Model_Fit_Separately_UntructModel-Best.pkl', 'wb') as handle_PR:\n",
    "    pickle.dump(best_separately, handle_PR, protocol=pickle.HIGHEST_PROTOCOL)\n",
    "\n"
   ]
  },
  {
   "cell_type": "markdown",
   "metadata": {},
   "source": [
    "# Plot the best fit prediction "
   ]
  },
  {
   "cell_type": "code",
   "execution_count": 38,
   "metadata": {},
   "outputs": [
    {
     "data": {
      "image/png": "[encoded data removed]",
      "text/plain": [
       "<Figure size 360x576 with 8 Axes>"
      ]
     },
     "metadata": {},
     "output_type": "display_data"
    }
   ],
   "source": [
    "\n",
    "rows=4\n",
    "cols=2\n",
    "\n",
    "colors=['c','m']\n",
    "fig, axs = plt.subplots(rows,cols, figsize=(2.5*cols,2.*rows), facecolor='w', edgecolor='k')\n",
    "fig.subplots_adjust(hspace = .5, wspace=.5)\n",
    "axs = axs.ravel()\n",
    "\n",
    "\n",
    "\n",
    "for idx_species in range(2):\n",
    "    dataset=dataset_both_species[idx_species]\n",
    "    Con=Con_both_species[idx_species]\n",
    "    nCon=nCon_both_species[idx_species]\n",
    "    \n",
    "    best_inputs= best_separately['best_input_'+species[idx_species]]\n",
    "    best_param = best_separately['best_params_'+species[idx_species]]\n",
    "    \n",
    "    \n",
    "    Predictions=Predictor_data(best_inputs,best_param,nCon)\n",
    "      \n",
    "    for idx_moment in range(6):\n",
    "        if idx_moment<2:\n",
    "            idx_row=0\n",
    "            ccc=['k',colors[idx_species]][idx_moment]\n",
    "            ymin=0\n",
    "            ymax=[25,80][idx_species]\n",
    "            \n",
    "        if (idx_moment>=2)&(idx_moment<4):\n",
    "            idx_row=1\n",
    "            ccc=['k',colors[idx_species]][idx_moment-2]\n",
    "            ymin=0\n",
    "            ymax=[20,60][idx_species]\n",
    "         \n",
    "        if (idx_moment==4):\n",
    "            idx_row=2\n",
    "            ccc=colors[idx_species]\n",
    "            ymin=0\n",
    "            ymax=[20,60][idx_species]\n",
    "         \n",
    "        if (idx_moment==5):\n",
    "            idx_row=3\n",
    "            ccc=colors[idx_species]\n",
    "            ymin=-0.75\n",
    "            ymax=0.25\n",
    "                     \n",
    "        m,sem=dataset[idx_moment,:,0],dataset[idx_moment,:,1]\n",
    "        axs[2*idx_row+idx_species].scatter(Con,m,\n",
    "                                           facecolors='none', s=10,edgecolors=ccc,marker='o'\n",
    "                                           )\n",
    "        axs[2*idx_row+idx_species].fill_between(Con,m-sem,m+sem,\n",
    "                                                 color=ccc,alpha=0.2)\n",
    "    \n",
    "        axs[2*idx_row+idx_species].plot(Con,Predictions[idx_moment,:],\n",
    "                                        color=ccc,alpha=1.)\n",
    "\n",
    "        axs[2*idx_row+idx_species].set_xscale('symlog', linthreshx=12)\n",
    "        axs[2*idx_row+idx_species].set_ylim([ymin,ymax])\n",
    "        \n",
    "        \n",
    "        \n",
    "        \n",
    "        \n",
    "        \n",
    "        \n",
    "        \n",
    "        \n",
    "    axs[2*idx_row+idx_species].axhline(y=0,ls='--',c='k')"
   ]
  },
  {
   "cell_type": "markdown",
   "metadata": {},
   "source": [
    "# Now we fit the same model to both species. \n",
    " In this case the input will then be the combined data for both species"
   ]
  },
  {
   "cell_type": "code",
   "execution_count": 23,
   "metadata": {},
   "outputs": [
    {
     "name": "stderr",
     "output_type": "stream",
     "text": [
      "100%|██████████| 20/20 [06:26<00:00, 19.32s/it]\n"
     ]
    }
   ],
   "source": [
    "reload(fun)\n",
    "nRep=20;\n",
    "\n",
    "DATA_both_species=[dataset_both_species,Con_both_species,nCon_both_species,normalization_both_species]\n",
    "CMB_sol,CMB_cost=fun.fit_model_to_data_both_species(DATA_both_species,Predictor_data,nCon,nRep,None,None)\n"
   ]
  },
  {
   "cell_type": "markdown",
   "metadata": {},
   "source": [
    "# Save the best fit prediction of this together fits to load it in the next notebook"
   ]
  },
  {
   "cell_type": "code",
   "execution_count": 39,
   "metadata": {},
   "outputs": [],
   "source": [
    "\n",
    "#########################################################################################################\n",
    "# We save this parameters to simulate the network in the next notebook\n",
    "#########################################################################################################\n",
    "\n",
    "best_together={}\n",
    "\n",
    "\n",
    "for idx_species in range(2):\n",
    "    dataset=dataset_both_species[idx_species]\n",
    "    Con=Con_both_species[idx_species]\n",
    "    nCon=nCon_both_species[idx_species]\n",
    "    \n",
    "    \n",
    "    idx_best=np.argsort(CMB_cost)[0]\n",
    "    best_param=CMB_sol[idx_best,:]\n",
    "    best_cost=CMB_cost[idx_best]\n",
    "    best_inputs=fun.fit_inputs_to_data_given_param(dataset,Predictor_data,best_param,nCon)\n",
    "\n",
    "    best_together['best_input_'+species[idx_species]]=best_inputs\n",
    "    best_together['best_params_'+species[idx_species]]=best_param\n",
    "\n",
    "with open('./best_fit/Model_Fit_Together_UntructModel-Best.pkl', 'wb') as handle_PR:\n",
    "    pickle.dump(best_together, handle_PR, protocol=pickle.HIGHEST_PROTOCOL)\n",
    "\n"
   ]
  },
  {
   "cell_type": "markdown",
   "metadata": {},
   "source": [
    "# Plot the best fit prediction in this case"
   ]
  },
  {
   "cell_type": "code",
   "execution_count": 40,
   "metadata": {},
   "outputs": [
    {
     "name": "stdout",
     "output_type": "stream",
     "text": [
      "Mice 23.348806204844585\n",
      "array([ 4.19,  2.92, -0.87, -1.78,  0.28, -3.89])\n",
      "array([1.12, 1.16, 1.17, 1.18, 1.19, 1.26, 1.38, 0.22])\n",
      "Monkeys 23.348806204844585\n",
      "array([ 4.19,  2.92, -0.87, -1.78,  0.28, -3.89])\n",
      "array([1.48, 1.72, 1.79, 1.86, 1.88, 1.9 , 0.67])\n"
     ]
    },
    {
     "data": {
      "image/png": "[encoded data removed]",
      "text/plain": [
       "<Figure size 360x576 with 8 Axes>"
      ]
     },
     "metadata": {},
     "output_type": "display_data"
    }
   ],
   "source": [
    "\n",
    "rows=4\n",
    "cols=2\n",
    "\n",
    "colors=['c','m']\n",
    "fig, axs = plt.subplots(rows,cols, figsize=(2.5*cols,2.*rows), facecolor='w', edgecolor='k')\n",
    "fig.subplots_adjust(hspace = .5, wspace=.5)\n",
    "axs = axs.ravel()\n",
    "\n",
    "\n",
    "\n",
    "for idx_species in range(2):\n",
    "    dataset=dataset_both_species[idx_species]\n",
    "    Con=Con_both_species[idx_species]\n",
    "    nCon=nCon_both_species[idx_species]\n",
    "    normalization=normalization_both_species[idx_species] \n",
    "\n",
    "    best_inputs= best_together['best_input_'+species[idx_species]]\n",
    "    best_param = best_together['best_params_'+species[idx_species]]\n",
    "    \n",
    "    \n",
    "    Predictions=Predictor_data(best_inputs,best_param,nCon)\n",
    "    print(['Mice','Monkeys'][idx_species],best_cost)\n",
    "    print(repr(best_param))\n",
    "    print(repr(best_inputs))        \n",
    "    for idx_moment in range(6):\n",
    "        if idx_moment<2:\n",
    "            idx_row=0\n",
    "            ccc=['k',colors[idx_species]][idx_moment]\n",
    "            ymin=0\n",
    "            ymax=[25,80][idx_species]\n",
    "            \n",
    "        if (idx_moment>=2)&(idx_moment<4):\n",
    "            idx_row=1\n",
    "            ccc=['k',colors[idx_species]][idx_moment-2]\n",
    "            ymin=0\n",
    "            ymax=[20,60][idx_species]\n",
    "         \n",
    "        if (idx_moment==4):\n",
    "            idx_row=2\n",
    "            ccc=colors[idx_species]\n",
    "            ymin=0\n",
    "            ymax=[20,60][idx_species]\n",
    "         \n",
    "        if (idx_moment==5):\n",
    "            idx_row=3\n",
    "            ccc=colors[idx_species]\n",
    "            ymin=-0.75\n",
    "            ymax=0.25\n",
    "                     \n",
    "        m,sem=dataset[idx_moment,:,0],dataset[idx_moment,:,1]\n",
    "        axs[2*idx_row+idx_species].scatter(Con,m,\n",
    "                                           facecolors='none', s=10,edgecolors=ccc,marker='o'\n",
    "                                           )\n",
    "        axs[2*idx_row+idx_species].fill_between(Con,m-sem,m+sem,\n",
    "                                                 color=ccc,alpha=0.2)\n",
    "    \n",
    "        axs[2*idx_row+idx_species].plot(Con,Predictions[idx_moment,:],\n",
    "                                        color=ccc,alpha=1.)\n",
    "\n",
    "        axs[2*idx_row+idx_species].set_xscale('symlog', linthreshx=12)\n",
    "        axs[2*idx_row+idx_species].set_ylim([ymin,ymax])\n",
    "    axs[2*idx_row+idx_species].axhline(y=0,ls='--',c='k')"
   ]
  },
  {
   "cell_type": "markdown",
   "metadata": {},
   "source": [
    "# Add fits to each species separately to a the file containing all the possible fits  "
   ]
  },
  {
   "cell_type": "code",
   "execution_count": 28,
   "metadata": {},
   "outputs": [],
   "source": [
    "Tmax_over_tau_E=2*10**2\n",
    "n_rep=20;\n",
    "sigma_t=0.01; \n",
    "tau_rp=0.002; \n"
   ]
  },
  {
   "cell_type": "code",
   "execution_count": 34,
   "metadata": {},
   "outputs": [],
   "source": [
    "count=0;\n",
    "for idx_rep in range(n_rep):\n",
    "    for idx_combined in range(2):\n",
    "        for idx_species in range(2):\n",
    "            dataset=dataset_both_species[idx_species]\n",
    "            Con=Con_both_species[idx_species]\n",
    "            nCon=nCon_both_species[idx_species]\n",
    "            normalization=normalization_both_species[idx_species] \n",
    "            if idx_combined==0:\n",
    "                # best fit combined\n",
    "                sol=ALL_sol[idx_species]\n",
    "                cost=ALL_cost[idx_species]\n",
    "                idx_best=np.argmin(cost)\n",
    "                best_param=sol[idx_best,:]\n",
    "            if idx_combined==1:\n",
    "                # best fit in mice or monkeys\n",
    "                idx_best=np.argmin(CMB_cost)\n",
    "                best_param=CMB_sol[idx_best,:]\n",
    "                best_cost=CMB_cost[idx_best]\n",
    "\n",
    "\n",
    "            best_inputs=fun.fit_inputs_to_data_given_param(dataset,Predictor_data,best_param,nCon)\n",
    "\n",
    "            Possible_r_X=10**best_inputs[0:-1]\n",
    "            ell=10**best_inputs[-1]\n",
    "\n",
    "            g_E= best_param[0]; g_I=best_param[1];beta=10**best_param[2]; \n",
    "            K=500; \n",
    "            CV_K=10**best_param[3]\n",
    "            sigma_Lambda_over_Lambda=10**best_param[4];\n",
    "            J=10**best_param[5];\n",
    "            for idx_r_X in range(len(Possible_r_X)):\n",
    "                r_X=Possible_r_X[idx_r_X];\n",
    "\n",
    "                data=np.ones((1,14));\n",
    "                data[:,0]=J\n",
    "                data[:,1]=r_X\n",
    "                data[:,2]=sigma_Lambda_over_Lambda\n",
    "                data[:,3]=Tmax_over_tau_E\n",
    "                data[:,4]=sigma_t\n",
    "                data[:,5]=tau_rp\n",
    "                data[:,6]=g_E \n",
    "                data[:,7]=g_I\n",
    "                data[:,8]=beta\n",
    "                data[:,9]=K\n",
    "                data[:,10]=ell\n",
    "                data[:,11]=CV_K\n",
    "                data[:,12]=idx_species\n",
    "                data[:,13]=idx_combined\n",
    "\n",
    "                if count==0:\n",
    "                    DATA=data;\n",
    "                if count>0:\n",
    "                    DATA=np.vstack((DATA,data));\n",
    "                count=count+1\n",
    "\n",
    "len(DATA)\n",
    "\n",
    "\n",
    "#########################################################################################################\n",
    "# We save this in our list of good parameters to build a family of good parameters\n",
    "#########################################################################################################\n",
    "df = pd.DataFrame(DATA,columns=['J','r_X','sigma_Lambda_over_Lambda','Tmax_over_tau_E','sigma_t','tau_rp',\n",
    "                                'g_E','g_I','beta','K','ell','CV_K','idx_species','idx_combined'])\n",
    "file_name='simulation_param.txt'\n",
    "df.to_csv(file_name, sep='\\t')\n"
   ]
  },
  {
   "cell_type": "markdown",
   "metadata": {},
   "source": [
    "# Add fits to both species together to a the file containing all the possible fits  "
   ]
  },
  {
   "cell_type": "code",
   "execution_count": 32,
   "metadata": {},
   "outputs": [],
   "source": [
    "count=0;\n",
    "for idx_rep in range(n_rep):\n",
    "    for idx_combined in range(10):\n",
    "        for idx_species in range(2):\n",
    "            dataset=dataset_both_species[idx_species]\n",
    "            Con=Con_both_species[idx_species]\n",
    "            nCon=nCon_both_species[idx_species]\n",
    "            normalization=normalization_both_species[idx_species] \n",
    "\n",
    "            idx_best=np.argsort(CMB_cost)[idx_combined]\n",
    "            best_param=CMB_sol[idx_best,:]\n",
    "            best_cost=CMB_cost[idx_best]\n",
    "           \n",
    "        \n",
    "            best_inputs=fun.fit_inputs_to_data_given_param(dataset,Predictor_data,best_param,nCon)\n",
    "\n",
    "\n",
    "            Possible_r_X=10**best_inputs[0:-1]\n",
    "            ell=10**best_inputs[-1]\n",
    "\n",
    "            g_E= best_param[0]; g_I=best_param[1];beta=10**best_param[2]; \n",
    "            K=500; \n",
    "            CV_K=10**best_param[3]\n",
    "            sigma_Lambda_over_Lambda=10**best_param[4];\n",
    "            J=10**best_param[5];\n",
    "            for idx_r_X in range(len(Possible_r_X)):\n",
    "                r_X=Possible_r_X[idx_r_X];\n",
    "\n",
    "                data=np.ones((1,14));\n",
    "                data[:,0]=J\n",
    "                data[:,1]=r_X\n",
    "                data[:,2]=sigma_Lambda_over_Lambda\n",
    "                data[:,3]=Tmax_over_tau_E\n",
    "                data[:,4]=sigma_t\n",
    "                data[:,5]=tau_rp\n",
    "                data[:,6]=g_E \n",
    "                data[:,7]=g_I\n",
    "                data[:,8]=beta\n",
    "                data[:,9]=K\n",
    "                data[:,10]=ell\n",
    "                data[:,11]=CV_K\n",
    "                data[:,12]=idx_species\n",
    "                data[:,13]=idx_combined\n",
    "\n",
    "                if count==0:\n",
    "                    DATA=data;\n",
    "                if count>0:\n",
    "                    DATA=np.vstack((DATA,data));\n",
    "                count=count+1\n",
    "\n",
    "#########################################################################################################\n",
    "# We save this in our list of good parameters to build a family of good parameters\n",
    "#########################################################################################################\n",
    "\n",
    "df = pd.DataFrame(DATA,columns=['J','r_X','sigma_Lambda_over_Lambda','Tmax_over_tau_E','sigma_t','tau_rp',\n",
    "                                'g_E','g_I','beta','K','ell','CV_K','idx_species','idx_combined'])\n",
    "file_name='simulation_param.txt'\n",
    "df.to_csv(file_name, sep='\\t')\n"
   ]
  },
  {
   "cell_type": "code",
   "execution_count": null,
   "metadata": {},
   "outputs": [],
   "source": []
  },
  {
   "cell_type": "code",
   "execution_count": null,
   "metadata": {},
   "outputs": [],
   "source": []
  }
 ],
 "metadata": {
  "anaconda-cloud": {},
  "kernelspec": {
   "display_name": "Python 3",
   "language": "python",
   "name": "python3"
  },
  "language_info": {
   "codemirror_mode": {
    "name": "ipython",
    "version": 3
   },
   "file_extension": ".py",
   "mimetype": "text/x-python",
   "name": "python",
   "nbconvert_exporter": "python",
   "pygments_lexer": "ipython3",
   "version": "3.6.13"
  }
 },
 "nbformat": 4,
 "nbformat_minor": 4
}
