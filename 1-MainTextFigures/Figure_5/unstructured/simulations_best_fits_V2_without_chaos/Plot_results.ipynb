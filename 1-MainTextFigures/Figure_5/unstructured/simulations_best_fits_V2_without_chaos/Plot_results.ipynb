{
 "cells": [
  {
   "cell_type": "markdown",
   "metadata": {
    "id": "kWBG1dZAxhy6"
   },
   "source": [
    "# Figure 7. Fit in mice and monkeys\n",
    "\n",
    "\n"
   ]
  },
  {
   "cell_type": "code",
   "execution_count": 7,
   "metadata": {
    "colab": {
     "base_uri": "https://localhost:8080/"
    },
    "executionInfo": {
     "elapsed": 31523,
     "status": "ok",
     "timestamp": 1625520026356,
     "user": {
      "displayName": "alessandro sanzeni",
      "photoUrl": "",
      "userId": "18075480473065302455"
     },
     "user_tz": 240
    },
    "id": "k87dd5Fexhy9",
    "outputId": "5f86c7c8-072d-497a-c478-82dafeab57b8"
   },
   "outputs": [
    {
     "name": "stdin",
     "output_type": "stream",
     "text": [
      "Once deleted, variables cannot be recovered. Proceed (y/[n])?  n\n"
     ]
    },
    {
     "name": "stdout",
     "output_type": "stream",
     "text": [
      "Nothing done.\n",
      "The autoreload extension is already loaded. To reload it, use:\n",
      "  %reload_ext autoreload\n"
     ]
    }
   ],
   "source": [
    "%reset\n",
    "#%qtconsole\n",
    "%load_ext autoreload\n",
    "%autoreload 2\n",
    "%matplotlib inline \n",
    "import matplotlib.pyplot as plt\n",
    "import numpy as np\n",
    "import matplotlib.cm as cm\n",
    "import matplotlib as mpl\n",
    "import scipy.stats as stats\n",
    "from scipy.interpolate import interp1d\n",
    "import os\n",
    "import functions_optimal as fun\n",
    "import pandas as pd\n",
    "\n",
    "from mpl_toolkits.axes_grid.inset_locator import (inset_axes, InsetPosition,mark_inset)\n",
    "\n",
    "area=4.0;linethicknes=1.0;\n",
    "\n",
    "font = {'family' : 'normal','weight' : 'normal','size'   : 7, 'family':'serif','serif':['Arial']}\n",
    "mpl.rc('font', **font)\n",
    "mpl.rcParams['lines.linewidth'] =linethicknes\n",
    "mpl.rcParams['text.usetex'] = False\n",
    "mpl.rcParams['mathtext.fontset'] = 'stix'\n",
    "mpl.rcParams['mathtext.rm'] = 'serif'\n",
    "mpl.rcParams['pdf.fonttype'] = 42\n",
    "\n",
    "data_mice=np.loadtxt('Mice_with_trials.txt');\n",
    "data_monkeys=np.loadtxt('Monkeys_with_trials.txt');\n",
    "\n",
    "data_both_species=[data_mice,data_monkeys]\n",
    "# structure of data set is:\n",
    "# unit number, contrast, laser, rate, other stuff\n",
    "\n",
    "dataset_both_species,Con_both_species,nCon_both_species,normalization_both_species=[],[],[],[]\n",
    "for idx_species in range(2):\n",
    "    dataset,Con,nCon=fun.build_dataset(data_both_species[idx_species])\n",
    "    normalization=1.0;#np.mean(dataset[0,:,0])\n",
    "    dataset_both_species=dataset_both_species+[dataset]\n",
    "    Con_both_species=Con_both_species+[Con]\n",
    "    nCon_both_species=nCon_both_species+[nCon]\n",
    "    \n",
    "species=['Mice','Monkeys']\n",
    "color=['c','m']\n",
    "\n",
    "results=np.loadtxt('simulate_best_fits/results.txt');\n",
    "sim_param_all=results[:,0:15]\n",
    "moments_of_r_sim_all=results[:,15:20]\n",
    "sim_convergence_all=results[:,20:24]\n",
    "tau_decay=results[:,26]\n",
    "sim_decay_all=results[:,26]/results[:,27]\n",
    "sim_species=results[:,28]\n",
    "sim_combined=results[:,29]\n",
    "\n",
    "sim_curr_E=results[:,30]\n",
    "sim_curr_I=results[:,31]\n",
    "sim_curr_tot=results[:,32]\n",
    "sim_curr_opto=results[:,33]\n",
    "\n",
    "\n",
    "Possible_Tmax_over_tau_E=np.unique(sim_param_all[:,14])\n",
    "Possible_sigma_Lambda_over_Lambda=np.unique(sim_param_all[:,10])\n",
    "Possible_r_X=np.unique(sim_param_all[:,12])\n",
    "Possible_J=np.unique(sim_param_all[:,11])\n",
    "\n"
   ]
  },
  {
   "cell_type": "markdown",
   "metadata": {},
   "source": [
    "# recover simulated params"
   ]
  },
  {
   "cell_type": "code",
   "execution_count": 3,
   "metadata": {},
   "outputs": [
    {
     "name": "stdout",
     "output_type": "stream",
     "text": [
      "Index(['J', 'r_X', 'sigma_Lambda_over_Lambda', 'Tmax_over_tau_E', 'sigma_t',\n",
      "       'tau_rp', 'g_E', 'g_I', 'beta', 'K', 'ell', 'CV_K', 'idx_species',\n",
      "       'idx_combined'],\n",
      "      dtype='object')\n"
     ]
    }
   ],
   "source": [
    "simulation_param = pd.read_csv('simulate_best_fits/simulation_param.txt',delim_whitespace=True) #header=None\n",
    "print(simulation_param.keys())\n",
    "simulation_param=simulation_param.to_numpy()\n"
   ]
  },
  {
   "cell_type": "code",
   "execution_count": 10,
   "metadata": {},
   "outputs": [
    {
     "name": "stdout",
     "output_type": "stream",
     "text": [
      "mice\n",
      "J= 0.0001325098747091 $\\sigma_{\\lambda}/\\lambda$= 0.7852976206468583 g_E= 9.972540734940784 g_I= 8.399857837811428 beta= 0.3337711948490606 CV_K= 0.0199846588484741\n",
      "r_X= [ 7.22  7.8   8.2   8.69  8.97 10.45 13.65]\n",
      "ell= [4.14]\n",
      "monkeys\n",
      "J= 0.0004432519877516 $\\sigma_{\\lambda}/\\lambda$= 6.561565376532942 g_E= 4.58230438517752 g_I= 2.728729673586847 beta= 0.8067002563887169 CV_K= 0.0072868099196249\n",
      "r_X= [14.41 30.3  37.01 42.52 44.84 48.24]\n",
      "ell= [2.51]\n"
     ]
    }
   ],
   "source": [
    "\n",
    "idx_combined=0;\n",
    "for idx_species in [0,1]:\n",
    "    print(['mice','monkeys'][idx_species])\n",
    "\n",
    "    mask_case=(simulation_param[:,-2]==idx_species)&(simulation_param[:,-1]==idx_combined)\n",
    "    J=np.unique(simulation_param[mask_case,0])[0]\n",
    "    sigma_Lambda_over_Lambda=np.unique(simulation_param[mask_case,2])[0]\n",
    "    g_E=np.unique(simulation_param[mask_case,6])[0]\n",
    "    g_I=np.unique(simulation_param[mask_case,7])[0]\n",
    "    beta=np.unique(simulation_param[mask_case,8])[0]\n",
    "    CV_K=np.unique(simulation_param[mask_case,11])[0]\n",
    "\n",
    "    r_X=np.unique(simulation_param[mask_case,1])\n",
    "    ell=np.unique(simulation_param[mask_case,10])\n",
    "\n",
    "\n",
    "    print('J=',J,r'$\\sigma_{\\lambda}/\\lambda$=',sigma_Lambda_over_Lambda,\n",
    "          'g_E=',g_E,'g_I=',g_I,'beta=',beta,'CV_K=',CV_K)\n",
    "    print('r_X=',r_X)\n",
    "    print('ell=',ell)"
   ]
  },
  {
   "cell_type": "code",
   "execution_count": null,
   "metadata": {},
   "outputs": [],
   "source": []
  },
  {
   "cell_type": "code",
   "execution_count": null,
   "metadata": {},
   "outputs": [],
   "source": []
  },
  {
   "cell_type": "code",
   "execution_count": 4,
   "metadata": {},
   "outputs": [
    {
     "name": "stdout",
     "output_type": "stream",
     "text": [
      "0 0\n",
      "2.331892852428746 2.331892852428746\n",
      "1.3436401205300488 3.675532972958795\n",
      "3.8299478480361224 7.505480820994917\n",
      "1.1206412063189783 8.626122027313896\n",
      "1.3307338181850883 9.956855845498984\n",
      "0.40539086958332865 10.362246715082312\n",
      "    10.362246715082312\n",
      "0 1\n",
      "1.1583849785366451 1.1583849785366451\n",
      "1.7023828982154576 2.860767876752103\n",
      "3.166660753455097 6.0274286302072\n",
      "4.833088926936121 10.860517557143321\n",
      "2.218325196315792 13.078842753459114\n",
      "0.8184922892795607 13.897335042738675\n",
      "    13.897335042738675\n",
      "1 0\n",
      "8.480663947167836 8.480663947167836\n",
      "1.1268854754074904 9.607549422575326\n",
      "4.894168538660943 14.50171796123627\n",
      "2.0731422882981994 16.57486024953447\n",
      "6.336627108354907 22.911487357889378\n",
      "0.5152387084007264 23.426726066290104\n",
      "    23.426726066290104\n",
      "1 1\n",
      "2.6989265009007797 2.6989265009007797\n",
      "2.214593461020648 4.913519961921428\n",
      "1.3017619062168981 6.215281868138326\n",
      "5.308132249488109 11.523414117626434\n",
      "1.7893890093309335 13.312803126957368\n",
      "6.582156183422521 19.89495931037989\n",
      "    19.89495931037989\n"
     ]
    },
    {
     "data": {
      "text/plain": [
       "\"\\npic_name='Figure_7_fits.pdf'\\nfig.savefig(pic_name,format='pdf',bbox_inches='tight', dpi=300)\\npic_name='Figure_7_fits.png'\\nfig.savefig(pic_name,format='png',bbox_inches='tight', dpi=300)\\n\""
      ]
     },
     "execution_count": 4,
     "metadata": {},
     "output_type": "execute_result"
    },
    {
     "data": {
      "image/png": "[encoded data removed]",
      "text/plain": [
       "<Figure size 360x576 with 8 Axes>"
      ]
     },
     "metadata": {},
     "output_type": "display_data"
    }
   ],
   "source": [
    "\n",
    "rows=4\n",
    "cols=2\n",
    "\n",
    "colors=['c','m']\n",
    "fig, axs = plt.subplots(rows,cols, figsize=(2.5*cols,2.*rows), facecolor='w', edgecolor='k')\n",
    "fig.subplots_adjust(hspace = .5, wspace=.5)\n",
    "axs = axs.ravel()\n",
    "\n",
    "\n",
    "\n",
    "for idx_species in range(2):\n",
    "    dataset=dataset_both_species[idx_species]\n",
    "    Con=Con_both_species[idx_species]\n",
    "    nCon=nCon_both_species[idx_species]\n",
    "         \n",
    "    for idx_moment in range(6):\n",
    "        if idx_moment<2:\n",
    "            idx_row=0\n",
    "            ccc=['k',colors[idx_species]][idx_moment]\n",
    "            ymin=0\n",
    "            ymax=[25,80][idx_species]\n",
    "            \n",
    "        if (idx_moment>=2)&(idx_moment<4):\n",
    "            idx_row=1\n",
    "            ccc=['k',colors[idx_species]][idx_moment-2]\n",
    "            ymin=0\n",
    "            #ymax=[20,60][idx_species]\n",
    "            ymax=[20,70][idx_species]\n",
    "         \n",
    "        if (idx_moment==4):\n",
    "            idx_row=2\n",
    "            ccc=colors[idx_species]\n",
    "            ymin=0\n",
    "            ymax=[20,60][idx_species]\n",
    "         \n",
    "        if (idx_moment==5):\n",
    "            idx_row=3\n",
    "            ccc=colors[idx_species]\n",
    "            ymin=-0.75\n",
    "            ymax=0.25\n",
    "                     \n",
    "        m,sem=dataset[idx_moment,:,0],dataset[idx_moment,:,1]\n",
    "        axs[2*idx_row+idx_species].scatter(Con,m,\n",
    "                                           facecolors='none', s=10,edgecolors=ccc,marker='o'\n",
    "                                           )\n",
    "        axs[2*idx_row+idx_species].fill_between(Con,m-sem,m+sem,\n",
    "                                                 color=ccc,alpha=0.2)\n",
    "    \n",
    "        axs[2*idx_row+idx_species].set_xscale('symlog', linthreshx=12)\n",
    "        axs[2*idx_row+idx_species].axis([-1.,110,ymin,ymax])\n",
    "    axs[2*idx_row+idx_species].axhline(y=0,ls='--',c='k')\n",
    "    axs[2*3+idx_species].set_xlabel('contrast (%)')\n",
    "    axs[2*0+idx_species].set_title(['Mice','Monkeys'][idx_species])\n",
    "    if idx_species==0:\n",
    "        axs[2*0].set_ylabel('Mean rate\\n(spk/s)')\n",
    "        axs[2*1].set_ylabel('Std rate\\n(spk/s)')\n",
    "        axs[2*2].set_ylabel('Std $\\Delta$rate\\n(spk/s)')\n",
    "        axs[2*3].set_ylabel(r'$\\rho$')\n",
    "        \n",
    "  \n",
    "for idx_combined in [0,1]:\n",
    "    ls=['-','--'][idx_combined]\n",
    "    for idx_species in [0,1]:\n",
    "        print(idx_combined,idx_species)\n",
    "        dataset=dataset_both_species[idx_species]\n",
    "        Con=Con_both_species[idx_species]\n",
    "        nCon=nCon_both_species[idx_species]\n",
    "            \n",
    "        mask_cases=(sim_species==idx_species)&(sim_combined==idx_combined)\n",
    "\n",
    "        data_x=sim_param_all[mask_cases,12]\n",
    "        cost=0\n",
    "        for idx_moment in range(6):\n",
    "            clr=color[idx_species]\n",
    "\n",
    "            if idx_moment==0:\n",
    "                data_y=moments_of_r_sim_all[mask_cases,0]\n",
    "                idx_plot=2*0+idx_species\n",
    "                clr='k'\n",
    "            if idx_moment==1:\n",
    "                data_y=moments_of_r_sim_all[mask_cases,0]+moments_of_r_sim_all[mask_cases,1]\n",
    "                idx_plot=2*0+idx_species\n",
    "            if idx_moment==2:\n",
    "                data_y=moments_of_r_sim_all[mask_cases,2]\n",
    "                idx_plot=2*1+idx_species\n",
    "                clr='k'\n",
    "            if idx_moment==3:\n",
    "                data_y=np.sqrt(moments_of_r_sim_all[mask_cases,2]**2\n",
    "                               +moments_of_r_sim_all[mask_cases,3]**2\n",
    "                               +2*moments_of_r_sim_all[mask_cases,4])\n",
    "                idx_plot=2*1+idx_species\n",
    "            if idx_moment==4:\n",
    "                data_y=moments_of_r_sim_all[mask_cases,3]\n",
    "                idx_plot=2*2+idx_species\n",
    "\n",
    "            if idx_moment==5:\n",
    "                data_y=moments_of_r_sim_all[mask_cases,4]/moments_of_r_sim_all[mask_cases,3]**2\n",
    "                idx_plot=2*3+idx_species\n",
    "\n",
    "\n",
    "            data_y_med=np.zeros((len(np.unique(data_x)),3))\n",
    "            for idx in range(len(np.unique(data_x))):\n",
    "                mask_x=data_x==np.unique(data_x)[idx]\n",
    "                data_y_med[idx,0]=np.mean(data_y[mask_x])\n",
    "                data_y_med[idx,1]=stats.sem(data_y[mask_x])\n",
    "            axs[idx_plot].errorbar(Con,data_y_med[:,0],data_y_med[:,1],c=clr,ls=ls) \n",
    "            cost_moment=(data_y_med[:,0]-dataset[idx_moment,:,0])/dataset[idx_moment,:,1]\n",
    "            cost_moment=(0.5*(np.sum(cost_moment**2)))\n",
    "            cost=cost+cost_moment\n",
    "            print(cost_moment,cost)\n",
    "        print('   ',cost)\n",
    "\n",
    "\n",
    "fig.set_size_inches(2.5*cols,2.*rows)\n",
    "'''\n",
    "pic_name='Figure_7_fits.pdf'\n",
    "fig.savefig(pic_name,format='pdf',bbox_inches='tight', dpi=300)\n",
    "pic_name='Figure_7_fits.png'\n",
    "fig.savefig(pic_name,format='png',bbox_inches='tight', dpi=300)\n",
    "'''"
   ]
  },
  {
   "cell_type": "code",
   "execution_count": 12,
   "metadata": {},
   "outputs": [
    {
     "name": "stdout",
     "output_type": "stream",
     "text": [
      "0 0\n",
      "0 1\n",
      "1 0\n",
      "1 1\n"
     ]
    },
    {
     "data": {
      "image/png": "[encoded data removed]",
      "text/plain": [
       "<Figure size 360x288 with 4 Axes>"
      ]
     },
     "metadata": {},
     "output_type": "display_data"
    }
   ],
   "source": [
    " \n",
    "rows=2\n",
    "cols=2\n",
    "\n",
    "colors=['c','m']\n",
    "fig, axs = plt.subplots(rows,cols, figsize=(2.5*cols,2.*rows), \n",
    "                        facecolor='w', edgecolor='k',sharey='row')\n",
    "fig.subplots_adjust(hspace = .5, wspace=.5)\n",
    "axs = axs.ravel()\n",
    "\n",
    "\n",
    "for idx_combined in [0,1]:\n",
    "    ls=['-','--'][idx_combined]\n",
    "    for idx_species in [0,1]:\n",
    "        print(idx_combined,idx_species)\n",
    "        dataset=dataset_both_species[idx_species]\n",
    "        Con=Con_both_species[idx_species]\n",
    "        nCon=nCon_both_species[idx_species]\n",
    "            \n",
    "        mask_cases=(sim_species==idx_species)&(sim_combined==idx_combined)\n",
    "\n",
    "        data_x=sim_param_all[mask_cases,12]\n",
    "        cost=0\n",
    "        for idx_case in range(2):\n",
    "            clr=color[idx_species]\n",
    "\n",
    "            if idx_case==0:\n",
    "                data_y=np.abs(sim_curr_tot/sim_curr_E)[mask_cases,]\n",
    "                clr='k'\n",
    "            if idx_case==1:\n",
    "                data_y=np.abs(sim_curr_opto/sim_curr_E)[mask_cases,]\n",
    "\n",
    "            idx_plot=2*idx_case+idx_species\n",
    "            data_y_med=np.zeros((len(np.unique(data_x)),3))\n",
    "            for idx in range(len(np.unique(data_x))):\n",
    "                mask_x=data_x==np.unique(data_x)[idx]\n",
    "                data_y_med[idx,0]=np.mean(data_y[mask_x])\n",
    "                data_y_med[idx,1]=stats.sem(data_y[mask_x])\n",
    "            axs[idx_plot].errorbar(Con,data_y_med[:,0],data_y_med[:,1],c=clr,ls=ls) \n",
    "\n",
    "            axs[idx_plot].set_xscale('symlog', linthreshx=12)\n",
    "            axs[idx_plot].set_yscale('log', )\n",
    "            axs[idx_plot].set_xlim([-1.,110])\n",
    "            axs[idx_plot].set_xlabel('contrast (%)')\n",
    "    \n",
    "fig.set_size_inches(2.5*cols,2.*rows)\n",
    "'''\n",
    "pic_name='Figure_7_currents.pdf'\n",
    "fig.savefig(pic_name,format='pdf',bbox_inches='tight', dpi=300)\n",
    "pic_name='Figure_7_currents.png'\n",
    "fig.savefig(pic_name,format='png',bbox_inches='tight', dpi=300)\n",
    "'''"
   ]
  },
  {
   "cell_type": "markdown",
   "metadata": {},
   "source": [
    "# look at $\\tau_{decay}$"
   ]
  },
  {
   "cell_type": "code",
   "execution_count": 19,
   "metadata": {},
   "outputs": [
    {
     "name": "stdout",
     "output_type": "stream",
     "text": [
      "0 0\n",
      "0 1\n",
      "1 0\n",
      "1 1\n"
     ]
    },
    {
     "data": {
      "image/png": "[encoded data removed]",
      "text/plain": [
       "<Figure size 360x144 with 2 Axes>"
      ]
     },
     "metadata": {},
     "output_type": "display_data"
    }
   ],
   "source": [
    " \n",
    "rows=1\n",
    "cols=2\n",
    "\n",
    "colors=['c','m']\n",
    "fig, axs = plt.subplots(rows,cols, figsize=(2.5*cols,2.*rows), \n",
    "                        facecolor='w', edgecolor='k',sharey='row')\n",
    "fig.subplots_adjust(hspace = .5, wspace=.5)\n",
    "axs = axs.ravel()\n",
    "\n",
    "\n",
    "for idx_combined in [0,1]:\n",
    "    ls=['-','--'][idx_combined]\n",
    "    for idx_species in [0,1]:\n",
    "        print(idx_combined,idx_species)\n",
    "        dataset=dataset_both_species[idx_species]\n",
    "        Con=Con_both_species[idx_species]\n",
    "        nCon=nCon_both_species[idx_species]\n",
    "            \n",
    "        mask_cases=(sim_species==idx_species)&(sim_combined==idx_combined)\n",
    "\n",
    "        data_x=sim_param_all[mask_cases,12]\n",
    "        cost=0\n",
    "        for idx_case in range(1):\n",
    "            clr=color[idx_species]\n",
    "\n",
    "            if idx_case==0:\n",
    "                data_y=tau_decay[mask_cases,]\n",
    "                clr='k'\n",
    "            if idx_case==1:\n",
    "                data_y=sim_decay_all[mask_cases,]\n",
    "\n",
    "            idx_plot=2*idx_case+idx_species\n",
    "            data_y_med=np.zeros((len(np.unique(data_x)),3))\n",
    "            for idx in range(len(np.unique(data_x))):\n",
    "                mask_x=data_x==np.unique(data_x)[idx]\n",
    "                data_y_med[idx,0]=np.mean(data_y[mask_x])\n",
    "                data_y_med[idx,1]=stats.sem(data_y[mask_x])\n",
    "            axs[idx_plot].errorbar(Con,data_y_med[:,0],data_y_med[:,1],c=clr,ls=ls,marker='o') \n",
    "\n",
    "            axs[idx_plot].set_xscale('symlog', linthreshx=12)\n",
    "            #axs[idx_plot].set_yscale('log', )\n",
    "            axs[idx_plot].set_xlim([-1.,110])\n",
    "            axs[idx_plot].set_xlabel('contrast (%)')\n",
    "        axs[idx_plot].set_title(['Mice','Monkeys'][idx_species])\n",
    "\n",
    "axs[0].set_ylabel('Autocorrelation (s)')        \n",
    "axs[0].set_ylim([0,2.1])\n",
    "\n",
    "fig.set_size_inches(2.5*cols,2.*rows)\n",
    "\n",
    "\n",
    "#'''\n",
    "pic_name='Chaos_in_fig_5.pdf'\n",
    "fig.savefig(pic_name,format='pdf',bbox_inches='tight', dpi=300)\n",
    "pic_name='Chaos_in_fig_5.png'\n",
    "fig.savefig(pic_name,format='png',bbox_inches='tight', dpi=300)\n",
    "#'''"
   ]
  },
  {
   "cell_type": "code",
   "execution_count": null,
   "metadata": {},
   "outputs": [],
   "source": []
  }
 ],
 "metadata": {
  "anaconda-cloud": {},
  "colab": {
   "collapsed_sections": [],
   "name": "UMAP_embedding",
   "provenance": []
  },
  "kernelspec": {
   "display_name": "Python 3",
   "language": "python",
   "name": "python3"
  },
  "language_info": {
   "codemirror_mode": {
    "name": "ipython",
    "version": 3
   },
   "file_extension": ".py",
   "mimetype": "text/x-python",
   "name": "python",
   "nbconvert_exporter": "python",
   "pygments_lexer": "ipython3",
   "version": "3.8.8"
  }
 },
 "nbformat": 4,
 "nbformat_minor": 4
}
