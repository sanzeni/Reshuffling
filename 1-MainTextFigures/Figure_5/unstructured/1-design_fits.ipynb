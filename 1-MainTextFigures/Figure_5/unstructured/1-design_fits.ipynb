{
 "cells": [
  {
   "cell_type": "code",
   "execution_count": 1,
   "id": "08195b0d",
   "metadata": {},
   "outputs": [
    {
     "name": "stderr",
     "output_type": "stream",
     "text": [
      "In /Users/agos/anaconda3/lib/python3.6/site-packages/matplotlib/mpl-data/stylelib/_classic_test.mplstyle: \n",
      "The text.latex.preview rcparam was deprecated in Matplotlib 3.3 and will be removed two minor releases later.\n",
      "In /Users/agos/anaconda3/lib/python3.6/site-packages/matplotlib/mpl-data/stylelib/_classic_test.mplstyle: \n",
      "The mathtext.fallback_to_cm rcparam was deprecated in Matplotlib 3.3 and will be removed two minor releases later.\n",
      "In /Users/agos/anaconda3/lib/python3.6/site-packages/matplotlib/mpl-data/stylelib/_classic_test.mplstyle: Support for setting the 'mathtext.fallback_to_cm' rcParam is deprecated since 3.3 and will be removed two minor releases later; use 'mathtext.fallback : 'cm' instead.\n",
      "In /Users/agos/anaconda3/lib/python3.6/site-packages/matplotlib/mpl-data/stylelib/_classic_test.mplstyle: \n",
      "The validate_bool_maybe_none function was deprecated in Matplotlib 3.3 and will be removed two minor releases later.\n",
      "In /Users/agos/anaconda3/lib/python3.6/site-packages/matplotlib/mpl-data/stylelib/_classic_test.mplstyle: \n",
      "The savefig.jpeg_quality rcparam was deprecated in Matplotlib 3.3 and will be removed two minor releases later.\n",
      "In /Users/agos/anaconda3/lib/python3.6/site-packages/matplotlib/mpl-data/stylelib/_classic_test.mplstyle: \n",
      "The keymap.all_axes rcparam was deprecated in Matplotlib 3.3 and will be removed two minor releases later.\n",
      "In /Users/agos/anaconda3/lib/python3.6/site-packages/matplotlib/mpl-data/stylelib/_classic_test.mplstyle: \n",
      "The animation.avconv_path rcparam was deprecated in Matplotlib 3.3 and will be removed two minor releases later.\n",
      "In /Users/agos/anaconda3/lib/python3.6/site-packages/matplotlib/mpl-data/stylelib/_classic_test.mplstyle: \n",
      "The animation.avconv_args rcparam was deprecated in Matplotlib 3.3 and will be removed two minor releases later.\n"
     ]
    }
   ],
   "source": [
    "%matplotlib inline \n",
    "import matplotlib.pyplot as plt\n",
    "\n",
    "import numpy as np\n",
    "import matplotlib as mpl\n",
    "from scipy import stats\n",
    "\n",
    "\n",
    "from scipy.interpolate import interp1d\n",
    "import pandas as pd\n",
    "\n",
    "\n",
    "import pickle\n",
    "\n",
    "from sklearn.preprocessing import StandardScaler  \n",
    "from sklearn.model_selection import train_test_split\n",
    "from sklearn.neural_network import MLPRegressor\n",
    "import sklearn\n",
    "from sklearn.model_selection import GridSearchCV\n",
    "import itertools\n",
    "import warnings\n"
   ]
  },
  {
   "cell_type": "markdown",
   "id": "291c86dc",
   "metadata": {},
   "source": [
    "# Read all simulation results, train parameter scaler"
   ]
  },
  {
   "cell_type": "code",
   "execution_count": 4,
   "id": "bc055b98",
   "metadata": {},
   "outputs": [],
   "source": [
    "folder='./../../../DataAndScripts/unstructured_scripts/simulation_results/'\n",
    "results=np.loadtxt(folder+'results_0.txt');\n",
    "results=np.concatenate((results,np.loadtxt(folder+'results_1.txt')));\n",
    "results=np.concatenate((results,np.loadtxt(folder+'results_2.txt')));\n",
    "results=np.concatenate((results,np.loadtxt(folder+'results_3.txt')));\n",
    "results=np.concatenate((results,np.loadtxt(folder+'results_4.txt')));\n",
    "sim_param_all=results[:,0:15]\n",
    "moments_of_r_sim_all=results[:,15:20]\n",
    "sim_convergence_all=results[:,20:24]\n",
    "tau_decay_all=results[:,26]\n",
    "max_decay_all=results[:,27]\n",
    "sim_decay_all=tau_decay_all/max_decay_all\n",
    "\n",
    "sim_g_E=(sim_param_all[:,2])\n",
    "sim_g_I=(sim_param_all[:,3])\n",
    "sim_beta=(sim_param_all[:,4])\n",
    "sim_CV_K=(sim_param_all[:,7])\n",
    "sim_sigma_Lambda_over_Lambda=(sim_param_all[:,10])\n",
    "sim_J=(sim_param_all[:,11])\n",
    "sim_r_X=(sim_param_all[:,12])\n",
    "sim_ell=(sim_param_all[:,13])\n",
    "\n",
    "\n",
    "scaler = StandardScaler()  \n",
    "\n",
    "X=np.vstack((sim_g_E,sim_g_I,sim_beta,sim_CV_K,sim_sigma_Lambda_over_Lambda,\n",
    "             sim_J,sim_r_X,sim_ell)).T\n",
    "X[:,2::]=np.log10(X[:,2::])\n",
    "\n",
    "Y=np.zeros(np.shape(moments_of_r_sim_all))\n",
    "Y[:,:]=moments_of_r_sim_all[:,:]\n",
    "Y[:,4]=np.sign(Y[:,4])*np.sqrt(np.abs(Y[:,4]))\n",
    "X_train, X_test, Y_train, Y_test = train_test_split(X, Y, train_size=0.80, test_size=0.20, random_state=123)\n",
    "\n",
    "# center training dataset\n",
    "scaler.fit(X_train) \n",
    "\n",
    "with open('./../../../DataAndScripts/unstructured_scripts/model_files/scaler.pkl','wb') as f:\n",
    "    pickle.dump(scaler,f)\n"
   ]
  },
  {
   "cell_type": "code",
   "execution_count": 10,
   "id": "f774fccd",
   "metadata": {},
   "outputs": [
    {
     "name": "stdout",
     "output_type": "stream",
     "text": [
      "Create dataset\n"
     ]
    }
   ],
   "source": [
    "import sys\n",
    "\n",
    "sys.path.insert(0, './../../../DataAndScripts/unstructured_scripts/')\n",
    "import functions_optimal as fun\n",
    "\n",
    "print('Create dataset')\n",
    "data_mice=np.loadtxt('./../../../DataAndScripts/experimental_data/Mice_with_trials.txt');\n",
    "data_monkeys=np.loadtxt('./../../../DataAndScripts/experimental_data/Monkeys_with_trials.txt');\n",
    "data_both_species=[data_mice,data_monkeys]\n",
    "\n",
    "dataset_mouse,Con_mouse,nCon_mouse=fun.build_dataset(data_both_species[0])\n",
    "dataset_monkey,Con_monkey,nCon_monkey=fun.build_dataset(data_both_species[1])\n"
   ]
  },
  {
   "cell_type": "code",
   "execution_count": 12,
   "id": "82f87659",
   "metadata": {},
   "outputs": [
    {
     "data": {
      "text/plain": [
       "(6, 7, 2)"
      ]
     },
     "execution_count": 12,
     "metadata": {},
     "output_type": "execute_result"
    }
   ],
   "source": [
    "dataset_mouse.shape"
   ]
  },
  {
   "cell_type": "code",
   "execution_count": 13,
   "id": "30dd0c10",
   "metadata": {},
   "outputs": [
    {
     "data": {
      "text/plain": [
       "(6, 6, 2)"
      ]
     },
     "execution_count": 13,
     "metadata": {},
     "output_type": "execute_result"
    }
   ],
   "source": [
    "dataset_monkey.shape"
   ]
  },
  {
   "cell_type": "code",
   "execution_count": 15,
   "id": "454f7596",
   "metadata": {},
   "outputs": [
    {
     "data": {
      "text/plain": [
       "(6, 13, 2)"
      ]
     },
     "execution_count": 15,
     "metadata": {},
     "output_type": "execute_result"
    }
   ],
   "source": [
    "np.concatenate((dataset_mouse,dataset_monkey),1).shape"
   ]
  },
  {
   "cell_type": "markdown",
   "id": "d3b0da13",
   "metadata": {},
   "source": [
    "# Design fits"
   ]
  },
  {
   "cell_type": "markdown",
   "id": "268f0aed",
   "metadata": {},
   "source": [
    "## Write simulation parameters with set J and CVopto"
   ]
  },
  {
   "cell_type": "code",
   "execution_count": 6,
   "id": "b9d9ba8c",
   "metadata": {},
   "outputs": [],
   "source": [
    "Possible_idx_species=[0,1]\n",
    "Possible_log10_CVopto=np.linspace(-1,1,20)\n",
    "Possible_log10_J=np.linspace(-5,-2.5,20)\n",
    "nRep=101\n",
    "\n",
    "            \n",
    "count=0;\n",
    "for idx_species in [0,1,2]:\n",
    "    for idx_S in range(len(Possible_log10_CVopto)):\n",
    "        log10_CVopto=Possible_log10_CVopto[idx_S]\n",
    "        for idx_J in range(len(Possible_log10_J)):\n",
    "            log10_J=Possible_log10_J[idx_J]\n",
    "            data=np.ones((1,4));\n",
    "            data[:,0]=idx_species\n",
    "            data[:,1]=log10_CVopto\n",
    "            data[:,2]=log10_J\n",
    "            data[:,3]=nRep\n",
    "\n",
    "            if count==0:\n",
    "                DATA=data;\n",
    "            if count>0:\n",
    "                DATA=np.vstack((DATA,data));\n",
    "            count=count+1\n",
    "\n",
    "len(DATA)\n",
    "\n",
    "df = pd.DataFrame(DATA,columns=['idx_species','log10_CVopto','log10_J','nRep'])\n",
    "file_name='./../../../DataAndScripts/unstructured_scripts/simulation_files/simulation_param_Fixed_J_and_CVopto.txt'\n",
    "df.to_csv(file_name, sep='\\t')"
   ]
  },
  {
   "cell_type": "markdown",
   "id": "2225cfad",
   "metadata": {},
   "source": [
    "## Write simulation parameters with set J and CVopto"
   ]
  },
  {
   "cell_type": "code",
   "execution_count": 7,
   "id": "1494ff05",
   "metadata": {},
   "outputs": [
    {
     "name": "stdout",
     "output_type": "stream",
     "text": [
      "750\n"
     ]
    }
   ],
   "source": [
    "Possible_idx_species=[0,1]\n",
    "possible_g_E=np.linspace(3,10,20)\n",
    "\n",
    "            \n",
    "count=0;\n",
    "for idx_species in [0,1,2]:\n",
    "    for idx_g_E in range(len(possible_g_E)):\n",
    "        g_E=possible_g_E[idx_g_E];\n",
    "        possible_g_I=np.arange(2,g_E,np.diff(possible_g_E)[0])\n",
    "        for idx_g_I in range(len(possible_g_I)):\n",
    "            g_I=possible_g_I[idx_g_I];\n",
    "\n",
    "            data=np.ones((1,4));\n",
    "            data[:,0]=idx_species\n",
    "            data[:,1]=g_E\n",
    "            data[:,2]=g_I\n",
    "            data[:,3]=nRep\n",
    "\n",
    "            if count==0:\n",
    "                DATA=data;\n",
    "            if count>0:\n",
    "                DATA=np.vstack((DATA,data));\n",
    "            count=count+1\n",
    "\n",
    "print(len(DATA))\n",
    "\n",
    "df = pd.DataFrame(DATA,columns=['idx_species','g_E','g_I','nRep'])\n",
    "file_name='./../../../DataAndScripts/unstructured_scripts/simulation_files/simulation_param_Fixed_gs.txt'\n",
    "df.to_csv(file_name, sep='\\t')"
   ]
  },
  {
   "cell_type": "markdown",
   "id": "d28e096f",
   "metadata": {},
   "source": [
    "# Train perceptron to predict optogenetic response statistics"
   ]
  },
  {
   "cell_type": "code",
   "execution_count": 3,
   "id": "2098ffb3",
   "metadata": {},
   "outputs": [
    {
     "name": "stdout",
     "output_type": "stream",
     "text": [
      "Iteration 1, loss = 299.53041492\n",
      "Iteration 2, loss = 107.43174408\n",
      "Iteration 3, loss = 83.80918557\n",
      "Iteration 4, loss = 70.72885762\n",
      "Iteration 5, loss = 62.25586526\n",
      "Iteration 6, loss = 55.92509836\n",
      "Iteration 7, loss = 51.23740731\n",
      "Iteration 8, loss = 47.23828537\n",
      "Iteration 9, loss = 44.97432679\n",
      "Iteration 10, loss = 42.60873252\n",
      "Iteration 11, loss = 41.01595299\n",
      "Iteration 12, loss = 39.82127341\n",
      "Iteration 13, loss = 37.86555349\n",
      "Iteration 14, loss = 37.38491539\n",
      "Iteration 15, loss = 36.38159852\n",
      "Iteration 16, loss = 35.49293117\n",
      "Iteration 17, loss = 34.42527725\n",
      "Iteration 18, loss = 34.20142608\n",
      "Iteration 19, loss = 34.04286134\n",
      "Iteration 20, loss = 32.58394463\n",
      "Iteration 21, loss = 32.18017562\n",
      "Iteration 22, loss = 32.30057694\n",
      "Iteration 23, loss = 31.65292312\n",
      "Iteration 24, loss = 31.38496213\n",
      "Iteration 25, loss = 30.60763314\n",
      "Iteration 26, loss = 30.37835711\n",
      "Iteration 27, loss = 30.02986226\n",
      "Iteration 28, loss = 29.33444089\n",
      "Iteration 29, loss = 29.41089067\n",
      "Iteration 30, loss = 29.04719513\n",
      "Iteration 31, loss = 29.05220840\n",
      "Iteration 32, loss = 28.46380866\n",
      "Iteration 33, loss = 28.11420878\n",
      "Iteration 34, loss = 27.81448975\n",
      "Iteration 35, loss = 27.28954994\n",
      "Iteration 36, loss = 27.58836476\n",
      "Iteration 37, loss = 27.26315215\n",
      "Iteration 38, loss = 27.09238521\n",
      "Iteration 39, loss = 26.23075339\n",
      "Iteration 40, loss = 26.49093042\n",
      "Iteration 41, loss = 26.40589415\n",
      "Iteration 42, loss = 26.08544161\n",
      "Iteration 43, loss = 25.84764673\n",
      "Iteration 44, loss = 25.74348155\n",
      "Iteration 45, loss = 25.39837489\n",
      "Iteration 46, loss = 25.31210294\n",
      "Iteration 47, loss = 24.96341184\n",
      "Iteration 48, loss = 24.70556134\n",
      "Iteration 49, loss = 24.53660944\n",
      "Iteration 50, loss = 24.62405424\n",
      "Iteration 51, loss = 24.20925131\n",
      "Iteration 52, loss = 24.29343278\n",
      "Iteration 53, loss = 24.22997726\n",
      "Iteration 54, loss = 23.79499391\n",
      "Iteration 55, loss = 24.22571019\n",
      "Iteration 56, loss = 23.83475040\n",
      "Iteration 57, loss = 23.28044361\n",
      "Iteration 58, loss = 23.59771419\n",
      "Iteration 59, loss = 23.37986422\n",
      "Iteration 60, loss = 23.37004238\n",
      "Iteration 61, loss = 23.09546376\n",
      "Iteration 62, loss = 23.38727444\n",
      "Iteration 63, loss = 22.69283928\n",
      "Iteration 64, loss = 22.73254643\n",
      "Iteration 65, loss = 22.47353408\n",
      "Iteration 66, loss = 22.93451852\n",
      "Iteration 67, loss = 22.18631541\n",
      "Iteration 68, loss = 22.55291113\n",
      "Iteration 69, loss = 22.15525643\n",
      "Iteration 70, loss = 22.37318197\n",
      "Iteration 71, loss = 21.96698880\n",
      "Iteration 72, loss = 21.83010261\n",
      "Iteration 73, loss = 22.11269988\n",
      "Iteration 74, loss = 21.76207040\n",
      "Iteration 75, loss = 21.41707516\n",
      "Iteration 76, loss = 21.43604440\n",
      "Iteration 77, loss = 21.53602222\n",
      "Iteration 78, loss = 21.50762634\n",
      "Iteration 79, loss = 21.22296092\n",
      "Iteration 80, loss = 20.87298726\n",
      "Iteration 81, loss = 21.26221662\n",
      "Iteration 82, loss = 21.17346588\n",
      "Iteration 83, loss = 20.91861381\n",
      "Iteration 84, loss = 20.39379780\n",
      "Iteration 85, loss = 21.08772051\n",
      "Iteration 86, loss = 20.93200481\n",
      "Iteration 87, loss = 21.05190905\n",
      "Iteration 88, loss = 20.89960456\n",
      "Iteration 89, loss = 20.61461594\n",
      "Iteration 90, loss = 20.70227701\n",
      "Iteration 91, loss = 20.17754099\n",
      "Iteration 92, loss = 20.12412207\n",
      "Iteration 93, loss = 20.25247801\n",
      "Iteration 94, loss = 20.05661741\n",
      "Iteration 95, loss = 19.70583937\n",
      "Iteration 96, loss = 19.37685934\n",
      "Iteration 97, loss = 20.02560143\n",
      "Iteration 98, loss = 20.01391781\n",
      "Iteration 99, loss = 19.88921258\n",
      "Iteration 100, loss = 19.13358067\n",
      "Iteration 101, loss = 20.16767687\n",
      "Iteration 102, loss = 19.57988698\n",
      "Iteration 103, loss = 19.63985882\n",
      "Iteration 104, loss = 19.32537490\n",
      "Iteration 105, loss = 19.47262532\n",
      "Iteration 106, loss = 19.26261346\n",
      "Iteration 107, loss = 19.54029125\n",
      "Iteration 108, loss = 18.85978583\n",
      "Iteration 109, loss = 19.02616219\n",
      "Iteration 110, loss = 18.91388020\n",
      "Iteration 111, loss = 18.95889830\n",
      "Iteration 112, loss = 18.45930238\n",
      "Iteration 113, loss = 19.27416469\n",
      "Iteration 114, loss = 18.88991198\n",
      "Iteration 115, loss = 18.46405715\n",
      "Iteration 116, loss = 18.82785661\n",
      "Iteration 117, loss = 18.08267887\n",
      "Iteration 118, loss = 18.72996409\n",
      "Iteration 119, loss = 18.15791170\n",
      "Iteration 120, loss = 18.35561024\n",
      "Iteration 121, loss = 18.08899802\n",
      "Iteration 122, loss = 18.67842778\n",
      "Iteration 123, loss = 17.82011979\n",
      "Iteration 124, loss = 18.11064772\n",
      "Iteration 125, loss = 18.23146400\n",
      "Iteration 126, loss = 18.24577511\n",
      "Iteration 127, loss = 18.01983831\n",
      "Iteration 128, loss = 17.92570519\n",
      "Iteration 129, loss = 17.85918224\n",
      "Iteration 130, loss = 17.78139795\n",
      "Iteration 131, loss = 17.92797280\n",
      "Iteration 132, loss = 17.94071596\n"
     ]
    },
    {
     "name": "stderr",
     "output_type": "stream",
     "text": [
      "/usr/local/lib/python3.11/site-packages/sklearn/neural_network/_multilayer_perceptron.py:698: UserWarning: Training interrupted by user.\n",
      "  warnings.warn(\"Training interrupted by user.\")\n"
     ]
    },
    {
     "name": "stdout",
     "output_type": "stream",
     "text": [
      "Test R^2 Score : 0.953\n",
      "Training R^2 Score : 0.957\n"
     ]
    }
   ],
   "source": [
    "sim_param_all=results[:,0:15]\n",
    "moments_of_r_sim_all=results[:,15:20]\n",
    "sim_convergence_all=results[:,20:24]\n",
    "sim_decay_all=results[:,26]/results[:,27]\n",
    "\n",
    "sim_g_E=(sim_param_all[:,2])\n",
    "sim_g_I=(sim_param_all[:,3])\n",
    "sim_beta=(sim_param_all[:,4])\n",
    "sim_CV_K=(sim_param_all[:,7])\n",
    "sim_sigma_Lambda_over_Lambda=(sim_param_all[:,10])\n",
    "sim_J=(sim_param_all[:,11])\n",
    "sim_r_X=(sim_param_all[:,12])\n",
    "sim_ell=(sim_param_all[:,13])\n",
    "\n",
    "\n",
    "scaler = StandardScaler()  \n",
    "\n",
    "X=np.vstack((sim_g_E,sim_g_I,sim_beta,sim_CV_K,sim_sigma_Lambda_over_Lambda,\n",
    "             sim_J,sim_r_X,sim_ell)).T\n",
    "X[:,2::]=np.log10(X[:,2::])\n",
    "\n",
    "Y=np.zeros(np.shape(moments_of_r_sim_all))\n",
    "Y[:,:]=moments_of_r_sim_all[:,:]\n",
    "Y[:,4]=np.sign(Y[:,4])*np.sqrt(np.abs(Y[:,4]))\n",
    "X_train, X_test, Y_train, Y_test = train_test_split(X, Y, train_size=0.80, test_size=0.20, random_state=123)\n",
    "\n",
    "# center training dataset\n",
    "scaler.fit(X_train)  \n",
    "X_train = scaler.transform(X_train)  \n",
    "# apply same transformation to test data\n",
    "X_test = scaler.transform(X_test)\n",
    "\n",
    "# Use optimization in the plot reults file to find best network structure\n",
    "mlp_regressor  = MLPRegressor(random_state=123,\n",
    "                          activation='relu',\n",
    "                          hidden_layer_sizes=(100, 150, 50),verbose=True)\n",
    "mlp_regressor.fit(X_train, Y_train)\n",
    "\n",
    "Y_preds = mlp_regressor.predict(X_test)\n",
    "\n",
    "#print(Y_preds[:5])\n",
    "#print(Y_test[:5])\n",
    "\n",
    "print('Test R^2 Score : %.3f'%mlp_regressor.score(X_test, Y_test)) ## Score method also evaluates accuracy for classification models.\n",
    "print('Training R^2 Score : %.3f'%mlp_regressor.score(X_train, Y_train))"
   ]
  },
  {
   "cell_type": "code",
   "execution_count": null,
   "id": "3c921876",
   "metadata": {},
   "outputs": [],
   "source": [
    "with open('./../../../DataAndScripts/unstructured_scripts/model_files/model.pkl','wb') as f:\n",
    "    pickle.dump(mlp_regressor,f)"
   ]
  },
  {
   "cell_type": "markdown",
   "id": "25e5072a",
   "metadata": {},
   "source": [
    "# Train perceptron to predict chaos"
   ]
  },
  {
   "cell_type": "code",
   "execution_count": 5,
   "id": "86ce7625",
   "metadata": {
    "scrolled": true
   },
   "outputs": [
    {
     "name": "stdout",
     "output_type": "stream",
     "text": [
      "Iteration 1, loss = 0.05581922\n",
      "Iteration 2, loss = 0.03564423\n",
      "Iteration 3, loss = 0.03293018\n",
      "Iteration 4, loss = 0.03128070\n",
      "Iteration 5, loss = 0.03046225\n",
      "Iteration 6, loss = 0.02979165\n",
      "Iteration 7, loss = 0.02927413\n",
      "Iteration 8, loss = 0.02881059\n",
      "Iteration 9, loss = 0.02867931\n",
      "Iteration 10, loss = 0.02840478\n",
      "Iteration 11, loss = 0.02815954\n",
      "Iteration 12, loss = 0.02801896\n",
      "Iteration 13, loss = 0.02782693\n",
      "Iteration 14, loss = 0.02767829\n",
      "Iteration 15, loss = 0.02754842\n",
      "Iteration 16, loss = 0.02750537\n",
      "Iteration 17, loss = 0.02731747\n",
      "Iteration 18, loss = 0.02725669\n",
      "Iteration 19, loss = 0.02713766\n",
      "Iteration 20, loss = 0.02700899\n",
      "Iteration 21, loss = 0.02703340\n",
      "Iteration 22, loss = 0.02688194\n",
      "Iteration 23, loss = 0.02675279\n",
      "Iteration 24, loss = 0.02678707\n",
      "Iteration 25, loss = 0.02672548\n",
      "Iteration 26, loss = 0.02666041\n",
      "Iteration 27, loss = 0.02657491\n",
      "Iteration 28, loss = 0.02644893\n",
      "Iteration 29, loss = 0.02646579\n",
      "Iteration 30, loss = 0.02644816\n",
      "Iteration 31, loss = 0.02640419\n",
      "Iteration 32, loss = 0.02636743\n",
      "Iteration 33, loss = 0.02627869\n",
      "Iteration 34, loss = 0.02616991\n",
      "Iteration 35, loss = 0.02615936\n"
     ]
    },
    {
     "name": "stderr",
     "output_type": "stream",
     "text": [
      "/usr/local/lib/python3.11/site-packages/sklearn/neural_network/_multilayer_perceptron.py:698: UserWarning: Training interrupted by user.\n",
      "  warnings.warn(\"Training interrupted by user.\")\n"
     ]
    },
    {
     "name": "stdout",
     "output_type": "stream",
     "text": [
      "Test R^2 Score : 0.917\n",
      "Training R^2 Score : 0.922\n"
     ]
    }
   ],
   "source": [
    "sim_param_all=results[:,0:15]\n",
    "moments_of_r_sim_all=results[:,15:20]\n",
    "sim_convergence_all=results[:,20:24]\n",
    "sim_decay_all=results[:,26]/results[:,27]\n",
    "\n",
    "sim_g_E=(sim_param_all[:,2])\n",
    "sim_g_I=(sim_param_all[:,3])\n",
    "sim_beta=(sim_param_all[:,4])\n",
    "sim_CV_K=(sim_param_all[:,7])\n",
    "sim_sigma_Lambda_over_Lambda=(sim_param_all[:,10])\n",
    "sim_J=(sim_param_all[:,11])\n",
    "sim_r_X=(sim_param_all[:,12])\n",
    "sim_ell=(sim_param_all[:,13])\n",
    "\n",
    "\n",
    "scaler = StandardScaler()  \n",
    "\n",
    "X=np.vstack((sim_g_E,sim_g_I,sim_beta,sim_CV_K,sim_sigma_Lambda_over_Lambda,\n",
    "             sim_J,sim_r_X,sim_ell)).T\n",
    "X[:,2::]=np.log10(X[:,2::])\n",
    "\n",
    "Y=tau_decay_all\n",
    "X_train, X_test, Y_train, Y_test = train_test_split(X, Y, train_size=0.80, test_size=0.20, random_state=123)\n",
    "\n",
    "# center training dataset\n",
    "scaler.fit(X_train)  \n",
    "X_train = scaler.transform(X_train)  \n",
    "# apply same transformation to test data\n",
    "X_test = scaler.transform(X_test)\n",
    "\n",
    "# Use optimization in the plot reults file to find best network structure\n",
    "mlp_regressor_chaos  = MLPRegressor(random_state=123,\n",
    "                          activation='relu',\n",
    "                          hidden_layer_sizes=(100, 150, 50),verbose=True)\n",
    "mlp_regressor_chaos.fit(X_train, Y_train)\n",
    "\n",
    "Y_preds = mlp_regressor_chaos.predict(X_test)\n",
    "\n",
    "#print(Y_preds[:5])\n",
    "#print(Y_test[:5])\n",
    "\n",
    "print('Test R^2 Score : %.3f'%mlp_regressor_chaos.score(X_test, Y_test)) ## Score method also evaluates accuracy for classification models.\n",
    "print('Training R^2 Score : %.3f'%mlp_regressor_chaos.score(X_train, Y_train))"
   ]
  },
  {
   "cell_type": "code",
   "execution_count": null,
   "id": "86de264b",
   "metadata": {},
   "outputs": [],
   "source": [
    "with open('./../../../DataAndScripts/unstructured_scripts/model_files/chaos_model.pkl','wb') as f:\n",
    "    pickle.dump(mlp_regressor_chaos,f)"
   ]
  }
 ],
 "metadata": {
  "kernelspec": {
   "display_name": "Python 3",
   "language": "python",
   "name": "python3"
  },
  "language_info": {
   "codemirror_mode": {
    "name": "ipython",
    "version": 3
   },
   "file_extension": ".py",
   "mimetype": "text/x-python",
   "name": "python",
   "nbconvert_exporter": "python",
   "pygments_lexer": "ipython3",
   "version": "3.6.13"
  }
 },
 "nbformat": 4,
 "nbformat_minor": 5
}
