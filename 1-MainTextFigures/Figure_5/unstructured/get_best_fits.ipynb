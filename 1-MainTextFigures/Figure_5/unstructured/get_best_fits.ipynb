{
 "cells": [
  {
   "cell_type": "markdown",
   "metadata": {},
   "source": [
    "# Find best parameters describing data, both combined and separated fits. \n"
   ]
  },
  {
   "cell_type": "code",
   "execution_count": 13,
   "metadata": {},
   "outputs": [],
   "source": [
    "import warnings\n",
    "warnings.filterwarnings(\"ignore\")\n",
    "%matplotlib inline \n",
    "from scipy.optimize import curve_fit\n",
    "import pickle\n",
    "import sys\n",
    "import matplotlib.pyplot as plt\n",
    "import numpy as np\n",
    "import matplotlib.cm as cm\n",
    "import matplotlib as mpl\n",
    "import scipy.stats as stats\n",
    "import pandas as pd\n",
    "from importlib import reload\n",
    "from scipy.interpolate import interp1d,interp2d\n",
    "\n",
    "import os\n",
    "cwd=os.getcwd()\n",
    "\n",
    "area=4.0;linethicknes=1.0;\n",
    "\n",
    "font = {'family' : 'normal','weight' : 'normal','size'   : 7, 'family':'serif','serif':['Arial']}\n",
    "mpl.rc('font', **font)\n",
    "mpl.rcParams['lines.linewidth'] =linethicknes\n",
    "mpl.rcParams['text.usetex'] = False\n",
    "mpl.rcParams['mathtext.fontset'] = 'stix'\n",
    "mpl.rcParams['mathtext.rm'] = 'serif'\n",
    "mpl.rcParams['pdf.fonttype'] = 42\n",
    "area=4.0;linethicknes=1.0;\n",
    "\n",
    "\n",
    "########################################################################\n",
    "############# Import code\n",
    "\n",
    "sys.path.insert(0, './../../../DataAndScripts/unstructured_scripts/')\n",
    "import functions_optimal as fun\n",
    "import sims_utils as su\n",
    "import functions_dynamics as fun_dyna"
   ]
  },
  {
   "cell_type": "markdown",
   "metadata": {},
   "source": [
    "# Load results file\n",
    "This file is the outcome of hundreds of thousands of simulations run in the cluster"
   ]
  },
  {
   "cell_type": "code",
   "execution_count": 2,
   "metadata": {},
   "outputs": [
    {
     "name": "stdout",
     "output_type": "stream",
     "text": [
      "Your results files are of the form: results\n",
      "Found 5 results files\n",
      "Last loaded file number: 4\n"
     ]
    }
   ],
   "source": [
    "\n",
    "path2results=cwd+'/../../../DataAndScripts/unstructured_scripts/simulation_results/'\n",
    "results, jn = su.get_concatenated_results(path2results)\n",
    "\n",
    "    "
   ]
  },
  {
   "cell_type": "code",
   "execution_count": null,
   "metadata": {},
   "outputs": [],
   "source": [
    "print('Because ')"
   ]
  },
  {
   "cell_type": "code",
   "execution_count": 3,
   "metadata": {},
   "outputs": [
    {
     "name": "stdout",
     "output_type": "stream",
     "text": [
      "(770195, 28)\n"
     ]
    }
   ],
   "source": [
    "sim_param_all=results[:,0:15]\n",
    "moments_of_r_sim_all=results[:,15:20]\n",
    "\n",
    "sim_g_E=(sim_param_all[:,2])\n",
    "sim_g_I=(sim_param_all[:,3])\n",
    "sim_beta=(sim_param_all[:,4])\n",
    "sim_CV_K=(sim_param_all[:,7])\n",
    "sim_sigma_Lambda_over_Lambda=(sim_param_all[:,10])\n",
    "sim_J=(sim_param_all[:,11])\n",
    "sim_r_X=(sim_param_all[:,12])\n",
    "sim_ell=(sim_param_all[:,13])\n",
    "\n",
    "print(np.shape(results))\n",
    "#(121278, 28)\n",
    "\n",
    "\n",
    "param_min=np.asarray([np.min(sim_g_E),np.min(sim_g_I),np.min(np.log10(sim_beta)),\n",
    "                      np.min(np.log10(sim_CV_K)),np.min(np.log10(sim_sigma_Lambda_over_Lambda)),np.min(np.log10(sim_J)),])\n",
    "param_max=np.asarray([np.max(sim_g_E),np.max(sim_g_I),np.max(np.log10(sim_beta)),\n",
    "                      np.max(np.log10(sim_CV_K)),np.max(np.log10(sim_sigma_Lambda_over_Lambda)),np.max(np.log10(sim_J)),])\n",
    "    \n"
   ]
  },
  {
   "cell_type": "markdown",
   "metadata": {},
   "source": [
    "# Load recordings in mice and monkeys"
   ]
  },
  {
   "cell_type": "code",
   "execution_count": 4,
   "metadata": {},
   "outputs": [],
   "source": [
    "\n",
    "#######################################\n",
    "folder_data='./../../../DataAndScripts/experimental_data/'\n",
    "#######################################\n",
    "\n",
    "data_monkeys=np.loadtxt(folder_data+'Monkeys_with_trials.txt');\n",
    "data_mice=np.loadtxt(folder_data+'Mice_with_trials.txt');\n",
    "\n",
    "data_both_species=[data_mice,data_monkeys]\n",
    "species=['Mice','Monkeys']\n",
    "\n",
    "dataset_both_species,Con_both_species,nCon_both_species,normalization_both_species=[],[],[],[]\n",
    "for idx_species in range(2):\n",
    "    dataset,Con,nCon=fun.build_dataset(data_both_species[idx_species])\n",
    "    normalization=1.0;#np.mean(dataset[0,:,0])\n",
    "    dataset_both_species=dataset_both_species+[dataset]\n",
    "    Con_both_species=Con_both_species+[Con]\n",
    "    nCon_both_species=nCon_both_species+[nCon]\n",
    "    normalization_both_species=normalization_both_species+[normalization]\n"
   ]
  },
  {
   "cell_type": "code",
   "execution_count": 5,
   "metadata": {},
   "outputs": [
    {
     "data": {
      "image/png": "[encoded data removed]",
      "text/plain": [
       "<Figure size 360x576 with 8 Axes>"
      ]
     },
     "metadata": {},
     "output_type": "display_data"
    }
   ],
   "source": [
    "\n",
    "rows=4\n",
    "cols=2\n",
    "\n",
    "colors=['c','m']\n",
    "fig, axs = plt.subplots(rows,cols, figsize=(2.5*cols,2.*rows), facecolor='w', edgecolor='k')\n",
    "fig.subplots_adjust(hspace = .5, wspace=.5)\n",
    "axs = axs.ravel()\n",
    "\n",
    "\n",
    "\n",
    "for idx_species in range(2):\n",
    "    dataset=dataset_both_species[idx_species]\n",
    "    Con=Con_both_species[idx_species]\n",
    "    nCon=nCon_both_species[idx_species]\n",
    "\n",
    "    for idx_moment in range(6):\n",
    "        if idx_moment<2:\n",
    "            idx_row=0\n",
    "            ccc=['k',colors[idx_species]][idx_moment]\n",
    "            \n",
    "        if (idx_moment>=2)&(idx_moment<4):\n",
    "            idx_row=1\n",
    "            ccc=['k',colors[idx_species]][idx_moment-2]\n",
    "\n",
    "        if (idx_moment==4):\n",
    "            idx_row=2\n",
    "            ccc=colors[idx_species]\n",
    "\n",
    "        if (idx_moment==5):\n",
    "            idx_row=3\n",
    "            ccc=colors[idx_species]\n",
    "            \n",
    "        axs[2*idx_row+idx_species].errorbar(Con,dataset[idx_moment,:,0],dataset[idx_moment,:,1],\n",
    "                                                 color=ccc,)\n",
    "\n",
    "        axs[2*idx_row+idx_species].set_xscale('symlog', linthreshx=12)\n",
    "\n",
    "\n"
   ]
  },
  {
   "cell_type": "markdown",
   "metadata": {},
   "source": [
    "# Train DNN"
   ]
  },
  {
   "cell_type": "code",
   "execution_count": 6,
   "metadata": {},
   "outputs": [
    {
     "name": "stdout",
     "output_type": "stream",
     "text": [
      "Test R^2 Score : 0.730\n",
      "Training R^2 Score : 0.946\n"
     ]
    }
   ],
   "source": [
    "Predictor_sim, Predictor_data=fun.build_function(results[:1000,:])"
   ]
  },
  {
   "cell_type": "markdown",
   "metadata": {},
   "source": [
    "# Fit a model to each species separately\n",
    "\n",
    "\n",
    "In this part, we fit the model multiple times, with different initial conditions, compute the error and store it, then we have an ensamble of fits and choose the best\n"
   ]
  },
  {
   "cell_type": "code",
   "execution_count": 7,
   "metadata": {},
   "outputs": [
    {
     "name": "stderr",
     "output_type": "stream",
     "text": [
      "100%|██████████| 101/101 [08:42<00:00,  5.17s/it]\n",
      "100%|██████████| 101/101 [08:07<00:00,  4.83s/it]\n"
     ]
    }
   ],
   "source": [
    "\n",
    "nRep=101;\n",
    "ALL_sol,ALL_cost=[],[]\n",
    "for idx_species in range(2):\n",
    "    dataset=dataset_both_species[idx_species]\n",
    "    Con=Con_both_species[idx_species]\n",
    "    nCon=nCon_both_species[idx_species]\n",
    "    sol,cost=fun.fit_model_to_data(dataset,Predictor_data,nCon,nRep)\n",
    "    \n",
    "    ALL_sol=ALL_sol+[sol]\n",
    "    ALL_cost=ALL_cost+[cost]\n"
   ]
  },
  {
   "cell_type": "markdown",
   "metadata": {},
   "source": [
    "# Plot the best fit prediction "
   ]
  },
  {
   "cell_type": "code",
   "execution_count": 8,
   "metadata": {},
   "outputs": [
    {
     "name": "stdout",
     "output_type": "stream",
     "text": [
      "Mice 0.9885150307058566\n",
      "array([ 7.46,  5.37, -0.42, -2.15, -0.45, -3.82])\n",
      "array([0.66, 0.69, 0.71, 0.74, 0.75, 0.84, 1.03, 0.91])\n",
      "Monkeys 16.787346005295788\n",
      "array([10.  ,  4.82, -0.05, -3.52,  0.45, -2.4 ])\n",
      "array([0.58, 1.28, 1.61, 1.87, 1.96, 2.  , 0.89])\n"
     ]
    },
    {
     "data": {
      "image/png": "[encoded data removed]",
      "text/plain": [
       "<Figure size 360x576 with 8 Axes>"
      ]
     },
     "metadata": {},
     "output_type": "display_data"
    }
   ],
   "source": [
    "\n",
    "rows=4\n",
    "cols=2\n",
    "\n",
    "colors=['c','m']\n",
    "fig, axs = plt.subplots(rows,cols, figsize=(2.5*cols,2.*rows), facecolor='w', edgecolor='k')\n",
    "fig.subplots_adjust(hspace = .5, wspace=.5)\n",
    "axs = axs.ravel()\n",
    "\n",
    "\n",
    "\n",
    "for idx_species in range(2):\n",
    "    dataset=dataset_both_species[idx_species]\n",
    "    Con=Con_both_species[idx_species]\n",
    "    nCon=nCon_both_species[idx_species]\n",
    "    \n",
    "    sol=ALL_sol[idx_species]\n",
    "    cost=ALL_cost[idx_species]\n",
    "    idx_best=np.argmin(cost)\n",
    "    best_param=sol[idx_best,:]\n",
    "    best_cost=cost[idx_best]\n",
    "    best_inputs=fun.fit_inputs_to_data_given_param(dataset,Predictor_data,best_param,nCon)\n",
    "    \n",
    "    Predictions=Predictor_data(best_inputs,best_param,nCon)\n",
    "    print(['Mice','Monkeys'][idx_species],best_cost)\n",
    "    print(repr(best_param))\n",
    "    print(repr(best_inputs))        \n",
    "    for idx_moment in range(6):\n",
    "        if idx_moment<2:\n",
    "            idx_row=0\n",
    "            ccc=['k',colors[idx_species]][idx_moment]\n",
    "            ymin=0\n",
    "            ymax=[25,80][idx_species]\n",
    "            \n",
    "        if (idx_moment>=2)&(idx_moment<4):\n",
    "            idx_row=1\n",
    "            ccc=['k',colors[idx_species]][idx_moment-2]\n",
    "            ymin=0\n",
    "            ymax=[20,60][idx_species]\n",
    "         \n",
    "        if (idx_moment==4):\n",
    "            idx_row=2\n",
    "            ccc=colors[idx_species]\n",
    "            ymin=0\n",
    "            ymax=[20,60][idx_species]\n",
    "         \n",
    "        if (idx_moment==5):\n",
    "            idx_row=3\n",
    "            ccc=colors[idx_species]\n",
    "            ymin=-0.75\n",
    "            ymax=0.25\n",
    "                     \n",
    "        m,sem=dataset[idx_moment,:,0],dataset[idx_moment,:,1]\n",
    "        axs[2*idx_row+idx_species].scatter(Con,m,\n",
    "                                           facecolors='none', s=10,edgecolors=ccc,marker='o'\n",
    "                                           )\n",
    "        axs[2*idx_row+idx_species].fill_between(Con,m-sem,m+sem,\n",
    "                                                 color=ccc,alpha=0.2)\n",
    "    \n",
    "        axs[2*idx_row+idx_species].plot(Con,Predictions[idx_moment,:],\n",
    "                                        color=ccc,alpha=1.)\n",
    "\n",
    "        axs[2*idx_row+idx_species].set_xscale('symlog', linthreshx=12)\n",
    "        axs[2*idx_row+idx_species].set_ylim([ymin,ymax])\n",
    "    axs[2*idx_row+idx_species].axhline(y=0,ls='--',c='k')"
   ]
  },
  {
   "cell_type": "markdown",
   "metadata": {},
   "source": [
    "# Now we fit the same model to both species. \n",
    " In this case the input will then be the combined data for both species"
   ]
  },
  {
   "cell_type": "code",
   "execution_count": 16,
   "metadata": {},
   "outputs": [
    {
     "name": "stderr",
     "output_type": "stream",
     "text": [
      "100%|██████████| 20/20 [02:39<00:00,  7.96s/it]\n"
     ]
    }
   ],
   "source": [
    "reload(fun)\n",
    "nRep=20;\n",
    "\n",
    "DATA_both_species=[dataset_both_species,Con_both_species,nCon_both_species,normalization_both_species]\n",
    "CMB_sol,CMB_cost=fun.fit_model_to_data_both_species(DATA_both_species,Predictor_data,nCon,nRep)\n"
   ]
  },
  {
   "cell_type": "markdown",
   "metadata": {},
   "source": [
    "# Plot the best fit prediction in this case"
   ]
  },
  {
   "cell_type": "code",
   "execution_count": 17,
   "metadata": {},
   "outputs": [
    {
     "name": "stdout",
     "output_type": "stream",
     "text": [
      "Mice 29.198931591326666\n",
      "array([ 4.79,  5.01, -0.62, -1.04,  0.69, -3.9 ])\n",
      "array([0.78, 0.8 , 0.82, 0.83, 0.84, 0.92, 1.1 , 0.1 ])\n",
      "Monkeys 29.198931591326666\n",
      "array([ 4.79,  5.01, -0.62, -1.04,  0.69, -3.9 ])\n",
      "array([1.16, 1.6 , 1.78, 1.9 , 1.95, 2.  , 0.72])\n"
     ]
    },
    {
     "data": {
      "image/png": "[encoded data removed]",
      "text/plain": [
       "<Figure size 360x576 with 8 Axes>"
      ]
     },
     "metadata": {},
     "output_type": "display_data"
    }
   ],
   "source": [
    "\n",
    "rows=4\n",
    "cols=2\n",
    "\n",
    "colors=['c','m']\n",
    "fig, axs = plt.subplots(rows,cols, figsize=(2.5*cols,2.*rows), facecolor='w', edgecolor='k')\n",
    "fig.subplots_adjust(hspace = .5, wspace=.5)\n",
    "axs = axs.ravel()\n",
    "\n",
    "\n",
    "\n",
    "for idx_species in range(2):\n",
    "    dataset=dataset_both_species[idx_species]\n",
    "    Con=Con_both_species[idx_species]\n",
    "    nCon=nCon_both_species[idx_species]\n",
    "    normalization=normalization_both_species[idx_species] \n",
    "\n",
    "    idx_best=np.argsort(CMB_cost)[0]\n",
    "    best_param=CMB_sol[idx_best,:]\n",
    "    best_cost=CMB_cost[idx_best]\n",
    "    best_inputs=fun.fit_inputs_to_data_given_param(dataset,Predictor_data,best_param,nCon)\n",
    "\n",
    "    \n",
    "    Predictions=Predictor_data(best_inputs,best_param,nCon)\n",
    "    print(['Mice','Monkeys'][idx_species],best_cost)\n",
    "    print(repr(best_param))\n",
    "    print(repr(best_inputs))        \n",
    "    for idx_moment in range(6):\n",
    "        if idx_moment<2:\n",
    "            idx_row=0\n",
    "            ccc=['k',colors[idx_species]][idx_moment]\n",
    "            ymin=0\n",
    "            ymax=[25,80][idx_species]\n",
    "            \n",
    "        if (idx_moment>=2)&(idx_moment<4):\n",
    "            idx_row=1\n",
    "            ccc=['k',colors[idx_species]][idx_moment-2]\n",
    "            ymin=0\n",
    "            ymax=[20,60][idx_species]\n",
    "         \n",
    "        if (idx_moment==4):\n",
    "            idx_row=2\n",
    "            ccc=colors[idx_species]\n",
    "            ymin=0\n",
    "            ymax=[20,60][idx_species]\n",
    "         \n",
    "        if (idx_moment==5):\n",
    "            idx_row=3\n",
    "            ccc=colors[idx_species]\n",
    "            ymin=-0.75\n",
    "            ymax=0.25\n",
    "                     \n",
    "        m,sem=dataset[idx_moment,:,0],dataset[idx_moment,:,1]\n",
    "        axs[2*idx_row+idx_species].scatter(Con,m,\n",
    "                                           facecolors='none', s=10,edgecolors=ccc,marker='o'\n",
    "                                           )\n",
    "        axs[2*idx_row+idx_species].fill_between(Con,m-sem,m+sem,\n",
    "                                                 color=ccc,alpha=0.2)\n",
    "    \n",
    "        axs[2*idx_row+idx_species].plot(Con,Predictions[idx_moment,:],\n",
    "                                        color=ccc,alpha=1.)\n",
    "\n",
    "        axs[2*idx_row+idx_species].set_xscale('symlog', linthreshx=12)\n",
    "        axs[2*idx_row+idx_species].set_ylim([ymin,ymax])\n",
    "    axs[2*idx_row+idx_species].axhline(y=0,ls='--',c='k')"
   ]
  },
  {
   "cell_type": "markdown",
   "metadata": {},
   "source": [
    "# Add fits to each species separately to a the file containing all the possible fits  "
   ]
  },
  {
   "cell_type": "code",
   "execution_count": 22,
   "metadata": {},
   "outputs": [],
   "source": [
    "Tmax_over_tau_E=2*10**2\n",
    "n_rep=20;\n",
    "sigma_t=0.01; \n",
    "tau_rp=0.002; \n"
   ]
  },
  {
   "cell_type": "code",
   "execution_count": 24,
   "metadata": {},
   "outputs": [],
   "source": [
    "count=0;\n",
    "for idx_rep in range(n_rep):\n",
    "    for idx_combined in range(2):\n",
    "        for idx_species in range(2):\n",
    "            dataset=dataset_both_species[idx_species]\n",
    "            Con=Con_both_species[idx_species]\n",
    "            nCon=nCon_both_species[idx_species]\n",
    "            normalization=normalization_both_species[idx_species] \n",
    "            if idx_combined==0:\n",
    "                # best fit combined\n",
    "                sol=ALL_sol[idx_species]\n",
    "                cost=ALL_cost[idx_species]\n",
    "                idx_best=np.argmin(cost)\n",
    "                best_param=sol[idx_best,:]\n",
    "            if idx_combined==1:\n",
    "                # best fit in mice or monkeys\n",
    "                idx_best=np.argmin(CMB_cost)\n",
    "                best_param=CMB_sol[idx_best,:]\n",
    "                best_cost=CMB_cost[idx_best]\n",
    "\n",
    "\n",
    "            best_inputs=fun.fit_inputs_to_data_given_param(dataset,Predictor_data,best_param,nCon)\n",
    "\n",
    "            Possible_r_X=10**best_inputs[0:-1]\n",
    "            ell=10**best_inputs[-1]\n",
    "\n",
    "            g_E= best_param[0]; g_I=best_param[1];beta=10**best_param[2]; \n",
    "            K=500; \n",
    "            CV_K=10**best_param[3]\n",
    "            sigma_Lambda_over_Lambda=10**best_param[4];\n",
    "            J=10**best_param[5];\n",
    "            for idx_r_X in range(len(Possible_r_X)):\n",
    "                r_X=Possible_r_X[idx_r_X];\n",
    "\n",
    "                data=np.ones((1,14));\n",
    "                data[:,0]=J\n",
    "                data[:,1]=r_X\n",
    "                data[:,2]=sigma_Lambda_over_Lambda\n",
    "                data[:,3]=Tmax_over_tau_E\n",
    "                data[:,4]=sigma_t\n",
    "                data[:,5]=tau_rp\n",
    "                data[:,6]=g_E \n",
    "                data[:,7]=g_I\n",
    "                data[:,8]=beta\n",
    "                data[:,9]=K\n",
    "                data[:,10]=ell\n",
    "                data[:,11]=CV_K\n",
    "                data[:,12]=idx_species\n",
    "                data[:,13]=idx_combined\n",
    "\n",
    "                if count==0:\n",
    "                    DATA=data;\n",
    "                if count>0:\n",
    "                    DATA=np.vstack((DATA,data));\n",
    "                count=count+1\n",
    "\n",
    "len(DATA)\n",
    "\n",
    "df = pd.DataFrame(DATA,columns=['J','r_X','sigma_Lambda_over_Lambda','Tmax_over_tau_E','sigma_t','tau_rp',\n",
    "                                'g_E','g_I','beta','K','ell','CV_K','idx_species','idx_combined'])\n",
    "file_name='simulation_param.txt'\n",
    "df.to_csv(file_name, sep='\\t')\n"
   ]
  },
  {
   "cell_type": "markdown",
   "metadata": {},
   "source": [
    "# Add fits to both species together to a the file containing all the possible fits  "
   ]
  },
  {
   "cell_type": "code",
   "execution_count": 28,
   "metadata": {},
   "outputs": [],
   "source": [
    "count=0;\n",
    "for idx_rep in range(n_rep):\n",
    "    for idx_combined in range(10):\n",
    "        for idx_species in range(2):\n",
    "            dataset=dataset_both_species[idx_species]\n",
    "            Con=Con_both_species[idx_species]\n",
    "            nCon=nCon_both_species[idx_species]\n",
    "            normalization=normalization_both_species[idx_species] \n",
    "\n",
    "            idx_best=np.argsort(CMB_cost)[idx_combined]\n",
    "            best_param=CMB_sol[idx_best,:]\n",
    "            best_cost=CMB_cost[idx_best]\n",
    "           \n",
    "        \n",
    "            best_inputs=fun.fit_inputs_to_data_given_param(dataset,Predictor_data,best_param,nCon)\n",
    "\n",
    "\n",
    "            Possible_r_X=10**best_inputs[0:-1]\n",
    "            ell=10**best_inputs[-1]\n",
    "\n",
    "            g_E= best_param[0]; g_I=best_param[1];beta=10**best_param[2]; \n",
    "            K=500; \n",
    "            CV_K=10**best_param[3]\n",
    "            sigma_Lambda_over_Lambda=10**best_param[4];\n",
    "            J=10**best_param[5];\n",
    "            for idx_r_X in range(len(Possible_r_X)):\n",
    "                r_X=Possible_r_X[idx_r_X];\n",
    "\n",
    "                data=np.ones((1,14));\n",
    "                data[:,0]=J\n",
    "                data[:,1]=r_X\n",
    "                data[:,2]=sigma_Lambda_over_Lambda\n",
    "                data[:,3]=Tmax_over_tau_E\n",
    "                data[:,4]=sigma_t\n",
    "                data[:,5]=tau_rp\n",
    "                data[:,6]=g_E \n",
    "                data[:,7]=g_I\n",
    "                data[:,8]=beta\n",
    "                data[:,9]=K\n",
    "                data[:,10]=ell\n",
    "                data[:,11]=CV_K\n",
    "                data[:,12]=idx_species\n",
    "                data[:,13]=idx_combined\n",
    "\n",
    "                if count==0:\n",
    "                    DATA=data;\n",
    "                if count>0:\n",
    "                    DATA=np.vstack((DATA,data));\n",
    "                count=count+1\n",
    "\n",
    "len(DATA)\n",
    "\n",
    "df = pd.DataFrame(DATA,columns=['J','r_X','sigma_Lambda_over_Lambda','Tmax_over_tau_E','sigma_t','tau_rp',\n",
    "                                'g_E','g_I','beta','K','ell','CV_K','idx_species','idx_combined'])\n",
    "file_name='simulation_param.txt'\n",
    "df.to_csv(file_name, sep='\\t')"
   ]
  },
  {
   "cell_type": "code",
   "execution_count": null,
   "metadata": {},
   "outputs": [],
   "source": [
    "\n"
   ]
  },
  {
   "cell_type": "code",
   "execution_count": null,
   "metadata": {},
   "outputs": [],
   "source": [
    "len(DATA)"
   ]
  },
  {
   "cell_type": "markdown",
   "metadata": {},
   "source": [
    "# Test here simulation results"
   ]
  },
  {
   "cell_type": "code",
   "execution_count": null,
   "metadata": {},
   "outputs": [],
   "source": [
    "idx_species=1;\n",
    "dataset=dataset_both_species[idx_species]\n",
    "Con=Con_both_species[idx_species]\n",
    "nCon=nCon_both_species[idx_species]\n",
    "normalization=normalization_both_species[idx_species] \n",
    "\n",
    "sol=ALL_sol[idx_species]\n",
    "cost=ALL_cost[idx_species]\n",
    "idx_best=np.argmin(cost)\n",
    "best_param=sol[idx_best,:]\n",
    "best_cost=cost[idx_best]\n",
    "best_inputs=fun.fit_inputs_to_data_given_param(dataset,Predictor_data,best_param,nCon)\n",
    "\n",
    "print(best_param)"
   ]
  },
  {
   "cell_type": "code",
   "execution_count": null,
   "metadata": {},
   "outputs": [],
   "source": [
    "sigma_t=0.01; # Input noise, determine how smooth the single neuron transfer function is \n",
    "tau_rp=0.002; # Refractory period\n",
    "\n",
    "g_E= best_param[0]; g_I=best_param[1];beta=10**best_param[2]; # parameters characterizing the relative strength of synaptic connections\n",
    "K=500; # average number of E connections per neuron (I connections are 1/4 of that)\n",
    "\n",
    "CV_K=10**best_param[3]\n",
    "sigma_Lambda_over_Lambda=10**best_param[4]; # ratio between mean and standard deviation of the opsin expression\n",
    "\n",
    "J=10**best_param[5]; # Synaptic efficacy in Volts\n",
    "r_X=10**np.asarray(best_inputs[0:-1])\n",
    "#r_X=10**np.asarray([1.62])\n",
    "L=[0.,  10.**(best_inputs[-1])]; #  Laser intensity that fits the data\n",
    "\n",
    "#Tmax_over_tau_E=20;\n",
    "Tmax_over_tau_E=200;\n",
    "\n",
    "p=0.1; # probability of connection between cells. \n",
    "sigma_X_over_r_X=0.2; # Presynaptic population has mean rate r_X, Gaussianly distributed with std=0.2* r_X\n",
    "Lambda=1*10**-3; # mean opsin expression in Volt\n",
    "\n",
    "sigma_Lambda=sigma_Lambda_over_Lambda*Lambda\n",
    "\n",
    "# In what follows, I compute W_{AB} starting from the parameters defined above\n",
    "G_E,G_I=1.0,2.0 # Gain of Excitatory and inhibitory cells and I cells\n",
    "w_EE=1;w_IE=w_EE/beta;\n",
    "w_EI=g_E*w_EE;w_II=g_I*w_IE;\n",
    "w_EX,w_IX=(G_I*fun_dyna.gamma*g_E-G_E)*w_EE,(G_I*fun_dyna.gamma*g_I-G_E)*w_IE; \n",
    "w_X=np.asarray([w_EX,w_IX]);\n",
    "w=np.zeros((2,2));\n",
    "w[0,:]=w_EE,-w_EI\n",
    "w[1,:]=w_IE,-w_II\n",
    "\n"
   ]
  },
  {
   "cell_type": "code",
   "execution_count": null,
   "metadata": {},
   "outputs": [],
   "source": [
    "M,mu_X_over_r_X_tau,Lambda_i,N_E,N_I=fun_dyna.Generate_quenched_disorder(CV_K,J,K,w,w_X,p,Lambda,sigma_Lambda)"
   ]
  },
  {
   "cell_type": "code",
   "execution_count": null,
   "metadata": {},
   "outputs": [],
   "source": [
    "'''\n",
    "mu_tab_max=10.0;\n",
    "mu_tab=np.linspace(-mu_tab_max,mu_tab_max,200000)\n",
    "mu_tab=np.concatenate(([-10000],mu_tab))\n",
    "mu_tab=np.concatenate((mu_tab,[10000]))\n",
    "\n",
    "phi_tab_E,phi_tab_I=mu_tab*0,mu_tab*0;\n",
    "for idx in range(len(phi_tab_E)):\n",
    "    phi_tab_E[idx]=fun_dyna.comp_phi_tab(mu_tab[idx],fun_dyna.tau_E,tau_rp,sigma_t)\n",
    "    phi_tab_I[idx]=fun_dyna.comp_phi_tab(mu_tab[idx],fun_dyna.tau_I,tau_rp,sigma_t)\n",
    "\n",
    "phi_int_E=interp1d(mu_tab, phi_tab_E, kind='linear')  \n",
    "phi_int_I=interp1d(mu_tab, phi_tab_I, kind='linear')\n",
    "'''\n"
   ]
  },
  {
   "cell_type": "code",
   "execution_count": null,
   "metadata": {},
   "outputs": [],
   "source": [
    "T=np.arange(0,Tmax_over_tau_E*fun_dyna.tau_E,fun_dyna.tau_I/3);\n",
    "mask_time=T>(10*fun_dyna.tau_E)\n",
    "RATES=-1*np.ones((len(r_X),len(L),N_E+N_I))\n",
    "DYNA=-1*np.ones((len(r_X),len(L),N_E+N_I,len(T)))\n",
    "MUS=-1*np.ones((len(r_X),len(L),N_E+N_I))\n",
    "Lambda_i_L=1./tau_rp*np.ones((len(r_X),len(L),N_E+N_I))\n",
    "\n",
    "print('Computing and saving network response')\n",
    "for idx_r_X in range(len(r_X)):\n",
    "    for idx_L in range(len(L)):\n",
    "        r_X_local,L_local=r_X[idx_r_X],L[idx_L];\n",
    "        print((idx_r_X+1)/len(r_X),(idx_L+1)/len(L))\n",
    "        DYNA[idx_r_X,idx_L,:,:], MUS[idx_r_X,idx_L,:],Lambda_i_L[idx_r_X,idx_L,:]=fun_dyna.High_dimensional_dynamics(T,L_local,r_X_local,M,mu_X_over_r_X_tau,Lambda_i,N_E,N_I,phi_int_E,phi_int_I);\n",
    "        RATES[idx_r_X,idx_L,:]=np.mean(DYNA[idx_r_X,idx_L,:,mask_time],axis=0)\n",
    "        print(np.mean(RATES[idx_r_X,idx_L,0:N_E]),\n",
    "              np.mean(RATES[idx_r_X,idx_L,N_E::]),\n",
    "              np.std(RATES[idx_r_X,idx_L,0:N_E]),\n",
    "              np.std(RATES[idx_r_X,idx_L,N_E::]))\n",
    "\n",
    "\n"
   ]
  },
  {
   "cell_type": "code",
   "execution_count": null,
   "metadata": {},
   "outputs": [],
   "source": [
    "bin_edges=np.arange(0,1./tau_rp,.1)\n",
    "spacings=np.diff(bin_edges)[0];\n",
    "bin_means=0.5*(bin_edges[0:-1]+bin_edges[1::])\n",
    "bin_edges_Delta=np.arange(-1./tau_rp,1./tau_rp,.1)\n",
    "spacings_Delta=np.diff(bin_edges)[0];\n",
    "bin_means_Delta=0.5*(bin_edges_Delta[0:-1]+bin_edges_Delta[1::])\n",
    "\n",
    "fig, axs = plt.subplots(len(r_X),4, figsize=(2.5*4,2.0*len(r_X)), facecolor='w', edgecolor='k')#,sharey='row')#,sharex=True)\n",
    "fig.subplots_adjust(hspace = .5, wspace=.5)\n",
    "area=1.0;linethicknes=1.0;\n",
    "axs = axs.ravel()\n",
    "font = {'family' : 'normal','weight' : 'normal','size'   : 7, 'family':'serif','serif':['Arial']}\n",
    "mpl.rc('font', **font)\n",
    "mpl.rcParams['lines.linewidth'] =linethicknes\n",
    "mpl.rcParams['text.usetex'] = False\n",
    "mpl.rcParams['mathtext.fontset'] = 'stix'\n",
    "mpl.rcParams['mathtext.rm'] = 'serif'\n",
    "mpl.rcParams['pdf.fonttype'] = 42\n",
    "\n",
    "idx_r_X=0\n",
    "mask_active_cells=(RATES[idx_r_X,1,:]>=0)|(RATES[idx_r_X,0,:]>=0)\n",
    "for idx_r_X in np.arange(1,len(r_X),1):\n",
    "    mask_active_cells=mask_active_cells|(RATES[idx_r_X,1,:]>=0)|(RATES[idx_r_X,0,:]>=0)\n",
    "\n",
    "for idx_r_X in range(len(r_X)):\n",
    "    \n",
    "\n",
    "    color=['k','b',];\n",
    "    label=['Without opto','With opto']\n",
    "    for idx_L in range(len(L)):\n",
    "        #hist, bin_edges=np.histogram(RATES[idx_r_X,idx_L,0:N_E],bin_edges)#,normed=True)\n",
    "        hist, bin_edges=np.histogram(RATES[idx_r_X,idx_L,mask_active_cells],bin_edges)#,normed=True)\n",
    "        bin_mean=0.5*(bin_edges[0:-1]+bin_edges[1::])\n",
    "        spacings=np.diff(bin_edges)[0];\n",
    "        hist=hist/np.sum(hist*spacings)\n",
    "        axs[idx_r_X*4+0].scatter(bin_mean,np.cumsum(spacings*hist),c=color[idx_L],s=area,label=label[idx_L])\n",
    "\n",
    "        \n",
    "    Delta_Sim=RATES[idx_r_X,1,mask_active_cells]-RATES[idx_r_X,0,mask_active_cells]\n",
    "    print(len(Delta_Sim[Delta_Sim<0])/len(Delta_Sim))\n",
    "    \n",
    "    hist_Delta, bin_edges_Delta=np.histogram(Delta_Sim,bin_edges_Delta,normed=True)\n",
    "    CDF_Resp_Delta=np.cumsum(hist_Delta*spacings_Delta)\n",
    "    axs[idx_r_X*4+1].scatter(bin_means_Delta,CDF_Resp_Delta,c='b',s=area);\n",
    "\n",
    "\n",
    "    #axs[idx_r_X*4+2].scatter(RATES[idx_r_X,0,maks_cells],RATES[idx_r_X,1,maks_cells]-RATES[idx_r_X,0,maks_cells],c='b',s=1,alpha=0.3);\n",
    "    idx_cells=np.where(np.arange(len(Lambda_i))<N_E)\n",
    "    axs[idx_r_X*4+2].scatter(RATES[idx_r_X,0,idx_cells],RATES[idx_r_X,1,idx_cells]-RATES[idx_r_X,0,idx_cells],c='r',s=1,alpha=0.1);\n",
    "    idx_cells=np.where(np.arange(len(Lambda_i))>N_E)\n",
    "    axs[idx_r_X*4+2].scatter(RATES[idx_r_X,0,idx_cells],RATES[idx_r_X,1,idx_cells]-RATES[idx_r_X,0,idx_cells],c='b',s=1,alpha=0.1);\n",
    "\n",
    "    cov=np.cov(RATES[idx_r_X,0,mask_active_cells],RATES[idx_r_X,1,mask_active_cells]-RATES[idx_r_X,0,mask_active_cells])\n",
    "    axs[idx_r_X*4+2].set_title(cov[0,1]/cov[1,1])\n",
    "\n",
    "\n",
    "    for idx_cell in range(17):\n",
    "        axs[idx_r_X*4+3].plot(T[mask_time]-T[mask_time][0],DYNA[idx_r_X,1,idx_cell,mask_time],marker='o',markersize=0.1,alpha=0.5)\n",
    "\n",
    "    axs[idx_r_X*4+0].axis([0,250,.0,1.])\n",
    "    axs[idx_r_X*4+0].legend(loc='lower right')\n",
    "    axs[idx_r_X*4+1].axis([-100,100,0,1.])\n",
    "    axs[idx_r_X*4+0].set_title('J=%.2fmV'%(J*10**3))\n",
    "    axs[idx_r_X*4+0].set_ylabel('CDF')\n",
    "    axs[idx_r_X*4+1].set_ylabel('CDF')\n",
    "    axs[idx_r_X*4+0].set_xlabel('$r$ (spk/s)')\n",
    "    axs[idx_r_X*4+1].set_xlabel('$\\Delta r$ (spk/s)')\n",
    "    axs[idx_r_X*4+2].set_ylabel('$\\Delta r$ (spk/s)')\n",
    "    axs[idx_r_X*4+2].set_xlabel('$r$ (spk/s)')\n",
    "    axs[idx_r_X*4+3].set_ylabel('$r$ (spk/s)')\n",
    "    axs[idx_r_X*4+3].set_xlabel('time (s)')\n",
    "    axs[idx_r_X*4+3].set_title('Trajectory of example cells')\n",
    "\n"
   ]
  },
  {
   "cell_type": "code",
   "execution_count": null,
   "metadata": {},
   "outputs": [],
   "source": [
    "moments_of_r_sim=np.zeros((len(r_X),5))\n",
    "#ATTT\n",
    "mask_active_cells=(RATES[idx_r_X,1,:]>=0)|(RATES[idx_r_X,0,:]>=0)\n",
    "\n",
    "'''\n",
    "idx_r_X=0\n",
    "mask_active_cells=(RATES[idx_r_X,1,:]>=1)|(RATES[idx_r_X,0,:]>=1)\n",
    "for idx_r_X in np.arange(1,len(r_X),1):\n",
    "    mask_active_cells=mask_active_cells|(RATES[idx_r_X,1,:]>=1)|(RATES[idx_r_X,0,:]>=1)\n",
    "'''\n",
    "for idx_r_X in range(len(r_X)):\n",
    "    #mask_active_cells=(RATES[idx_r_X,1,:]>=1)|(RATES[idx_r_X,0,:]>=1)\n",
    "    Base_Sim=RATES[idx_r_X,0,:][mask_active_cells]\n",
    "    Delta_Sim=(RATES[idx_r_X,-1,:]-RATES[idx_r_X,0,:])[mask_active_cells]\n",
    "    \n",
    "    moments_of_r_sim[idx_r_X,0]=np.mean(Base_Sim)\n",
    "    moments_of_r_sim[idx_r_X,1]=np.mean(Delta_Sim)\n",
    "    moments_of_r_sim[idx_r_X,2]=np.std(Base_Sim)\n",
    "    moments_of_r_sim[idx_r_X,3]=np.std(Delta_Sim)\n",
    "    pippo=np.cov(Base_Sim,Delta_Sim)\n",
    "    moments_of_r_sim[idx_r_X,4]=(pippo)[0,1]/(pippo)[1,1]\n"
   ]
  },
  {
   "cell_type": "code",
   "execution_count": null,
   "metadata": {},
   "outputs": [],
   "source": [
    "\n",
    "rows=4\n",
    "cols=1\n",
    "\n",
    "colors=['c','m']\n",
    "fig, axs = plt.subplots(rows,cols, figsize=(2.5*cols,2.*rows), facecolor='w', edgecolor='k')\n",
    "fig.subplots_adjust(hspace = .5, wspace=.5)\n",
    "axs = axs.ravel()\n",
    "\n",
    "\n",
    "\n",
    "\n",
    "\n",
    "for idx_moment in range(6):\n",
    "    if idx_moment<2:\n",
    "        idx_row=0\n",
    "        ccc=['k',colors[idx_species]][idx_moment]\n",
    "        ymin=0\n",
    "        ymax=[25,80][idx_species]\n",
    "\n",
    "    if (idx_moment>=2)&(idx_moment<4):\n",
    "        idx_row=1\n",
    "        ccc=['k',colors[idx_species]][idx_moment-2]\n",
    "        ymin=0\n",
    "        #ymax=[20,60][idx_species]\n",
    "        ymax=[20,70][idx_species]\n",
    "\n",
    "    if (idx_moment==4):\n",
    "        idx_row=2\n",
    "        ccc=colors[idx_species]\n",
    "        ymin=0\n",
    "        ymax=[20,60][idx_species]\n",
    "\n",
    "    if (idx_moment==5):\n",
    "        idx_row=3\n",
    "        ccc=colors[idx_species]\n",
    "        ymin=-0.75\n",
    "        ymax=0.25\n",
    "\n",
    "    m,sem=dataset[idx_moment,:,0],dataset[idx_moment,:,1]\n",
    "    axs[cols*idx_row].scatter(Con,m,\n",
    "                                       facecolors='none', s=10,edgecolors=ccc,marker='o'\n",
    "                                       )\n",
    "    axs[cols*idx_row].fill_between(Con,m-sem,m+sem,\n",
    "                                             color=ccc,alpha=0.2)\n",
    "\n",
    "    axs[cols*idx_row].set_xscale('symlog', linthreshx=12)\n",
    "    axs[cols*idx_row].axis([-1.,110,ymin,ymax])\n",
    "axs[cols*idx_row].axhline(y=0,ls='--',c='k')\n",
    "axs[cols*3].set_xlabel('contrast (%)')\n",
    "axs[cols*0].set_title(['Mice','Monkeys'][idx_species])\n",
    "axs[cols*0].set_ylabel('Mean rate\\n(spk/s)')\n",
    "axs[cols*1].set_ylabel('Std rate\\n(spk/s)')\n",
    "axs[cols*2].set_ylabel('Std $\\Delta$rate\\n(spk/s)')\n",
    "axs[cols*3].set_ylabel(r'$\\rho$')\n",
    "'''\n",
    "        \n",
    "for idx_species in [0,1]:\n",
    "    print(idx_species)\n",
    "    dataset=dataset_both_species[idx_species]\n",
    "    Con=Con_both_species[idx_species]\n",
    "    nCon=nCon_both_species[idx_species]\n",
    "\n",
    "    mask_cases=(sim_species==idx_species)&(sim_combined==idx_combined)\n",
    "\n",
    "    data_x=sim_param_all[mask_cases,12]\n",
    "    cost=0\n",
    "    for idx_moment in range(6):\n",
    "        clr=color[idx_species]\n",
    "\n",
    "        if idx_moment==0:\n",
    "            data_y=moments_of_r_sim_all[mask_cases,0]\n",
    "            idx_plot=2*0+idx_species\n",
    "            clr='k'\n",
    "        if idx_moment==1:\n",
    "            data_y=moments_of_r_sim_all[mask_cases,0]+moments_of_r_sim_all[mask_cases,1]\n",
    "            idx_plot=2*0+idx_species\n",
    "        if idx_moment==2:\n",
    "            data_y=moments_of_r_sim_all[mask_cases,2]\n",
    "            idx_plot=2*1+idx_species\n",
    "            clr='k'\n",
    "        if idx_moment==3:\n",
    "            data_y=np.sqrt(moments_of_r_sim_all[mask_cases,2]**2\n",
    "                           +moments_of_r_sim_all[mask_cases,3]**2\n",
    "                           +2*moments_of_r_sim_all[mask_cases,4])\n",
    "            idx_plot=2*1+idx_species\n",
    "        if idx_moment==4:\n",
    "            data_y=moments_of_r_sim_all[mask_cases,3]\n",
    "            idx_plot=2*2+idx_species\n",
    "\n",
    "        if idx_moment==5:\n",
    "            data_y=moments_of_r_sim_all[mask_cases,4]/moments_of_r_sim_all[mask_cases,3]**2\n",
    "            idx_plot=2*3+idx_species\n",
    "\n",
    "\n",
    "        data_y_med=np.zeros((len(np.unique(data_x)),3))\n",
    "        for idx in range(len(np.unique(data_x))):\n",
    "            mask_x=data_x==np.unique(data_x)[idx]\n",
    "            data_y_med[idx,0]=np.mean(data_y[mask_x])\n",
    "            data_y_med[idx,1]=stats.sem(data_y[mask_x])\n",
    "        axs[idx_plot].errorbar(Con,data_y_med[:,0],data_y_med[:,1],c=clr,ls=ls) \n",
    "        cost_moment=(data_y_med[:,0]-dataset[idx_moment,:,0])/dataset[idx_moment,:,1]\n",
    "        cost_moment=(0.5*(np.sum(cost_moment**2)))\n",
    "        cost=cost+cost_moment\n",
    "        print(cost_moment,cost)\n",
    "    print('   ',cost)\n",
    "'''\n",
    "\n",
    "Prediction=Predictor_data(best_inputs,best_param,nCon,)\n",
    "for idx_moment in range(5):\n",
    "    idx_plt=idx_moment\n",
    "    axs[idx_plt].plot(Con,moments_of_r_sim[:,idx_moment],label='data')\n",
    "\n"
   ]
  },
  {
   "cell_type": "code",
   "execution_count": null,
   "metadata": {},
   "outputs": [],
   "source": []
  },
  {
   "cell_type": "code",
   "execution_count": null,
   "metadata": {},
   "outputs": [],
   "source": []
  },
  {
   "cell_type": "code",
   "execution_count": null,
   "metadata": {},
   "outputs": [],
   "source": [
    "rows=1\n",
    "cols=5\n",
    "colors=['c','m']\n",
    "fig, axs = plt.subplots(rows,cols, figsize=(2.5*cols,2.*rows), facecolor='w', edgecolor='k')\n",
    "fig.subplots_adjust(hspace = .5, wspace=.5)\n",
    "axs = axs.ravel()\n",
    "\n",
    "\n",
    "Prediction=Predictor_data(best_inputs,best_param,nCon,)\n",
    "for idx_moment in range(5):\n",
    "    idx_plt=idx_moment\n",
    "    axs[idx_plt].plot(Con,moments_of_r_sim[:,idx_moment],label='data')\n",
    "\n",
    "\n",
    "    m,sem=dataset[idx_moment,:,0],dataset[idx_moment,:,1]\n",
    "    axs[idx_plt].scatter(Con,m,facecolors='none', s=10,edgecolors=ccc,marker='o')\n",
    "    axs[idx_plt].fill_between(Con,m-sem,m+sem,color=ccc,alpha=0.2)\n",
    "\n",
    "    axs[idx_plt].plot(Con,Predictions[idx_moment,:],color=ccc,alpha=1.)\n",
    "    axs[idx_plt].set_xscale('symlog', linthreshx=12)\n",
    "'''\n",
    "axs[0].set_ylim([0,20])\n",
    "axs[1].set_ylim([0,10])\n",
    "axs[2].set_ylim([0,20])\n",
    "axs[3].set_ylim([0,20])\n",
    "axs[4].set_ylim([-10,0])\n",
    "'''"
   ]
  },
  {
   "cell_type": "code",
   "execution_count": null,
   "metadata": {},
   "outputs": [],
   "source": [
    "np.shape(Prediction)"
   ]
  },
  {
   "cell_type": "code",
   "execution_count": null,
   "metadata": {},
   "outputs": [],
   "source": []
  }
 ],
 "metadata": {
  "anaconda-cloud": {},
  "kernelspec": {
   "display_name": "Python 3",
   "language": "python",
   "name": "python3"
  },
  "language_info": {
   "codemirror_mode": {
    "name": "ipython",
    "version": 3
   },
   "file_extension": ".py",
   "mimetype": "text/x-python",
   "name": "python",
   "nbconvert_exporter": "python",
   "pygments_lexer": "ipython3",
   "version": "3.6.13"
  }
 },
 "nbformat": 4,
 "nbformat_minor": 4
}
