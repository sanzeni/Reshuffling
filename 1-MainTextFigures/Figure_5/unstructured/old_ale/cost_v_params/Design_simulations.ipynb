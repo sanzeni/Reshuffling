{
 "cells": [
  {
   "cell_type": "code",
   "execution_count": 1,
   "id": "c933c2f9",
   "metadata": {},
   "outputs": [
    {
     "name": "stdout",
     "output_type": "stream",
     "text": [
      "Once deleted, variables cannot be recovered. Proceed (y/[n])? y\n"
     ]
    }
   ],
   "source": [
    "%reset\n",
    "#%qtconsole\n",
    "%load_ext autoreload\n",
    "%autoreload 2\n",
    "%matplotlib inline \n",
    "import matplotlib.pyplot as plt\n",
    "\n",
    "import numpy as np\n",
    "import matplotlib as mpl\n",
    "from scipy import stats\n",
    "\n",
    "\n",
    "from scipy.interpolate import interp1d\n",
    "import pandas as pd\n",
    "\n"
   ]
  },
  {
   "cell_type": "markdown",
   "id": "47d96bee",
   "metadata": {},
   "source": [
    "# Create file for fitting DNN"
   ]
  },
  {
   "cell_type": "code",
   "execution_count": 2,
   "id": "f9a539d1",
   "metadata": {},
   "outputs": [],
   "source": [
    "#[sim_g_E,sim_g_I,np.log10(sim_beta),\n",
    "#np.log10(sim_CV_K),np.log10(sim_sigma_Lambda_over_Lambda),np.log10(sim_J),])\n",
    "#param_min=[ 3. ,   2. ,  -1. ,  -3.52 ,-1. ,  -5.  ]\n",
    "#param_max=[10.  ,  9.49,  1.  , -0.52 , 1.  , -2.3 ]"
   ]
  },
  {
   "cell_type": "code",
   "execution_count": 4,
   "id": "af3a916a",
   "metadata": {},
   "outputs": [],
   "source": [
    "# Fixed J and CVopto"
   ]
  },
  {
   "cell_type": "code",
   "execution_count": 6,
   "id": "c0f2f41f",
   "metadata": {},
   "outputs": [],
   "source": [
    "Possible_idx_species=[0,1]\n",
    "Possible_log10_CVopto=np.linspace(-1,1,20)\n",
    "Possible_log10_J=np.linspace(-5,-2.5,20)\n",
    "nRep=101\n",
    "\n",
    "            \n",
    "count=0;\n",
    "for idx_species in [0,1]:\n",
    "    for idx_S in range(len(Possible_log10_CVopto)):\n",
    "        log10_CVopto=Possible_log10_CVopto[idx_S]\n",
    "        for idx_J in range(len(Possible_log10_J)):\n",
    "            log10_J=Possible_log10_J[idx_J]\n",
    "            data=np.ones((1,4));\n",
    "            data[:,0]=idx_species\n",
    "            data[:,1]=log10_CVopto\n",
    "            data[:,2]=log10_J\n",
    "            data[:,3]=nRep\n",
    "\n",
    "            if count==0:\n",
    "                DATA=data;\n",
    "            if count>0:\n",
    "                DATA=np.vstack((DATA,data));\n",
    "            count=count+1\n",
    "\n",
    "len(DATA)\n",
    "\n",
    "df = pd.DataFrame(DATA,columns=['idx_species','log10_CVopto','log10_J','nRep'])\n",
    "file_name='simulation_param.txt'\n",
    "df.to_csv(file_name, sep='\\t')"
   ]
  },
  {
   "cell_type": "code",
   "execution_count": 3,
   "id": "a68a4db2",
   "metadata": {},
   "outputs": [],
   "source": [
    "# Fixed gs"
   ]
  },
  {
   "cell_type": "code",
   "execution_count": 4,
   "id": "5459c1c6",
   "metadata": {},
   "outputs": [
    {
     "name": "stdout",
     "output_type": "stream",
     "text": [
      "500\n"
     ]
    }
   ],
   "source": [
    "Possible_idx_species=[0,1]\n",
    "possible_g_E=np.linspace(3,10,20)\n",
    "\n",
    "            \n",
    "count=0;\n",
    "for idx_species in [0,1]:\n",
    "    for idx_g_E in range(len(possible_g_E)):\n",
    "        g_E=possible_g_E[idx_g_E];\n",
    "        possible_g_I=np.arange(2,g_E,np.diff(possible_g_E)[0])\n",
    "        for idx_g_I in range(len(possible_g_I)):\n",
    "            g_I=possible_g_I[idx_g_I];\n",
    "\n",
    "            data=np.ones((1,4));\n",
    "            data[:,0]=idx_species\n",
    "            data[:,1]=g_E\n",
    "            data[:,2]=g_I\n",
    "            data[:,3]=nRep\n",
    "\n",
    "            if count==0:\n",
    "                DATA=data;\n",
    "            if count>0:\n",
    "                DATA=np.vstack((DATA,data));\n",
    "            count=count+1\n",
    "\n",
    "print(len(DATA))\n",
    "\n",
    "df = pd.DataFrame(DATA,columns=['idx_species','g_E','g_I','nRep'])\n",
    "file_name='simulation_param.txt'\n",
    "df.to_csv(file_name, sep='\\t')"
   ]
  },
  {
   "cell_type": "code",
   "execution_count": 5,
   "id": "0ad90484",
   "metadata": {},
   "outputs": [
    {
     "data": {
      "text/plain": [
       "[<matplotlib.lines.Line2D at 0x7fa869c738e0>]"
      ]
     },
     "execution_count": 5,
     "metadata": {},
     "output_type": "execute_result"
    },
    {
     "data": {
      "image/png": "[encoded data removed]",
      "text/plain": [
       "<Figure size 432x288 with 1 Axes>"
      ]
     },
     "metadata": {
      "needs_background": "light"
     },
     "output_type": "display_data"
    }
   ],
   "source": [
    "plt.scatter(DATA[:,1],DATA[:,2]-DATA[:,1])\n",
    "xxx=np.linspace(0,10,100)\n",
    "plt.plot(xxx,xxx-xxx)"
   ]
  },
  {
   "cell_type": "code",
   "execution_count": 16,
   "id": "1f8bafc8",
   "metadata": {},
   "outputs": [
    {
     "data": {
      "text/plain": [
       "-0.2631578947368425"
      ]
     },
     "execution_count": 16,
     "metadata": {},
     "output_type": "execute_result"
    }
   ],
   "source": [
    "np.max(DATA[:,2]-DATA[:,1])"
   ]
  },
  {
   "cell_type": "code",
   "execution_count": null,
   "id": "f9bad79d",
   "metadata": {},
   "outputs": [],
   "source": []
  }
 ],
 "metadata": {
  "kernelspec": {
   "display_name": "Python 3",
   "language": "python",
   "name": "python3"
  },
  "language_info": {
   "codemirror_mode": {
    "name": "ipython",
    "version": 3
   },
   "file_extension": ".py",
   "mimetype": "text/x-python",
   "name": "python",
   "nbconvert_exporter": "python",
   "pygments_lexer": "ipython3",
   "version": "3.6.13"
  }
 },
 "nbformat": 4,
 "nbformat_minor": 5
}
