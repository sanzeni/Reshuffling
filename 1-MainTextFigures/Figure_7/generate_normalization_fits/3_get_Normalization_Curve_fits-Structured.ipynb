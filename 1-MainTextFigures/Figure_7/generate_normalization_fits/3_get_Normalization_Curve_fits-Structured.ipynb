{
 "cells": [
  {
   "cell_type": "code",
   "execution_count": null,
   "id": "ccd50ea4",
   "metadata": {},
   "outputs": [],
   "source": [
    "import warnings\n",
    "warnings.filterwarnings(\"ignore\")\n",
    "%matplotlib inline \n",
    "\n",
    "import pickle\n",
    "import numpy as np\n",
    "import matplotlib\n",
    "import matplotlib.pyplot as plt\n",
    "import time\n",
    "import sys\n",
    "import os\n",
    "\n",
    "import seaborn as sns\n",
    "sns.set_style(\"whitegrid\")\n",
    "from scipy import  optimize\n",
    "\n",
    "\n",
    "\n"
   ]
  },
  {
   "cell_type": "code",
   "execution_count": null,
   "id": "c2776033",
   "metadata": {},
   "outputs": [],
   "source": [
    "######################################################\n",
    "### Load code\n",
    "######################################################\n",
    "\n",
    "\n",
    "sys.path.insert(0, './../../../DataAndScripts/structured_scripts/')\n",
    "\n",
    "from importlib import reload\n",
    "import functions_optimal as funopt\n",
    "import functions as fun\n",
    "import data_analysis as da\n",
    "import sims_utils as su\n",
    "import validate_utils as vu\n",
    "import sims_analysis_utils as sau\n",
    "import plot_functions as pl\n",
    "import plot_functions_normalization as pln\n",
    "import ricciardi_class as ric\n",
    "import network as network\n",
    "\n",
    "\n",
    "path2savedfits='./'\n",
    "path2data='./../../../DataAndScripts/experimental_data/'\n",
    "path2sims='./../generate_simulations/'"
   ]
  },
  {
   "cell_type": "markdown",
   "id": "661f104a",
   "metadata": {},
   "source": [
    "# Make data class"
   ]
  },
  {
   "cell_type": "code",
   "execution_count": null,
   "id": "66ed41d0",
   "metadata": {},
   "outputs": [],
   "source": [
    "\n",
    "reload(da)\n",
    "data=da.Data_MonkeyMouse('both',path2data)"
   ]
  },
  {
   "cell_type": "markdown",
   "id": "ac9d19eb",
   "metadata": {},
   "source": [
    "# Fit normalization model to unstructured model fitting mice and monkets data"
   ]
  },
  {
   "cell_type": "markdown",
   "id": "8a104a08",
   "metadata": {},
   "source": [
    "Rates_Matrix_size# Concatenate rates without and with opto"
   ]
  },
  {
   "cell_type": "code",
   "execution_count": null,
   "id": "7d36a481",
   "metadata": {},
   "outputs": [],
   "source": [
    "ncells=500\n",
    "# output_norm={}\n",
    "# output_norm['title']=[]\n",
    "output_norm=output_norm_str\n",
    "for animal, animal_idx in zip(data.this_animals[:1],range(2)[:1]):\n",
    "\n",
    "    for redux in [True, False]:\n",
    "        name_out='Animal='+animal+'_Reduced='+str(redux)\n",
    "\n",
    "        Rates_Matrix_size=list(output_sims['RATES_structured_'+animal][1].T.shape)\n",
    "        N=Rates_Matrix_size[0]\n",
    "        seedN=Rates_Matrix_size[2]\n",
    "        Rates_Matrix_size.append(data.nc[animal_idx])\n",
    "        Rates_Matrix=np.zeros(Rates_Matrix_size) \n",
    "\n",
    "        for k in range(data.nc[animal_idx]):\n",
    "            Rates_Matrix[:,:,:,k]=output_sims['RATES_structured_'+animal][k].T\n",
    "        Rates_Matrix=np.transpose(Rates_Matrix, (2, 0, 1, 3))\n",
    "        Rates_Matrix_flatten= Rates_Matrix.reshape(seedN,N,2*data.nc[animal_idx])\n",
    "        print(Rates_Matrix_flatten.shape)\n",
    "        Rates_Matrix_flatten_model=Rates_Matrix_flatten[0,:ncells,:]\n",
    "\n",
    "        reload(sau)\n",
    "        contrast=np.array([data.contrast[animal_idx]]).flatten()/np.max(data.contrast[animal_idx])\n",
    "        all_pars,all_fits,Rsq = sau.get_normalization_curves(contrast,Rates_Matrix_flatten_model,ntrials_th=500,reduced=redux)\n",
    "\n",
    "        \n",
    "        output_norm['title'].append(name_out)\n",
    "        output_norm['Rates_Matrix_flatten_'+name_out]=Rates_Matrix_flatten_model\n",
    "        output_norm['contrast_'+name_out]=contrast\n",
    "        output_norm['all_pars_'+name_out]=all_pars\n",
    "        output_norm['all_fits_'+name_out]=all_fits\n",
    "        output_norm['Rsq_'+name_out]=Rsq\n",
    "\n",
    "\n",
    "nameout_sim=path2savedfits+'/Normalization_Structured'\n",
    "# with open(nameout_sim+\".pkl\", 'wb') as handle_Model:\n",
    "#     pickle.dump(output_norm, handle_Model, protocol=pickle.HIGHEST_PROTOCOL)\n",
    "\n"
   ]
  },
  {
   "cell_type": "code",
   "execution_count": null,
   "id": "4ad1697a",
   "metadata": {},
   "outputs": [],
   "source": []
  }
 ],
 "metadata": {
  "kernelspec": {
   "display_name": "Python 3",
   "language": "python",
   "name": "python3"
  },
  "language_info": {
   "codemirror_mode": {
    "name": "ipython",
    "version": 3
   },
   "file_extension": ".py",
   "mimetype": "text/x-python",
   "name": "python",
   "nbconvert_exporter": "python",
   "pygments_lexer": "ipython3",
   "version": "3.6.13"
  }
 },
 "nbformat": 4,
 "nbformat_minor": 5
}
