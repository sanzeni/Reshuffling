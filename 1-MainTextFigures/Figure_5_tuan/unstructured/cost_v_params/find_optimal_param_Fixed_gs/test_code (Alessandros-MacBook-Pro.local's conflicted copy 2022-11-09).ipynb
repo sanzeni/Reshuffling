{
 "cells": [
  {
   "cell_type": "code",
   "execution_count": 21,
   "id": "1aaf8f9a",
   "metadata": {},
   "outputs": [
    {
     "name": "stdout",
     "output_type": "stream",
     "text": [
      "Once deleted, variables cannot be recovered. Proceed (y/[n])? y\n",
      "The autoreload extension is already loaded. To reload it, use:\n",
      "  %reload_ext autoreload\n"
     ]
    }
   ],
   "source": [
    "%reset\n",
    "#%qtconsole\n",
    "%load_ext autoreload\n",
    "%autoreload 2\n",
    "%matplotlib inline \n",
    "import matplotlib.pyplot as plt\n",
    "import numpy as np\n",
    "import matplotlib.cm as cm\n",
    "import matplotlib as mpl\n",
    "import scipy.stats as stats\n",
    "\n",
    "import functions_optimal as fun\n",
    "\n",
    "area=4.0;linethicknes=1.0;\n",
    "\n",
    "font = {'family' : 'normal','weight' : 'normal','size'   : 7, 'family':'serif','serif':['Arial']}\n",
    "mpl.rc('font', **font)\n",
    "mpl.rcParams['lines.linewidth'] =linethicknes\n",
    "mpl.rcParams['text.usetex'] = False\n",
    "mpl.rcParams['mathtext.fontset'] = 'stix'\n",
    "mpl.rcParams['mathtext.rm'] = 'serif'\n",
    "mpl.rcParams['pdf.fonttype'] = 42\n",
    "area=4.0;linethicknes=1.0;\n"
   ]
  },
  {
   "cell_type": "markdown",
   "id": "f7399104",
   "metadata": {},
   "source": [
    "# Fix parameters\n"
   ]
  },
  {
   "cell_type": "code",
   "execution_count": 22,
   "id": "d9d6a8ea",
   "metadata": {},
   "outputs": [],
   "source": [
    "idx_species=1;\n",
    "\n",
    "g_E=8\n",
    "g_I=3\n",
    "'''beta=\n",
    "\n",
    "log10_CVopto=np.log10(0.1)\n",
    "log10_J=np.log10(0.0001)\n",
    "'''\n",
    "nRep=10;\n"
   ]
  },
  {
   "cell_type": "code",
   "execution_count": null,
   "id": "ab3ddcd8",
   "metadata": {},
   "outputs": [],
   "source": []
  },
  {
   "cell_type": "markdown",
   "id": "5cce8fb0",
   "metadata": {},
   "source": [
    "# Build function param-> network response"
   ]
  },
  {
   "cell_type": "code",
   "execution_count": 23,
   "id": "f04da1f1",
   "metadata": {},
   "outputs": [],
   "source": [
    "param_min=[ 3.  ,  2. ,  -1. ,  -3.52, -1. ,  -5.  ]\n",
    "param_max=[10.  ,  9.49,  1. ,  -0.52 , 1. ,  -2.3 ]\n",
    "Predictor_sim,Predictor_data=fun.build_function()"
   ]
  },
  {
   "cell_type": "markdown",
   "id": "ae1463fd",
   "metadata": {},
   "source": [
    "# Create dataset"
   ]
  },
  {
   "cell_type": "code",
   "execution_count": 24,
   "id": "e7f40495",
   "metadata": {},
   "outputs": [],
   "source": [
    "data_mice=np.loadtxt('Mice_with_trials.txt');\n",
    "data_monkeys=np.loadtxt('Monkeys_with_trials.txt');\n",
    "data_both_species=[data_mice,data_monkeys]\n",
    "\n",
    "dataset,Con,nCon=fun.build_dataset(data_both_species[idx_species])\n"
   ]
  },
  {
   "cell_type": "code",
   "execution_count": 25,
   "id": "70428b4a",
   "metadata": {},
   "outputs": [
    {
     "data": {
      "text/plain": [
       "(6, 6, 2)"
      ]
     },
     "execution_count": 25,
     "metadata": {},
     "output_type": "execute_result"
    }
   ],
   "source": [
    "np.shape(dataset)"
   ]
  },
  {
   "cell_type": "code",
   "execution_count": 26,
   "id": "5fb1e111",
   "metadata": {},
   "outputs": [
    {
     "data": {
      "image/png": "[encoded data removed]",
      "text/plain": [
       "<Figure size 360x576 with 8 Axes>"
      ]
     },
     "metadata": {},
     "output_type": "display_data"
    }
   ],
   "source": [
    "\n",
    "rows=4\n",
    "cols=2\n",
    "\n",
    "colors=['c','m']\n",
    "fig, axs = plt.subplots(rows,cols, figsize=(2.5*cols,2.*rows), facecolor='w', edgecolor='k')\n",
    "fig.subplots_adjust(hspace = .5, wspace=.5)\n",
    "axs = axs.ravel()\n",
    "\n",
    "\n",
    "\n",
    "\n",
    "for idx_moment in range(6):\n",
    "    if idx_moment<2:\n",
    "        idx_row=0\n",
    "        ccc=['k',colors[idx_species]][idx_moment]\n",
    "\n",
    "    if (idx_moment>=2)&(idx_moment<4):\n",
    "        idx_row=1\n",
    "        ccc=['k',colors[idx_species]][idx_moment-2]\n",
    "\n",
    "    if (idx_moment==4):\n",
    "        idx_row=2\n",
    "        ccc=colors[idx_species]\n",
    "\n",
    "    if (idx_moment==5):\n",
    "        idx_row=3\n",
    "        ccc=colors[idx_species]\n",
    "\n",
    "    axs[2*idx_row+idx_species].errorbar(Con,dataset[idx_moment,:,0],dataset[idx_moment,:,1],\n",
    "                                             color=ccc,)\n",
    "\n",
    "    axs[2*idx_row+idx_species].set_xscale('symlog', linthreshx=12)\n",
    "\n",
    "\n"
   ]
  },
  {
   "cell_type": "markdown",
   "id": "bf93492b",
   "metadata": {},
   "source": [
    "# Fit on dataset"
   ]
  },
  {
   "cell_type": "code",
   "execution_count": 27,
   "id": "df55f6a5",
   "metadata": {},
   "outputs": [
    {
     "name": "stdout",
     "output_type": "stream",
     "text": [
      "rep= 0  param init= [-0.16 -1.02  0.03 -4.4 ]\n",
      "[-0.14 -2.02  0.14 -3.51] 8.525913986325545\n",
      "rep= 1  param init= [-0.52 -1.02 -0.46 -3.27]\n",
      "[-0.52 -1.02 -0.46 -3.27] 1.5097752405136621e+22\n",
      "rep= 2  param init= [-0.95 -1.02  0.76 -4.88]\n",
      "[-1.   -1.94  0.59 -4.16] 21.82257946696007\n",
      "rep= 3  param init= [-0.47 -1.02  0.31 -3.48]\n",
      "[-0.14 -1.95  0.13 -3.52] 8.802663262188553\n",
      "rep= 4  param init= [-0.02 -1.02 -0.92 -3.96]\n",
      "[-0.13 -1.94  0.13 -3.52] 8.79480454588727\n",
      "rep= 5  param init= [-0.56 -1.02  0.52 -4.  ]\n",
      "[-0.14 -2.02  0.14 -3.51] 8.525652818608618\n",
      "rep= 6  param init= [-0.5  -1.02 -0.67 -3.52]\n",
      "[-0.13 -1.94  0.13 -3.52] 8.793750281597323\n",
      "rep= 7  param init= [-0.3  -1.02 -0.18 -3.8 ]\n",
      "[-0.14 -2.02  0.14 -3.51] 8.526238847274698\n",
      "rep= 8  param init= [-0.48 -1.02  0.4  -4.96]\n",
      "[-0.59 -0.68  0.83 -4.87] 68.87289982690035\n",
      "rep= 9  param init= [-0.56 -1.02  0.86 -4.2 ]\n",
      "[-1.   -1.94  0.58 -4.16] 21.839329200149265\n"
     ]
    }
   ],
   "source": [
    "sol,cost=fun.fit_model_to_data_fixed_gs(g_E,g_I,dataset,Predictor_data,nCon,nRep,param_min,param_max)"
   ]
  },
  {
   "cell_type": "code",
   "execution_count": null,
   "id": "14b721af",
   "metadata": {},
   "outputs": [],
   "source": []
  },
  {
   "cell_type": "code",
   "execution_count": 28,
   "id": "02b89804",
   "metadata": {},
   "outputs": [
    {
     "name": "stdout",
     "output_type": "stream",
     "text": [
      "[ 8.    3.   -0.14 -2.02  0.14 -3.51] [1.17 1.47 1.56 1.62 1.65 1.68 0.93] 8.525652818608618\n"
     ]
    }
   ],
   "source": [
    "idx_best=np.argmin(cost)\n",
    "best_param=sol[idx_best,:]\n",
    "best_cost=cost[idx_best]\n",
    "best_param=np.concatenate(([g_E,g_I],best_param))\n",
    "best_inputs=fun.fit_inputs_to_data_given_param(dataset,Predictor_data,best_param,nCon)\n",
    "\n",
    "print(best_param,best_inputs,best_cost)"
   ]
  },
  {
   "cell_type": "code",
   "execution_count": 29,
   "id": "fa9f99cc",
   "metadata": {},
   "outputs": [
    {
     "name": "stdout",
     "output_type": "stream",
     "text": [
      "Monkeys 8.525652818608618\n",
      "array([ 8.  ,  3.  , -0.14, -2.02,  0.14, -3.51])\n",
      "array([1.17, 1.47, 1.56, 1.62, 1.65, 1.68, 0.93])\n"
     ]
    },
    {
     "data": {
      "text/plain": [
       "<matplotlib.lines.Line2D at 0x7f8f7ac98c10>"
      ]
     },
     "execution_count": 29,
     "metadata": {},
     "output_type": "execute_result"
    },
    {
     "data": {
      "image/png": "[encoded data removed]",
      "text/plain": [
       "<Figure size 360x576 with 8 Axes>"
      ]
     },
     "metadata": {},
     "output_type": "display_data"
    }
   ],
   "source": [
    "\n",
    "rows=4\n",
    "cols=2\n",
    "\n",
    "colors=['c','m']\n",
    "fig, axs = plt.subplots(rows,cols, figsize=(2.5*cols,2.*rows), facecolor='w', edgecolor='k')\n",
    "fig.subplots_adjust(hspace = .5, wspace=.5)\n",
    "axs = axs.ravel()\n",
    "\n",
    "\n",
    "\n",
    "\n",
    "Predictions=Predictor_data(best_inputs,best_param,nCon)\n",
    "print(['Mice','Monkeys'][idx_species],best_cost)\n",
    "print(repr(best_param))\n",
    "print(repr(best_inputs))        \n",
    "for idx_moment in range(6):\n",
    "    if idx_moment<2:\n",
    "        idx_row=0\n",
    "        ccc=['k',colors[idx_species]][idx_moment]\n",
    "        ymin=0\n",
    "        ymax=[25,80][idx_species]\n",
    "\n",
    "    if (idx_moment>=2)&(idx_moment<4):\n",
    "        idx_row=1\n",
    "        ccc=['k',colors[idx_species]][idx_moment-2]\n",
    "        ymin=0\n",
    "        ymax=[20,60][idx_species]\n",
    "\n",
    "    if (idx_moment==4):\n",
    "        idx_row=2\n",
    "        ccc=colors[idx_species]\n",
    "        ymin=0\n",
    "        ymax=[20,60][idx_species]\n",
    "\n",
    "    if (idx_moment==5):\n",
    "        idx_row=3\n",
    "        ccc=colors[idx_species]\n",
    "        ymin=-0.75\n",
    "        ymax=0.25\n",
    "\n",
    "    m,sem=dataset[idx_moment,:,0],dataset[idx_moment,:,1]\n",
    "    axs[2*idx_row+idx_species].scatter(Con,m,\n",
    "                                       facecolors='none', s=10,edgecolors=ccc,marker='o'\n",
    "                                       )\n",
    "    axs[2*idx_row+idx_species].fill_between(Con,m-sem,m+sem,\n",
    "                                             color=ccc,alpha=0.2)\n",
    "\n",
    "    axs[2*idx_row+idx_species].plot(Con,Predictions[idx_moment,:],\n",
    "                                    color=ccc,alpha=1.)\n",
    "\n",
    "    axs[2*idx_row+idx_species].set_xscale('symlog', linthreshx=12)\n",
    "    axs[2*idx_row+idx_species].set_ylim([ymin,ymax])\n",
    "axs[2*idx_row+idx_species].axhline(y=0,ls='--',c='k')"
   ]
  },
  {
   "cell_type": "code",
   "execution_count": 30,
   "id": "18cc7e8d",
   "metadata": {},
   "outputs": [],
   "source": [
    "results=np.zeros((1,len(best_param)\n",
    "                  +len(best_inputs)\n",
    "                 +1))\n",
    "\n",
    "results[0,0:len(best_param)]=best_param[:]\n",
    "results[0,len(best_param):(len(best_param)+len(best_inputs))]=best_inputs[:]\n",
    "results[0,(len(best_param)+len(best_inputs))]=best_cost\n"
   ]
  },
  {
   "cell_type": "code",
   "execution_count": 31,
   "id": "22323a07",
   "metadata": {},
   "outputs": [
    {
     "data": {
      "text/plain": [
       "array([[ 8.  ,  3.  , -0.14, -2.02,  0.14, -3.51,  1.17,  1.47,  1.56,\n",
       "         1.62,  1.65,  1.68,  0.93,  8.53]])"
      ]
     },
     "execution_count": 31,
     "metadata": {},
     "output_type": "execute_result"
    }
   ],
   "source": [
    "results"
   ]
  },
  {
   "cell_type": "code",
   "execution_count": null,
   "id": "8b20c045",
   "metadata": {},
   "outputs": [],
   "source": []
  }
 ],
 "metadata": {
  "kernelspec": {
   "display_name": "Python 3",
   "language": "python",
   "name": "python3"
  },
  "language_info": {
   "codemirror_mode": {
    "name": "ipython",
    "version": 3
   },
   "file_extension": ".py",
   "mimetype": "text/x-python",
   "name": "python",
   "nbconvert_exporter": "python",
   "pygments_lexer": "ipython3",
   "version": "3.8.8"
  }
 },
 "nbformat": 4,
 "nbformat_minor": 5
}
