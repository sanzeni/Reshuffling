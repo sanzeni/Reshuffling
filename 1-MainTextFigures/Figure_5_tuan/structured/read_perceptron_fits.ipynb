{
 "cells": [
  {
   "cell_type": "code",
   "execution_count": 1,
   "id": "a2b91a75",
   "metadata": {},
   "outputs": [],
   "source": [
    "import sys\n",
    "import os\n",
    "sys.path.insert(0, './../../../DataAndScripts/structured_scripts')"
   ]
  },
  {
   "cell_type": "code",
   "execution_count": 2,
   "id": "7e9c6892",
   "metadata": {},
   "outputs": [],
   "source": [
    "from importlib import reload\n",
    "\n",
    "import pickle\n",
    "import numpy as np\n",
    "import matplotlib as mpl\n",
    "import matplotlib.pyplot as plt\n",
    "import time\n",
    "\n",
    "import data_analysis as da\n",
    "import functions_optimal as funopt\n",
    "import sims_utils as su\n",
    "import validate_utils as vu\n",
    "\n",
    "import network as network"
   ]
  },
  {
   "cell_type": "markdown",
   "id": "b78403fd",
   "metadata": {},
   "source": [
    "# Read Output of Perceptron Fits"
   ]
  },
  {
   "cell_type": "code",
   "execution_count": 3,
   "id": "805404b7",
   "metadata": {},
   "outputs": [],
   "source": [
    "data=da.Data_MonkeyMouse('both','./../../../DataAndScripts/experimental_data',calc_delta_r=True)"
   ]
  },
  {
   "cell_type": "code",
   "execution_count": 20,
   "id": "24c6421e",
   "metadata": {},
   "outputs": [],
   "source": [
    "output_dir = './../../../DataAndScripts/structured_scripts/perceptron_results'\n",
    "\n",
    "file_idxs = []\n",
    "for file in os.listdir(output_dir):\n",
    "    if \"Simulation_Model_Fit_Separately_StructModel-seednnls=\" in file and\\\n",
    "        \"-activation=relu-alpha=1e-05-hidden_layer_sizes=(150, 100, 50)-\"+\\\n",
    "            \"learning_rate_init=0.002-tol=1e-06-beta_1=0.9-beta_2=0.99\" in file and\\\n",
    "        \"Simulation_Simulation_\" not in file and\\\n",
    "        \"Simulation_w_Rates_Simulation\" not in file:\n",
    "        try:\n",
    "            with open(output_dir+\"/\"+file, 'rb') as handle:\n",
    "                output_fit = pickle.load(handle)\n",
    "                output_fit['best_sims_dict_'+data.this_animals[0]]\n",
    "                output_fit['full_balance_'+data.this_animals[0]]\n",
    "            file_idxs.append(file)\n",
    "        except:\n",
    "            pass\n",
    "file_idxs.sort()"
   ]
  },
  {
   "cell_type": "code",
   "execution_count": 16,
   "id": "e60cea71",
   "metadata": {},
   "outputs": [],
   "source": [
    "maxseedmlp = len(file_idxs)\n",
    "\n",
    "fit_params = [np.zeros((maxseedmlp,11)),np.zeros((maxseedmlp,11))]\n",
    "fit_inputs = [np.zeros((maxseedmlp,8)),np.zeros((maxseedmlp,7))]\n",
    "fit_moms = [np.zeros((maxseedmlp,7,10)),np.zeros((maxseedmlp,6,10))]\n",
    "fit_preds = [np.zeros((maxseedmlp,7,6)),np.zeros((maxseedmlp,6,6))]\n",
    "fit_costs = [1e4*np.ones(maxseedmlp),1e4*np.ones(maxseedmlp)]\n",
    "\n",
    "for seedmlp in range(maxseedmlp):\n",
    "    with open(output_dir+\"/\"+file_idxs[seedmlp], 'rb') as handle:\n",
    "        output_fit = pickle.load(handle)\n",
    "    for anim_idx in range(2):\n",
    "        dataset = data.bootstrap_moments[anim_idx]\n",
    "        fit_params[anim_idx][seedmlp] = [output_fit['best_sims_dict_'+data.this_animals[anim_idx]][k] for k in list(vu.res_param_idxs.keys())[:-2]]\n",
    "        fit_inputs[anim_idx][seedmlp] = 10**output_fit['best_input_'+data.this_animals[anim_idx]]\n",
    "        fit_moms[anim_idx][seedmlp] = output_fit['moments_of_r_sim_'+data.this_animals[anim_idx]]\n",
    "        fit_preds[anim_idx][seedmlp] = output_fit['predictions_of_r_sim_'+data.this_animals[anim_idx]]\n",
    "        delta_preds = np.zeros_like(dataset[:,:,0])\n",
    "        delta_preds[:-1,:] = fit_preds[anim_idx][seedmlp].T\n",
    "        delta_preds[-1,:] = fit_preds[anim_idx][seedmlp].T[1,:] - fit_preds[anim_idx][seedmlp].T[0,:]\n",
    "        res = (delta_preds-dataset[:,:,0])/dataset[:,:,1]\n",
    "        res[6,:] *= [0,0][anim_idx]\n",
    "        if 10**output_fit['best_input_'+data.this_animals[anim_idx]][-2] > 50:\n",
    "            res[6,:] = 1e8\n",
    "        params_dict = output_fit['best_sims_dict_'+data.this_animals[anim_idx]]\n",
    "        if params_dict['GI']*params_dict['gI'] < 4:\n",
    "            res *= 1e8\n",
    "        fit_costs[anim_idx][seedmlp] = np.sum(res**2)"
   ]
  },
  {
   "cell_type": "code",
   "execution_count": 17,
   "id": "9bcbe220",
   "metadata": {},
   "outputs": [
    {
     "name": "stdout",
     "output_type": "stream",
     "text": [
      "36\n",
      "6.979875431006438\n",
      "Simulation_Model_Fit_Separately_StructModel-seednnls=59-activation=relu-alpha=1e-05-hidden_layer_sizes=(150, 100, 50)-learning_rate_init=0.002-tol=1e-06-beta_1=0.9-beta_2=0.99.pkl\n"
     ]
    }
   ],
   "source": [
    "fit_idx = np.argsort(fit_costs[0])[0]\n",
    "print(fit_idx)\n",
    "print(fit_costs[0][fit_idx])\n",
    "print(file_idxs[fit_idx])"
   ]
  },
  {
   "cell_type": "code",
   "execution_count": 18,
   "id": "58dbf327",
   "metadata": {},
   "outputs": [
    {
     "name": "stdout",
     "output_type": "stream",
     "text": [
      "57\n",
      "17.053064611812594\n",
      "Simulation_Model_Fit_Separately_StructModel-seednnls=78-activation=relu-alpha=1e-05-hidden_layer_sizes=(150, 100, 50)-learning_rate_init=0.002-tol=1e-06-beta_1=0.9-beta_2=0.99.pkl\n"
     ]
    }
   ],
   "source": [
    "fit_idx = np.argsort(fit_costs[1])[0]\n",
    "print(fit_idx)\n",
    "print(fit_costs[1][fit_idx])\n",
    "print(file_idxs[fit_idx])"
   ]
  },
  {
   "cell_type": "code",
   "execution_count": 19,
   "id": "daf74d07",
   "metadata": {},
   "outputs": [],
   "source": [
    "comb_fit = {}\n",
    "for anim_idx in range(2):\n",
    "    fit_idx = np.argsort(fit_costs[anim_idx])[0]\n",
    "    with open(output_dir+\"/\"+file_idxs[fit_idx], 'rb') as handle:\n",
    "        output_fit = pickle.load(handle)\n",
    "    comb_fit['best_fit_file_'+data.this_animals[anim_idx]] = file_idxs[fit_idx]\n",
    "    comb_fit['best_input_'+data.this_animals[anim_idx]] = output_fit['best_input_'+\\\n",
    "                                                                     data.this_animals[anim_idx]]\n",
    "    comb_fit['best_sims_dict_'+data.this_animals[anim_idx]] = output_fit['best_sims_dict_'+\\\n",
    "                                                                         data.this_animals[anim_idx]]\n",
    "    comb_fit['stim_size_'+data.this_animals[anim_idx]] = output_fit['stim_size_'+data.this_animals[anim_idx]]\n",
    "    comb_fit['moments_of_r_sim_'+data.this_animals[anim_idx]] =\\\n",
    "        output_fit['moments_of_r_sim_'+data.this_animals[anim_idx]]\n",
    "    comb_fit['predictions_of_r_sim_'+data.this_animals[anim_idx]] =\\\n",
    "        output_fit['predictions_of_r_sim_'+data.this_animals[anim_idx]]\n",
    "    comb_fit['balance_'+data.this_animals[anim_idx]] =\\\n",
    "        output_fit['balance_'+data.this_animals[anim_idx]]\n",
    "    comb_fit['opto_ratio_'+data.this_animals[anim_idx]] =\\\n",
    "        output_fit['opto_ratio_'+data.this_animals[anim_idx]]\n",
    "    comb_fit['full_balance_'+data.this_animals[anim_idx]] =\\\n",
    "        output_fit['full_balance_'+data.this_animals[anim_idx]]\n",
    "    comb_fit['full_opto_ratio_'+data.this_animals[anim_idx]] =\\\n",
    "        output_fit['full_opto_ratio_'+data.this_animals[anim_idx]]\n",
    "    \n",
    "with open(\"Simulation_Model_Fit_Separately_StructModel-\"+\"Best\"+'.pkl', 'wb') as handle:\n",
    "    pickle.dump(comb_fit,handle)\n",
    "    \n",
    "comb_fit = {}\n",
    "for anim_idx in range(2):\n",
    "    fit_idx = np.argsort(fit_costs[anim_idx])[0]\n",
    "    with open(output_dir+\"/\"+file_idxs[fit_idx], 'rb') as handle:\n",
    "        output_fit = pickle.load(handle)\n",
    "    comb_fit['best_fit_file_'+data.this_animals[anim_idx]] = file_idxs[fit_idx]\n",
    "    comb_fit['best_inputs_'+data.this_animals[anim_idx]] = output_fit['best_input_'+\\\n",
    "                                                                     data.this_animals[anim_idx]]\n",
    "    comb_fit['best_sims_dict_'+data.this_animals[anim_idx]] = output_fit['best_sims_dict_'+\\\n",
    "                                                                         data.this_animals[anim_idx]]\n",
    "    comb_fit['nc']=data.nc\n",
    "    \n",
    "    comb_fit['best_params_'+data.this_animals[anim_idx]] = np.concatenate(([output_fit['best_sims_dict_'+\\\n",
    "                                data.this_animals[anim_idx]][k] for k in list(vu.res_param_idxs.keys())[:-2]],\n",
    "                                10**output_fit['best_input_'+data.this_animals[anim_idx]][-2:]))\n",
    "    comb_fit['best_rXs_'+data.this_animals[anim_idx]] = 10**output_fit['best_input_'+data.this_animals[anim_idx]][:-1]\n",
    "    comb_fit['best_exp_input_'+data.this_animals[anim_idx]] = 10**output_fit['best_input_'+\\\n",
    "                                                                             data.this_animals[anim_idx]]\n",
    "    comb_fit['predictions_of_r_sim_'+data.this_animals[anim_idx]] =\\\n",
    "        output_fit['predictions_of_r_sim_'+data.this_animals[anim_idx]].T\n",
    "    comb_fit['balance_'+data.this_animals[anim_idx]] =\\\n",
    "        output_fit['balance_'+data.this_animals[anim_idx]]\n",
    "    comb_fit['opto_ratio_'+data.this_animals[anim_idx]] =\\\n",
    "        output_fit['opto_ratio_'+data.this_animals[anim_idx]]\n",
    "    comb_fit['full_balance_'+data.this_animals[anim_idx]] =\\\n",
    "        output_fit['full_balance_'+data.this_animals[anim_idx]]\n",
    "    comb_fit['full_opto_ratio_'+data.this_animals[anim_idx]] =\\\n",
    "        output_fit['full_opto_ratio_'+data.this_animals[anim_idx]]\n",
    "    \n",
    "with open(\"Model_Fit_Separately_StructModel-\"+\"Best\"+'.pkl', 'wb') as handle:\n",
    "    pickle.dump(comb_fit,handle)"
   ]
  },
  {
   "cell_type": "code",
   "execution_count": null,
   "id": "2392dde0",
   "metadata": {},
   "outputs": [],
   "source": []
  }
 ],
 "metadata": {
  "kernelspec": {
   "display_name": "Python 3",
   "language": "python",
   "name": "python3"
  },
  "language_info": {
   "codemirror_mode": {
    "name": "ipython",
    "version": 3
   },
   "file_extension": ".py",
   "mimetype": "text/x-python",
   "name": "python",
   "nbconvert_exporter": "python",
   "pygments_lexer": "ipython3",
   "version": "3.6.13"
  }
 },
 "nbformat": 4,
 "nbformat_minor": 5
}
