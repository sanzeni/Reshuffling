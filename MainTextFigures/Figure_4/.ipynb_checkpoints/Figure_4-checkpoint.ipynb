{
 "cells": [
  {
   "cell_type": "markdown",
   "metadata": {
    "id": "kWBG1dZAxhy6"
   },
   "source": [
    "# Figure 3. Coupling strength determines reshufling of neural activity in network models"
   ]
  },
  {
   "cell_type": "code",
   "execution_count": 33,
   "metadata": {
    "colab": {
     "base_uri": "https://localhost:8080/"
    },
    "executionInfo": {
     "elapsed": 31523,
     "status": "ok",
     "timestamp": 1625520026356,
     "user": {
      "displayName": "alessandro sanzeni",
      "photoUrl": "",
      "userId": "18075480473065302455"
     },
     "user_tz": 240
    },
    "id": "k87dd5Fexhy9",
    "outputId": "5f86c7c8-072d-497a-c478-82dafeab57b8"
   },
   "outputs": [
    {
     "name": "stdout",
     "output_type": "stream",
     "text": [
      "Once deleted, variables cannot be recovered. Proceed (y/[n])? y\n",
      "The autoreload extension is already loaded. To reload it, use:\n",
      "  %reload_ext autoreload\n"
     ]
    }
   ],
   "source": [
    "%reset\n",
    "#%qtconsole\n",
    "%load_ext autoreload\n",
    "%autoreload 2\n",
    "%matplotlib inline \n",
    "import matplotlib.pyplot as plt\n",
    "import numpy as np\n",
    "import matplotlib.cm as cm\n",
    "import matplotlib as mpl\n",
    "import scipy.stats as stats\n",
    "\n",
    "import functions as fun\n",
    "from scipy.interpolate import interp1d\n",
    "\n",
    "from mpl_toolkits.axes_grid.inset_locator import (inset_axes, InsetPosition,mark_inset)\n",
    "\n",
    "area=4.0;linethicknes=1.0;\n",
    "\n",
    "font = {'family' : 'normal','weight' : 'normal','size'   : 7, 'family':'serif','serif':['Arial']}\n",
    "mpl.rc('font', **font)\n",
    "mpl.rcParams['lines.linewidth'] =linethicknes\n",
    "mpl.rcParams['text.usetex'] = False\n",
    "mpl.rcParams['mathtext.fontset'] = 'stix'\n",
    "mpl.rcParams['mathtext.rm'] = 'serif'\n",
    "mpl.rcParams['pdf.fonttype'] = 42\n",
    "\n"
   ]
  },
  {
   "cell_type": "code",
   "execution_count": 34,
   "metadata": {},
   "outputs": [],
   "source": [
    "RATES=np.load('simulations/RATES.npy')\n",
    "Possible_J=np.load('simulations/Possible_J.npy')\n",
    "params=np.load('simulations/params.npy')\n",
    "sigma_t,tau_rp,g_E,g_I,beta,K,sigma_Lambda_over_Lambda,ell,r_X,Tmax_over_tau_E,p,sigma_X_over_r_X,Lambda,N_E,N_I=params[:]\n",
    "L=[0,ell]\n",
    "\n",
    "Lambda=10**-3\n",
    "sigma_Lambda=sigma_Lambda_over_Lambda*Lambda\n",
    "\n",
    "ALL_moments_of_mu=np.loadtxt('ALL_moments_of_mu.txt')"
   ]
  },
  {
   "cell_type": "code",
   "execution_count": 35,
   "metadata": {},
   "outputs": [
    {
     "name": "stderr",
     "output_type": "stream",
     "text": [
      "/Users/ale/Dropbox/research/Laser_on_E_cells/Draft_figures_simulations_v2/Figure_4/v2/functions.py:53: IntegrationWarning: The occurrence of roundoff error is detected, which prevents \n",
      "  the requested tolerance from being achieved.  The error may be \n",
      "  underestimated.\n",
      "  adelleh=integrate.quad(lambda u: f(u),minimo,massimo)\n",
      "/Users/ale/Dropbox/research/Laser_on_E_cells/Draft_figures_simulations_v2/Figure_4/v2/functions.py:53: IntegrationWarning: The maximum number of subdivisions (50) has been achieved.\n",
      "  If increasing the limit yields no improvement it is advised to analyze \n",
      "  the integrand in order to determine the difficulties.  If the position of a \n",
      "  local difficulty can be determined (singularity, discontinuity) one will \n",
      "  probably gain from splitting up the interval and calling the integrator \n",
      "  on the subranges.  Perhaps a special-purpose integrator should be used.\n",
      "  adelleh=integrate.quad(lambda u: f(u),minimo,massimo)\n"
     ]
    }
   ],
   "source": [
    "#'''\n",
    "mu_tab_max=10.0;\n",
    "mu_tab=np.linspace(-mu_tab_max,mu_tab_max,200000)\n",
    "mu_tab=np.concatenate(([-10000],mu_tab))\n",
    "mu_tab=np.concatenate((mu_tab,[10000]))\n",
    "\n",
    "phi_tab_E,phi_tab_I=mu_tab*0,mu_tab*0;\n",
    "for idx in range(len(phi_tab_E)):\n",
    "    phi_tab_E[idx]=fun.comp_phi_tab(mu_tab[idx],fun.tau_E,tau_rp,sigma_t)\n",
    "    phi_tab_I[idx]=fun.comp_phi_tab(mu_tab[idx],fun.tau_I,tau_rp,sigma_t)\n",
    "\n",
    "phi_int_E=interp1d(mu_tab, phi_tab_E, kind='linear')  \n",
    "phi_int_I=interp1d(mu_tab, phi_tab_I, kind='linear')\n",
    "Phi=[phi_int_E,phi_int_I];\n",
    "#'''"
   ]
  },
  {
   "cell_type": "code",
   "execution_count": 49,
   "metadata": {},
   "outputs": [
    {
     "ename": "SyntaxError",
     "evalue": "invalid syntax (<ipython-input-49-e8e1af444808>, line 150)",
     "output_type": "error",
     "traceback": [
      "\u001b[0;36m  File \u001b[0;32m\"<ipython-input-49-e8e1af444808>\"\u001b[0;36m, line \u001b[0;32m150\u001b[0m\n\u001b[0;31m    pic_name='Figure_4.png'x\u001b[0m\n\u001b[0m                           ^\u001b[0m\n\u001b[0;31mSyntaxError\u001b[0m\u001b[0;31m:\u001b[0m invalid syntax\n"
     ]
    }
   ],
   "source": [
    "bin_edges=np.arange(0,1./tau_rp,.1)\n",
    "spacings=np.diff(bin_edges)[0];\n",
    "bin_means=0.5*(bin_edges[0:-1]+bin_edges[1::])\n",
    "bin_edges_Delta=np.arange(-1./tau_rp,1./tau_rp,.1)\n",
    "spacings_Delta=np.diff(bin_edges)[0];\n",
    "bin_means_Delta=0.5*(bin_edges_Delta[0:-1]+bin_edges_Delta[1::])\n",
    "\n",
    "rows=2\n",
    "cols=4\n",
    "fig, axs = plt.subplots(rows,cols, figsize=(2.1875*cols,1.875*rows), facecolor='w', edgecolor='k')\n",
    "\n",
    "\n",
    "fig.subplots_adjust(hspace = .5, wspace=.5)\n",
    "area=4.0;linethicknes=1.0;\n",
    "axs = axs.ravel()\n",
    "\n",
    "axs[0].set_axis_off()\n",
    "axs[0+cols].set_axis_off()\n",
    "\n",
    "axs[0].text(-.2, 1.2,'A', transform=axs[0].transAxes,fontsize=8, fontweight='bold', va='top', ha='right');\n",
    "axs[1].text(-.2, 1.2,'B', transform=axs[1].transAxes,fontsize=8, fontweight='bold', va='top', ha='right');\n",
    "axs[2].text(-.2, 1.2,'C', transform=axs[2].transAxes,fontsize=8, fontweight='bold', va='top', ha='right');\n",
    "axs[3].text(-.2, 1.2,'D', transform=axs[3].transAxes,fontsize=8, fontweight='bold', va='top', ha='right');\n",
    "axs[1+cols].text(-.2, 1.2,'E', transform=axs[1+cols].transAxes,fontsize=8, fontweight='bold', va='top', ha='right');\n",
    "axs[2+cols].text(-.2, 1.2,'F', transform=axs[2+cols].transAxes,fontsize=8, fontweight='bold', va='top', ha='right');\n",
    "axs[3+cols].text(-.2, 1.2,'G', transform=axs[3+cols].transAxes,fontsize=8, fontweight='bold', va='top', ha='right');\n",
    "\n",
    "\n",
    "for idx in range(2):\n",
    "    axs[1+idx*cols].axis([0,250,0,1])\n",
    "    axs[1+idx*cols].set_ylabel('CDF')\n",
    "    axs[1+idx*cols].set_xlabel('rate (spk/s)')\n",
    "    \n",
    "    axs[2+idx*cols].axis([-200,200,0,1])\n",
    "    axs[2+idx*cols].set_xlabel(r'$\\Delta$rate (spk/s)')\n",
    "    axs[2+idx*cols].set_ylabel('CDF')\n",
    "    axs[2+idx*cols].axvline(x=0,ls='--',c='k')\n",
    "    \n",
    "    axs[3+idx*cols].set_xlabel(r'rate (spk/s)')\n",
    "    axs[3+idx*cols].set_ylabel(r'$\\Delta$rate (spk/s)')\n",
    "    axs[3+idx*cols].spines['top'].set_visible(False)\n",
    "    axs[3+idx*cols].spines['right'].set_visible(False)\n",
    "    axs[3+idx*cols].axhline(y=0,ls='--',c='k')\n",
    "    \n",
    "for idx in range(3):\n",
    "    axs[1+idx+0*cols].set_title('Weak coupling')\n",
    "    axs[1+idx+1*cols].set_title('Strong coupling')\n",
    "    \n",
    "\n",
    "label=['without opto','with opto']   \n",
    "for idx_cases in [0,1]:#range(len(Possible_J)):\n",
    "    if idx_cases==0:\n",
    "        idx_J=0\n",
    "    if idx_cases==1:\n",
    "        idx_J=1\n",
    "        \n",
    "    J=Possible_J[idx_J]\n",
    "\n",
    "    moments_of_mu=ALL_moments_of_mu[idx_J]\n",
    "    ALL_phi_no_opto,ALL_phi_opto=[],[]\n",
    "    for idx_cell_type in [0,1]:\n",
    "        if idx_cell_type==0:\n",
    "            opto=[L[-1],Lambda,sigma_Lambda]\n",
    "\n",
    "\n",
    "        if idx_cell_type==1:\n",
    "            opto=[0,0,0]\n",
    "\n",
    "        phi_no_opto,phi_opto=fun.Distribution_of_phi_delta_phi(Phi[idx_cell_type],moments_of_mu[(idx_cell_type*5):((idx_cell_type+1)*5)],opto)\n",
    "        \n",
    "        ALL_phi_no_opto=ALL_phi_no_opto+[phi_no_opto]\n",
    "        ALL_phi_opto=ALL_phi_opto+[phi_opto]\n",
    "    r_i_no_opto=np.concatenate((ALL_phi_no_opto[0],ALL_phi_no_opto[1][0:int(fun.gamma*len(ALL_phi_no_opto[0]))]))\n",
    "    r_i_opto=np.concatenate((ALL_phi_opto[0],ALL_phi_opto[1][0:int(fun.gamma*len(ALL_phi_opto[0]))]))\n",
    "    r_i=[r_i_no_opto,r_i_opto]#phi_delta_phi_E=fun.Distribution_of_phi_delta_phi(Phi[idx_cell_type],moments_of_mu[(idx_cell_type*5):((idx_cell_type+1)*5)],opto)\n",
    "        \n",
    "    color=['k','g',];\n",
    "\n",
    "     \n",
    "    rate_th=1.\n",
    "    maks_cells=(RATES[idx_J,1,:]>=rate_th)|(RATES[idx_J,0,:]>=rate_th)\n",
    "    maks_cells_MFT=(r_i[0]>=rate_th)|(r_i[1]>=rate_th)\n",
    "   \n",
    "\n",
    "    for idx_L in range(len(L)):\n",
    "        indices=np.arange(0,len(bin_means),73)\n",
    "\n",
    "        if (idx_J==0)&(idx_L==0):\n",
    "            indices=np.arange(0,len(bin_means),17)\n",
    "\n",
    "        hist, bin_edges=np.histogram(RATES[idx_J,idx_L,maks_cells],bin_edges)\n",
    "        bin_mean=0.5*(bin_edges[0:-1]+bin_edges[1::])\n",
    "        spacings=np.diff(bin_edges)[0];\n",
    "        hist=hist/np.sum(hist*spacings)\n",
    "        axs[idx_cases*cols+1].scatter(bin_mean[indices],np.cumsum(spacings*hist)[indices],\n",
    "                                   lw=1.,s=10,alpha=0.6, facecolors='none', edgecolors=color[idx_L],label=(label[idx_L]));\n",
    "        hist, bin_edges=np.histogram(r_i[idx_L][maks_cells_MFT],bin_edges)#,normed=True)\n",
    "        P_of_nu=hist/np.sum(hist*spacings)\n",
    "        axs[idx_cases*cols+1].plot(bin_mean,np.cumsum(spacings*P_of_nu),lw=1.5,c=color[idx_L])#,label=('MFT '+label[idx_L]))\n",
    "        \n",
    "    #print(J,len(RATES[idx_J,idx_L,maks_cells])/(N_E+N_I))\n",
    "    Delta_Sim=RATES[idx_J,1,maks_cells]-RATES[idx_J,0,maks_cells]\n",
    "    hist_Delta, bin_edges_Delta=np.histogram(Delta_Sim,bin_edges_Delta,normed=True)\n",
    "    CDF_Resp_Delta=np.cumsum(hist_Delta*spacings_Delta)\n",
    "    \n",
    "    \n",
    "    indices=np.arange(0,len(bin_means_Delta),73)\n",
    "\n",
    "    axs[idx_cases*cols+2].scatter(bin_means_Delta[indices],CDF_Resp_Delta[indices],\n",
    "                                  lw=1.,s=10,alpha=0.6, facecolors='none', edgecolors=color[idx_L]);\n",
    "    hist_Delta, bin_edges_Delta=np.histogram((r_i[idx_L]-r_i[0])[maks_cells_MFT],bin_edges_Delta)#,normed=True)\n",
    "    P_of_nu=hist_Delta/np.sum(hist_Delta*spacings_Delta)\n",
    "    axs[idx_cases*cols+2].plot(bin_means_Delta,np.cumsum(spacings*P_of_nu),lw=1.5,c=color[idx_L])\n",
    "\n",
    "    \n",
    "    \n",
    "    color=['r','b',];\n",
    "    idx_cells=np.where((np.arange(N_E+N_I)<N_E)&maks_cells)\n",
    "    axs[idx_cases*cols+3].scatter(RATES[idx_J,0,idx_cells],\n",
    "                                  RATES[idx_J,1,idx_cells]-RATES[idx_J,0,idx_cells],\n",
    "                                  s=1.,alpha=0.6,c=color[0],label='E cells');\n",
    "    print('idx_J=%d'%idx_J)\n",
    "\n",
    "    print('E cells')\n",
    "    print(np.corrcoef(RATES[idx_J,0,idx_cells],RATES[idx_J,1,idx_cells]-RATES[idx_J,0,idx_cells])[0,1])\n",
    "    idx_cells=np.where((np.arange(len(r_i[0]))<(len(r_i[0])*(1-(fun.gamma)/(1+fun.gamma))))&maks_cells_MFT)\n",
    "    print(np.corrcoef(r_i[0][idx_cells],r_i[1][idx_cells]-r_i[0][idx_cells])[0,1])\n",
    "    \n",
    "    print('I cells')    \n",
    "    idx_cells=np.where((np.arange(N_E+N_I)>=N_E)&maks_cells)\n",
    "    axs[idx_cases*cols+3].scatter(RATES[idx_J,0,idx_cells],\n",
    "                                  RATES[idx_J,1,idx_cells]-RATES[idx_J,0,idx_cells],\n",
    "                                  s=1.,alpha=0.6,c=color[1],label='I cells');\n",
    "    print(np.corrcoef(RATES[idx_J,0,idx_cells],RATES[idx_J,1,idx_cells]-RATES[idx_J,0,idx_cells])[0,1])\n",
    "    idx_cells=np.where((np.arange(len(r_i[0]))>=(len(r_i[0])*(1-(fun.gamma)/(1+fun.gamma))))&maks_cells_MFT)\n",
    "\n",
    "    print(np.corrcoef(r_i[0][idx_cells],r_i[1][idx_cells]-r_i[0][idx_cells])[0,1])\n",
    "\n",
    "    \n",
    "\n",
    "axs[idx_cases*cols+1].legend(loc='best')#prop={'size': 7},\n",
    "                             #loc='center', bbox_to_anchor=(1.25, -.5),ncol=2)\n",
    "axs[idx_cases*cols+3].legend(loc='best')##prop={'size': 7},\n",
    "                             #loc='center', bbox_to_anchor=(.5, -.5),ncol=1)\n",
    "\n",
    "plt.tight_layout()\n",
    "fig.set_size_inches(1.875*cols,1.875*rows)\n",
    "pic_name='Figure_4.pdf'\n",
    "fig.savefig(pic_name,format='pdf',bbox_inches='tight', dpi=300)\n",
    "pic_name='Figure_4.png'\n",
    "fig.savefig(pic_name,format='png',bbox_inches='tight', dpi=300)\n"
   ]
  },
  {
   "cell_type": "code",
   "execution_count": 44,
   "metadata": {},
   "outputs": [
    {
     "data": {
      "text/plain": [
       "1.875"
      ]
     },
     "execution_count": 44,
     "metadata": {},
     "output_type": "execute_result"
    }
   ],
   "source": [
    "7.5/4"
   ]
  },
  {
   "cell_type": "markdown",
   "metadata": {},
   "source": [
    "## "
   ]
  },
  {
   "cell_type": "code",
   "execution_count": null,
   "metadata": {},
   "outputs": [],
   "source": []
  },
  {
   "cell_type": "code",
   "execution_count": 55,
   "metadata": {},
   "outputs": [
    {
     "data": {
      "text/plain": [
       "10000.0"
      ]
     },
     "execution_count": 55,
     "metadata": {},
     "output_type": "execute_result"
    }
   ],
   "source": [
    "len(r_i[0])*(1-(fun.gamma)/(1+fun.gamma))"
   ]
  },
  {
   "cell_type": "code",
   "execution_count": 53,
   "metadata": {},
   "outputs": [
    {
     "data": {
      "text/plain": [
       "12500"
      ]
     },
     "execution_count": 53,
     "metadata": {},
     "output_type": "execute_result"
    }
   ],
   "source": [
    "len(r_i[0])"
   ]
  },
  {
   "cell_type": "code",
   "execution_count": 66,
   "metadata": {},
   "outputs": [
    {
     "name": "stdout",
     "output_type": "stream",
     "text": [
      "2e-05 1.0\n",
      "0.06099618143665416\n",
      "0.595951352414435\n",
      "\n",
      "0.0006 0.452\n",
      "-0.3335451695079111\n",
      "-0.24118761811344203\n",
      "\n"
     ]
    },
    {
     "name": "stderr",
     "output_type": "stream",
     "text": [
      "<ipython-input-66-b743e19e5225>:70: VisibleDeprecationWarning: Passing `normed=True` on non-uniform bins has always been broken, and computes neither the probability density function nor the probability mass function. The result is only correct if the bins are uniform, when density=True will produce the same result anyway. The argument will be removed in a future version of numpy.\n",
      "  hist_Delta, bin_edges_Delta=np.histogram(Delta_Sim,bin_edges_Delta,normed=True)\n",
      "<ipython-input-66-b743e19e5225>:70: VisibleDeprecationWarning: Passing `normed=True` on non-uniform bins has always been broken, and computes neither the probability density function nor the probability mass function. The result is only correct if the bins are uniform, when density=True will produce the same result anyway. The argument will be removed in a future version of numpy.\n",
      "  hist_Delta, bin_edges_Delta=np.histogram(Delta_Sim,bin_edges_Delta,normed=True)\n"
     ]
    },
    {
     "data": {
      "image/png": "[encoded data removed]",
      "text/plain": [
       "<Figure size 720x288 with 8 Axes>"
      ]
     },
     "metadata": {},
     "output_type": "display_data"
    }
   ],
   "source": [
    "bin_edges=np.arange(0,1./tau_rp,.1)\n",
    "spacings=np.diff(bin_edges)[0];\n",
    "bin_means=0.5*(bin_edges[0:-1]+bin_edges[1::])\n",
    "bin_edges_Delta=np.arange(-1./tau_rp,1./tau_rp,.1)\n",
    "spacings_Delta=np.diff(bin_edges)[0];\n",
    "bin_means_Delta=0.5*(bin_edges_Delta[0:-1]+bin_edges_Delta[1::])\n",
    "\n",
    "rows=2\n",
    "cols=4\n",
    "fig, axs = plt.subplots(rows,cols, figsize=(2.5*cols,2.*rows), facecolor='w', edgecolor='k')\n",
    "fig.subplots_adjust(hspace = .5, wspace=.5)\n",
    "area=4.0;linethicknes=1.0;\n",
    "axs = axs.ravel()\n",
    "\n",
    "axs[0].set_axis_off()\n",
    "axs[0+cols].set_axis_off()\n",
    "\n",
    "axs[0].text(-.2, 1.2,'A', transform=axs[0].transAxes,fontsize=8, fontweight='bold', va='top', ha='right');\n",
    "axs[1].text(-.2, 1.2,'B', transform=axs[1].transAxes,fontsize=8, fontweight='bold', va='top', ha='right');\n",
    "axs[2].text(-.2, 1.2,'C', transform=axs[2].transAxes,fontsize=8, fontweight='bold', va='top', ha='right');\n",
    "axs[3].text(-.2, 1.2,'D', transform=axs[3].transAxes,fontsize=8, fontweight='bold', va='top', ha='right');\n",
    "axs[1+cols].text(-.2, 1.2,'E', transform=axs[1+cols].transAxes,fontsize=8, fontweight='bold', va='top', ha='right');\n",
    "axs[2+cols].text(-.2, 1.2,'F', transform=axs[2+cols].transAxes,fontsize=8, fontweight='bold', va='top', ha='right');\n",
    "axs[3+cols].text(-.2, 1.2,'G', transform=axs[3+cols].transAxes,fontsize=8, fontweight='bold', va='top', ha='right');\n",
    "\n",
    "\n",
    "for idx in range(2):\n",
    "    axs[1+idx*cols].axis([0,250,0,1])\n",
    "    axs[1+idx*cols].set_ylabel('CDF')\n",
    "    axs[1+idx*cols].set_xlabel('Baseline rate (spk/s)')\n",
    "    \n",
    "    axs[2+idx*cols].axis([-200,200,0,1])\n",
    "    axs[2+idx*cols].set_xlabel(r'$\\Delta$rate (spk/s)')\n",
    "    axs[2+idx*cols].set_ylabel('CDF')\n",
    "    axs[2+idx*cols].axvline(x=0,ls='--',c='k')\n",
    "    \n",
    "    axs[3+idx*cols].set_xlabel(r'Baseline rate (spk/s)')\n",
    "    axs[3+idx*cols].set_ylabel(r'$\\Delta$rate (spk/s)')\n",
    "    axs[3+idx*cols].spines['top'].set_visible(False)\n",
    "    axs[3+idx*cols].spines['right'].set_visible(False)\n",
    "    axs[3+idx*cols].axhline(y=0,ls='--',c='k')\n",
    "    \n",
    "for idx in range(3):\n",
    "    axs[1+idx+0*cols].set_title('Weak coupling')\n",
    "    axs[1+idx+1*cols].set_title('Strong coupling')\n",
    "    \n",
    "label=['Without opto','With opto']   \n",
    "for idx_cases in [0,1]:#range(len(Possible_J)):\n",
    "    if idx_cases==0:\n",
    "        idx_J=0\n",
    "    if idx_cases==1:\n",
    "        idx_J=1\n",
    "        \n",
    "    J=Possible_J[idx_J]\n",
    "\n",
    "    color=['k','g',];\n",
    "\n",
    "    maks_cells=(RATES[idx_J,1,:]>=1)|(RATES[idx_J,0,:]>=1)\n",
    "    \n",
    "    for idx_L in range(len(L)):\n",
    "        hist, bin_edges=np.histogram(RATES[idx_J,idx_L,maks_cells],bin_edges)\n",
    "        bin_mean=0.5*(bin_edges[0:-1]+bin_edges[1::])\n",
    "        spacings=np.diff(bin_edges)[0];\n",
    "        hist=hist/np.sum(hist*spacings)\n",
    "        axs[idx_cases*cols+1].plot(bin_mean,np.cumsum(spacings*hist),\n",
    "                                   lw=2,c=color[idx_L],label=label[idx_L])\n",
    "\n",
    "    print(J,len(RATES[idx_J,idx_L,maks_cells])/(N_E+N_I))\n",
    "    Delta_Sim=RATES[idx_J,1,maks_cells]-RATES[idx_J,0,maks_cells]\n",
    "    hist_Delta, bin_edges_Delta=np.histogram(Delta_Sim,bin_edges_Delta,normed=True)\n",
    "    CDF_Resp_Delta=np.cumsum(hist_Delta*spacings_Delta)\n",
    "    axs[idx_cases*cols+2].plot(bin_means_Delta,CDF_Resp_Delta,\n",
    "                                  lw=2,c=color[idx_L]);\n",
    "    color=['r','b',];\n",
    "    idx_cells=np.where((np.arange(N_E+N_I)<N_E)&maks_cells)\n",
    "    \n",
    "    axs[idx_cases*cols+3].scatter(RATES[idx_J,0,idx_cells],\n",
    "                                  RATES[idx_J,1,idx_cells]-RATES[idx_J,0,idx_cells],\n",
    "                                  s=1.,alpha=0.6,c=color[0],label='E cells');\n",
    "    \n",
    "    print(np.corrcoef(RATES[idx_J,0,idx_cells],RATES[idx_J,1,idx_cells]-RATES[idx_J,0,idx_cells])[0,1])\n",
    "    idx_cells=np.where((np.arange(N_E+N_I)>=N_E)&maks_cells)\n",
    "    axs[idx_cases*cols+3].scatter(RATES[idx_J,0,idx_cells],\n",
    "                                  RATES[idx_J,1,idx_cells]-RATES[idx_J,0,idx_cells],\n",
    "                                  s=1.,alpha=0.6,c=color[1],label='I cells');\n",
    "    print(np.corrcoef(RATES[idx_J,0,idx_cells],RATES[idx_J,1,idx_cells]-RATES[idx_J,0,idx_cells])[0,1])\n",
    "\n",
    "    print()\n",
    "\n",
    "axs[idx_cases*cols+1].legend(prop={'size': 6},loc='lower right')\n",
    "axs[idx_cases*cols+3].legend(prop={'size': 6},loc='upper right')\n",
    "\n",
    "\n",
    "\n",
    "fig.set_size_inches(2.5*cols,2.*rows)\n",
    "pic_name='Figure_3.pdf'\n",
    "fig.savefig(pic_name,format='pdf',bbox_inches='tight', dpi=300)\n",
    "pic_name='Figure_3.png'\n",
    "fig.savefig(pic_name,format='png',bbox_inches='tight', dpi=300)\n"
   ]
  }
 ],
 "metadata": {
  "anaconda-cloud": {},
  "colab": {
   "collapsed_sections": [],
   "name": "UMAP_embedding",
   "provenance": []
  },
  "kernelspec": {
   "display_name": "Python 3",
   "language": "python",
   "name": "python3"
  },
  "language_info": {
   "codemirror_mode": {
    "name": "ipython",
    "version": 3
   },
   "file_extension": ".py",
   "mimetype": "text/x-python",
   "name": "python",
   "nbconvert_exporter": "python",
   "pygments_lexer": "ipython3",
   "version": "3.8.8"
  }
 },
 "nbformat": 4,
 "nbformat_minor": 1
}
