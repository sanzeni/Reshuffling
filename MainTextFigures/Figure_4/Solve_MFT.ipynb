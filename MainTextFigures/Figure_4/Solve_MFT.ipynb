{
 "cells": [
  {
   "cell_type": "code",
   "execution_count": 13,
   "metadata": {},
   "outputs": [
    {
     "name": "stdout",
     "output_type": "stream",
     "text": [
      "Once deleted, variables cannot be recovered. Proceed (y/[n])? y\n",
      "The autoreload extension is already loaded. To reload it, use:\n",
      "  %reload_ext autoreload\n"
     ]
    }
   ],
   "source": [
    "%reset\n",
    "#%qtconsole\n",
    "%load_ext autoreload\n",
    "%autoreload 2\n",
    "%matplotlib inline \n",
    "import matplotlib.pyplot as plt\n",
    "import functions as fun\n",
    "\n",
    "import numpy as np\n",
    "import matplotlib as mpl\n",
    "from scipy import stats\n",
    "\n",
    "from scipy.interpolate import interp1d,interp2d\n",
    "from scipy.optimize import least_squares\n",
    "\n",
    "import pandas as pd\n",
    "\n",
    "\n",
    "\n"
   ]
  },
  {
   "cell_type": "code",
   "execution_count": 18,
   "metadata": {},
   "outputs": [],
   "source": [
    "RATES=np.load('simulations/RATES.npy')\n"
   ]
  },
  {
   "cell_type": "code",
   "execution_count": 14,
   "metadata": {},
   "outputs": [],
   "source": [
    "sigma_t=0.01; # Input noise, determine how smooth the single neuron transfer function is \n",
    "tau_rp=0.002; # Refractory period\n",
    "\n",
    "g_E=8.; g_I=3;beta=1.; # parameters characterizing the relative strength of synaptic connections\n",
    "K=500*4; # average number of E connections per neuron (I connections are 1/4 of that)\n",
    "sigma_Lambda_over_Lambda=1; # ratio between mean and standard deviation of the opsin expression\n",
    "#sigma_Lambda_over_Lambda=0.5; # ratio between mean and standard deviation of the opsin expression\n",
    "\n",
    "L=[0.,  20. ]; #  Laser intensity that fits the data\n",
    "r_X=20*np.ones(1)\n",
    "#[20,20,20]; # To speed up the code, I show results onlye for low anf high contrast and laser\n",
    "\n",
    "Tmax_over_tau_E=100;\n",
    "#Tmax_over_tau_E=15;\n",
    "\n",
    "p=0.1; # probability of connection between cells. \n",
    "sigma_X_over_r_X=0.2; # Presynaptic population has mean rate r_X, Gaussianly distributed with std=0.2* r_X\n",
    "Lambda=1*10**-3; # mean opsin expression in Volt\n",
    "\n",
    "sigma_Lambda=sigma_Lambda_over_Lambda*Lambda\n",
    "\n",
    "\n",
    "N=int(K/p);\n",
    "N_E,N_I=N,int(N*fun.gamma);\n",
    "N_X=N_E+N_I"
   ]
  },
  {
   "cell_type": "code",
   "execution_count": 15,
   "metadata": {},
   "outputs": [
    {
     "name": "stderr",
     "output_type": "stream",
     "text": [
      "/Users/ale/Dropbox/research/Laser_on_E_cells/Draft_figures_simulations/Figure_3/v2/functions.py:53: IntegrationWarning: The occurrence of roundoff error is detected, which prevents \n",
      "  the requested tolerance from being achieved.  The error may be \n",
      "  underestimated.\n",
      "  adelleh=integrate.quad(lambda u: f(u),minimo,massimo)\n",
      "/Users/ale/Dropbox/research/Laser_on_E_cells/Draft_figures_simulations/Figure_3/v2/functions.py:53: IntegrationWarning: The maximum number of subdivisions (50) has been achieved.\n",
      "  If increasing the limit yields no improvement it is advised to analyze \n",
      "  the integrand in order to determine the difficulties.  If the position of a \n",
      "  local difficulty can be determined (singularity, discontinuity) one will \n",
      "  probably gain from splitting up the interval and calling the integrator \n",
      "  on the subranges.  Perhaps a special-purpose integrator should be used.\n",
      "  adelleh=integrate.quad(lambda u: f(u),minimo,massimo)\n"
     ]
    }
   ],
   "source": [
    "'''\n",
    "mu_tab_max=10.0;\n",
    "mu_tab=np.linspace(-mu_tab_max,mu_tab_max,200000)\n",
    "mu_tab=np.concatenate(([-10000],mu_tab))\n",
    "mu_tab=np.concatenate((mu_tab,[10000]))\n",
    "\n",
    "phi_tab_E,phi_tab_I=mu_tab*0,mu_tab*0;\n",
    "for idx in range(len(phi_tab_E)):\n",
    "    phi_tab_E[idx]=fun.comp_phi_tab(mu_tab[idx],fun.tau_E,tau_rp,sigma_t)\n",
    "    phi_tab_I[idx]=fun.comp_phi_tab(mu_tab[idx],fun.tau_I,tau_rp,sigma_t)\n",
    "\n",
    "phi_int_E=interp1d(mu_tab, phi_tab_E, kind='linear')  \n",
    "phi_int_I=interp1d(mu_tab, phi_tab_I, kind='linear')\n",
    "'''"
   ]
  },
  {
   "cell_type": "code",
   "execution_count": 37,
   "metadata": {},
   "outputs": [
    {
     "name": "stdout",
     "output_type": "stream",
     "text": [
      "[3.  2.5]\n",
      "[3.  0.5]\n"
     ]
    }
   ],
   "source": [
    "Possible_J=[0.00002,0.0006]#,0.0007,0.0008]#10**np.linspace(-5,-3,20); # Synaptic efficacy in Volts\n",
    "\n",
    "ALL_sol,ALL_moments_of_r,ALL_moments_of_mu,ALL_errors_r=[],[],[],[],\n",
    "Phi=[phi_int_E,phi_int_I];\n",
    "for idx_J in range(len(Possible_J)):\n",
    "\n",
    "    G_E,G_I=1.0,2.0 # Gain of Excitatory and inhibitory cells and I cells\n",
    "    w_EE=1;w_IE=w_EE/beta;\n",
    "    w_EI=g_E*w_EE;w_II=g_I*w_IE;\n",
    "    \n",
    "    w_EX,w_IX=(G_I*fun.gamma*g_E-G_E)*w_EE,(G_I*fun.gamma*g_I-G_E)*w_IE; \n",
    "    J=Possible_J[idx_J]*np.sqrt(500/K)\n",
    "    if idx_J==0:\n",
    "        w_X=np.asarray([w_EX,5*w_IX]);\n",
    "    if idx_J>0:\n",
    "        w_X=np.asarray([w_EX,w_IX]);\n",
    "    print(w_X)\n",
    "    w=np.zeros((2,2));\n",
    "    w[0,:]=w_EE,-w_EI\n",
    "    w[1,:]=w_IE,-w_II\n",
    "    \n",
    "    sol,moments_of_r,moments_of_mu,errors_r=fun.Solve_MF_equations(r_X,L[-1],sigma_X_over_r_X,J,K,w,w_X,p,Lambda,sigma_Lambda,Phi)\n",
    "    \n",
    "    ALL_sol=ALL_sol+[sol]\n",
    "    ALL_moments_of_r=ALL_moments_of_r+[moments_of_r]\n",
    "    ALL_moments_of_mu=ALL_moments_of_mu+[moments_of_mu]\n",
    "    ALL_errors_r=ALL_errors_r+[errors_r]\n",
    "    \n",
    "    \n",
    "    "
   ]
  },
  {
   "cell_type": "code",
   "execution_count": 80,
   "metadata": {},
   "outputs": [],
   "source": [
    "np.savetxt('ALL_moments_of_mu.txt',ALL_moments_of_mu)"
   ]
  },
  {
   "cell_type": "code",
   "execution_count": null,
   "metadata": {},
   "outputs": [],
   "source": []
  },
  {
   "cell_type": "code",
   "execution_count": 23,
   "metadata": {},
   "outputs": [
    {
     "data": {
      "text/plain": [
       "[<matplotlib.lines.Line2D at 0x7fad20fd7bb0>]"
      ]
     },
     "execution_count": 23,
     "metadata": {},
     "output_type": "execute_result"
    },
    {
     "data": {
      "image/png": "[encoded data removed]",
      "text/plain": [
       "<Figure size 432x288 with 1 Axes>"
      ]
     },
     "metadata": {
      "needs_background": "light"
     },
     "output_type": "display_data"
    }
   ],
   "source": [
    "plt.plot(sol.t,sol.y[3,:])\n"
   ]
  },
  {
   "cell_type": "code",
   "execution_count": 25,
   "metadata": {},
   "outputs": [
    {
     "data": {
      "text/plain": [
       "array([ 0.00714556,  0.00425837,  0.33861867, -0.00513616, -0.08130193,\n",
       "       -0.00205416, -0.01014327,  0.06660704, -0.00193678,  0.01675053])"
      ]
     },
     "execution_count": 25,
     "metadata": {},
     "output_type": "execute_result"
    }
   ],
   "source": [
    "errors_r/sol.y[:,-1]"
   ]
  },
  {
   "cell_type": "code",
   "execution_count": 78,
   "metadata": {},
   "outputs": [
    {
     "name": "stderr",
     "output_type": "stream",
     "text": [
      "<ipython-input-78-d668f784033d>:71: VisibleDeprecationWarning: Passing `normed=True` on non-uniform bins has always been broken, and computes neither the probability density function nor the probability mass function. The result is only correct if the bins are uniform, when density=True will produce the same result anyway. The argument will be removed in a future version of numpy.\n",
      "  hist_Delta, bin_edges_Delta=np.histogram(Delta_Sim,bin_edges_Delta,normed=True)\n",
      "<ipython-input-78-d668f784033d>:71: VisibleDeprecationWarning: Passing `normed=True` on non-uniform bins has always been broken, and computes neither the probability density function nor the probability mass function. The result is only correct if the bins are uniform, when density=True will produce the same result anyway. The argument will be removed in a future version of numpy.\n",
      "  hist_Delta, bin_edges_Delta=np.histogram(Delta_Sim,bin_edges_Delta,normed=True)\n"
     ]
    },
    {
     "data": {
      "text/plain": [
       "(-200.0, 250.0, 0.0, 1.0)"
      ]
     },
     "execution_count": 78,
     "metadata": {},
     "output_type": "execute_result"
    },
    {
     "data": {
      "image/png": "[encoded data removed]",
      "text/plain": [
       "<Figure size 360x288 with 4 Axes>"
      ]
     },
     "metadata": {},
     "output_type": "display_data"
    }
   ],
   "source": [
    "bin_edges=np.arange(0,1./tau_rp,.1)\n",
    "spacings=np.diff(bin_edges)[0];\n",
    "bin_means=0.5*(bin_edges[0:-1]+bin_edges[1::])\n",
    "bin_edges_Delta=np.arange(-1./tau_rp,1./tau_rp,.1)\n",
    "spacings_Delta=np.diff(bin_edges)[0];\n",
    "bin_means_Delta=0.5*(bin_edges_Delta[0:-1]+bin_edges_Delta[1::])\n",
    "\n",
    "\n",
    "cols=2\n",
    "rows=2\n",
    "fig, axs = plt.subplots(rows,cols, figsize=(2.5*cols,2.0*rows), facecolor='w', edgecolor='k',sharex='col')#,sharex=True)\n",
    "fig.subplots_adjust(hspace = .5, wspace=.5)\n",
    "area=1.0;linethicknes=1.0;\n",
    "axs = axs.ravel()\n",
    "font = {'family' : 'normal','weight' : 'normal','size'   : 7, 'family':'serif','serif':['Arial']}\n",
    "mpl.rc('font', **font)\n",
    "mpl.rcParams['lines.linewidth'] =linethicknes\n",
    "mpl.rcParams['text.usetex'] = False\n",
    "mpl.rcParams['mathtext.fontset'] = 'stix'\n",
    "mpl.rcParams['mathtext.rm'] = 'serif'\n",
    "mpl.rcParams['pdf.fonttype'] = 42\n",
    "\n",
    "\n",
    "color=['k','g',];\n",
    "idx_cell=0;\n",
    "Frac=[1,0]\n",
    "label=['Without opto','With opto']\n",
    "\n",
    "for idx_J in range(len(Possible_J)):\n",
    "\n",
    "    moments_of_mu=ALL_moments_of_mu[idx_J]\n",
    "    ALL_phi_no_opto,ALL_phi_opto=[],[]\n",
    "    for idx_cell_type in [0,1]:\n",
    "        if idx_cell_type==0:\n",
    "            opto=[L[-1],Lambda,sigma_Lambda]\n",
    "\n",
    "\n",
    "        if idx_cell_type==1:\n",
    "            opto=[0,0,0]\n",
    "\n",
    "        phi_no_opto,phi_opto=fun.Distribution_of_phi_delta_phi(Phi[idx_cell_type],moments_of_mu[(idx_cell_type*5):((idx_cell_type+1)*5)],opto)\n",
    "        \n",
    "        ALL_phi_no_opto=ALL_phi_no_opto+[phi_no_opto]\n",
    "        ALL_phi_opto=ALL_phi_opto+[phi_opto]\n",
    "    r_i_no_opto=np.concatenate((ALL_phi_no_opto[0],ALL_phi_no_opto[1][0:int(fun.gamma*len(ALL_phi_no_opto[0]))]))\n",
    "    r_i_opto=np.concatenate((ALL_phi_opto[0],ALL_phi_opto[1][0:int(fun.gamma*len(ALL_phi_opto[0]))]))\n",
    "    r_i=[r_i_no_opto,r_i_opto]#phi_delta_phi_E=fun.Distribution_of_phi_delta_phi(Phi[idx_cell_type],moments_of_mu[(idx_cell_type*5):((idx_cell_type+1)*5)],opto)\n",
    "        \n",
    "    \n",
    "    rate_th=1.\n",
    "    maks_cells=(RATES[idx_J,1,:]>=rate_th)|(RATES[idx_J,0,:]>=rate_th)\n",
    "    maks_cells_MFT=(r_i[0]>=rate_th)|(r_i[1]>=rate_th)\n",
    "\n",
    "    \n",
    "    for idx_L in range(len(L)):\n",
    "        hist, bin_edges=np.histogram(RATES[idx_J,idx_L,:][maks_cells],bin_edges)#,normed=True)\n",
    "        bin_mean=0.5*(bin_edges[0:-1]+bin_edges[1::])\n",
    "        spacings=np.diff(bin_edges)[0];\n",
    "        hist=hist/np.sum(hist*spacings)\n",
    "        indices=np.arange(0,len(bin_mean),23)\n",
    "        axs[cols*idx_J+0].scatter(bin_mean[indices],np.cumsum(spacings*hist)[indices],c=color[idx_L],s=area,label=label[idx_L])\n",
    "\n",
    "        hist, bin_edges=np.histogram(r_i[idx_L][maks_cells_MFT],bin_edges)#,normed=True)\n",
    "        P_of_nu=hist/np.sum(hist*spacings)\n",
    "        axs[cols*idx_J+0].plot(bin_mean,np.cumsum(spacings*P_of_nu),c='purple')\n",
    "        \n",
    "\n",
    "    indices=np.arange(0,len(bin_means_Delta),13)\n",
    "\n",
    "    Delta_Sim=(RATES[idx_J,1,:]-RATES[idx_J,0,:])[maks_cells]\n",
    "    hist_Delta, bin_edges_Delta=np.histogram(Delta_Sim,bin_edges_Delta,normed=True)\n",
    "    CDF_Resp_Delta=np.cumsum(hist_Delta*spacings_Delta)\n",
    "    axs[cols*idx_J+1].scatter(bin_means_Delta[indices],CDF_Resp_Delta[indices],c='g',s=area);\n",
    "    \n",
    "    hist_Delta, bin_edges_Delta=np.histogram((r_i[idx_L]-r_i[0])[maks_cells_MFT],bin_edges_Delta)#,normed=True)\n",
    "    P_of_nu=hist_Delta/np.sum(hist_Delta*spacings_Delta)\n",
    "    axs[cols*idx_J+1].plot(bin_means_Delta,np.cumsum(spacings*P_of_nu),c='purple')\n",
    "\n",
    "    \n",
    "    cov_sim=np.cov(RATES[idx_J,0,:][maks_cells],RATES[idx_J,1,:][maks_cells]-RATES[idx_J,0,:][maks_cells])\n",
    "    #cov_mft=np.cov(r_i[0],r_i[1]-r_i[0])\n",
    "    \n",
    "    #axs[cols*idx_J+2].set_title(r'$\\rho_{RS,sim}=$%.2f, $\\rho_{RS,mft}=$%.2f'%(cov_sim[0,1]/cov_sim[1,1],cov_mft[0,1]/cov_mft[1,1]))\n",
    "\n",
    "\n",
    "    #for idx_cell in range(11):\n",
    "    #    axs[cols*idx_J+3].plot(T[mask_time]-T[mask_time][0],DYNA[idx_J,1,:,mask_time],marker='o',markersize=0.1,alpha=0.5)\n",
    "    #    axs[cols*idx_J+3].plot(T[mask_time]-T[mask_time][0],DYNA[idx_J,0,:,mask_time],marker='o',markersize=0.1,alpha=0.5)\n",
    "\n",
    "axs[0].axis([0,250,0,1])\n",
    "axs[1].axis([-200,250,0,1])\n",
    "\n"
   ]
  },
  {
   "cell_type": "code",
   "execution_count": 58,
   "metadata": {},
   "outputs": [
    {
     "name": "stdout",
     "output_type": "stream",
     "text": [
      "2500.0 10000\n"
     ]
    }
   ],
   "source": [
    "print(fun.gamma*len(ALL_phi_no_opto[0]),len(ALL_phi_no_opto[0]))"
   ]
  },
  {
   "cell_type": "code",
   "execution_count": 59,
   "metadata": {},
   "outputs": [
    {
     "data": {
      "text/plain": [
       "0.2"
      ]
     },
     "execution_count": 59,
     "metadata": {},
     "output_type": "execute_result"
    }
   ],
   "source": [
    "2.5/(2.5+10)"
   ]
  },
  {
   "cell_type": "markdown",
   "metadata": {},
   "source": [
    "# Computing rates from dynamical simulations"
   ]
  },
  {
   "cell_type": "code",
   "execution_count": 5,
   "metadata": {},
   "outputs": [
    {
     "name": "stdout",
     "output_type": "stream",
     "text": [
      "Computing and saving network response\n",
      "[3.  0.5]\n",
      "[[ 1.e-05 -8.e-05]\n",
      " [ 1.e-05 -3.e-05]]\n",
      "0.5 0.5\n",
      "66.66615819298215 28.12770491557303 4.033138034837933 1.4641418880905244\n",
      "0.5 1.0\n",
      "114.40946253846099 55.21145569526765 42.00674917022449 3.3883581852307096\n",
      "[ 58.95846754  43.61139363  15.84536794  38.1428022  134.35806036]\n",
      "[3.  0.5]\n",
      "[[ 0.0003 -0.0024]\n",
      " [ 0.0003 -0.0009]]\n",
      "1.0 0.5\n",
      "25.0380761969648 44.62904810366476 58.0394793639579 51.147694405445854\n",
      "1.0 1.0\n",
      "26.271749697189552 46.25120047840869 61.3507627949888 53.166287426028134\n",
      "[  28.95627058    1.31136928   57.26684249   33.25329472 -372.48520265]\n"
     ]
    }
   ],
   "source": [
    "print('Computing and saving network response')\n",
    "T=np.arange(0,Tmax_over_tau_E*fun.tau_E,fun.tau_I/3);\n",
    "\n",
    "#mask_time=T>(10*fun.tau_E)\n",
    "mask_time=T>(T/2)\n",
    "\n",
    "# Generate quenched disorder\n",
    "Possible_J=[0.00002,0.0006]#,0.0007,0.0008]#10**np.linspace(-5,-3,20); # Synaptic efficacy in Volts\n",
    "\n",
    "\n",
    "RATES=-1*np.ones((len(Possible_J),len(L),N_E+N_I))\n",
    "DYNA=-1*np.ones((len(Possible_J),len(L),N_E+N_I,len(T)))\n",
    "MUS=-1*np.ones((len(Possible_J),len(L),N_E+N_I))\n",
    "Lambda_i_L=1./tau_rp*np.ones((len(Possible_J),len(L),N_E+N_I))\n",
    "MFT_SOL_R=np.ones((len(Possible_J),len(L),10))\n",
    "MFT_SOL_M=np.ones((len(Possible_J),len(L),10))\n",
    "Phi=[phi_int_E,phi_int_I];\n",
    "for idx_J in range(len(Possible_J)):\n",
    "\n",
    "    G_E,G_I=1.0,2.0 # Gain of Excitatory and inhibitory cells and I cells\n",
    "    w_EE=1;w_IE=w_EE/beta;\n",
    "    w_EI=g_E*w_EE;w_II=g_I*w_IE;\n",
    "    \n",
    "    w_EX,w_IX=(G_I*fun.gamma*g_E-G_E)*w_EE,(G_I*fun.gamma*g_I-G_E)*w_IE; \n",
    "    J=Possible_J[idx_J]*np.sqrt(500/K)\n",
    "    if idx_J==0:\n",
    "        w_X=np.asarray([w_EX,5*w_IX]);\n",
    "    if idx_J>0:\n",
    "        w_X=np.asarray([w_EX,w_IX]);\n",
    "    w_X=np.asarray([w_EX,w_IX]);\n",
    "    print(w_X)\n",
    "    w=np.zeros((2,2));\n",
    "    w[0,:]=w_EE,-w_EI\n",
    "    w[1,:]=w_IE,-w_II\n",
    "\n",
    "    M,mu_X_over_r_X_tau,Lambda_i,N_E,N_I=fun.Generate_quenched_disorder(sigma_X_over_r_X,J,K,w,w_X,p,Lambda,sigma_Lambda)\n",
    "\n",
    "    print(w*J)\n",
    "    \n",
    "    for idx_L in range(len(L)):\n",
    "        r_X_local,L_local=r_X[0],L[idx_L];\n",
    "        print((idx_J+1)/len(Possible_J),(idx_L+1)/len(L))\n",
    "        DYNA[idx_J,idx_L,:,:], MUS[idx_J,idx_L,:],Lambda_i_L[idx_J,idx_L,:]=fun.High_dimensional_dynamics(T,L_local,r_X_local,M,mu_X_over_r_X_tau,Lambda_i,N_E,N_I,phi_int_E,phi_int_I);\n",
    "        RATES[idx_J,idx_L,:]=np.mean(DYNA[idx_J,idx_L,:,mask_time],axis=0)\n",
    "        print(np.mean(RATES[idx_J,idx_L,0:N_E]),\n",
    "              np.mean(RATES[idx_J,idx_L,N_E::]),\n",
    "              np.std(RATES[idx_J,idx_L,0:N_E]),\n",
    "              np.std(RATES[idx_J,idx_L,N_E::]))\n",
    "    Base_Sim=RATES[idx_J,0,:]\n",
    "    Delta_Sim=RATES[idx_J,idx_L,:]-RATES[idx_J,0,:]\n",
    "\n",
    "    moments_of_r_sim=np.zeros(5)\n",
    "    moments_of_r_sim[0]=np.mean(Base_Sim)\n",
    "    moments_of_r_sim[1]=np.mean(Delta_Sim)\n",
    "    moments_of_r_sim[2]=np.std(Base_Sim)\n",
    "    moments_of_r_sim[3]=np.std(Delta_Sim)\n",
    "    moments_of_r_sim[4]=np.cov(Base_Sim,Delta_Sim)[0,1]\n",
    "    print(moments_of_r_sim[:])\n",
    "\n",
    "    "
   ]
  },
  {
   "cell_type": "markdown",
   "metadata": {},
   "source": [
    "# Computing rates from MFT"
   ]
  },
  {
   "cell_type": "code",
   "execution_count": 6,
   "metadata": {},
   "outputs": [],
   "source": [
    "sol,moments_of_r,moments_of_mu,errors_r=fun.Solve_MF_equations(r_X,L[-1],sigma_X_over_r_X,J,K,w,w_X,p,Lambda,sigma_Lambda,Phi)"
   ]
  },
  {
   "cell_type": "code",
   "execution_count": 7,
   "metadata": {},
   "outputs": [
    {
     "data": {
      "text/plain": [
       "[<matplotlib.lines.Line2D at 0x7fad137109d0>]"
      ]
     },
     "execution_count": 7,
     "metadata": {},
     "output_type": "execute_result"
    },
    {
     "data": {
      "image/png": "[encoded data removed]",
      "text/plain": [
       "<Figure size 432x288 with 1 Axes>"
      ]
     },
     "metadata": {
      "needs_background": "light"
     },
     "output_type": "display_data"
    }
   ],
   "source": [
    "plt.plot(sol.t,sol.y[4,:])\n"
   ]
  },
  {
   "cell_type": "code",
   "execution_count": 8,
   "metadata": {},
   "outputs": [
    {
     "data": {
      "text/plain": [
       "[<matplotlib.lines.Line2D at 0x7fad00d8deb0>]"
      ]
     },
     "execution_count": 8,
     "metadata": {},
     "output_type": "execute_result"
    },
    {
     "data": {
      "image/png": "[encoded data removed]",
      "text/plain": [
       "<Figure size 432x288 with 1 Axes>"
      ]
     },
     "metadata": {
      "needs_background": "light"
     },
     "output_type": "display_data"
    }
   ],
   "source": [
    "plt.plot(sol.t,sol.y[-1,:])"
   ]
  },
  {
   "cell_type": "code",
   "execution_count": 9,
   "metadata": {},
   "outputs": [
    {
     "name": "stdout",
     "output_type": "stream",
     "text": [
      "25.0380761969648 58.0394793639579 1.2336735002247556 35.42655800656397 -429.87453447910127\n",
      "25.1783044414714 61.02414385388756 1.2467530288663 41.83613420048192 -679.9800299709412\n",
      "0.08224559260594688 -0.8929393747114887 -0.1834255131294198 0.4899122705363368 -28.62699623739536\n"
     ]
    }
   ],
   "source": [
    "idx_cells=np.where((np.arange(len(Lambda_i))<N_E))\n",
    "Base_Sim=RATES[idx_J,0,idx_cells]\n",
    "Delta_Sim=RATES[idx_J,1,idx_cells]-RATES[idx_J,0,idx_cells]\n",
    "    \n",
    "print(np.mean(Base_Sim),np.std(Base_Sim),\n",
    "      np.mean(Delta_Sim),np.std(Delta_Sim),\n",
    "      np.cov(Base_Sim,Delta_Sim)[0,1],\n",
    "     )\n",
    "print(*moments_of_r[0:5])\n",
    "print(*errors_r[0:5])"
   ]
  },
  {
   "cell_type": "code",
   "execution_count": 10,
   "metadata": {},
   "outputs": [
    {
     "name": "stdout",
     "output_type": "stream",
     "text": [
      "44.637109375765675 51.14963386424627 1.621768841160651 22.554916925484946 -149.07206924099876\n",
      "44.76189346426379 53.73643539109509 1.607293423357948 29.42538380199593 -325.114373832285\n",
      "1.1184262776111424 0.01260869508325868 0.6808793002142217 0.5589758985726689 -1.568566644536304\n"
     ]
    }
   ],
   "source": [
    "idx_cells=np.where((np.arange(len(Lambda_i))>N_E))\n",
    "Base_Sim=RATES[idx_J,0,idx_cells]\n",
    "Delta_Sim=RATES[idx_J,1,idx_cells]-RATES[idx_J,0,idx_cells]\n",
    "    \n",
    "print(np.mean(Base_Sim),np.std(Base_Sim),\n",
    "      np.mean(Delta_Sim),np.std(Delta_Sim),\n",
    "      np.cov(Base_Sim,Delta_Sim)[0,1],\n",
    "     )\n",
    "print(*moments_of_r[5::])\n",
    "print(*errors_r[5::])"
   ]
  },
  {
   "cell_type": "markdown",
   "metadata": {},
   "source": [
    "# Compare simulations and MFT"
   ]
  },
  {
   "cell_type": "code",
   "execution_count": 12,
   "metadata": {},
   "outputs": [
    {
     "name": "stderr",
     "output_type": "stream",
     "text": [
      "<ipython-input-12-8457ab06b21c>:63: VisibleDeprecationWarning: Passing `normed=True` on non-uniform bins has always been broken, and computes neither the probability density function nor the probability mass function. The result is only correct if the bins are uniform, when density=True will produce the same result anyway. The argument will be removed in a future version of numpy.\n",
      "  hist_Delta, bin_edges_Delta=np.histogram(Delta_Sim,bin_edges_Delta,normed=True)\n",
      "<ipython-input-12-8457ab06b21c>:63: VisibleDeprecationWarning: Passing `normed=True` on non-uniform bins has always been broken, and computes neither the probability density function nor the probability mass function. The result is only correct if the bins are uniform, when density=True will produce the same result anyway. The argument will be removed in a future version of numpy.\n",
      "  hist_Delta, bin_edges_Delta=np.histogram(Delta_Sim,bin_edges_Delta,normed=True)\n"
     ]
    },
    {
     "data": {
      "text/plain": [
       "(-100.0, 200.0, 0.0, 1.0)"
      ]
     },
     "execution_count": 12,
     "metadata": {},
     "output_type": "execute_result"
    },
    {
     "data": {
      "image/png": "[encoded data removed]",
      "text/plain": [
       "<Figure size 720x288 with 8 Axes>"
      ]
     },
     "metadata": {},
     "output_type": "display_data"
    }
   ],
   "source": [
    "bin_edges=np.arange(0,1./tau_rp,.1)\n",
    "spacings=np.diff(bin_edges)[0];\n",
    "bin_means=0.5*(bin_edges[0:-1]+bin_edges[1::])\n",
    "bin_edges_Delta=np.arange(-1./tau_rp,1./tau_rp,.1)\n",
    "spacings_Delta=np.diff(bin_edges)[0];\n",
    "bin_means_Delta=0.5*(bin_edges_Delta[0:-1]+bin_edges_Delta[1::])\n",
    "\n",
    "\n",
    "cols=4\n",
    "rows=2\n",
    "fig, axs = plt.subplots(rows,cols, figsize=(2.5*cols,2.0*rows), facecolor='w', edgecolor='k',sharex='col')#,sharex=True)\n",
    "fig.subplots_adjust(hspace = .5, wspace=.5)\n",
    "area=1.0;linethicknes=1.0;\n",
    "axs = axs.ravel()\n",
    "font = {'family' : 'normal','weight' : 'normal','size'   : 7, 'family':'serif','serif':['Arial']}\n",
    "mpl.rc('font', **font)\n",
    "mpl.rcParams['lines.linewidth'] =linethicknes\n",
    "mpl.rcParams['text.usetex'] = False\n",
    "mpl.rcParams['mathtext.fontset'] = 'stix'\n",
    "mpl.rcParams['mathtext.rm'] = 'serif'\n",
    "mpl.rcParams['pdf.fonttype'] = 42\n",
    "\n",
    "\n",
    "color=['k','b',];\n",
    "idx_cell=0;\n",
    "Frac=[1,0]\n",
    "label=['Without opto','With opto']\n",
    "\n",
    "idx_J=1;\n",
    "\n",
    "for idx_cell_type in [0,1]:\n",
    "    if idx_cell_type==0:\n",
    "        idx_cells=np.where((np.arange(len(Lambda_i))<N_E))\n",
    "        opto=[L[-1],Lambda,sigma_Lambda]\n",
    "    \n",
    "    \n",
    "    if idx_cell_type==1:\n",
    "        idx_cells=np.where((np.arange(len(Lambda_i))>N_E))\n",
    "        opto=[0,0,0]\n",
    "\n",
    "    r_i=fun.Distribution_of_phi_delta_phi(Phi[idx_cell_type],moments_of_mu[(idx_cell_type*5):((idx_cell_type+1)*5)],opto)\n",
    "        \n",
    "    \n",
    "\n",
    "    \n",
    "    for idx_L in range(len(L)):\n",
    "        #hist, bin_edges=np.histogram(RATES[idx_J,idx_L,0:N_E],bin_edges)#,normed=True)\n",
    "        hist, bin_edges=np.histogram(RATES[idx_J,idx_L,idx_cells],bin_edges)#,normed=True)\n",
    "        bin_mean=0.5*(bin_edges[0:-1]+bin_edges[1::])\n",
    "        spacings=np.diff(bin_edges)[0];\n",
    "        hist=hist/np.sum(hist*spacings)\n",
    "        indices=np.arange(0,len(bin_mean),23)\n",
    "        axs[cols*idx_cell_type+0].scatter(bin_mean[indices],np.cumsum(spacings*hist)[indices],c=color[idx_L],s=area,label=label[idx_L])\n",
    "\n",
    "        hist, bin_edges=np.histogram(r_i[idx_L],bin_edges)#,normed=True)\n",
    "        P_of_nu_E=hist/np.sum(hist*spacings)\n",
    "        axs[cols*idx_cell_type+0].plot(bin_mean,np.cumsum(spacings*P_of_nu_E),c='purple')\n",
    "\n",
    "\n",
    "    indices=np.arange(0,len(bin_means_Delta),13)\n",
    "\n",
    "    Delta_Sim=(RATES[idx_J,1,:]-RATES[idx_J,0,:])[idx_cells]\n",
    "    hist_Delta, bin_edges_Delta=np.histogram(Delta_Sim,bin_edges_Delta,normed=True)\n",
    "    CDF_Resp_Delta=np.cumsum(hist_Delta*spacings_Delta)\n",
    "    axs[cols*idx_cell_type+1].scatter(bin_means_Delta[indices],CDF_Resp_Delta[indices],c='b',s=area);\n",
    "\n",
    "    hist_Delta, bin_edges_Delta=np.histogram(r_i[idx_L]-r_i[0],bin_edges_Delta)#,normed=True)\n",
    "    P_of_nu_E=hist_Delta/np.sum(hist_Delta*spacings_Delta)\n",
    "    axs[cols*idx_cell_type+1].plot(bin_means_Delta,np.cumsum(spacings*P_of_nu_E),c='purple')\n",
    "\n",
    "    axs[cols*idx_cell_type+2].scatter(RATES[idx_J,0,idx_cells],RATES[idx_J,1,idx_cells]-RATES[idx_J,0,idx_cells],c='r',s=1,alpha=0.1);\n",
    "    pippo=np.cov(RATES[idx_J,0,idx_cells],RATES[idx_J,1,idx_cells]-RATES[idx_J,0,idx_cells])\n",
    "    cov_sim=np.cov(RATES[idx_J,0,idx_cells],RATES[idx_J,1,idx_cells]-RATES[idx_J,0,idx_cells])\n",
    "    cov_mft=np.cov(r_i[0],r_i[1]-r_i[0])\n",
    "    \n",
    "    axs[cols*idx_cell_type+2].set_title(r'$\\rho_{RS,sim}=$%.2f, $\\rho_{RS,mft}=$%.2f'%(cov_sim[0,1]/cov_sim[1,1],cov_mft[0,1]/cov_mft[1,1]))\n",
    "\n",
    "\n",
    "    for idx_cell in range(11):\n",
    "        axs[cols*idx_cell_type+3].plot(T[mask_time]-T[mask_time][0],DYNA[idx_J,1,idx_cell,mask_time],marker='o',markersize=0.1,alpha=0.5)\n",
    "        axs[cols*idx_cell_type+3].plot(T[mask_time]-T[mask_time][0],DYNA[idx_J,0,idx_cell,mask_time],marker='o',markersize=0.1,alpha=0.5)\n",
    "\n",
    "axs[0].axis([0,200,0,1])\n",
    "axs[1].axis([-100,200,0,1])\n",
    "\n"
   ]
  },
  {
   "cell_type": "code",
   "execution_count": null,
   "metadata": {},
   "outputs": [],
   "source": []
  },
  {
   "cell_type": "code",
   "execution_count": null,
   "metadata": {},
   "outputs": [],
   "source": []
  }
 ],
 "metadata": {
  "anaconda-cloud": {},
  "kernelspec": {
   "display_name": "Python 3",
   "language": "python",
   "name": "python3"
  },
  "language_info": {
   "codemirror_mode": {
    "name": "ipython",
    "version": 3
   },
   "file_extension": ".py",
   "mimetype": "text/x-python",
   "name": "python",
   "nbconvert_exporter": "python",
   "pygments_lexer": "ipython3",
   "version": "3.8.8"
  }
 },
 "nbformat": 4,
 "nbformat_minor": 2
}
