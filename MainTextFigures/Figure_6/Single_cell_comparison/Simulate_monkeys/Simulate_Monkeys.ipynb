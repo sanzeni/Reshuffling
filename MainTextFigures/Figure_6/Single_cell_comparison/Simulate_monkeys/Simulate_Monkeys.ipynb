{
 "cells": [
  {
   "cell_type": "code",
   "execution_count": 1,
   "metadata": {},
   "outputs": [
    {
     "name": "stdin",
     "output_type": "stream",
     "text": [
      "Once deleted, variables cannot be recovered. Proceed (y/[n])?  y\n"
     ]
    }
   ],
   "source": [
    "%reset\n",
    "#%qtconsole\n",
    "%load_ext autoreload\n",
    "%autoreload 2\n",
    "%matplotlib inline \n",
    "import matplotlib.pyplot as plt\n",
    "import functions as fun\n",
    "\n",
    "import numpy as np\n",
    "import matplotlib as mpl\n",
    "from scipy import stats\n",
    "\n",
    "from scipy.interpolate import interp1d,interp2d\n",
    "from scipy.optimize import least_squares\n",
    "\n",
    "import pandas as pd\n",
    "\n",
    "\n",
    "\n"
   ]
  },
  {
   "cell_type": "code",
   "execution_count": 2,
   "metadata": {
    "scrolled": true
   },
   "outputs": [
    {
     "name": "stdout",
     "output_type": "stream",
     "text": [
      "0.8128305161640993\n"
     ]
    }
   ],
   "source": [
    "#for idx_cases in [0,1]:\n",
    "for idx_cases in [1]:\n",
    "    if idx_cases==0:\n",
    "        #Mice separated 1.1936049813018852\n",
    "        best_param=np.array([ 9.97,  8.4 , -0.48, -1.7 , -0.1 , -3.88])\n",
    "        best_inputs=np.array([0.86, 0.89, 0.91, 0.94, 0.95, 1.02, 1.14, 0.62])\n",
    "\n",
    "    if idx_cases==1:\n",
    "        #Monkeys separated 4.827433845320423\n",
    "        best_param=np.array([ 4.58,  2.73, -0.09, -2.14,  0.82, -3.35])\n",
    "        best_inputs=np.array([1.16, 1.48, 1.57, 1.63, 1.65, 1.68, 0.4 ])\n",
    "        \n",
    "\n",
    "\n",
    "    g_E=best_param[0]; g_I=best_param[1];beta=10**best_param[2]; # parameters characterizing the relative strength of synaptic connections\n",
    "    K=500; # average number of E connections per neuron (I connections are 1/4 of that)\n",
    "    sigma_Lambda_over_Lambda=10**best_param[4]; # ratio between mean and standard deviation of the opsin expression\n",
    "    CV_K=10**best_param[3]\n",
    "    J=10**best_param[5]; # Synaptic efficacy in Volts\n",
    "    L=[0., 10**best_inputs[-1]]; #  Laser intensity that fits the data\n",
    "    r_X=10**best_inputs[0:-1]\n",
    "\n",
    "\n",
    "    print(beta)\n",
    "    #print(CV_K,J*10**3,g_E,g_I,beta)\n",
    "    #print(r_X[0],r_X[-1])\n",
    "    #print(L[1])\n",
    "    #print(sigma_Lambda_over_Lambda)\n",
    "\n",
    "\n"
   ]
  },
  {
   "cell_type": "code",
   "execution_count": 33,
   "metadata": {},
   "outputs": [],
   "source": [
    "sigma_t=0.01; # Input noise, determine how smooth the single neuron transfer function is \n",
    "tau_rp=0.002; # Refractory period\n",
    "\n",
    "g_E=best_param[0]; g_I=best_param[1];beta=10**best_param[2]; # parameters characterizing the relative strength of synaptic connections\n",
    "K=500; # average number of E connections per neuron (I connections are 1/4 of that)\n",
    "sigma_Lambda_over_Lambda=10**best_param[4]; # ratio between mean and standard deviation of the opsin expression\n",
    "CV_K=10**best_param[3]\n",
    "J=10**best_param[5]; # Synaptic efficacy in Volts\n",
    "L=[0., 10**best_inputs[-1]]; #  Laser intensity that fits the data\n",
    "#r_X=[10**best_inputs[-2]]\n",
    "r_X=10**best_inputs[0:-1]\n",
    "#[20,20,20]; # To speed up the code, I show results onlye for low anf high contrast and laser\n",
    "\n",
    "Tmax_over_tau_E=200;\n",
    "\n",
    "p=0.1; # probability of connection between cells. \n",
    "sigma_X_over_r_X=0.2; # Presynaptic population has mean rate r_X, Gaussianly distributed with std=0.2* r_X\n",
    "Lambda=1*10**-3; # mean opsin expression in Volt\n",
    "\n",
    "sigma_Lambda=sigma_Lambda_over_Lambda*Lambda\n",
    "\n",
    "# In what follows, I compute W_{AB} starting from the parameters defined above\n",
    "G_E,G_I=1.0,2.0 # Gain of Excitatory and inhibitory cells and I cells\n",
    "w_EE=1;w_IE=w_EE/beta;\n",
    "w_EI=g_E*w_EE;w_II=g_I*w_IE;\n",
    "w_EX,w_IX=(G_I*fun.gamma*g_E-G_E)*w_EE,(G_I*fun.gamma*g_I-G_E)*w_IE; \n",
    "w_X=np.asarray([w_EX,w_IX]);\n",
    "w=np.zeros((2,2));\n",
    "w[0,:]=w_EE,-w_EI\n",
    "w[1,:]=w_IE,-w_II\n",
    "\n"
   ]
  },
  {
   "cell_type": "code",
   "execution_count": 34,
   "metadata": {},
   "outputs": [
    {
     "name": "stderr",
     "output_type": "stream",
     "text": [
      "/Users/ale/Research/Projects/Laser_on_E_cells/Single_cell_comparison/Simulate_monkeys/functions.py:53: IntegrationWarning: The occurrence of roundoff error is detected, which prevents \n",
      "  the requested tolerance from being achieved.  The error may be \n",
      "  underestimated.\n",
      "  adelleh=integrate.quad(lambda u: f(u),minimo,massimo)\n",
      "/Users/ale/Research/Projects/Laser_on_E_cells/Single_cell_comparison/Simulate_monkeys/functions.py:53: IntegrationWarning: The maximum number of subdivisions (50) has been achieved.\n",
      "  If increasing the limit yields no improvement it is advised to analyze \n",
      "  the integrand in order to determine the difficulties.  If the position of a \n",
      "  local difficulty can be determined (singularity, discontinuity) one will \n",
      "  probably gain from splitting up the interval and calling the integrator \n",
      "  on the subranges.  Perhaps a special-purpose integrator should be used.\n",
      "  adelleh=integrate.quad(lambda u: f(u),minimo,massimo)\n"
     ]
    }
   ],
   "source": [
    "#'''\n",
    "mu_tab_max=10.0;\n",
    "mu_tab=np.linspace(-mu_tab_max,mu_tab_max,200000)\n",
    "mu_tab=np.concatenate(([-10000],mu_tab))\n",
    "mu_tab=np.concatenate((mu_tab,[10000]))\n",
    "\n",
    "phi_tab_E,phi_tab_I=mu_tab*0,mu_tab*0;\n",
    "for idx in range(len(phi_tab_E)):\n",
    "    phi_tab_E[idx]=fun.comp_phi_tab(mu_tab[idx],fun.tau_E,tau_rp,sigma_t)\n",
    "    phi_tab_I[idx]=fun.comp_phi_tab(mu_tab[idx],fun.tau_I,tau_rp,sigma_t)\n",
    "\n",
    "phi_int_E=interp1d(mu_tab, phi_tab_E, kind='linear')  \n",
    "phi_int_I=interp1d(mu_tab, phi_tab_I, kind='linear')\n",
    "#'''"
   ]
  },
  {
   "cell_type": "code",
   "execution_count": 35,
   "metadata": {},
   "outputs": [],
   "source": [
    "# Generate quenched disorder\n",
    "M,mu_X_over_r_X_tau,Lambda_i,N_E,N_I=fun.Generate_quenched_disorder(CV_K,J,K,w,w_X,p,Lambda,sigma_Lambda)\n"
   ]
  },
  {
   "cell_type": "code",
   "execution_count": 36,
   "metadata": {},
   "outputs": [
    {
     "name": "stdout",
     "output_type": "stream",
     "text": [
      "Computing and saving network response\n",
      "0.16666666666666666 0.5\n",
      "20.87717818517452 32.11327098799928 13.09858769069655 10.491824858609835\n",
      "0.16666666666666666 1.0\n",
      "22.25176701460838 34.124022667176426 28.91767501106946 19.69088026280885\n",
      "[ 23.12439675   1.5018214   13.39679224  27.4934776  -83.15409704]\n",
      "0.3333333333333333 0.5\n",
      "41.42372232743912 67.3614763972212 40.4619878547296 37.69863463035562\n",
      "0.3333333333333333 1.0\n",
      "42.567769241539224 68.86208470148316 47.53889094267844 42.204764128211636\n",
      "[  46.61127314    1.21535919   41.2506741    42.85796426 -631.89875612]\n",
      "0.5 0.5\n",
      "50.229676150152784 82.38176872216548 40.07829709763999 37.60441236121793\n",
      "0.5 1.0\n",
      "51.3326944014441 83.83992687145951 53.786471583225314 48.15790675869964\n",
      "[  56.66009466    1.17404623   41.63214399   44.36815747 -377.29495103]\n",
      "0.6666666666666666 0.5\n",
      "57.09549599636481 94.0991172484517 42.67251816944698 39.615545827251395\n",
      "0.6666666666666666 1.0\n",
      "58.169768746594535 95.53482095930735 57.28978873333524 50.989707582793315\n",
      "[  64.49622025    1.14655894   44.60623519   49.15396002 -518.46220005]\n",
      "0.8333333333333334 0.5\n",
      "59.6237690481519 98.40284157375456 46.221682978970215 42.817809982456815\n",
      "0.8333333333333334 1.0\n",
      "60.664117180451214 99.79141704780999 58.39857117125283 51.856691232962135\n",
      "[  67.37958355    1.1099936    48.12939629   50.84955778 -695.62492056]\n",
      "1.0 0.5\n",
      "63.63204859705058 105.22087741729226 50.98532120792759 46.83352036966288\n",
      "1.0 1.0\n",
      "64.63702643623522 106.55654213785922 60.739272764663724 53.64717673259828\n",
      "[   71.94981436     1.07111522    52.86793942    55.65125603\n",
      " -1042.12207403]\n"
     ]
    }
   ],
   "source": [
    "print('Computing and saving network response')\n",
    "T=np.arange(0,Tmax_over_tau_E*fun.tau_E,fun.tau_I/3);\n",
    "\n",
    "mask_time=T>(10*fun.tau_E)\n",
    "RATES=-1*np.ones((len(r_X),len(L),N_E+N_I))\n",
    "DYNA=-1*np.ones((len(r_X),len(L),N_E+N_I,len(T)))\n",
    "MUS=-1*np.ones((len(r_X),len(L),N_E+N_I))\n",
    "Lambda_i_L=1./tau_rp*np.ones((len(r_X),len(L),N_E+N_I))\n",
    "MFT_SOL_R=np.ones((len(r_X),len(L),10))\n",
    "MFT_SOL_M=np.ones((len(r_X),len(L),10))\n",
    "Phi=[phi_int_E,phi_int_I];\n",
    "for idx_r_X in range(len(r_X)):\n",
    "    for idx_L in range(len(L)):\n",
    "        r_X_local,L_local=r_X[idx_r_X],L[idx_L];\n",
    "        print((idx_r_X+1)/len(r_X),(idx_L+1)/len(L))\n",
    "        DYNA[idx_r_X,idx_L,:,:], MUS[idx_r_X,idx_L,:],Lambda_i_L[idx_r_X,idx_L,:]=fun.High_dimensional_dynamics(T,L_local,r_X_local,M,mu_X_over_r_X_tau,Lambda_i,N_E,N_I,phi_int_E,phi_int_I);\n",
    "        RATES[idx_r_X,idx_L,:]=np.mean(DYNA[idx_r_X,idx_L,:,mask_time],axis=0)\n",
    "        print(np.mean(RATES[idx_r_X,idx_L,0:N_E]),\n",
    "              np.mean(RATES[idx_r_X,idx_L,N_E::]),\n",
    "              np.std(RATES[idx_r_X,idx_L,0:N_E]),\n",
    "              np.std(RATES[idx_r_X,idx_L,N_E::]))\n",
    "    Base_Sim=RATES[idx_r_X,0,:]\n",
    "    Delta_Sim=RATES[idx_r_X,idx_L,:]-RATES[idx_r_X,0,:]\n",
    "\n",
    "    moments_of_r_sim=np.zeros(5)\n",
    "    moments_of_r_sim[0]=np.mean(Base_Sim)\n",
    "    moments_of_r_sim[1]=np.mean(Delta_Sim)\n",
    "    moments_of_r_sim[2]=np.std(Base_Sim)\n",
    "    moments_of_r_sim[3]=np.std(Delta_Sim)\n",
    "    moments_of_r_sim[4]=np.cov(Base_Sim,Delta_Sim)[0,1]\n",
    "    print(moments_of_r_sim[:])\n"
   ]
  },
  {
   "cell_type": "markdown",
   "metadata": {},
   "source": [
    "# Save single cell rate\n"
   ]
  },
  {
   "cell_type": "code",
   "execution_count": 24,
   "metadata": {},
   "outputs": [],
   "source": [
    "#np.save('RATES_monkeys',RATES)\n",
    "np.save('RATES_monkeys_2',RATES)"
   ]
  },
  {
   "cell_type": "code",
   "execution_count": null,
   "metadata": {},
   "outputs": [],
   "source": []
  },
  {
   "cell_type": "code",
   "execution_count": null,
   "metadata": {},
   "outputs": [],
   "source": []
  }
 ],
 "metadata": {
  "anaconda-cloud": {},
  "kernelspec": {
   "display_name": "Python 3",
   "language": "python",
   "name": "python3"
  },
  "language_info": {
   "codemirror_mode": {
    "name": "ipython",
    "version": 3
   },
   "file_extension": ".py",
   "mimetype": "text/x-python",
   "name": "python",
   "nbconvert_exporter": "python",
   "pygments_lexer": "ipython3",
   "version": "3.8.8"
  }
 },
 "nbformat": 4,
 "nbformat_minor": 4
}
