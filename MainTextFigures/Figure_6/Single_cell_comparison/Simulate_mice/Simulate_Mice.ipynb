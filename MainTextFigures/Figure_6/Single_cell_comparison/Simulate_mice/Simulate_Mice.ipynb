{
 "cells": [
  {
   "cell_type": "code",
   "execution_count": 13,
   "metadata": {},
   "outputs": [
    {
     "name": "stdout",
     "output_type": "stream",
     "text": [
      "Once deleted, variables cannot be recovered. Proceed (y/[n])? y\n",
      "The autoreload extension is already loaded. To reload it, use:\n",
      "  %reload_ext autoreload\n"
     ]
    }
   ],
   "source": [
    "%reset\n",
    "#%qtconsole\n",
    "%load_ext autoreload\n",
    "%autoreload 2\n",
    "%matplotlib inline \n",
    "import matplotlib.pyplot as plt\n",
    "import functions as fun\n",
    "\n",
    "import numpy as np\n",
    "import matplotlib as mpl\n",
    "from scipy import stats\n",
    "\n",
    "from scipy.interpolate import interp1d,interp2d\n",
    "from scipy.optimize import least_squares\n",
    "\n",
    "import pandas as pd\n",
    "\n",
    "\n",
    "\n"
   ]
  },
  {
   "cell_type": "code",
   "execution_count": 20,
   "metadata": {
    "scrolled": true
   },
   "outputs": [
    {
     "name": "stdout",
     "output_type": "stream",
     "text": [
      "0.0199526231496888 0.13182567385564073 9.97 8.4 0.3311311214825911\n"
     ]
    }
   ],
   "source": [
    "#for idx_cases in [0,1]:\n",
    "for idx_cases in [0]:\n",
    "    if idx_cases==0:\n",
    "        #Mice separated 1.1936049813018852\n",
    "        best_param=np.array([ 9.97,  8.4 , -0.48, -1.7 , -0.1 , -3.88])\n",
    "        best_inputs=np.array([0.86, 0.89, 0.91, 0.94, 0.95, 1.02, 1.14, 0.62])\n",
    "\n",
    "    if idx_cases==1:\n",
    "        #Monkeys separated 4.827433845320423\n",
    "        best_param=np.array([ 4.58,  2.73, -0.09, -2.14,  0.82, -3.35])\n",
    "        best_inputs=np.array([1.16, 1.48, 1.57, 1.63, 1.65, 1.68, 0.4 ])\n",
    "        \n",
    "\n",
    "\n",
    "    g_E=best_param[0]; g_I=best_param[1];beta=10**best_param[2]; # parameters characterizing the relative strength of synaptic connections\n",
    "    K=500; # average number of E connections per neuron (I connections are 1/4 of that)\n",
    "    sigma_Lambda_over_Lambda=10**best_param[4]; # ratio between mean and standard deviation of the opsin expression\n",
    "    CV_K=10**best_param[3]\n",
    "    J=10**best_param[5]; # Synaptic efficacy in Volts\n",
    "    L=[0., 10**best_inputs[-1]]; #  Laser intensity that fits the data\n",
    "    r_X=10**best_inputs[0:-1]\n",
    "\n",
    "\n",
    "    #print(beta)\n",
    "    print(CV_K,J*10**3,g_E,g_I,beta)\n",
    "    #print(r_X[0],r_X[-1])\n",
    "    #print(L[1])\n",
    "    #print(sigma_Lambda_over_Lambda)\n",
    "\n",
    "\n"
   ]
  },
  {
   "cell_type": "code",
   "execution_count": 21,
   "metadata": {},
   "outputs": [],
   "source": [
    "sigma_t=0.01; # Input noise, determine how smooth the single neuron transfer function is \n",
    "tau_rp=0.002; # Refractory period\n",
    "\n",
    "g_E=best_param[0]; g_I=best_param[1];beta=10**best_param[2]; # parameters characterizing the relative strength of synaptic connections\n",
    "K=500; # average number of E connections per neuron (I connections are 1/4 of that)\n",
    "sigma_Lambda_over_Lambda=10**best_param[4]; # ratio between mean and standard deviation of the opsin expression\n",
    "CV_K=10**best_param[3]\n",
    "J=10**best_param[5]; # Synaptic efficacy in Volts\n",
    "L=[0., 10**best_inputs[-1]]; #  Laser intensity that fits the data\n",
    "#r_X=[10**best_inputs[-2]]\n",
    "r_X=10**best_inputs[0:-1]\n",
    "#[20,20,20]; # To speed up the code, I show results onlye for low anf high contrast and laser\n",
    "\n",
    "Tmax_over_tau_E=200;\n",
    "\n",
    "p=0.1; # probability of connection between cells. \n",
    "sigma_X_over_r_X=0.2; # Presynaptic population has mean rate r_X, Gaussianly distributed with std=0.2* r_X\n",
    "Lambda=1*10**-3; # mean opsin expression in Volt\n",
    "\n",
    "sigma_Lambda=sigma_Lambda_over_Lambda*Lambda\n",
    "\n",
    "# In what follows, I compute W_{AB} starting from the parameters defined above\n",
    "G_E,G_I=1.0,2.0 # Gain of Excitatory and inhibitory cells and I cells\n",
    "w_EE=1;w_IE=w_EE/beta;\n",
    "w_EI=g_E*w_EE;w_II=g_I*w_IE;\n",
    "w_EX,w_IX=(G_I*fun.gamma*g_E-G_E)*w_EE,(G_I*fun.gamma*g_I-G_E)*w_IE; \n",
    "w_X=np.asarray([w_EX,w_IX]);\n",
    "w=np.zeros((2,2));\n",
    "w[0,:]=w_EE,-w_EI\n",
    "w[1,:]=w_IE,-w_II\n",
    "\n"
   ]
  },
  {
   "cell_type": "code",
   "execution_count": 22,
   "metadata": {},
   "outputs": [
    {
     "name": "stderr",
     "output_type": "stream",
     "text": [
      "/Users/ale/Research/Projects/Laser_on_E_cells/Single_cell_comparison/Simulate_mice/functions.py:53: IntegrationWarning: The occurrence of roundoff error is detected, which prevents \n",
      "  the requested tolerance from being achieved.  The error may be \n",
      "  underestimated.\n",
      "  adelleh=integrate.quad(lambda u: f(u),minimo,massimo)\n",
      "/Users/ale/Research/Projects/Laser_on_E_cells/Single_cell_comparison/Simulate_mice/functions.py:53: IntegrationWarning: The maximum number of subdivisions (50) has been achieved.\n",
      "  If increasing the limit yields no improvement it is advised to analyze \n",
      "  the integrand in order to determine the difficulties.  If the position of a \n",
      "  local difficulty can be determined (singularity, discontinuity) one will \n",
      "  probably gain from splitting up the interval and calling the integrator \n",
      "  on the subranges.  Perhaps a special-purpose integrator should be used.\n",
      "  adelleh=integrate.quad(lambda u: f(u),minimo,massimo)\n"
     ]
    }
   ],
   "source": [
    "#'''\n",
    "mu_tab_max=10.0;\n",
    "mu_tab=np.linspace(-mu_tab_max,mu_tab_max,200000)\n",
    "mu_tab=np.concatenate(([-10000],mu_tab))\n",
    "mu_tab=np.concatenate((mu_tab,[10000]))\n",
    "\n",
    "phi_tab_E,phi_tab_I=mu_tab*0,mu_tab*0;\n",
    "for idx in range(len(phi_tab_E)):\n",
    "    phi_tab_E[idx]=fun.comp_phi_tab(mu_tab[idx],fun.tau_E,tau_rp,sigma_t)\n",
    "    phi_tab_I[idx]=fun.comp_phi_tab(mu_tab[idx],fun.tau_I,tau_rp,sigma_t)\n",
    "\n",
    "phi_int_E=interp1d(mu_tab, phi_tab_E, kind='linear')  \n",
    "phi_int_I=interp1d(mu_tab, phi_tab_I, kind='linear')\n",
    "#'''"
   ]
  },
  {
   "cell_type": "code",
   "execution_count": 23,
   "metadata": {},
   "outputs": [],
   "source": [
    "# Generate quenched disorder\n",
    "M,mu_X_over_r_X_tau,Lambda_i,N_E,N_I=fun.Generate_quenched_disorder(CV_K,J,K,w,w_X,p,Lambda,sigma_Lambda)\n"
   ]
  },
  {
   "cell_type": "code",
   "execution_count": 24,
   "metadata": {},
   "outputs": [
    {
     "name": "stdout",
     "output_type": "stream",
     "text": [
      "Computing and saving network response\n",
      "0.14285714285714285 0.5\n",
      "4.98837237686488 12.086447892641102 2.9141990576233647 8.261008922526944\n",
      "0.14285714285714285 1.0\n",
      "10.583662803655567 14.784604650400258 10.162376929618258 13.40808700441952\n",
      "[6.40798748 5.01586369 5.33892562 9.36139876 2.62953865]\n",
      "0.2857142857142857 0.5\n",
      "5.350903269385375 13.052065280516146 3.694090519760005 10.41455596148822\n",
      "0.2857142857142857 1.0\n",
      "10.933815372401128 15.764598399233078 10.323011907265268 14.180959238234967\n",
      "[ 6.89113567  5.00883631  6.4883667   9.49010098 -1.47798836]\n",
      "0.42857142857142855 0.5\n",
      "5.597856342844104 13.74967456947376 4.316457032461576 12.0788985926753\n",
      "0.42857142857142855 1.0\n",
      "11.198072333201512 16.465105588575824 10.518988083559329 14.885668959068656\n",
      "[ 7.22821999  5.023259    7.39714416  9.27765829 -1.7593347 ]\n",
      "0.5714285714285714 0.5\n",
      "6.004125370678006 14.860823697579375 5.265077058011623 14.454058578578177\n",
      "0.5714285714285714 1.0\n",
      "11.647199971212805 17.59323505434108 10.813758974675473 15.820270922367973\n",
      "[ 7.77546504  5.06094195  8.74707768  8.94276412 -3.6112997 ]\n",
      "0.7142857142857143 0.5\n",
      "6.1503143888697265 15.252423699348315 5.603793093304129 15.281051873929659\n",
      "0.7142857142857143 1.0\n",
      "11.853121410707349 18.00240751080611 10.736671752437406 15.475314619831957\n",
      "[ 7.97073625  5.11224238  9.22387391  8.74745202 -7.71603601]\n",
      "0.8571428571428571 0.5\n",
      "7.38017377510216 18.250719609569252 6.117893779604503 15.959426885408847\n",
      "0.8571428571428571 1.0\n",
      "13.102475999483067 21.04559627770002 10.845794697923495 15.934044542582157\n",
      "[ 9.55428294  5.13681711  9.98952268  8.02295841 -4.59061163]\n",
      "1.0 0.5\n",
      "10.215485130748695 24.796112237182296 7.936301872862826 19.66596727951316\n",
      "1.0 1.0\n",
      "15.994210037098672 27.637110554223415 12.233782569605923 20.147499301112667\n",
      "[13.13161055  5.19117959 12.71821975  8.32568752 -4.23285266]\n"
     ]
    }
   ],
   "source": [
    "print('Computing and saving network response')\n",
    "T=np.arange(0,Tmax_over_tau_E*fun.tau_E,fun.tau_I/3);\n",
    "\n",
    "mask_time=T>(10*fun.tau_E)\n",
    "RATES=-1*np.ones((len(r_X),len(L),N_E+N_I))\n",
    "DYNA=-1*np.ones((len(r_X),len(L),N_E+N_I,len(T)))\n",
    "MUS=-1*np.ones((len(r_X),len(L),N_E+N_I))\n",
    "Lambda_i_L=1./tau_rp*np.ones((len(r_X),len(L),N_E+N_I))\n",
    "MFT_SOL_R=np.ones((len(r_X),len(L),10))\n",
    "MFT_SOL_M=np.ones((len(r_X),len(L),10))\n",
    "Phi=[phi_int_E,phi_int_I];\n",
    "for idx_r_X in range(len(r_X)):\n",
    "    for idx_L in range(len(L)):\n",
    "        r_X_local,L_local=r_X[idx_r_X],L[idx_L];\n",
    "        print((idx_r_X+1)/len(r_X),(idx_L+1)/len(L))\n",
    "        DYNA[idx_r_X,idx_L,:,:], MUS[idx_r_X,idx_L,:],Lambda_i_L[idx_r_X,idx_L,:]=fun.High_dimensional_dynamics(T,L_local,r_X_local,M,mu_X_over_r_X_tau,Lambda_i,N_E,N_I,phi_int_E,phi_int_I);\n",
    "        RATES[idx_r_X,idx_L,:]=np.mean(DYNA[idx_r_X,idx_L,:,mask_time],axis=0)\n",
    "        print(np.mean(RATES[idx_r_X,idx_L,0:N_E]),\n",
    "              np.mean(RATES[idx_r_X,idx_L,N_E::]),\n",
    "              np.std(RATES[idx_r_X,idx_L,0:N_E]),\n",
    "              np.std(RATES[idx_r_X,idx_L,N_E::]))\n",
    "    Base_Sim=RATES[idx_r_X,0,:]\n",
    "    Delta_Sim=RATES[idx_r_X,idx_L,:]-RATES[idx_r_X,0,:]\n",
    "\n",
    "    moments_of_r_sim=np.zeros(5)\n",
    "    moments_of_r_sim[0]=np.mean(Base_Sim)\n",
    "    moments_of_r_sim[1]=np.mean(Delta_Sim)\n",
    "    moments_of_r_sim[2]=np.std(Base_Sim)\n",
    "    moments_of_r_sim[3]=np.std(Delta_Sim)\n",
    "    moments_of_r_sim[4]=np.cov(Base_Sim,Delta_Sim)[0,1]\n",
    "    print(moments_of_r_sim[:])\n"
   ]
  },
  {
   "cell_type": "code",
   "execution_count": 8,
   "metadata": {},
   "outputs": [],
   "source": [
    "#np.save('RATES_mice',RATES)"
   ]
  },
  {
   "cell_type": "code",
   "execution_count": 26,
   "metadata": {},
   "outputs": [],
   "source": [
    "np.save('RATES_mice_2',RATES)"
   ]
  },
  {
   "cell_type": "code",
   "execution_count": null,
   "metadata": {},
   "outputs": [],
   "source": []
  },
  {
   "cell_type": "code",
   "execution_count": null,
   "metadata": {},
   "outputs": [],
   "source": []
  }
 ],
 "metadata": {
  "anaconda-cloud": {},
  "kernelspec": {
   "display_name": "Python 3",
   "language": "python",
   "name": "python3"
  },
  "language_info": {
   "codemirror_mode": {
    "name": "ipython",
    "version": 3
   },
   "file_extension": ".py",
   "mimetype": "text/x-python",
   "name": "python",
   "nbconvert_exporter": "python",
   "pygments_lexer": "ipython3",
   "version": "3.8.8"
  }
 },
 "nbformat": 4,
 "nbformat_minor": 4
}
