{
 "cells": [
  {
   "cell_type": "markdown",
   "metadata": {
    "id": "kWBG1dZAxhy6"
   },
   "source": [
    "# Figure 3\n"
   ]
  },
  {
   "cell_type": "code",
   "execution_count": 1,
   "metadata": {
    "colab": {
     "base_uri": "https://localhost:8080/"
    },
    "executionInfo": {
     "elapsed": 31523,
     "status": "ok",
     "timestamp": 1625520026356,
     "user": {
      "displayName": "alessandro sanzeni",
      "photoUrl": "",
      "userId": "18075480473065302455"
     },
     "user_tz": 240
    },
    "id": "k87dd5Fexhy9",
    "outputId": "5f86c7c8-072d-497a-c478-82dafeab57b8"
   },
   "outputs": [
    {
     "name": "stdout",
     "output_type": "stream",
     "text": [
      "Once deleted, variables cannot be recovered. Proceed (y/[n])? y\n"
     ]
    }
   ],
   "source": [
    "%reset\n",
    "#%qtconsole\n",
    "%load_ext autoreload\n",
    "%autoreload 2\n",
    "%matplotlib inline \n",
    "import matplotlib.pyplot as plt\n",
    "import numpy as np\n",
    "import matplotlib.cm as cm\n",
    "import matplotlib as mpl\n",
    "import scipy.stats as stats\n",
    "\n",
    "data_dir = './../../DataAndScripts/experimental_data/'\n",
    "\n",
    "data_monkeys=np.loadtxt(data_dir+'Monkeys_with_trials.txt');\n",
    "data_mice=np.loadtxt(data_dir+'Mice_with_trials.txt');\n",
    "\n",
    "\n",
    "# structure of data set is:\n",
    "# unit number, contrast, laser, rate, other stuff\n",
    "\n",
    "DATA=[data_mice,data_monkeys]\n",
    "species=['Mice','Monkeys']\n",
    "color=['c','m']\n",
    "bin_edges=np.arange(-300,300,0.1) \n",
    "bin_means=(bin_edges[1::]+bin_edges[0:-1])/2   \n",
    "\n",
    "\n",
    "area=4.0;linethicknes=1.0;\n",
    "font = {'family' : 'normal','weight' : 'normal','size'   : 7, 'family':'serif','serif':['Arial']}\n",
    "mpl.rc('font', **font)\n",
    "mpl.rcParams['lines.linewidth'] =linethicknes\n",
    "mpl.rcParams['text.usetex'] = False\n",
    "mpl.rcParams['mathtext.fontset'] = 'stix'\n",
    "mpl.rcParams['mathtext.rm'] = 'serif'\n",
    "mpl.rcParams['pdf.fonttype'] = 42\n",
    "\n",
    "\n",
    "N_stat=10**3;\n"
   ]
  },
  {
   "cell_type": "code",
   "execution_count": 2,
   "metadata": {},
   "outputs": [
    {
     "name": "stdout",
     "output_type": "stream",
     "text": [
      "[ 0.  8. 13. 21. 34. 55. 90.]\n",
      "[ 0.  6. 12. 25. 50. 99.]\n"
     ]
    }
   ],
   "source": [
    "for idx_species in [0,1]:\n",
    "    data=DATA[idx_species]\n",
    "    Con=np.unique(data[:,1])\n",
    "    print(Con)"
   ]
  },
  {
   "cell_type": "code",
   "execution_count": 3,
   "metadata": {
    "scrolled": false
   },
   "outputs": [
    {
     "data": {
      "image/png": "[encoded data removed]",
      "text/plain": [
       "<Figure size 375x187.5 with 2 Axes>"
      ]
     },
     "metadata": {},
     "output_type": "display_data"
    }
   ],
   "source": [
    "rows=1\n",
    "cols=2\n",
    "fig, axs = plt.subplots(rows,cols, figsize=(2.5*cols,2.*rows), \n",
    "                        facecolor='w', edgecolor='k')#,sharex='col')\n",
    "fig.subplots_adjust(hspace = .5, wspace=.5)\n",
    "axs = axs.ravel()\n",
    "\n",
    "\n",
    "axs[0].text(-.2, 1.1,'A', transform=axs[0].transAxes,fontsize=8, fontweight='bold', va='top', ha='right');\n",
    "axs[1].text(-.2, 1.1,'B', transform=axs[1].transAxes,fontsize=8, fontweight='bold', va='top', ha='right');\n",
    "\n",
    "for idx in [0,1,]:\n",
    "    axs[idx].spines['top'].set_visible(False)\n",
    "    axs[idx].spines['right'].set_visible(False)\n",
    "    \n",
    "    \n",
    "label=['Mice','Monkeys']\n",
    "idx_laser=-1\n",
    "for idx_species in [0,1]:\n",
    "    data=DATA[idx_species]\n",
    "    Con=np.unique(data[:,1])\n",
    "    Las=np.unique(data[:,2])\n",
    "    cells_id=np.unique(data[:,0]);\n",
    "\n",
    "    Las=[Las[0],Las[-1]]\n",
    "    Cell_Resp=np.zeros((len(cells_id),len(Con),len(Las),))\n",
    "    for idx_cell in range(len(cells_id)):\n",
    "        for idx_con in range(len(Con)):\n",
    "            for idx_las in range(len(Las)):\n",
    "                mask=(data[:,0]==cells_id[idx_cell])&(data[:,2]==Las[idx_las])&(data[:,1]==Con[idx_con])\n",
    "                Trial_Resp=data[mask,3::]\n",
    "                Cell_Resp[idx_cell,idx_con,idx_las]=np.mean(Trial_Resp[np.isnan(Trial_Resp)==False])\n",
    "\n",
    "    Bootstrap_idx=np.random.choice(np.arange(len(cells_id)),size=(len(cells_id),N_stat), replace=True)\n",
    "    Bootstrap_Resp=np.zeros((N_stat,len(cells_id),len(Con),len(Las)))\n",
    "    for idx_rep in range(N_stat):\n",
    "        for idx_con in range(len(Con)):\n",
    "            for idx_las in range(len(Las)):\n",
    "                Bootstrap_Resp[idx_rep,:,idx_con,idx_las]= Cell_Resp[[Bootstrap_idx[:,idx_rep]],idx_con,idx_las]\n",
    "\n",
    "        \n",
    "    Base=Bootstrap_Resp[:,:,:,0]\n",
    "    Delta=Bootstrap_Resp[:,:,:,-1]-Bootstrap_Resp[:,:,:,0]\n",
    "    Measurements_X=np.mean(Base,axis=1)\n",
    "    Moments_X=np.zeros((len(Con),2))\n",
    "    for idx_con in range(len(Con)): \n",
    "        Moments_X[idx_con,:]=np.mean(Measurements_X[:,idx_con]),np.std(Measurements_X[:,idx_con])\n",
    "    for idx_cases in range(2):\n",
    "        if (idx_cases==1):\n",
    "            Measurements_Y=np.mean(Delta,axis=1)/np.std(Delta,axis=1)\n",
    "        if (idx_cases==0):\n",
    "            # rho rates Delta rates           \n",
    "            Measurements_Y=np.zeros((N_stat,len(Con)))\n",
    "            for idx_rep in range(N_stat):\n",
    "                for idx_con in range(len(Con)): \n",
    "                    pippo=np.cov(Base[idx_rep,:,idx_con],Delta[idx_rep,:,idx_con])\n",
    "                    Measurements_Y[idx_rep,idx_con]=pippo[0,1]/pippo[1,1]\n",
    "        Moments_Y=np.zeros((len(Con),2))\n",
    "        for idx_con in range(len(Con)): \n",
    "            Moments_Y[idx_con,:]=np.mean(Measurements_Y[:,idx_con]),np.std(Measurements_Y[:,idx_con])\n",
    "        m,sem=Moments_Y[:,0],Moments_Y[:,1]\n",
    "        axs[idx_cases].plot(Moments_X[:,0],m,c=color[idx_species],lw=linethicknes, marker='o', markersize=2,label=label[idx_species],)\n",
    "        axs[idx_cases].fill_between(Moments_X[:,0],m-sem,m+sem,color=color[idx_species],alpha=0.3)\n",
    "\n",
    "    axs[0].set_xscale('log')\n",
    "    axs[0].axis([5.,105,-0.75,.25])\n",
    "    axs[0].axhline(y=0,ls='--',c='k')\n",
    "    axs[0].set_ylabel(r'$\\rho$')\n",
    "    axs[0].set_xlabel('rate without opto (spk/s)')\n",
    "    axs[0].legend(loc='lower left')   #prop={'size': 6},     \n",
    "    axs[1].set_xscale('log')\n",
    "    axs[1].axis([5.,105,-0.5,1])\n",
    "    axs[1].axhline(y=0,ls='--',c='k')\n",
    "    axs[1].set_ylabel(r'mean/std of $\\Delta$ rate')\n",
    "    axs[1].set_xlabel('rate without opto (spk/s)')\n",
    "    \n",
    "plt.tight_layout()\n",
    "fig.set_size_inches(1.875*cols,1.875*rows)\n",
    "pic_name='Figure_3.pdf'\n",
    "fig.savefig(pic_name,format='pdf',bbox_inches='tight')\n",
    "pic_name='Figure_3.png'\n",
    "fig.savefig(pic_name,format='png',bbox_inches='tight', dpi=300)\n",
    "\n",
    "\n"
   ]
  },
  {
   "cell_type": "code",
   "execution_count": null,
   "metadata": {},
   "outputs": [],
   "source": []
  },
  {
   "cell_type": "code",
   "execution_count": null,
   "metadata": {},
   "outputs": [],
   "source": []
  },
  {
   "cell_type": "code",
   "execution_count": null,
   "metadata": {},
   "outputs": [],
   "source": []
  },
  {
   "cell_type": "code",
   "execution_count": null,
   "metadata": {},
   "outputs": [],
   "source": []
  },
  {
   "cell_type": "code",
   "execution_count": null,
   "metadata": {},
   "outputs": [],
   "source": []
  },
  {
   "cell_type": "code",
   "execution_count": null,
   "metadata": {},
   "outputs": [],
   "source": []
  },
  {
   "cell_type": "code",
   "execution_count": null,
   "metadata": {},
   "outputs": [],
   "source": []
  },
  {
   "cell_type": "markdown",
   "metadata": {},
   "source": [
    "## "
   ]
  }
 ],
 "metadata": {
  "anaconda-cloud": {},
  "colab": {
   "collapsed_sections": [],
   "name": "UMAP_embedding",
   "provenance": []
  },
  "kernelspec": {
   "display_name": "Python 3 (ipykernel)",
   "language": "python",
   "name": "python3"
  },
  "language_info": {
   "codemirror_mode": {
    "name": "ipython",
    "version": 3
   },
   "file_extension": ".py",
   "mimetype": "text/x-python",
   "name": "python",
   "nbconvert_exporter": "python",
   "pygments_lexer": "ipython3",
   "version": "3.11.4"
  }
 },
 "nbformat": 4,
 "nbformat_minor": 1
}
