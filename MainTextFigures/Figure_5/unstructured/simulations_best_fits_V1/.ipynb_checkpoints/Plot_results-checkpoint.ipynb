{
 "cells": [
  {
   "cell_type": "markdown",
   "metadata": {
    "id": "kWBG1dZAxhy6"
   },
   "source": [
    "# Figure 7. Fit in mice and monkeys\n",
    "\n",
    "\n"
   ]
  },
  {
   "cell_type": "code",
   "execution_count": 14,
   "metadata": {
    "colab": {
     "base_uri": "https://localhost:8080/"
    },
    "executionInfo": {
     "elapsed": 31523,
     "status": "ok",
     "timestamp": 1625520026356,
     "user": {
      "displayName": "alessandro sanzeni",
      "photoUrl": "",
      "userId": "18075480473065302455"
     },
     "user_tz": 240
    },
    "id": "k87dd5Fexhy9",
    "outputId": "5f86c7c8-072d-497a-c478-82dafeab57b8"
   },
   "outputs": [
    {
     "name": "stdout",
     "output_type": "stream",
     "text": [
      "Once deleted, variables cannot be recovered. Proceed (y/[n])? y\n",
      "The autoreload extension is already loaded. To reload it, use:\n",
      "  %reload_ext autoreload\n"
     ]
    }
   ],
   "source": [
    "%reset\n",
    "#%qtconsole\n",
    "%load_ext autoreload\n",
    "%autoreload 2\n",
    "%matplotlib inline \n",
    "import matplotlib.pyplot as plt\n",
    "import numpy as np\n",
    "import matplotlib.cm as cm\n",
    "import matplotlib as mpl\n",
    "import scipy.stats as stats\n",
    "from scipy.interpolate import interp1d\n",
    "import os\n",
    "import functions_optimal as fun\n",
    "import pandas as pd\n",
    "\n",
    "from mpl_toolkits.axes_grid.inset_locator import (inset_axes, InsetPosition,mark_inset)\n",
    "\n",
    "area=4.0;linethicknes=1.0;\n",
    "\n",
    "font = {'family' : 'normal','weight' : 'normal','size'   : 7, 'family':'serif','serif':['Arial']}\n",
    "mpl.rc('font', **font)\n",
    "mpl.rcParams['lines.linewidth'] =linethicknes\n",
    "mpl.rcParams['text.usetex'] = False\n",
    "mpl.rcParams['mathtext.fontset'] = 'stix'\n",
    "mpl.rcParams['mathtext.rm'] = 'serif'\n",
    "mpl.rcParams['pdf.fonttype'] = 42\n",
    "\n",
    "data_mice=np.loadtxt('Mice_with_trials.txt');\n",
    "data_monkeys=np.loadtxt('Monkeys_with_trials.txt');\n",
    "\n",
    "data_both_species=[data_mice,data_monkeys]\n",
    "# structure of data set is:\n",
    "# unit number, contrast, laser, rate, other stuff\n",
    "\n",
    "dataset_both_species,Con_both_species,nCon_both_species,normalization_both_species=[],[],[],[]\n",
    "for idx_species in range(2):\n",
    "    dataset,Con,nCon=fun.build_dataset(data_both_species[idx_species])\n",
    "    normalization=1.0;#np.mean(dataset[0,:,0])\n",
    "    dataset_both_species=dataset_both_species+[dataset]\n",
    "    Con_both_species=Con_both_species+[Con]\n",
    "    nCon_both_species=nCon_both_species+[nCon]\n",
    "    \n",
    "species=['Mice','Monkeys']\n",
    "color=['c','m']\n",
    "\n",
    "results=np.loadtxt('simulate_best_fits/results.txt');\n",
    "sim_param_all=results[:,0:15]\n",
    "moments_of_r_sim_all=results[:,15:20]\n",
    "sim_convergence_all=results[:,20:24]\n",
    "sim_decay_all=results[:,26]/results[:,27]\n",
    "sim_species=results[:,28]\n",
    "sim_combined=results[:,29]\n",
    "\n",
    "sim_curr_E=results[:,30]\n",
    "sim_curr_I=results[:,31]\n",
    "sim_curr_tot=results[:,32]\n",
    "sim_curr_opto=results[:,33]\n",
    "\n",
    "\n",
    "Possible_Tmax_over_tau_E=np.unique(sim_param_all[:,14])\n",
    "Possible_sigma_Lambda_over_Lambda=np.unique(sim_param_all[:,10])\n",
    "Possible_r_X=np.unique(sim_param_all[:,12])\n",
    "Possible_J=np.unique(sim_param_all[:,11])\n",
    "\n"
   ]
  },
  {
   "cell_type": "code",
   "execution_count": 15,
   "metadata": {},
   "outputs": [
    {
     "name": "stdout",
     "output_type": "stream",
     "text": [
      "[-4.   -3.14 -3.14]\n"
     ]
    }
   ],
   "source": [
    "print(np.log10(Possible_J))"
   ]
  },
  {
   "cell_type": "markdown",
   "metadata": {},
   "source": [
    "# recover simulated params"
   ]
  },
  {
   "cell_type": "code",
   "execution_count": 30,
   "metadata": {},
   "outputs": [
    {
     "name": "stdout",
     "output_type": "stream",
     "text": [
      "Index(['J', 'r_X', 'sigma_Lambda_over_Lambda', 'Tmax_over_tau_E', 'sigma_t',\n",
      "       'tau_rp', 'g_E', 'g_I', 'beta', 'K', 'ell', 'CV_K', 'idx_species',\n",
      "       'idx_combined'],\n",
      "      dtype='object')\n"
     ]
    }
   ],
   "source": [
    "simulation_param = pd.read_csv('simulate_best_fits/simulation_param.txt',delim_whitespace=True) #header=None\n",
    "print(simulation_param.keys())\n",
    "simulation_param=simulation_param.to_numpy()\n"
   ]
  },
  {
   "cell_type": "code",
   "execution_count": 67,
   "metadata": {},
   "outputs": [
    {
     "name": "stdout",
     "output_type": "stream",
     "text": [
      "mice\n",
      "J*10**3= 0.7312368555176 $\\sigma_{\\lambda}/\\lambda*10**3$= 903.9013550373423 g_E= 8.79804805611206 g_I= 7.6417372860326145 beta= 0.2556614484940212 CV_K*10**3= 25.80593040236\n",
      "r_X= [3.69 4.06 4.22 4.46 4.58 5.91 9.74]\n",
      "ell= [12.69]\n",
      "monkeys\n",
      "J*10**3= 0.7251517129448001 $\\sigma_{\\lambda}/\\lambda*10**3$= 8573.775023753247 g_E= 8.105615112078505 g_I= 4.696530852364691 beta= 1.7875342878014224 CV_K*10**3= 6.9604834054934\n",
      "r_X= [10.87 22.69 28.37 32.46 34.2  36.51]\n",
      "ell= [3.31]\n"
     ]
    }
   ],
   "source": [
    "\n",
    "idx_combined=0;\n",
    "for idx_species in [0,1]:\n",
    "    print(['mice','monkeys'][idx_species])\n",
    "\n",
    "    mask_case=(simulation_param[:,-2]==idx_species)&(simulation_param[:,-1]==idx_combined)\n",
    "    J=np.unique(simulation_param[mask_case,0])[0]\n",
    "    sigma_Lambda_over_Lambda=np.unique(simulation_param[mask_case,2])[0]\n",
    "    g_E=np.unique(simulation_param[mask_case,6])[0]\n",
    "    g_I=np.unique(simulation_param[mask_case,7])[0]\n",
    "    beta=np.unique(simulation_param[mask_case,8])[0]\n",
    "    CV_K=np.unique(simulation_param[mask_case,11])[0]\n",
    "\n",
    "    r_X=np.unique(simulation_param[mask_case,1])\n",
    "    ell=np.unique(simulation_param[mask_case,10])\n",
    "\n",
    "\n",
    "    print('J=',J,r'$\\sigma_{\\lambda}/\\lambda$=',sigma_Lambda_over_Lambda,\n",
    "          'g_E=',g_E,'g_I=',g_I,'beta=',beta,'CV_K=',CV_K)\n",
    "    print('r_X=',r_X)\n",
    "    print('ell=',ell)"
   ]
  },
  {
   "cell_type": "code",
   "execution_count": null,
   "metadata": {},
   "outputs": [],
   "source": []
  },
  {
   "cell_type": "code",
   "execution_count": null,
   "metadata": {},
   "outputs": [],
   "source": []
  },
  {
   "cell_type": "code",
   "execution_count": null,
   "metadata": {},
   "outputs": [],
   "source": []
  },
  {
   "cell_type": "code",
   "execution_count": 3,
   "metadata": {
    "scrolled": false
   },
   "outputs": [
    {
     "name": "stdout",
     "output_type": "stream",
     "text": [
      "0 0\n",
      "3.2356043412809723 3.2356043412809723\n",
      "2.2627653178647167 5.498369659145689\n",
      "17.139369400540073 22.637739059685764\n",
      "7.532766670476489 30.170505730162255\n",
      "1.004691099499547 31.1751968296618\n",
      "1.439288851358823 32.614485681020625\n",
      "    32.614485681020625\n",
      "0 1\n",
      "2.1164753832208927 2.1164753832208927\n",
      "0.8039290179098081 2.9204044011307007\n",
      "1.2614821789932171 4.181886580123917\n",
      "0.3144120654730297 4.496298645596947\n",
      "0.7914412142311713 5.287739859828118\n",
      "1.0660213891326027 6.353761248960721\n",
      "    6.353761248960721\n",
      "1 0\n",
      "0.21220706348269452 0.21220706348269452\n",
      "3.7389404613398596 3.951147524822554\n",
      "1.0554482847150888 5.006595809537643\n",
      "0.3210702411481792 5.327666050685822\n",
      "0.4401670982726362 5.7678331489584584\n",
      "1.029511768199415 6.797344917157874\n",
      "    6.797344917157874\n",
      "1 1\n",
      "2.0611088470446015 2.0611088470446015\n",
      "6.4304584802596985 8.491567327304299\n",
      "0.3415728720972921 8.83314019940159\n",
      "0.9466936631131805 9.77983386251477\n",
      "5.490954564032705 15.270788426547476\n",
      "5.431388028980743 20.702176455528218\n",
      "    20.702176455528218\n"
     ]
    },
    {
     "data": {
      "image/png": "[encoded data removed]",
      "text/plain": [
       "<Figure size 360x576 with 8 Axes>"
      ]
     },
     "metadata": {},
     "output_type": "display_data"
    }
   ],
   "source": [
    "\n",
    "rows=4\n",
    "cols=2\n",
    "\n",
    "colors=['c','m']\n",
    "fig, axs = plt.subplots(rows,cols, figsize=(2.5*cols,2.*rows), facecolor='w', edgecolor='k')\n",
    "fig.subplots_adjust(hspace = .5, wspace=.5)\n",
    "axs = axs.ravel()\n",
    "\n",
    "\n",
    "\n",
    "for idx_species in range(2):\n",
    "    dataset=dataset_both_species[idx_species]\n",
    "    Con=Con_both_species[idx_species]\n",
    "    nCon=nCon_both_species[idx_species]\n",
    "         \n",
    "    for idx_moment in range(6):\n",
    "        if idx_moment<2:\n",
    "            idx_row=0\n",
    "            ccc=['k',colors[idx_species]][idx_moment]\n",
    "            ymin=0\n",
    "            ymax=[25,80][idx_species]\n",
    "            \n",
    "        if (idx_moment>=2)&(idx_moment<4):\n",
    "            idx_row=1\n",
    "            ccc=['k',colors[idx_species]][idx_moment-2]\n",
    "            ymin=0\n",
    "            #ymax=[20,60][idx_species]\n",
    "            ymax=[20,70][idx_species]\n",
    "         \n",
    "        if (idx_moment==4):\n",
    "            idx_row=2\n",
    "            ccc=colors[idx_species]\n",
    "            ymin=0\n",
    "            ymax=[20,60][idx_species]\n",
    "         \n",
    "        if (idx_moment==5):\n",
    "            idx_row=3\n",
    "            ccc=colors[idx_species]\n",
    "            ymin=-0.75\n",
    "            ymax=0.25\n",
    "                     \n",
    "        m,sem=dataset[idx_moment,:,0],dataset[idx_moment,:,1]\n",
    "        axs[2*idx_row+idx_species].scatter(Con,m,\n",
    "                                           facecolors='none', s=10,edgecolors=ccc,marker='o'\n",
    "                                           )\n",
    "        axs[2*idx_row+idx_species].fill_between(Con,m-sem,m+sem,\n",
    "                                                 color=ccc,alpha=0.2)\n",
    "    \n",
    "        axs[2*idx_row+idx_species].set_xscale('symlog', linthreshx=12)\n",
    "        axs[2*idx_row+idx_species].axis([-1.,110,ymin,ymax])\n",
    "    axs[2*idx_row+idx_species].axhline(y=0,ls='--',c='k')\n",
    "    axs[2*3+idx_species].set_xlabel('contrast (%)')\n",
    "    axs[2*0+idx_species].set_title(['Mice','Monkeys'][idx_species])\n",
    "    if idx_species==0:\n",
    "        axs[2*0].set_ylabel('Mean rate\\n(spk/s)')\n",
    "        axs[2*1].set_ylabel('Std rate\\n(spk/s)')\n",
    "        axs[2*2].set_ylabel('Std $\\Delta$rate\\n(spk/s)')\n",
    "        axs[2*3].set_ylabel(r'$\\rho$')\n",
    "        \n",
    "  \n",
    "for idx_combined in [0,1]:\n",
    "    ls=['-','--'][idx_combined]\n",
    "    for idx_species in [0,1]:\n",
    "        print(idx_combined,idx_species)\n",
    "        dataset=dataset_both_species[idx_species]\n",
    "        Con=Con_both_species[idx_species]\n",
    "        nCon=nCon_both_species[idx_species]\n",
    "            \n",
    "        mask_cases=(sim_species==idx_species)&(sim_combined==idx_combined)\n",
    "\n",
    "        data_x=sim_param_all[mask_cases,12]\n",
    "        cost=0\n",
    "        for idx_moment in range(6):\n",
    "            clr=color[idx_species]\n",
    "\n",
    "            if idx_moment==0:\n",
    "                data_y=moments_of_r_sim_all[mask_cases,0]\n",
    "                idx_plot=2*0+idx_species\n",
    "                clr='k'\n",
    "            if idx_moment==1:\n",
    "                data_y=moments_of_r_sim_all[mask_cases,0]+moments_of_r_sim_all[mask_cases,1]\n",
    "                idx_plot=2*0+idx_species\n",
    "            if idx_moment==2:\n",
    "                data_y=moments_of_r_sim_all[mask_cases,2]\n",
    "                idx_plot=2*1+idx_species\n",
    "                clr='k'\n",
    "            if idx_moment==3:\n",
    "                data_y=np.sqrt(moments_of_r_sim_all[mask_cases,2]**2\n",
    "                               +moments_of_r_sim_all[mask_cases,3]**2\n",
    "                               +2*moments_of_r_sim_all[mask_cases,4])\n",
    "                idx_plot=2*1+idx_species\n",
    "            if idx_moment==4:\n",
    "                data_y=moments_of_r_sim_all[mask_cases,3]\n",
    "                idx_plot=2*2+idx_species\n",
    "\n",
    "            if idx_moment==5:\n",
    "                data_y=moments_of_r_sim_all[mask_cases,4]/moments_of_r_sim_all[mask_cases,3]**2\n",
    "                idx_plot=2*3+idx_species\n",
    "\n",
    "\n",
    "            data_y_med=np.zeros((len(np.unique(data_x)),3))\n",
    "            for idx in range(len(np.unique(data_x))):\n",
    "                mask_x=data_x==np.unique(data_x)[idx]\n",
    "                data_y_med[idx,0]=np.mean(data_y[mask_x])\n",
    "                data_y_med[idx,1]=stats.sem(data_y[mask_x])\n",
    "            axs[idx_plot].errorbar(Con,data_y_med[:,0],data_y_med[:,1],c=clr,ls=ls) \n",
    "            cost_moment=(data_y_med[:,0]-dataset[idx_moment,:,0])/dataset[idx_moment,:,1]\n",
    "            cost_moment=(0.5*(np.sum(cost_moment**2)))\n",
    "            cost=cost+cost_moment\n",
    "            print(cost_moment,cost)\n",
    "        print('   ',cost)\n",
    "\n",
    "\n",
    "fig.set_size_inches(2.5*cols,2.*rows)\n",
    "#'''\n",
    "pic_name='Figure_7_fits.pdf'\n",
    "fig.savefig(pic_name,format='pdf',bbox_inches='tight', dpi=300)\n",
    "pic_name='Figure_7_fits.png'\n",
    "fig.savefig(pic_name,format='png',bbox_inches='tight', dpi=300)\n",
    "#'''"
   ]
  },
  {
   "cell_type": "code",
   "execution_count": 4,
   "metadata": {},
   "outputs": [
    {
     "name": "stdout",
     "output_type": "stream",
     "text": [
      "0 0\n",
      "0 1\n",
      "1 0\n",
      "1 1\n"
     ]
    },
    {
     "data": {
      "image/png": "[encoded data removed]",
      "text/plain": [
       "<Figure size 360x288 with 4 Axes>"
      ]
     },
     "metadata": {},
     "output_type": "display_data"
    }
   ],
   "source": [
    " \n",
    "rows=2\n",
    "cols=2\n",
    "\n",
    "colors=['c','m']\n",
    "fig, axs = plt.subplots(rows,cols, figsize=(2.5*cols,2.*rows), \n",
    "                        facecolor='w', edgecolor='k',sharey='row')\n",
    "fig.subplots_adjust(hspace = .5, wspace=.5)\n",
    "axs = axs.ravel()\n",
    "\n",
    "\n",
    "for idx_combined in [0,1]:\n",
    "    ls=['-','--'][idx_combined]\n",
    "    for idx_species in [0,1]:\n",
    "        print(idx_combined,idx_species)\n",
    "        dataset=dataset_both_species[idx_species]\n",
    "        Con=Con_both_species[idx_species]\n",
    "        nCon=nCon_both_species[idx_species]\n",
    "            \n",
    "        mask_cases=(sim_species==idx_species)&(sim_combined==idx_combined)\n",
    "\n",
    "        data_x=sim_param_all[mask_cases,12]\n",
    "        cost=0\n",
    "        for idx_case in range(2):\n",
    "            clr=color[idx_species]\n",
    "\n",
    "            if idx_case==0:\n",
    "                data_y=np.abs(sim_curr_tot/sim_curr_E)[mask_cases,]\n",
    "                clr='k'\n",
    "            if idx_case==1:\n",
    "                data_y=np.abs(sim_curr_opto/sim_curr_E)[mask_cases,]\n",
    "\n",
    "            idx_plot=2*idx_case+idx_species\n",
    "            data_y_med=np.zeros((len(np.unique(data_x)),3))\n",
    "            for idx in range(len(np.unique(data_x))):\n",
    "                mask_x=data_x==np.unique(data_x)[idx]\n",
    "                data_y_med[idx,0]=np.mean(data_y[mask_x])\n",
    "                data_y_med[idx,1]=stats.sem(data_y[mask_x])\n",
    "            axs[idx_plot].errorbar(Con,data_y_med[:,0],data_y_med[:,1],c=clr,ls=ls) \n",
    "\n",
    "            axs[idx_plot].set_xscale('symlog', linthreshx=12)\n",
    "            axs[idx_plot].set_yscale('log', )\n",
    "            axs[idx_plot].set_xlim([-1.,110])\n",
    "            axs[idx_plot].set_xlabel('contrast (%)')\n",
    "    \n",
    "fig.set_size_inches(2.5*cols,2.*rows)\n",
    "#'''\n",
    "pic_name='Figure_7_currents.pdf'\n",
    "fig.savefig(pic_name,format='pdf',bbox_inches='tight', dpi=300)\n",
    "pic_name='Figure_7_currents.png'\n",
    "fig.savefig(pic_name,format='png',bbox_inches='tight', dpi=300)\n",
    "#'''"
   ]
  },
  {
   "cell_type": "code",
   "execution_count": null,
   "metadata": {},
   "outputs": [],
   "source": []
  },
  {
   "cell_type": "code",
   "execution_count": null,
   "metadata": {},
   "outputs": [],
   "source": []
  }
 ],
 "metadata": {
  "anaconda-cloud": {},
  "colab": {
   "collapsed_sections": [],
   "name": "UMAP_embedding",
   "provenance": []
  },
  "kernelspec": {
   "display_name": "Python 3",
   "language": "python",
   "name": "python3"
  },
  "language_info": {
   "codemirror_mode": {
    "name": "ipython",
    "version": 3
   },
   "file_extension": ".py",
   "mimetype": "text/x-python",
   "name": "python",
   "nbconvert_exporter": "python",
   "pygments_lexer": "ipython3",
   "version": "3.8.8"
  }
 },
 "nbformat": 4,
 "nbformat_minor": 1
}
