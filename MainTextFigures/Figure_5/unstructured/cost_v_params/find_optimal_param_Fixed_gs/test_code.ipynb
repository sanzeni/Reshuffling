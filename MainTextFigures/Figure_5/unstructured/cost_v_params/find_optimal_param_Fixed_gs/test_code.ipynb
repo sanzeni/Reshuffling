{
 "cells": [
  {
   "cell_type": "code",
   "execution_count": 1,
   "id": "1aaf8f9a",
   "metadata": {},
   "outputs": [
    {
     "name": "stdout",
     "output_type": "stream",
     "text": [
      "Once deleted, variables cannot be recovered. Proceed (y/[n])? y\n"
     ]
    }
   ],
   "source": [
    "%reset\n",
    "#%qtconsole\n",
    "%load_ext autoreload\n",
    "%autoreload 2\n",
    "%matplotlib inline \n",
    "import matplotlib.pyplot as plt\n",
    "import numpy as np\n",
    "import matplotlib.cm as cm\n",
    "import matplotlib as mpl\n",
    "import scipy.stats as stats\n",
    "\n",
    "import functions_optimal as fun\n",
    "\n",
    "area=4.0;linethicknes=1.0;\n",
    "\n",
    "font = {'family' : 'normal','weight' : 'normal','size'   : 7, 'family':'serif','serif':['Arial']}\n",
    "mpl.rc('font', **font)\n",
    "mpl.rcParams['lines.linewidth'] =linethicknes\n",
    "mpl.rcParams['text.usetex'] = False\n",
    "mpl.rcParams['mathtext.fontset'] = 'stix'\n",
    "mpl.rcParams['mathtext.rm'] = 'serif'\n",
    "mpl.rcParams['pdf.fonttype'] = 42\n",
    "area=4.0;linethicknes=1.0;\n"
   ]
  },
  {
   "cell_type": "markdown",
   "id": "f7399104",
   "metadata": {},
   "source": [
    "# Fix parameters\n"
   ]
  },
  {
   "cell_type": "code",
   "execution_count": 2,
   "id": "d9d6a8ea",
   "metadata": {},
   "outputs": [],
   "source": [
    "idx_species=1;\n",
    "\n",
    "g_E=8\n",
    "g_I=3\n",
    "'''beta=\n",
    "\n",
    "log10_CVopto=np.log10(0.1)\n",
    "log10_J=np.log10(0.0001)\n",
    "'''\n",
    "nRep=10;\n"
   ]
  },
  {
   "cell_type": "code",
   "execution_count": null,
   "id": "ab3ddcd8",
   "metadata": {},
   "outputs": [],
   "source": []
  },
  {
   "cell_type": "markdown",
   "id": "5cce8fb0",
   "metadata": {},
   "source": [
    "# Build function param-> network response"
   ]
  },
  {
   "cell_type": "code",
   "execution_count": 3,
   "id": "f04da1f1",
   "metadata": {},
   "outputs": [
    {
     "name": "stdout",
     "output_type": "stream",
     "text": [
      "(121278, 28)\n",
      "Test R^2 Score : 0.943\n",
      "Training R^2 Score : 0.959\n"
     ]
    }
   ],
   "source": [
    "results=np.loadtxt('results_sim.txt');\n",
    "sim_param_all=results[:,0:15]\n",
    "moments_of_r_sim_all=results[:,15:20]\n",
    "\n",
    "sim_g_E=(sim_param_all[:,2])\n",
    "sim_g_I=(sim_param_all[:,3])\n",
    "sim_beta=(sim_param_all[:,4])\n",
    "sim_CV_K=(sim_param_all[:,7])\n",
    "sim_sigma_Lambda_over_Lambda=(sim_param_all[:,10])\n",
    "sim_J=(sim_param_all[:,11])\n",
    "sim_r_X=(sim_param_all[:,12])\n",
    "sim_ell=(sim_param_all[:,13])\n",
    "\n",
    "print(np.shape(results))\n",
    "\n",
    "Predictor_sim,Predictor_data=fun.build_function(results)"
   ]
  },
  {
   "cell_type": "markdown",
   "id": "ae1463fd",
   "metadata": {},
   "source": [
    "# Create dataset"
   ]
  },
  {
   "cell_type": "code",
   "execution_count": 7,
   "id": "e7f40495",
   "metadata": {},
   "outputs": [],
   "source": [
    "data_mice=np.loadtxt('Mice_with_trials.txt');\n",
    "data_monkeys=np.loadtxt('Monkeys_with_trials.txt');\n",
    "data_both_species=[data_mice,data_monkeys]\n",
    "\n",
    "dataset,Con,nCon=fun.build_dataset(data_both_species[idx_species])\n"
   ]
  },
  {
   "cell_type": "code",
   "execution_count": 8,
   "id": "70428b4a",
   "metadata": {},
   "outputs": [
    {
     "data": {
      "text/plain": [
       "(6, 6, 2)"
      ]
     },
     "execution_count": 8,
     "metadata": {},
     "output_type": "execute_result"
    }
   ],
   "source": [
    "np.shape(dataset)"
   ]
  },
  {
   "cell_type": "code",
   "execution_count": 9,
   "id": "5fb1e111",
   "metadata": {},
   "outputs": [
    {
     "data": {
      "image/png": "[encoded data removed]",
      "text/plain": [
       "<Figure size 360x576 with 8 Axes>"
      ]
     },
     "metadata": {},
     "output_type": "display_data"
    }
   ],
   "source": [
    "\n",
    "rows=4\n",
    "cols=2\n",
    "\n",
    "colors=['c','m']\n",
    "fig, axs = plt.subplots(rows,cols, figsize=(2.5*cols,2.*rows), facecolor='w', edgecolor='k')\n",
    "fig.subplots_adjust(hspace = .5, wspace=.5)\n",
    "axs = axs.ravel()\n",
    "\n",
    "\n",
    "\n",
    "\n",
    "for idx_moment in range(6):\n",
    "    if idx_moment<2:\n",
    "        idx_row=0\n",
    "        ccc=['k',colors[idx_species]][idx_moment]\n",
    "\n",
    "    if (idx_moment>=2)&(idx_moment<4):\n",
    "        idx_row=1\n",
    "        ccc=['k',colors[idx_species]][idx_moment-2]\n",
    "\n",
    "    if (idx_moment==4):\n",
    "        idx_row=2\n",
    "        ccc=colors[idx_species]\n",
    "\n",
    "    if (idx_moment==5):\n",
    "        idx_row=3\n",
    "        ccc=colors[idx_species]\n",
    "\n",
    "    axs[2*idx_row+idx_species].errorbar(Con,dataset[idx_moment,:,0],dataset[idx_moment,:,1],\n",
    "                                             color=ccc,)\n",
    "\n",
    "    axs[2*idx_row+idx_species].set_xscale('symlog', linthreshx=12)\n",
    "\n",
    "\n"
   ]
  },
  {
   "cell_type": "markdown",
   "id": "bf93492b",
   "metadata": {},
   "source": [
    "# Fit on dataset"
   ]
  },
  {
   "cell_type": "code",
   "execution_count": 10,
   "id": "df55f6a5",
   "metadata": {},
   "outputs": [
    {
     "name": "stdout",
     "output_type": "stream",
     "text": [
      "rep= 0  param init= [-0.57 -3.42 -0.58 -4.61]\n",
      "[-0.2  -1.89  1.   -2.75] 7.159751830909121\n",
      "rep= 1  param init= [-0.58 -3.42 -0.4  -4.59]\n",
      "[-0.58 -3.42 -0.4  -4.59] 332.71255575446474\n",
      "rep= 2  param init= [-0.79 -3.42  0.39 -4.34]\n",
      "[-0.77 -3.52  0.23 -3.86] 17.96094595345312\n",
      "rep= 3  param init= [-0.71 -3.42 -0.02 -3.54]\n",
      "[-0.47 -3.21  0.08 -3.66] 16.54934785476058\n",
      "rep= 4  param init= [-0.93 -3.42  0.5  -4.93]\n",
      "[-0.73 -1.89  0.99 -3.39] 9.05084315280395\n",
      "rep= 5  param init= [-0.35 -3.42  0.69 -4.92]\n",
      "[ 0.26 -3.52  1.   -4.64] 107.00415461238997\n",
      "rep= 6  param init= [-0.81 -3.42  0.21 -3.27]\n",
      "[-0.33 -1.8   1.   -2.4 ] 6.970560590227164\n",
      "rep= 7  param init= [-0.98 -3.42  0.3  -4.27]\n",
      "[-0.78 -3.49  0.13 -3.87] 17.79412659370058\n",
      "rep= 8  param init= [-0.78 -3.42 -0.93 -3.48]\n",
      "[-0.96 -3.35 -0.48 -3.24] 44.825819549300604\n",
      "rep= 9  param init= [-0.98 -3.42  0.3  -4.74]\n",
      "[-0.66 -2.19  0.86 -3.73] 11.556633190248931\n"
     ]
    }
   ],
   "source": [
    "sol,cost=fun.fit_model_to_data_fixed_gs(g_E,g_I,dataset,Predictor_data,nCon,nRep)"
   ]
  },
  {
   "cell_type": "code",
   "execution_count": null,
   "id": "14b721af",
   "metadata": {},
   "outputs": [],
   "source": []
  },
  {
   "cell_type": "code",
   "execution_count": 11,
   "id": "02b89804",
   "metadata": {},
   "outputs": [
    {
     "name": "stdout",
     "output_type": "stream",
     "text": [
      "[ 8.    3.   -0.33 -1.8   1.   -2.4 ] [1.01 1.45 1.56 1.63 1.66 1.69 1.75] 6.970560590227164\n"
     ]
    }
   ],
   "source": [
    "idx_best=np.argmin(cost)\n",
    "best_param=sol[idx_best,:]\n",
    "best_cost=cost[idx_best]\n",
    "best_param=np.concatenate(([g_E,g_I],best_param))\n",
    "best_inputs=fun.fit_inputs_to_data_given_param(dataset,Predictor_data,best_param,nCon)\n",
    "\n",
    "print(best_param,best_inputs,best_cost)"
   ]
  },
  {
   "cell_type": "code",
   "execution_count": 12,
   "id": "fa9f99cc",
   "metadata": {},
   "outputs": [
    {
     "name": "stdout",
     "output_type": "stream",
     "text": [
      "Monkeys 6.970560590227164\n",
      "array([ 8.  ,  3.  , -0.33, -1.8 ,  1.  , -2.4 ])\n",
      "array([1.01, 1.45, 1.56, 1.63, 1.66, 1.69, 1.75])\n"
     ]
    },
    {
     "data": {
      "text/plain": [
       "<matplotlib.lines.Line2D at 0x7fdf18b787f0>"
      ]
     },
     "execution_count": 12,
     "metadata": {},
     "output_type": "execute_result"
    },
    {
     "data": {
      "image/png": "[encoded data removed]",
      "text/plain": [
       "<Figure size 360x576 with 8 Axes>"
      ]
     },
     "metadata": {},
     "output_type": "display_data"
    }
   ],
   "source": [
    "\n",
    "rows=4\n",
    "cols=2\n",
    "\n",
    "colors=['c','m']\n",
    "fig, axs = plt.subplots(rows,cols, figsize=(2.5*cols,2.*rows), facecolor='w', edgecolor='k')\n",
    "fig.subplots_adjust(hspace = .5, wspace=.5)\n",
    "axs = axs.ravel()\n",
    "\n",
    "\n",
    "\n",
    "\n",
    "Predictions=Predictor_data(best_inputs,best_param,nCon)\n",
    "print(['Mice','Monkeys'][idx_species],best_cost)\n",
    "print(repr(best_param))\n",
    "print(repr(best_inputs))        \n",
    "for idx_moment in range(6):\n",
    "    if idx_moment<2:\n",
    "        idx_row=0\n",
    "        ccc=['k',colors[idx_species]][idx_moment]\n",
    "        ymin=0\n",
    "        ymax=[25,80][idx_species]\n",
    "\n",
    "    if (idx_moment>=2)&(idx_moment<4):\n",
    "        idx_row=1\n",
    "        ccc=['k',colors[idx_species]][idx_moment-2]\n",
    "        ymin=0\n",
    "        ymax=[20,60][idx_species]\n",
    "\n",
    "    if (idx_moment==4):\n",
    "        idx_row=2\n",
    "        ccc=colors[idx_species]\n",
    "        ymin=0\n",
    "        ymax=[20,60][idx_species]\n",
    "\n",
    "    if (idx_moment==5):\n",
    "        idx_row=3\n",
    "        ccc=colors[idx_species]\n",
    "        ymin=-0.75\n",
    "        ymax=0.25\n",
    "\n",
    "    m,sem=dataset[idx_moment,:,0],dataset[idx_moment,:,1]\n",
    "    axs[2*idx_row+idx_species].scatter(Con,m,\n",
    "                                       facecolors='none', s=10,edgecolors=ccc,marker='o'\n",
    "                                       )\n",
    "    axs[2*idx_row+idx_species].fill_between(Con,m-sem,m+sem,\n",
    "                                             color=ccc,alpha=0.2)\n",
    "\n",
    "    axs[2*idx_row+idx_species].plot(Con,Predictions[idx_moment,:],\n",
    "                                    color=ccc,alpha=1.)\n",
    "\n",
    "    axs[2*idx_row+idx_species].set_xscale('symlog', linthreshx=12)\n",
    "    axs[2*idx_row+idx_species].set_ylim([ymin,ymax])\n",
    "axs[2*idx_row+idx_species].axhline(y=0,ls='--',c='k')"
   ]
  },
  {
   "cell_type": "code",
   "execution_count": 13,
   "id": "18cc7e8d",
   "metadata": {},
   "outputs": [],
   "source": [
    "results=np.zeros((1,len(best_param)\n",
    "                  +len(best_inputs)\n",
    "                 +1))\n",
    "\n",
    "results[0,0:len(best_param)]=best_param[:]\n",
    "results[0,len(best_param):(len(best_param)+len(best_inputs))]=best_inputs[:]\n",
    "results[0,(len(best_param)+len(best_inputs))]=best_cost\n"
   ]
  },
  {
   "cell_type": "code",
   "execution_count": 14,
   "id": "22323a07",
   "metadata": {},
   "outputs": [
    {
     "data": {
      "text/plain": [
       "array([[ 8.  ,  3.  , -0.33, -1.8 ,  1.  , -2.4 ,  1.01,  1.45,  1.56,\n",
       "         1.63,  1.66,  1.69,  1.75,  6.97]])"
      ]
     },
     "execution_count": 14,
     "metadata": {},
     "output_type": "execute_result"
    }
   ],
   "source": [
    "results"
   ]
  },
  {
   "cell_type": "code",
   "execution_count": null,
   "id": "8b20c045",
   "metadata": {},
   "outputs": [],
   "source": []
  }
 ],
 "metadata": {
  "kernelspec": {
   "display_name": "Python 3",
   "language": "python",
   "name": "python3"
  },
  "language_info": {
   "codemirror_mode": {
    "name": "ipython",
    "version": 3
   },
   "file_extension": ".py",
   "mimetype": "text/x-python",
   "name": "python",
   "nbconvert_exporter": "python",
   "pygments_lexer": "ipython3",
   "version": "3.8.8"
  }
 },
 "nbformat": 4,
 "nbformat_minor": 5
}
