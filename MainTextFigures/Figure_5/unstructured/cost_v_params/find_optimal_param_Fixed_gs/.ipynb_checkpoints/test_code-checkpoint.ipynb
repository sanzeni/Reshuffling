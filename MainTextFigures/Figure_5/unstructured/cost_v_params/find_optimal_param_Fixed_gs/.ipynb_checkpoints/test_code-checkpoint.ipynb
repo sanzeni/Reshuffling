{
 "cells": [
  {
   "cell_type": "code",
   "execution_count": 1,
   "id": "1aaf8f9a",
   "metadata": {},
   "outputs": [
    {
     "name": "stdout",
     "output_type": "stream",
     "text": [
      "Once deleted, variables cannot be recovered. Proceed (y/[n])? y\n"
     ]
    }
   ],
   "source": [
    "%reset\n",
    "#%qtconsole\n",
    "%load_ext autoreload\n",
    "%autoreload 2\n",
    "%matplotlib inline \n",
    "import matplotlib.pyplot as plt\n",
    "import numpy as np\n",
    "import matplotlib.cm as cm\n",
    "import matplotlib as mpl\n",
    "import scipy.stats as stats\n",
    "\n",
    "import functions_optimal as fun\n",
    "\n",
    "area=4.0;linethicknes=1.0;\n",
    "\n",
    "font = {'family' : 'normal','weight' : 'normal','size'   : 7, 'family':'serif','serif':['Arial']}\n",
    "mpl.rc('font', **font)\n",
    "mpl.rcParams['lines.linewidth'] =linethicknes\n",
    "mpl.rcParams['text.usetex'] = False\n",
    "mpl.rcParams['mathtext.fontset'] = 'stix'\n",
    "mpl.rcParams['mathtext.rm'] = 'serif'\n",
    "mpl.rcParams['pdf.fonttype'] = 42\n",
    "area=4.0;linethicknes=1.0;\n"
   ]
  },
  {
   "cell_type": "markdown",
   "id": "f7399104",
   "metadata": {},
   "source": [
    "# Fix parameters\n"
   ]
  },
  {
   "cell_type": "code",
   "execution_count": 2,
   "id": "d9d6a8ea",
   "metadata": {},
   "outputs": [],
   "source": [
    "idx_species=1;\n",
    "\n",
    "g_E=8\n",
    "g_I=3\n",
    "'''beta=\n",
    "\n",
    "log10_CVopto=np.log10(0.1)\n",
    "log10_J=np.log10(0.0001)\n",
    "'''\n",
    "nRep=10;\n"
   ]
  },
  {
   "cell_type": "code",
   "execution_count": null,
   "id": "ab3ddcd8",
   "metadata": {},
   "outputs": [],
   "source": []
  },
  {
   "cell_type": "markdown",
   "id": "5cce8fb0",
   "metadata": {},
   "source": [
    "# Build function param-> network response"
   ]
  },
  {
   "cell_type": "code",
   "execution_count": null,
   "id": "f04da1f1",
   "metadata": {},
   "outputs": [
    {
     "name": "stdout",
     "output_type": "stream",
     "text": [
      "(121278, 28)\n"
     ]
    }
   ],
   "source": [
    "results=np.loadtxt('results_sim.txt');\n",
    "sim_param_all=results[:,0:15]\n",
    "moments_of_r_sim_all=results[:,15:20]\n",
    "\n",
    "sim_g_E=(sim_param_all[:,2])\n",
    "sim_g_I=(sim_param_all[:,3])\n",
    "sim_beta=(sim_param_all[:,4])\n",
    "sim_CV_K=(sim_param_all[:,7])\n",
    "sim_sigma_Lambda_over_Lambda=(sim_param_all[:,10])\n",
    "sim_J=(sim_param_all[:,11])\n",
    "sim_r_X=(sim_param_all[:,12])\n",
    "sim_ell=(sim_param_all[:,13])\n",
    "\n",
    "print(np.shape(results))\n",
    "\n",
    "Predictor_sim,Predictor_data=fun.build_function(results)"
   ]
  },
  {
   "cell_type": "markdown",
   "id": "ae1463fd",
   "metadata": {},
   "source": [
    "# Create dataset"
   ]
  },
  {
   "cell_type": "code",
   "execution_count": null,
   "id": "e7f40495",
   "metadata": {},
   "outputs": [],
   "source": [
    "data_mice=np.loadtxt('Mice_with_trials.txt');\n",
    "data_monkeys=np.loadtxt('Monkeys_with_trials.txt');\n",
    "data_both_species=[data_mice,data_monkeys]\n",
    "\n",
    "dataset,Con,nCon=fun.build_dataset(data_both_species[idx_species])\n"
   ]
  },
  {
   "cell_type": "code",
   "execution_count": null,
   "id": "70428b4a",
   "metadata": {},
   "outputs": [],
   "source": [
    "np.shape(dataset)"
   ]
  },
  {
   "cell_type": "code",
   "execution_count": null,
   "id": "5fb1e111",
   "metadata": {},
   "outputs": [],
   "source": [
    "\n",
    "rows=4\n",
    "cols=2\n",
    "\n",
    "colors=['c','m']\n",
    "fig, axs = plt.subplots(rows,cols, figsize=(2.5*cols,2.*rows), facecolor='w', edgecolor='k')\n",
    "fig.subplots_adjust(hspace = .5, wspace=.5)\n",
    "axs = axs.ravel()\n",
    "\n",
    "\n",
    "\n",
    "\n",
    "for idx_moment in range(6):\n",
    "    if idx_moment<2:\n",
    "        idx_row=0\n",
    "        ccc=['k',colors[idx_species]][idx_moment]\n",
    "\n",
    "    if (idx_moment>=2)&(idx_moment<4):\n",
    "        idx_row=1\n",
    "        ccc=['k',colors[idx_species]][idx_moment-2]\n",
    "\n",
    "    if (idx_moment==4):\n",
    "        idx_row=2\n",
    "        ccc=colors[idx_species]\n",
    "\n",
    "    if (idx_moment==5):\n",
    "        idx_row=3\n",
    "        ccc=colors[idx_species]\n",
    "\n",
    "    axs[2*idx_row+idx_species].errorbar(Con,dataset[idx_moment,:,0],dataset[idx_moment,:,1],\n",
    "                                             color=ccc,)\n",
    "\n",
    "    axs[2*idx_row+idx_species].set_xscale('symlog', linthreshx=12)\n",
    "\n",
    "\n"
   ]
  },
  {
   "cell_type": "markdown",
   "id": "bf93492b",
   "metadata": {},
   "source": [
    "# Fit on dataset"
   ]
  },
  {
   "cell_type": "code",
   "execution_count": 31,
   "id": "df55f6a5",
   "metadata": {},
   "outputs": [
    {
     "name": "stdout",
     "output_type": "stream",
     "text": [
      "rep= 0  param init= [ 7.83  6.67 -0.89 -0.56]\n",
      "[ 7.37  6.03 -0.78 -2.27] 32.82239950178621\n",
      "rep= 1  param init= [ 5.95  3.68 -0.17 -0.56]\n",
      "[ 6.01  3.67 -0.15 -0.55] 326.1664974212017\n",
      "rep= 2  param init= [ 6.29  4.12 -0.03 -0.56]\n",
      "[ 6.29  4.12 -0.03 -0.56] 345.7794348783211\n",
      "rep= 3  param init= [ 9.66  3.22 -0.81 -0.56]\n",
      "[10.    2.01 -0.86 -1.61] 41.96186188341457\n",
      "rep= 4  param init= [ 7.86  5.27 -0.06 -0.56]\n",
      "[ 7.87  5.25 -0.11 -0.67] 287.7465733974185\n",
      "rep= 5  param init= [ 8.92  2.99 -0.11 -0.56]\n",
      "[10.    2.   -0.5  -1.35] 126.82637311171902\n",
      "rep= 6  param init= [ 7.02  4.59 -0.61 -0.56]\n",
      "[ 6.07  6.83 -0.23 -0.56] 150.57946692563957\n",
      "rep= 7  param init= [ 9.92  7.14 -0.54 -0.56]\n",
      "[ 9.64  8.15 -0.41 -0.9 ] 250.2253547261085\n",
      "rep= 8  param init= [ 8.91  4.53 -0.28 -0.56]\n",
      "[10.    2.01 -0.04 -0.93] 175.83480276837025\n",
      "rep= 9  param init= [ 8.37  6.38 -0.99 -0.56]\n",
      "[10.    2.58 -1.   -1.94] 40.01595314327251\n"
     ]
    }
   ],
   "source": [
    "sol,cost=fun.fit_model_to_data_fixed_gs(g_E,g_I,dataset,Predictor_data,nCon,nRep)"
   ]
  },
  {
   "cell_type": "code",
   "execution_count": null,
   "id": "14b721af",
   "metadata": {},
   "outputs": [],
   "source": []
  },
  {
   "cell_type": "code",
   "execution_count": 32,
   "id": "02b89804",
   "metadata": {},
   "outputs": [
    {
     "name": "stdout",
     "output_type": "stream",
     "text": [
      "[ 7.37  6.03 -0.78 -2.27 -1.   -4.  ] [1.52 1.75 1.81 1.86 1.88 1.91 0.9 ] 32.82239950178621\n"
     ]
    }
   ],
   "source": [
    "idx_best=np.argmin(cost)\n",
    "best_param=sol[idx_best,:]\n",
    "best_cost=cost[idx_best]\n",
    "best_param=np.concatenate(([g_E,g_I],best_param))\n",
    "best_inputs=fun.fit_inputs_to_data_given_param(dataset,Predictor_data,best_param,nCon)\n",
    "\n",
    "print(best_param,best_inputs,best_cost)"
   ]
  },
  {
   "cell_type": "code",
   "execution_count": 33,
   "id": "fa9f99cc",
   "metadata": {},
   "outputs": [
    {
     "name": "stdout",
     "output_type": "stream",
     "text": [
      "Monkeys 32.82239950178621\n",
      "array([ 7.37,  6.03, -0.78, -2.27, -1.  , -4.  ])\n",
      "array([1.52, 1.75, 1.81, 1.86, 1.88, 1.91, 0.9 ])\n"
     ]
    },
    {
     "data": {
      "text/plain": [
       "<matplotlib.lines.Line2D at 0x7fb6a2a48b80>"
      ]
     },
     "execution_count": 33,
     "metadata": {},
     "output_type": "execute_result"
    },
    {
     "data": {
      "image/png": "[encoded data removed]",
      "text/plain": [
       "<Figure size 360x576 with 8 Axes>"
      ]
     },
     "metadata": {},
     "output_type": "display_data"
    }
   ],
   "source": [
    "\n",
    "rows=4\n",
    "cols=2\n",
    "\n",
    "colors=['c','m']\n",
    "fig, axs = plt.subplots(rows,cols, figsize=(2.5*cols,2.*rows), facecolor='w', edgecolor='k')\n",
    "fig.subplots_adjust(hspace = .5, wspace=.5)\n",
    "axs = axs.ravel()\n",
    "\n",
    "\n",
    "\n",
    "\n",
    "Predictions=Predictor_data(best_inputs,best_param,nCon)\n",
    "print(['Mice','Monkeys'][idx_species],best_cost)\n",
    "print(repr(best_param))\n",
    "print(repr(best_inputs))        \n",
    "for idx_moment in range(6):\n",
    "    if idx_moment<2:\n",
    "        idx_row=0\n",
    "        ccc=['k',colors[idx_species]][idx_moment]\n",
    "        ymin=0\n",
    "        ymax=[25,80][idx_species]\n",
    "\n",
    "    if (idx_moment>=2)&(idx_moment<4):\n",
    "        idx_row=1\n",
    "        ccc=['k',colors[idx_species]][idx_moment-2]\n",
    "        ymin=0\n",
    "        ymax=[20,60][idx_species]\n",
    "\n",
    "    if (idx_moment==4):\n",
    "        idx_row=2\n",
    "        ccc=colors[idx_species]\n",
    "        ymin=0\n",
    "        ymax=[20,60][idx_species]\n",
    "\n",
    "    if (idx_moment==5):\n",
    "        idx_row=3\n",
    "        ccc=colors[idx_species]\n",
    "        ymin=-0.75\n",
    "        ymax=0.25\n",
    "\n",
    "    m,sem=dataset[idx_moment,:,0],dataset[idx_moment,:,1]\n",
    "    axs[2*idx_row+idx_species].scatter(Con,m,\n",
    "                                       facecolors='none', s=10,edgecolors=ccc,marker='o'\n",
    "                                       )\n",
    "    axs[2*idx_row+idx_species].fill_between(Con,m-sem,m+sem,\n",
    "                                             color=ccc,alpha=0.2)\n",
    "\n",
    "    axs[2*idx_row+idx_species].plot(Con,Predictions[idx_moment,:],\n",
    "                                    color=ccc,alpha=1.)\n",
    "\n",
    "    axs[2*idx_row+idx_species].set_xscale('symlog', linthreshx=12)\n",
    "    axs[2*idx_row+idx_species].set_ylim([ymin,ymax])\n",
    "axs[2*idx_row+idx_species].axhline(y=0,ls='--',c='k')"
   ]
  },
  {
   "cell_type": "code",
   "execution_count": 34,
   "id": "18cc7e8d",
   "metadata": {},
   "outputs": [],
   "source": [
    "results=np.zeros((1,len(best_param)\n",
    "                  +len(best_inputs)\n",
    "                 +1))\n",
    "\n",
    "results[0,0:len(best_param)]=best_param[:]\n",
    "results[0,len(best_param):(len(best_param)+len(best_inputs))]=best_inputs[:]\n",
    "results[0,(len(best_param)+len(best_inputs))]=best_cost\n"
   ]
  },
  {
   "cell_type": "code",
   "execution_count": 35,
   "id": "22323a07",
   "metadata": {},
   "outputs": [
    {
     "data": {
      "text/plain": [
       "array([[ 7.37,  6.03, -0.78, -2.27, -1.  , -4.  ,  1.52,  1.75,  1.81,\n",
       "         1.86,  1.88,  1.91,  0.9 , 32.82]])"
      ]
     },
     "execution_count": 35,
     "metadata": {},
     "output_type": "execute_result"
    }
   ],
   "source": [
    "results"
   ]
  },
  {
   "cell_type": "code",
   "execution_count": null,
   "id": "8b20c045",
   "metadata": {},
   "outputs": [],
   "source": []
  }
 ],
 "metadata": {
  "kernelspec": {
   "display_name": "Python 3",
   "language": "python",
   "name": "python3"
  },
  "language_info": {
   "codemirror_mode": {
    "name": "ipython",
    "version": 3
   },
   "file_extension": ".py",
   "mimetype": "text/x-python",
   "name": "python",
   "nbconvert_exporter": "python",
   "pygments_lexer": "ipython3",
   "version": "3.8.8"
  }
 },
 "nbformat": 4,
 "nbformat_minor": 5
}
