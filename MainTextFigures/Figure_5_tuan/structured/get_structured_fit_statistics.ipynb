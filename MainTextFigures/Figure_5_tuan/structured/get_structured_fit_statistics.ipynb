{
 "cells": [
  {
   "cell_type": "code",
   "execution_count": 1,
   "id": "4e880f76",
   "metadata": {},
   "outputs": [],
   "source": [
    "import sys\n",
    "import os\n",
    "sys.path.insert(0, './../../../DataAndScripts/structured_scripts')"
   ]
  },
  {
   "cell_type": "code",
   "execution_count": 15,
   "id": "7587fe1b",
   "metadata": {},
   "outputs": [],
   "source": [
    "from importlib import reload\n",
    "\n",
    "import pickle\n",
    "import numpy as np\n",
    "import matplotlib as mpl\n",
    "import matplotlib.pyplot as plt\n",
    "import time\n",
    "\n",
    "import data_analysis as da\n",
    "import functions as fun\n",
    "import sims_utils as su\n",
    "import validate_utils as vu\n",
    "import load_utils as lu\n",
    "\n",
    "import ricciardi_class as ric\n",
    "import network as network"
   ]
  },
  {
   "cell_type": "markdown",
   "id": "aa024a5e",
   "metadata": {},
   "source": [
    "# Load Best Fit Parameters"
   ]
  },
  {
   "cell_type": "code",
   "execution_count": 16,
   "id": "29a24792",
   "metadata": {},
   "outputs": [],
   "source": [
    "data=da.Data_MonkeyMouse('both','./../../../DataAndScripts/experimental_data')"
   ]
  },
  {
   "cell_type": "code",
   "execution_count": 17,
   "id": "b88293af",
   "metadata": {},
   "outputs": [],
   "source": [
    "with open(\"Model_Fit_Separately_StructModel-\"+\"Best\"+'.pkl', 'rb') as handle:\n",
    "    comb_fit = pickle.load(handle)\n",
    "    \n",
    "fit_preds = {}\n",
    "fit_params = {}\n",
    "fit_rX = {}\n",
    "fit_bals = {}\n",
    "fit_optrs = {}\n",
    "\n",
    "for anim_idx in range(2):\n",
    "    fit_preds[anim_idx] = comb_fit['predictions_of_r_sim_'+data.this_animals[anim_idx]]\n",
    "    fit_params[anim_idx] = np.concatenate(([0,500,0.09,30,1e-3,200],\n",
    "                                           comb_fit['best_params_'+data.this_animals[anim_idx]]))\n",
    "    fit_rX[anim_idx] = comb_fit['best_rXs_'+data.this_animals[anim_idx]]\n",
    "    fit_bals[anim_idx] = comb_fit['full_balance_'+data.this_animals[anim_idx]]\n",
    "    fit_optrs[anim_idx] = comb_fit['full_opto_ratio_'+data.this_animals[anim_idx]]"
   ]
  },
  {
   "cell_type": "markdown",
   "id": "21f53a91",
   "metadata": {},
   "source": [
    "# Simulate Best Fit"
   ]
  },
  {
   "cell_type": "code",
   "execution_count": 11,
   "id": "ada3f92b",
   "metadata": {},
   "outputs": [],
   "source": [
    "seeds=[1,3,5,7]\n",
    "max_min=25\n",
    "\n",
    "ri = ric.Ricciardi()\n",
    "ri.set_up_nonlinearity()"
   ]
  },
  {
   "cell_type": "code",
   "execution_count": 18,
   "id": "36376981",
   "metadata": {},
   "outputs": [
    {
     "name": "stdout",
     "output_type": "stream",
     "text": [
      "Animal = Mouse\n",
      "Parameters used seed= 0 // GI= 1.80 // gE= 8.09 // gI= 2.58 // beta= 0.34 // KX= 500 // pmax= 0.09\n",
      "CV_K= 0.0034 // SlE= 0.256 // SlI= 0.136 // SoriE= 30.00 // SoriI= 21.77 // Stun= 48.36\n",
      "Lam= 0.001 // CV_Lam= 0.71 // J= 0.000093 // rX0= 10.07 // rX1= 10.82 // L= 5.53 // Tmax_over_tau_E= 200\n",
      "\n",
      "Doing contrast 1 of 7\n",
      "      Integration stopped after 0.3s of simulation time\n",
      "      Integration stopped after 0.84s of simulation time\n",
      "      Integration stopped after 0.6s of simulation time\n",
      "      Integration stopped after 1.51s of simulation time\n",
      "      Integration stopped after 1.07s of simulation time\n",
      "      Integration stopped after 0.3s of simulation time\n",
      "Doing contrast 2 of 7\n",
      "      Integration stopped after 1.5s of simulation time\n",
      "      Integration stopped after 1.23s of simulation time\n"
     ]
    },
    {
     "ename": "KeyboardInterrupt",
     "evalue": "",
     "output_type": "error",
     "traceback": [
      "\u001b[0;31m---------------------------------------------------------------------------\u001b[0m",
      "\u001b[0;31mKeyboardInterrupt\u001b[0m                         Traceback (most recent call last)",
      "Cell \u001b[0;32mIn[18], line 93\u001b[0m\n\u001b[1;32m     89\u001b[0m params_dict[\u001b[38;5;124m'\u001b[39m\u001b[38;5;124mori_type\u001b[39m\u001b[38;5;124m'\u001b[39m]\u001b[38;5;241m=\u001b[39mori_type\n\u001b[1;32m     90\u001b[0m params_dict[\u001b[38;5;124m'\u001b[39m\u001b[38;5;124mvanilla_or_not\u001b[39m\u001b[38;5;124m'\u001b[39m]\u001b[38;5;241m=\u001b[39m\u001b[38;5;28;01mFalse\u001b[39;00m\n\u001b[1;32m     92\u001b[0m _,_,_,animal_rates,_,_ \u001b[38;5;241m=\u001b[39m\\\n\u001b[0;32m---> 93\u001b[0m     \u001b[43mlu\u001b[49m\u001b[38;5;241;43m.\u001b[39;49m\u001b[43msim_const_map\u001b[49m\u001b[43m(\u001b[49m\u001b[43mparams_dict\u001b[49m\u001b[43m,\u001b[49m\u001b[43mrX\u001b[49m\u001b[43m,\u001b[49m\u001b[43mri\u001b[49m\u001b[43m,\u001b[49m\u001b[43mT\u001b[49m\u001b[43m,\u001b[49m\u001b[43mmask_time\u001b[49m\u001b[43m,\u001b[49m\u001b[43mRF\u001b[49m\u001b[43m,\u001b[49m\u001b[43mtuned\u001b[49m\u001b[43m,\u001b[49m\u001b[43mseed_con\u001b[49m\u001b[43m,\u001b[49m\u001b[43mseeds\u001b[49m\u001b[43m,\u001b[49m\u001b[43mmax_min\u001b[49m\u001b[43m)\u001b[49m\n\u001b[1;32m     94\u001b[0m this_rates \u001b[38;5;241m=\u001b[39m np\u001b[38;5;241m.\u001b[39mzeros((data\u001b[38;5;241m.\u001b[39mnc[anim_idx],\u001b[38;5;241m2\u001b[39m,\u001b[38;5;28mlen\u001b[39m(idxs)))\n\u001b[1;32m     95\u001b[0m \u001b[38;5;28;01mfor\u001b[39;00m idx \u001b[38;5;129;01min\u001b[39;00m \u001b[38;5;28mrange\u001b[39m(data\u001b[38;5;241m.\u001b[39mnc[anim_idx]):\n",
      "File \u001b[0;32m~/Reshuffling/MainTextFigures/Figure_5_tuan/structured/./../../../DataAndScripts/structured_scripts/load_utils.py:218\u001b[0m, in \u001b[0;36msim_const_map\u001b[0;34m(params_dict, rX_vec, ri, T, mask_time, RF, tuned, map_seed, seeds, max_min, return_dynas, input_var)\u001b[0m\n\u001b[1;32m    213\u001b[0m     this_moments, _, _, this_rates, muEs, muIs, muLs, this_dynas \u001b[38;5;241m=\u001b[39m \\\n\u001b[1;32m    214\u001b[0m         fun\u001b[38;5;241m.\u001b[39mget_moments_of_r_sim(net,ri,T,mask_time,this_params_dict[\u001b[38;5;124m'\u001b[39m\u001b[38;5;124mL\u001b[39m\u001b[38;5;124m'\u001b[39m],RF,tuned,return_activity\u001b[38;5;241m=\u001b[39m\u001b[38;5;28;01mTrue\u001b[39;00m,\n\u001b[1;32m    215\u001b[0m             max_min\u001b[38;5;241m=\u001b[39mmax_min,return_dynas\u001b[38;5;241m=\u001b[39m\u001b[38;5;28;01mTrue\u001b[39;00m)\n\u001b[1;32m    216\u001b[0m \u001b[38;5;28;01melse\u001b[39;00m:\n\u001b[1;32m    217\u001b[0m     this_moments, _, _, this_rates, muEs, muIs, muLs \u001b[38;5;241m=\u001b[39m \\\n\u001b[0;32m--> 218\u001b[0m         \u001b[43mfun\u001b[49m\u001b[38;5;241;43m.\u001b[39;49m\u001b[43mget_moments_of_r_sim\u001b[49m\u001b[43m(\u001b[49m\u001b[43mnet\u001b[49m\u001b[43m,\u001b[49m\u001b[43mri\u001b[49m\u001b[43m,\u001b[49m\u001b[43mT\u001b[49m\u001b[43m,\u001b[49m\u001b[43mmask_time\u001b[49m\u001b[43m,\u001b[49m\u001b[43mthis_params_dict\u001b[49m\u001b[43m[\u001b[49m\u001b[38;5;124;43m'\u001b[39;49m\u001b[38;5;124;43mL\u001b[39;49m\u001b[38;5;124;43m'\u001b[39;49m\u001b[43m]\u001b[49m\u001b[43m,\u001b[49m\u001b[43mRF\u001b[49m\u001b[43m,\u001b[49m\u001b[43mtuned\u001b[49m\u001b[43m,\u001b[49m\u001b[43mreturn_activity\u001b[49m\u001b[38;5;241;43m=\u001b[39;49m\u001b[38;5;28;43;01mTrue\u001b[39;49;00m\u001b[43m,\u001b[49m\n\u001b[1;32m    219\u001b[0m \u001b[43m            \u001b[49m\u001b[43mmax_min\u001b[49m\u001b[38;5;241;43m=\u001b[39;49m\u001b[43mmax_min\u001b[49m\u001b[43m,\u001b[49m\u001b[43mreturn_dynas\u001b[49m\u001b[38;5;241;43m=\u001b[39;49m\u001b[38;5;28;43;01mFalse\u001b[39;49;00m\u001b[43m)\u001b[49m\n\u001b[1;32m    221\u001b[0m rX_moments[seed_idx,:] \u001b[38;5;241m=\u001b[39m this_moments\n\u001b[1;32m    222\u001b[0m rX_preds_tuned[seed_idx,:] \u001b[38;5;241m=\u001b[39m vu\u001b[38;5;241m.\u001b[39mget_predictions_from_moments_and_idxs(this_moments,vu\u001b[38;5;241m.\u001b[39mtuned_idxs)\n",
      "File \u001b[0;32m~/Reshuffling/MainTextFigures/Figure_5_tuan/structured/./../../../DataAndScripts/structured_scripts/functions.py:45\u001b[0m, in \u001b[0;36mget_moments_of_r_sim\u001b[0;34m(net, ri, T, mask_time, L, RF, tuned, return_activity, max_min, return_dynas)\u001b[0m\n\u001b[1;32m     35\u001b[0m RATES[\u001b[38;5;241m0\u001b[39m,:]\u001b[38;5;241m=\u001b[39mnp\u001b[38;5;241m.\u001b[39mmean(DYNAS[\u001b[38;5;241m0\u001b[39m,:,mask_time],axis\u001b[38;5;241m=\u001b[39m\u001b[38;5;241m0\u001b[39m)\n\u001b[1;32m     37\u001b[0m \u001b[38;5;66;03m#print(\"Baseline Network with mean_E= {:.2f}, mean_I= {:.2f}, std_E= {:.2f}, std_I= {:.2f} \"\\\u001b[39;00m\n\u001b[1;32m     38\u001b[0m \u001b[38;5;66;03m#.format(np.mean(RATES[0,net.allE]),np.mean(RATES[0,net.allI]),np.std(RATES[0,net.allE]),np.std(RATES[0,net.allI])))\u001b[39;00m\n\u001b[1;32m     39\u001b[0m \n\u001b[0;32m   (...)\u001b[0m\n\u001b[1;32m     42\u001b[0m \u001b[38;5;66;03m# DYNAS[1,:,:],MUS[1,:]=\\\u001b[39;00m\n\u001b[1;32m     43\u001b[0m     \u001b[38;5;66;03m# high_dimensional_dynamics(net,ri,T,L);\u001b[39;00m\n\u001b[1;32m     44\u001b[0m DYNAS[\u001b[38;5;241m1\u001b[39m,:,:],MUS[\u001b[38;5;241m1\u001b[39m,:],opto_timeout\u001b[38;5;241m=\u001b[39m\\\n\u001b[0;32m---> 45\u001b[0m     \u001b[43mhigh_dimensional_dynamics\u001b[49m\u001b[43m(\u001b[49m\u001b[43mri\u001b[49m\u001b[43m,\u001b[49m\u001b[43mT\u001b[49m\u001b[43m,\u001b[49m\u001b[43mL\u001b[49m\u001b[43m,\u001b[49m\u001b[43mnet\u001b[49m\u001b[38;5;241;43m.\u001b[39;49m\u001b[43mM\u001b[49m\u001b[43m,\u001b[49m\u001b[43mnet\u001b[49m\u001b[38;5;241;43m.\u001b[39;49m\u001b[43mH\u001b[49m\u001b[43m,\u001b[49m\u001b[43mnet\u001b[49m\u001b[38;5;241;43m.\u001b[39;49m\u001b[43mLAM\u001b[49m\u001b[43m,\u001b[49m\u001b[43mnet\u001b[49m\u001b[38;5;241;43m.\u001b[39;49m\u001b[43mallE\u001b[49m\u001b[43m,\u001b[49m\u001b[43mnet\u001b[49m\u001b[38;5;241;43m.\u001b[39;49m\u001b[43mallI\u001b[49m\u001b[43m,\u001b[49m\u001b[43mmax_min\u001b[49m\u001b[43m)\u001b[49m;\n\u001b[1;32m     46\u001b[0m RATES[\u001b[38;5;241m1\u001b[39m,:]\u001b[38;5;241m=\u001b[39mnp\u001b[38;5;241m.\u001b[39mmean(DYNAS[\u001b[38;5;241m1\u001b[39m,:,mask_time],axis\u001b[38;5;241m=\u001b[39m\u001b[38;5;241m0\u001b[39m)\n\u001b[1;32m     49\u001b[0m \u001b[38;5;66;03m#print(\"Optogenetically Stimulated Network with mean_E= {:.2f}, mean_I= {:.2f}, std_E= {:.2f}, std_I= {:.2f} \"\\\u001b[39;00m\n\u001b[1;32m     50\u001b[0m \u001b[38;5;66;03m#.format(np.mean(RATES[1,net.allE]),np.mean(RATES[1,net.allI]),np.std(RATES[1,net.allE]),np.std(RATES[1,net.allI])))\u001b[39;00m\n",
      "File \u001b[0;32m~/Reshuffling/MainTextFigures/Figure_5_tuan/structured/./../../../DataAndScripts/structured_scripts/functions.py:212\u001b[0m, in \u001b[0;36mhigh_dimensional_dynamics\u001b[0;34m(ri, T, L, M, H, LAM, Einds, Iinds, max_min, mult_tau)\u001b[0m\n\u001b[1;32m    209\u001b[0m time_event\u001b[38;5;241m.\u001b[39mterminal \u001b[38;5;241m=\u001b[39m \u001b[38;5;28;01mTrue\u001b[39;00m\n\u001b[1;32m    211\u001b[0m RATES\u001b[38;5;241m=\u001b[39mnp\u001b[38;5;241m.\u001b[39mzeros((\u001b[38;5;28mlen\u001b[39m(H),\u001b[38;5;28mlen\u001b[39m(T)));\n\u001b[0;32m--> 212\u001b[0m sol \u001b[38;5;241m=\u001b[39m \u001b[43msolve_ivp\u001b[49m\u001b[43m(\u001b[49m\u001b[43msystem_RK45\u001b[49m\u001b[43m,\u001b[49m\u001b[43m[\u001b[49m\u001b[43mnp\u001b[49m\u001b[38;5;241;43m.\u001b[39;49m\u001b[43mmin\u001b[49m\u001b[43m(\u001b[49m\u001b[43mT\u001b[49m\u001b[43m)\u001b[49m\u001b[43m,\u001b[49m\u001b[43mnp\u001b[49m\u001b[38;5;241;43m.\u001b[39;49m\u001b[43mmax\u001b[49m\u001b[43m(\u001b[49m\u001b[43mT\u001b[49m\u001b[43m)\u001b[49m\u001b[43m]\u001b[49m\u001b[43m,\u001b[49m\u001b[43mRATES\u001b[49m\u001b[43m[\u001b[49m\u001b[43m:\u001b[49m\u001b[43m,\u001b[49m\u001b[38;5;241;43m0\u001b[39;49m\u001b[43m]\u001b[49m\u001b[43m,\u001b[49m\u001b[43m \u001b[49m\u001b[43mmethod\u001b[49m\u001b[38;5;241;43m=\u001b[39;49m\u001b[38;5;124;43m'\u001b[39;49m\u001b[38;5;124;43mRK45\u001b[39;49m\u001b[38;5;124;43m'\u001b[39;49m\u001b[43m,\u001b[49m\u001b[43m \u001b[49m\u001b[43mt_eval\u001b[49m\u001b[38;5;241;43m=\u001b[39;49m\u001b[43mT\u001b[49m\u001b[43m,\u001b[49m\u001b[43m \u001b[49m\u001b[43mevents\u001b[49m\u001b[38;5;241;43m=\u001b[39;49m\u001b[43m[\u001b[49m\u001b[43mstat_event\u001b[49m\u001b[43m,\u001b[49m\u001b[43mtime_event\u001b[49m\u001b[43m]\u001b[49m\u001b[43m)\u001b[49m\n\u001b[1;32m    213\u001b[0m \u001b[38;5;28;01mif\u001b[39;00m sol\u001b[38;5;241m.\u001b[39mt\u001b[38;5;241m.\u001b[39msize \u001b[38;5;241m<\u001b[39m \u001b[38;5;28mlen\u001b[39m(T):\n\u001b[1;32m    214\u001b[0m     \u001b[38;5;28mprint\u001b[39m(\u001b[38;5;124m\"\u001b[39m\u001b[38;5;124m      Integration stopped after \u001b[39m\u001b[38;5;124m\"\u001b[39m \u001b[38;5;241m+\u001b[39m \u001b[38;5;28mstr\u001b[39m(np\u001b[38;5;241m.\u001b[39maround(T[sol\u001b[38;5;241m.\u001b[39mt\u001b[38;5;241m.\u001b[39msize\u001b[38;5;241m-\u001b[39m\u001b[38;5;241m1\u001b[39m],\u001b[38;5;241m2\u001b[39m)) \u001b[38;5;241m+\u001b[39m \u001b[38;5;124m\"\u001b[39m\u001b[38;5;124ms of simulation time\u001b[39m\u001b[38;5;124m\"\u001b[39m)\n",
      "File \u001b[0;32m/usr/local/lib/python3.11/site-packages/scipy/integrate/_ivp/ivp.py:591\u001b[0m, in \u001b[0;36msolve_ivp\u001b[0;34m(fun, t_span, y0, method, t_eval, dense_output, events, vectorized, args, **options)\u001b[0m\n\u001b[1;32m    589\u001b[0m status \u001b[38;5;241m=\u001b[39m \u001b[38;5;28;01mNone\u001b[39;00m\n\u001b[1;32m    590\u001b[0m \u001b[38;5;28;01mwhile\u001b[39;00m status \u001b[38;5;129;01mis\u001b[39;00m \u001b[38;5;28;01mNone\u001b[39;00m:\n\u001b[0;32m--> 591\u001b[0m     message \u001b[38;5;241m=\u001b[39m \u001b[43msolver\u001b[49m\u001b[38;5;241;43m.\u001b[39;49m\u001b[43mstep\u001b[49m\u001b[43m(\u001b[49m\u001b[43m)\u001b[49m\n\u001b[1;32m    593\u001b[0m     \u001b[38;5;28;01mif\u001b[39;00m solver\u001b[38;5;241m.\u001b[39mstatus \u001b[38;5;241m==\u001b[39m \u001b[38;5;124m'\u001b[39m\u001b[38;5;124mfinished\u001b[39m\u001b[38;5;124m'\u001b[39m:\n\u001b[1;32m    594\u001b[0m         status \u001b[38;5;241m=\u001b[39m \u001b[38;5;241m0\u001b[39m\n",
      "File \u001b[0;32m/usr/local/lib/python3.11/site-packages/scipy/integrate/_ivp/base.py:181\u001b[0m, in \u001b[0;36mOdeSolver.step\u001b[0;34m(self)\u001b[0m\n\u001b[1;32m    179\u001b[0m \u001b[38;5;28;01melse\u001b[39;00m:\n\u001b[1;32m    180\u001b[0m     t \u001b[38;5;241m=\u001b[39m \u001b[38;5;28mself\u001b[39m\u001b[38;5;241m.\u001b[39mt\n\u001b[0;32m--> 181\u001b[0m     success, message \u001b[38;5;241m=\u001b[39m \u001b[38;5;28;43mself\u001b[39;49m\u001b[38;5;241;43m.\u001b[39;49m\u001b[43m_step_impl\u001b[49m\u001b[43m(\u001b[49m\u001b[43m)\u001b[49m\n\u001b[1;32m    183\u001b[0m     \u001b[38;5;28;01mif\u001b[39;00m \u001b[38;5;129;01mnot\u001b[39;00m success:\n\u001b[1;32m    184\u001b[0m         \u001b[38;5;28mself\u001b[39m\u001b[38;5;241m.\u001b[39mstatus \u001b[38;5;241m=\u001b[39m \u001b[38;5;124m'\u001b[39m\u001b[38;5;124mfailed\u001b[39m\u001b[38;5;124m'\u001b[39m\n",
      "File \u001b[0;32m/usr/local/lib/python3.11/site-packages/scipy/integrate/_ivp/rk.py:144\u001b[0m, in \u001b[0;36mRungeKutta._step_impl\u001b[0;34m(self)\u001b[0m\n\u001b[1;32m    141\u001b[0m h \u001b[38;5;241m=\u001b[39m t_new \u001b[38;5;241m-\u001b[39m t\n\u001b[1;32m    142\u001b[0m h_abs \u001b[38;5;241m=\u001b[39m np\u001b[38;5;241m.\u001b[39mabs(h)\n\u001b[0;32m--> 144\u001b[0m y_new, f_new \u001b[38;5;241m=\u001b[39m \u001b[43mrk_step\u001b[49m\u001b[43m(\u001b[49m\u001b[38;5;28;43mself\u001b[39;49m\u001b[38;5;241;43m.\u001b[39;49m\u001b[43mfun\u001b[49m\u001b[43m,\u001b[49m\u001b[43m \u001b[49m\u001b[43mt\u001b[49m\u001b[43m,\u001b[49m\u001b[43m \u001b[49m\u001b[43my\u001b[49m\u001b[43m,\u001b[49m\u001b[43m \u001b[49m\u001b[38;5;28;43mself\u001b[39;49m\u001b[38;5;241;43m.\u001b[39;49m\u001b[43mf\u001b[49m\u001b[43m,\u001b[49m\u001b[43m \u001b[49m\u001b[43mh\u001b[49m\u001b[43m,\u001b[49m\u001b[43m \u001b[49m\u001b[38;5;28;43mself\u001b[39;49m\u001b[38;5;241;43m.\u001b[39;49m\u001b[43mA\u001b[49m\u001b[43m,\u001b[49m\n\u001b[1;32m    145\u001b[0m \u001b[43m                       \u001b[49m\u001b[38;5;28;43mself\u001b[39;49m\u001b[38;5;241;43m.\u001b[39;49m\u001b[43mB\u001b[49m\u001b[43m,\u001b[49m\u001b[43m \u001b[49m\u001b[38;5;28;43mself\u001b[39;49m\u001b[38;5;241;43m.\u001b[39;49m\u001b[43mC\u001b[49m\u001b[43m,\u001b[49m\u001b[43m \u001b[49m\u001b[38;5;28;43mself\u001b[39;49m\u001b[38;5;241;43m.\u001b[39;49m\u001b[43mK\u001b[49m\u001b[43m)\u001b[49m\n\u001b[1;32m    146\u001b[0m scale \u001b[38;5;241m=\u001b[39m atol \u001b[38;5;241m+\u001b[39m np\u001b[38;5;241m.\u001b[39mmaximum(np\u001b[38;5;241m.\u001b[39mabs(y), np\u001b[38;5;241m.\u001b[39mabs(y_new)) \u001b[38;5;241m*\u001b[39m rtol\n\u001b[1;32m    147\u001b[0m error_norm \u001b[38;5;241m=\u001b[39m \u001b[38;5;28mself\u001b[39m\u001b[38;5;241m.\u001b[39m_estimate_error_norm(\u001b[38;5;28mself\u001b[39m\u001b[38;5;241m.\u001b[39mK, h, scale)\n",
      "File \u001b[0;32m/usr/local/lib/python3.11/site-packages/scipy/integrate/_ivp/rk.py:64\u001b[0m, in \u001b[0;36mrk_step\u001b[0;34m(fun, t, y, f, h, A, B, C, K)\u001b[0m\n\u001b[1;32m     62\u001b[0m \u001b[38;5;28;01mfor\u001b[39;00m s, (a, c) \u001b[38;5;129;01min\u001b[39;00m \u001b[38;5;28menumerate\u001b[39m(\u001b[38;5;28mzip\u001b[39m(A[\u001b[38;5;241m1\u001b[39m:], C[\u001b[38;5;241m1\u001b[39m:]), start\u001b[38;5;241m=\u001b[39m\u001b[38;5;241m1\u001b[39m):\n\u001b[1;32m     63\u001b[0m     dy \u001b[38;5;241m=\u001b[39m np\u001b[38;5;241m.\u001b[39mdot(K[:s]\u001b[38;5;241m.\u001b[39mT, a[:s]) \u001b[38;5;241m*\u001b[39m h\n\u001b[0;32m---> 64\u001b[0m     K[s] \u001b[38;5;241m=\u001b[39m \u001b[43mfun\u001b[49m\u001b[43m(\u001b[49m\u001b[43mt\u001b[49m\u001b[43m \u001b[49m\u001b[38;5;241;43m+\u001b[39;49m\u001b[43m \u001b[49m\u001b[43mc\u001b[49m\u001b[43m \u001b[49m\u001b[38;5;241;43m*\u001b[39;49m\u001b[43m \u001b[49m\u001b[43mh\u001b[49m\u001b[43m,\u001b[49m\u001b[43m \u001b[49m\u001b[43my\u001b[49m\u001b[43m \u001b[49m\u001b[38;5;241;43m+\u001b[39;49m\u001b[43m \u001b[49m\u001b[43mdy\u001b[49m\u001b[43m)\u001b[49m\n\u001b[1;32m     66\u001b[0m y_new \u001b[38;5;241m=\u001b[39m y \u001b[38;5;241m+\u001b[39m h \u001b[38;5;241m*\u001b[39m np\u001b[38;5;241m.\u001b[39mdot(K[:\u001b[38;5;241m-\u001b[39m\u001b[38;5;241m1\u001b[39m]\u001b[38;5;241m.\u001b[39mT, B)\n\u001b[1;32m     67\u001b[0m f_new \u001b[38;5;241m=\u001b[39m fun(t \u001b[38;5;241m+\u001b[39m h, y_new)\n",
      "File \u001b[0;32m/usr/local/lib/python3.11/site-packages/scipy/integrate/_ivp/base.py:138\u001b[0m, in \u001b[0;36mOdeSolver.__init__.<locals>.fun\u001b[0;34m(t, y)\u001b[0m\n\u001b[1;32m    136\u001b[0m \u001b[38;5;28;01mdef\u001b[39;00m \u001b[38;5;21mfun\u001b[39m(t, y):\n\u001b[1;32m    137\u001b[0m     \u001b[38;5;28mself\u001b[39m\u001b[38;5;241m.\u001b[39mnfev \u001b[38;5;241m+\u001b[39m\u001b[38;5;241m=\u001b[39m \u001b[38;5;241m1\u001b[39m\n\u001b[0;32m--> 138\u001b[0m     \u001b[38;5;28;01mreturn\u001b[39;00m \u001b[38;5;28;43mself\u001b[39;49m\u001b[38;5;241;43m.\u001b[39;49m\u001b[43mfun_single\u001b[49m\u001b[43m(\u001b[49m\u001b[43mt\u001b[49m\u001b[43m,\u001b[49m\u001b[43m \u001b[49m\u001b[43my\u001b[49m\u001b[43m)\u001b[49m\n",
      "File \u001b[0;32m/usr/local/lib/python3.11/site-packages/scipy/integrate/_ivp/base.py:20\u001b[0m, in \u001b[0;36mcheck_arguments.<locals>.fun_wrapped\u001b[0;34m(t, y)\u001b[0m\n\u001b[1;32m     19\u001b[0m \u001b[38;5;28;01mdef\u001b[39;00m \u001b[38;5;21mfun_wrapped\u001b[39m(t, y):\n\u001b[0;32m---> 20\u001b[0m     \u001b[38;5;28;01mreturn\u001b[39;00m np\u001b[38;5;241m.\u001b[39masarray(\u001b[43mfun\u001b[49m\u001b[43m(\u001b[49m\u001b[43mt\u001b[49m\u001b[43m,\u001b[49m\u001b[43m \u001b[49m\u001b[43my\u001b[49m\u001b[43m)\u001b[49m, dtype\u001b[38;5;241m=\u001b[39mdtype)\n",
      "File \u001b[0;32m~/Reshuffling/MainTextFigures/Figure_5_tuan/structured/./../../../DataAndScripts/structured_scripts/functions.py:181\u001b[0m, in \u001b[0;36mhigh_dimensional_dynamics.<locals>.system_RK45\u001b[0;34m(t, R)\u001b[0m\n\u001b[1;32m    180\u001b[0m \u001b[38;5;28;01mdef\u001b[39;00m \u001b[38;5;21msystem_RK45\u001b[39m(t,R):\n\u001b[0;32m--> 181\u001b[0m     MU\u001b[38;5;241m=\u001b[39m\u001b[43mnp\u001b[49m\u001b[38;5;241;43m.\u001b[39;49m\u001b[43mmatmul\u001b[49m\u001b[43m(\u001b[49m\u001b[43mM\u001b[49m\u001b[43m,\u001b[49m\u001b[43mR\u001b[49m\u001b[43m)\u001b[49m\u001b[38;5;241m+\u001b[39mH\n\u001b[1;32m    182\u001b[0m     MU[Einds]\u001b[38;5;241m=\u001b[39mri\u001b[38;5;241m.\u001b[39mtau_E\u001b[38;5;241m*\u001b[39mMU[Einds]\n\u001b[1;32m    183\u001b[0m     MU[Iinds]\u001b[38;5;241m=\u001b[39mri\u001b[38;5;241m.\u001b[39mtau_I\u001b[38;5;241m*\u001b[39mMU[Iinds]\n",
      "\u001b[0;31mKeyboardInterrupt\u001b[0m: "
     ]
    }
   ],
   "source": [
    "struct_rates = [None,None]\n",
    "\n",
    "for anim_idx in range(2):\n",
    "    seed_con = fit_params[anim_idx][vu.res_param_idxs_fixed['seed_con']]\n",
    "    KX       = fit_params[anim_idx][vu.res_param_idxs_fixed['KX']]\n",
    "    pmax     = fit_params[anim_idx][vu.res_param_idxs_fixed['pmax']]\n",
    "    SoriE    = fit_params[anim_idx][vu.res_param_idxs_fixed['SoriE']]\n",
    "    Lam      = fit_params[anim_idx][vu.res_param_idxs_fixed['Lam']]\n",
    "    Tmax_over_tau_E =fit_params[anim_idx][vu.res_param_idxs_fixed['Tmax_over_tau_E']]\n",
    "\n",
    "    T = np.arange(0,1.5*Tmax_over_tau_E*ri.tau_E,ri.tau_I/3);\n",
    "    mask_time=T>(0.5*Tmax_over_tau_E*ri.tau_E)\n",
    "\n",
    "    J         = fit_params[anim_idx][vu.res_param_idxs['J']]\n",
    "    GI        = fit_params[anim_idx][vu.res_param_idxs['GI']]\n",
    "    gE        = fit_params[anim_idx][vu.res_param_idxs['gE']]\n",
    "    gI        = fit_params[anim_idx][vu.res_param_idxs['gI']]\n",
    "    beta      = fit_params[anim_idx][vu.res_param_idxs['beta']]\n",
    "    rX        = fit_rX[anim_idx]\n",
    "\n",
    "    CV_K      = fit_params[anim_idx][vu.res_param_idxs['CV_K']]\n",
    "    SlE       = fit_params[anim_idx][vu.res_param_idxs['SlE']]\n",
    "    SlI       = fit_params[anim_idx][vu.res_param_idxs['SlI']]\n",
    "    SoriI     = fit_params[anim_idx][vu.res_param_idxs['SoriI']]\n",
    "    Stun      = fit_params[anim_idx][vu.res_param_idxs['Stun']]\n",
    "    CV_Lam    = fit_params[anim_idx][vu.res_param_idxs['CV_Lam']]\n",
    "    L         = fit_params[anim_idx][vu.res_param_idxs['L']]\n",
    "\n",
    "    stim_size=0.5\n",
    "    if anim_idx == 0:\n",
    "        ori_type='saltandpepper'\n",
    "        print(\"Animal = Mouse\")\n",
    "    elif anim_idx == 1:\n",
    "        ori_type='columnar'\n",
    "        print(\"Animal = Monkey\")\n",
    "    RF='in'\n",
    "    tuned='yes'\n",
    "\n",
    "    net = network.network(seed_con=int(seed_con), n=2, Nl=25, NE=8, gamma=0.25, dl=1,\n",
    "                          Sl=np.array([[SlE,SlI],[SlE,SlI]]), Sori=np.array([[SoriE,SoriI],[SoriE,SoriI]]),\n",
    "                          Stun=Stun, ori_type=ori_type)\n",
    "    net.GI = GI\n",
    "    \n",
    "    if anim_idx == 0:\n",
    "        idxs = np.arange(len(seeds)*net.N)\n",
    "    elif anim_idx == 1:\n",
    "        ori_idx=net.get_oriented_neurons(delta_ori=22.5)\n",
    "        ori_idx=np.hstack([i*net.N+ori_idx for i in range(len(seeds))])\n",
    "\n",
    "        rf_idx=net.get_centered_neurons(stim_size=0.6)\n",
    "        rf_idx=np.hstack([i*net.N+rf_idx for i in range(len(seeds))])\n",
    "\n",
    "        idxs=np.intersect1d(ori_idx,rf_idx)\n",
    "\n",
    "    print(\"Parameters used seed= {:d} // GI= {:.2f} // gE= {:.2f} // gI= {:.2f} // beta= {:.2f} // KX= {:d} // pmax= {:.2f}\" \\\n",
    "    .format(int(seed_con),GI,gE,gI,beta,int(KX),pmax))\n",
    "    print(\"CV_K= {:.4f} // SlE= {:.3f} // SlI= {:.3f} // SoriE= {:.2f} // SoriI= {:.2f} // Stun= {:.2f}\"\\\n",
    "    .format(CV_K,SlE,SlI,SoriE,SoriI,Stun))\n",
    "    print(\"Lam= {:.3f} // CV_Lam= {:.2f} // J= {:.6f} // rX0= {:.2f} // rX1= {:.2f} // L= {:.2f} // Tmax_over_tau_E= {:d}\"\\\n",
    "    .format(Lam,CV_Lam,J,rX[0],rX[1],L,int(Tmax_over_tau_E)))\n",
    "    print('')\n",
    "    \n",
    "    params_dict={}\n",
    "    params_dict['Stim_Size']=0.5\n",
    "    params_dict['seed_con']=int(seed_con)\n",
    "    params_dict['KX']=int(KX)\n",
    "    params_dict['pmax']=pmax\n",
    "    params_dict['SoriE']=SoriE\n",
    "    params_dict['Lam']=Lam\n",
    "    params_dict['J']=J\n",
    "    params_dict['GI']=GI\n",
    "    params_dict['gE']=gE\n",
    "    params_dict['gI']=gI\n",
    "    params_dict['beta']=beta\n",
    "    params_dict['CV_K']=CV_K\n",
    "    params_dict['SlE']=SlE\n",
    "    params_dict['SlI']=SlI\n",
    "    params_dict['SoriI']=SoriI\n",
    "    params_dict['Stun']=Stun\n",
    "    params_dict['CV_Lam']=CV_Lam\n",
    "    params_dict['L']=L\n",
    "\n",
    "    params_dict['Nl']=25\n",
    "    params_dict['NE']=8\n",
    "    params_dict['n']=2\n",
    "    params_dict['gamma']=0.25\n",
    "    params_dict['dl']=1\n",
    "\n",
    "    params_dict['ori_type']=ori_type\n",
    "    params_dict['vanilla_or_not']=False\n",
    "\n",
    "    _,_,_,animal_rates,_,_ =\\\n",
    "        lu.sim_const_map(params_dict,rX,ri,T,mask_time,RF,tuned,seed_con,seeds,max_min)\n",
    "    this_rates = np.zeros((data.nc[anim_idx],2,len(idxs)))\n",
    "    for idx in range(data.nc[anim_idx]):\n",
    "        this_rates[idx,:,:] = animal_rates[idx][:,idxs]\n",
    "        \n",
    "    struct_rates[anim_idx] = this_rates"
   ]
  },
  {
   "cell_type": "markdown",
   "id": "ebd7e6c7",
   "metadata": {},
   "source": [
    "# Save Statistics"
   ]
  },
  {
   "cell_type": "code",
   "execution_count": null,
   "id": "e64319a3",
   "metadata": {},
   "outputs": [],
   "source": [
    "for anim_idx in range(2):\n",
    "    this_f_handle = open('structured_'+data.this_animals[anim_idx]+'_rates.txt','w')\n",
    "    np.savetxt(this_f_handle,struct_rates[anim_idx].flatten(),fmt='%.6f', delimiter='\\t')\n",
    "    this_f_handle.close()"
   ]
  },
  {
   "cell_type": "code",
   "execution_count": null,
   "id": "12430ef2",
   "metadata": {},
   "outputs": [],
   "source": [
    "for anim_idx in range(2):\n",
    "    this_f_handle = open('structured_'+data.this_animals[anim_idx]+'_preds.txt','w')\n",
    "    np.savetxt(this_f_handle,fit_preds[anim_idx],fmt='%.6f', delimiter='\\t')\n",
    "    this_f_handle.close()"
   ]
  },
  {
   "cell_type": "code",
   "execution_count": null,
   "id": "bea02dfd",
   "metadata": {},
   "outputs": [],
   "source": [
    "for anim_idx in range(2):\n",
    "    this_f_handle = open('structured_'+data.this_animals[anim_idx]+'_bals.txt','w')\n",
    "    np.savetxt(this_f_handle,fit_bals[anim_idx][:,anim_idx],fmt='%.6f', delimiter='\\t')\n",
    "    this_f_handle.close()"
   ]
  },
  {
   "cell_type": "code",
   "execution_count": null,
   "id": "935482ee",
   "metadata": {},
   "outputs": [],
   "source": [
    "for anim_idx in range(2):\n",
    "    this_f_handle = open('structured_'+data.this_animals[anim_idx]+'_optrs.txt','w')\n",
    "    np.savetxt(this_f_handle,fit_optrs[anim_idx][:,anim_idx],fmt='%.6f', delimiter='\\t')\n",
    "    this_f_handle.close()"
   ]
  }
 ],
 "metadata": {
  "kernelspec": {
   "display_name": "Python 3 (ipykernel)",
   "language": "python",
   "name": "python3"
  },
  "language_info": {
   "codemirror_mode": {
    "name": "ipython",
    "version": 3
   },
   "file_extension": ".py",
   "mimetype": "text/x-python",
   "name": "python",
   "nbconvert_exporter": "python",
   "pygments_lexer": "ipython3",
   "version": "3.11.4"
  }
 },
 "nbformat": 4,
 "nbformat_minor": 5
}
