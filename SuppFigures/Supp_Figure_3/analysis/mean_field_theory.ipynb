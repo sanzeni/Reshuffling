{
 "cells": [
  {
   "cell_type": "code",
   "execution_count": 1,
   "id": "bdea1bc6",
   "metadata": {},
   "outputs": [],
   "source": [
    "using HDF5\n",
    "using HypergeometricFunctions\n",
    "using Interpolations\n",
    "using LinearAlgebra\n",
    "using Printf\n",
    "using PyPlot\n",
    "using QuadGK\n",
    "using SpecialFunctions\n",
    "using Statistics"
   ]
  },
  {
   "cell_type": "code",
   "execution_count": 2,
   "id": "63f5bac6",
   "metadata": {},
   "outputs": [
    {
     "data": {
      "text/plain": [
       "2.5066282746310002"
      ]
     },
     "execution_count": 2,
     "metadata": {},
     "output_type": "execute_result"
    }
   ],
   "source": [
    "sr2 = √(2)\n",
    "sr2π = √(2π)"
   ]
  },
  {
   "cell_type": "markdown",
   "id": "ecb2eacf",
   "metadata": {},
   "source": [
    "# Calculate Rate Moments"
   ]
  },
  {
   "cell_type": "code",
   "execution_count": 16,
   "id": "1684e086",
   "metadata": {},
   "outputs": [
    {
     "data": {
      "text/plain": [
       "C (generic function with 1 method)"
      ]
     },
     "execution_count": 16,
     "metadata": {},
     "output_type": "execute_result"
    }
   ],
   "source": [
    "include(\"RateMoment.jl\")"
   ]
  },
  {
   "cell_type": "code",
   "execution_count": 18,
   "id": "1cc405c3",
   "metadata": {},
   "outputs": [
    {
     "data": {
      "text/plain": [
       "RicciardiParams(20.0, 10.0, 10.0, 0.01, 0.002)"
      ]
     },
     "execution_count": 18,
     "metadata": {},
     "output_type": "execute_result"
    }
   ],
   "source": [
    "rpE = RicciardiParams(20.0,10.0,10.0,0.02,0.002)\n",
    "rpI = RicciardiParams(20.0,10.0,10.0,0.01,0.002)"
   ]
  },
  {
   "cell_type": "code",
   "execution_count": 17,
   "id": "3e20c78c",
   "metadata": {},
   "outputs": [
    {
     "name": "stdout",
     "output_type": "stream",
     "text": [
      "  4.960930 seconds (21.17 M allocations: 609.568 MiB, 8.08% gc time, 88.33% compilation time)\n"
     ]
    }
   ],
   "source": [
    "@time Φitp([rpE,rpI])"
   ]
  },
  {
   "cell_type": "code",
   "execution_count": null,
   "id": "8a54fbf3",
   "metadata": {},
   "outputs": [],
   "source": [
    "@time Mitp([rpE,rpI])"
   ]
  },
  {
   "cell_type": "code",
   "execution_count": null,
   "id": "0087cfa7",
   "metadata": {},
   "outputs": [],
   "source": [
    "@time Citp([rpE,rpI])"
   ]
  },
  {
   "cell_type": "markdown",
   "id": "0d357f5d",
   "metadata": {},
   "source": [
    "# Evolve DMFT Dynamics"
   ]
  },
  {
   "cell_type": "code",
   "execution_count": 19,
   "id": "6d5a0d22",
   "metadata": {},
   "outputs": [
    {
     "data": {
      "text/plain": [
       "optodmft (generic function with 1 method)"
      ]
     },
     "execution_count": 19,
     "metadata": {},
     "output_type": "execute_result"
    }
   ],
   "source": [
    "include(\"DMFT.jl\")"
   ]
  },
  {
   "cell_type": "code",
   "execution_count": 20,
   "id": "33334be9",
   "metadata": {},
   "outputs": [
    {
     "data": {
      "text/plain": [
       "15×15 Matrix{Float64}:\n",
       " 0.0  0.0  0.0  0.0  0.0  0.0  0.0  0.0  0.0  0.0  0.0  0.0  0.0  0.0  0.0\n",
       " 0.0  0.0  0.0  0.0  0.0  0.0  0.0  0.0  0.0  0.0  0.0  0.0  0.0  0.0  0.0\n",
       " 0.0  0.0  0.0  0.0  0.0  0.0  0.0  0.0  0.0  0.0  0.0  0.0  0.0  0.0  0.0\n",
       " 0.0  0.0  0.0  0.0  0.0  0.0  0.0  0.0  0.0  0.0  0.0  0.0  0.0  0.0  0.0\n",
       " 0.0  0.0  0.0  0.0  0.0  0.0  0.0  0.0  0.0  0.0  0.0  0.0  0.0  0.0  0.0\n",
       " 0.0  0.0  0.0  0.0  0.0  0.0  0.0  0.0  0.0  0.0  0.0  0.0  0.0  0.0  0.0\n",
       " 0.0  0.0  0.0  0.0  0.0  0.0  0.0  0.0  0.0  0.0  0.0  0.0  0.0  0.0  0.0\n",
       " 0.0  0.0  0.0  0.0  0.0  0.0  0.0  0.0  0.0  0.0  0.0  0.0  0.0  0.0  0.0\n",
       " 0.0  0.0  0.0  0.0  0.0  0.0  0.0  0.0  0.0  0.0  0.0  0.0  0.0  0.0  0.0\n",
       " 0.0  0.0  0.0  0.0  0.0  0.0  0.0  0.0  0.0  0.0  0.0  0.0  0.0  0.0  0.0\n",
       " 0.0  0.0  0.0  0.0  0.0  0.0  0.0  0.0  0.0  0.0  0.0  0.0  0.0  0.0  0.0\n",
       " 0.0  0.0  0.0  0.0  0.0  0.0  0.0  0.0  0.0  0.0  0.0  0.0  0.0  0.0  0.0\n",
       " 0.0  0.0  0.0  0.0  0.0  0.0  0.0  0.0  0.0  0.0  0.0  0.0  0.0  0.0  0.0\n",
       " 0.0  0.0  0.0  0.0  0.0  0.0  0.0  0.0  0.0  0.0  0.0  0.0  0.0  0.0  0.0\n",
       " 0.0  0.0  0.0  0.0  0.0  0.0  0.0  0.0  0.0  0.0  0.0  0.0  0.0  0.0  0.0"
      ]
     },
     "execution_count": 20,
     "metadata": {},
     "output_type": "execute_result"
    }
   ],
   "source": [
    "rXPs = 1*10.0.^range(0, 2, length=15)\n",
    "JPs = 1*10.0.^range(-2, 1, length=22)[3:17]\n",
    "\n",
    "chPs = zeros(Bool,length(JPs),length(rXPs))\n",
    "convPs = zeros(Bool,length(JPs),length(rXPs))\n",
    "μEPs = zeros(length(JPs),length(rXPs))\n",
    "μIPs = zeros(length(JPs),length(rXPs))\n",
    "ΔμEPs = zeros(length(JPs),length(rXPs))\n",
    "ΔμIPs = zeros(length(JPs),length(rXPs))\n",
    "σμE2Ps = zeros(length(JPs),length(rXPs))\n",
    "σμI2Ps = zeros(length(JPs),length(rXPs))\n",
    "σΔμE2Ps = zeros(length(JPs),length(rXPs))\n",
    "σΔμI2Ps = zeros(length(JPs),length(rXPs))\n",
    "ρμEΔμEPs = zeros(length(JPs),length(rXPs))\n",
    "ρμIΔμIPs = zeros(length(JPs),length(rXPs))\n",
    "rEPs = zeros(length(JPs),length(rXPs))\n",
    "rIPs = zeros(length(JPs),length(rXPs))\n",
    "ΔrEPs = zeros(length(JPs),length(rXPs))\n",
    "ΔrIPs = zeros(length(JPs),length(rXPs))\n",
    "σrE2Ps = zeros(length(JPs),length(rXPs))\n",
    "σrI2Ps = zeros(length(JPs),length(rXPs))\n",
    "σΔrE2Ps = zeros(length(JPs),length(rXPs))\n",
    "σΔrI2Ps = zeros(length(JPs),length(rXPs))\n",
    "ρrEΔrEPs = zeros(length(JPs),length(rXPs))\n",
    "ρrIΔrIPs = zeros(length(JPs),length(rXPs))\n",
    "\n",
    "chP2s = zeros(Bool,length(JPs),length(rXPs))\n",
    "convP2s = zeros(Bool,length(JPs),length(rXPs))\n",
    "μEP2s = zeros(length(JPs),length(rXPs))\n",
    "μIP2s = zeros(length(JPs),length(rXPs))\n",
    "ΔμEP2s = zeros(length(JPs),length(rXPs))\n",
    "ΔμIP2s = zeros(length(JPs),length(rXPs))\n",
    "σμE2P2s = zeros(length(JPs),length(rXPs))\n",
    "σμI2P2s = zeros(length(JPs),length(rXPs))\n",
    "σΔμE2P2s = zeros(length(JPs),length(rXPs))\n",
    "σΔμI2P2s = zeros(length(JPs),length(rXPs))\n",
    "ρμEΔμEP2s = zeros(length(JPs),length(rXPs))\n",
    "ρμIΔμIP2s = zeros(length(JPs),length(rXPs))\n",
    "rEP2s = zeros(length(JPs),length(rXPs))\n",
    "rIP2s = zeros(length(JPs),length(rXPs))\n",
    "ΔrEP2s = zeros(length(JPs),length(rXPs))\n",
    "ΔrIP2s = zeros(length(JPs),length(rXPs))\n",
    "σrE2P2s = zeros(length(JPs),length(rXPs))\n",
    "σrI2P2s = zeros(length(JPs),length(rXPs))\n",
    "σΔrE2P2s = zeros(length(JPs),length(rXPs))\n",
    "σΔrI2P2s = zeros(length(JPs),length(rXPs))\n",
    "ρrEΔrEP2s = zeros(length(JPs),length(rXPs))\n",
    "ρrIΔrIP2s = zeros(length(JPs),length(rXPs))"
   ]
  },
  {
   "cell_type": "code",
   "execution_count": null,
   "id": "6f908838",
   "metadata": {},
   "outputs": [],
   "source": [
    "for i in eachindex(JPs),\n",
    "        j in eachindex(rXPs)\n",
    "    npK = NetworkParams(500,0.1,0.25,8.0,3.0,1.0,1.0,2.0,0.2,rpE,rpI)\n",
    "    J = JPs[i]/2\n",
    "    rX = rXPs[j]\n",
    "    \n",
    "    TWrm = 1.0\n",
    "    TSave = 0.4\n",
    "    dt = 0.01/6\n",
    "    \n",
    "    count = 1\n",
    "    @time rE,rI,CrE,CrI,conv = dmft(npK,J,rX,TWrm,TSave,dt)\n",
    "    while !conv && count < 20\n",
    "        @time rE,rI,CrE,CrI,conv = dmft(npK,J,rX,TWrm,TSave,dt,rEinit=rE,rIinit=rI,\n",
    "            CrEinit=CrE,CrIinit=CrI)\n",
    "        count += 1\n",
    "    end\n",
    "    convPs[i,j] = conv\n",
    "    count = 1\n",
    "    @time ΔrE,ΔrI,CΔrE,CΔrI,RrEΔrE,RrIΔrI,conv = optodmft(op,npK,J,rX,TWrm,TSave,dt,\n",
    "        rE,rI,CrE,CrI)\n",
    "    while !conv && count < 8\n",
    "        @time ΔrE,ΔrI,CΔrE,CΔrI,RrEΔrE,RrIΔrI,conv = optodmft(op,npK,J,rX,TWrm,TSave,dt,\n",
    "            rE,rI,CrE,CrI,ΔrEinit=ΔrE,ΔrIinit=ΔrI,CΔrEinit=CΔrE,CΔrIinit=CΔrI,\n",
    "            RrEΔrEinit=RrEΔrE,RrIΔrIinit=RrIΔrI)\n",
    "        count += 1\n",
    "    end\n",
    "    convPs[i,j] &= conv\n",
    "    \n",
    "    function extend(a::Vector{Float64},T::AbstractFloat,dt::AbstractFloat)::Matrix{Float64}\n",
    "        oldn = length(a)\n",
    "        newn = round(Int,T/dt)+1\n",
    "        b = a[end]*ones((newn,newn))\n",
    "        for i in 1:oldn\n",
    "            b[i:i+oldn-1,i] .= a\n",
    "            b[i,i:i+oldn-1] .= a\n",
    "        end\n",
    "        for i in 1:newn-oldn\n",
    "            b[i+oldn:-1:i+1,i+oldn] .= a\n",
    "            b[i+oldn,i+oldn:-1:i+1] .= a\n",
    "        end\n",
    "        return b\n",
    "    end\n",
    "    \n",
    "    q = 1-npK.p\n",
    "    τEJK = npK.rpE.τs*J*npK.K\n",
    "    τIJK = npK.rpI.τs*J*npK.K\n",
    "    J2K = J^2*npK.K\n",
    "    τE2J2K = npK.rpE.τs^2*J^2*npK.K\n",
    "    τI2J2K = npK.rpE.τs^2*J^2*npK.K\n",
    "    W2 = npK.W.^2\n",
    "    σrX2 = (npK.sX*rX)^2\n",
    "    \n",
    "    σrE2 = CrE.-rE^2\n",
    "    σrI2 = CrI.-rI^2\n",
    "    σΔrE2 = CΔrE.-ΔrE^2\n",
    "    σΔrI2 = CΔrI.-ΔrI^2\n",
    "    ρrEΔrE = RrEΔrE.-rE*ΔrE\n",
    "    ρrIΔrI = RrIΔrI.-rI*ΔrI\n",
    "    \n",
    "    μE = τEJK*(npK.W[1,3]*rX+npK.W[1,1]*rE+npK.γ*npK.W[1,2]*rI)\n",
    "    μI = τIJK*(npK.W[2,3]*rX+npK.W[2,1]*rE+npK.γ*npK.W[2,2]*rI)\n",
    "    ΔμE = τEJK*(npK.W[1,1]*ΔrE+npK.γ*npK.W[1,2]*ΔrI)\n",
    "    ΔμI = τIJK*(npK.W[2,1]*ΔrE+npK.γ*npK.W[2,2]*ΔrI)\n",
    "    σμE2 = τE2J2K*(q*(W2[1,3]*rX^2+W2[1,1]*rE^2+npK.γ*W2[1,2]*rI^2) .+\n",
    "                    W2[1,3]*σrX2.+W2[1,1]*σrE2.+npK.γ*W2[1,2]*σrI2)\n",
    "    σμI2 = τI2J2K*(q*(W2[2,3]*rX^2+W2[2,1]*rE^2+npK.γ*W2[2,2]*rI^2) .+\n",
    "                    W2[2,3]*σrX2.+W2[2,1]*σrE2.+npK.γ*W2[2,2]*σrI2)\n",
    "    σΔμE2 = τE2J2K*(q*(W2[1,1]*ΔrE^2+npK.γ*W2[1,2]*ΔrI^2) .+\n",
    "                    W2[1,1]*σΔrE2.+npK.γ*W2[1,2]*σΔrI2)\n",
    "    σΔμI2 = τI2J2K*(q*(W2[2,1]*ΔrE^2+npK.γ*W2[2,2]*ΔrI^2) .+\n",
    "                    W2[2,1]*σΔrE2.+npK.γ*W2[2,2]*σΔrI2)\n",
    "    ρμEΔμE = τE2J2K*(q*(W2[1,1]*rE*ΔrE+npK.γ*W2[1,2]*rI*ΔrI) .+\n",
    "                    W2[1,1]*ρrEΔrE.+npK.γ*W2[1,2]*ρrIΔrI)\n",
    "    ρμIΔμI = τI2J2K*(q*(W2[2,1]*rE*ΔrE+npK.γ*W2[2,2]*rI*ΔrI) .+\n",
    "                    W2[2,1]*ρrEΔrE.+npK.γ*W2[2,2]*ρrIΔrI)\n",
    "    \n",
    "    chPs[i,j] = abs(1-CrE[end]/CrE[1]) > 1E-3\n",
    "    μEPs[i,j] = μE\n",
    "    μIPs[i,j] = μI\n",
    "    ΔμEPs[i,j] = ΔμE\n",
    "    ΔμIPs[i,j] = ΔμI\n",
    "    σμE2Ps[i,j] = mean(extend(σμE2,4.0,dt))\n",
    "    σμI2Ps[i,j] = mean(extend(σμI2,4.0,dt))\n",
    "    σΔμE2Ps[i,j] = mean(extend(σΔμE2,4.0,dt))\n",
    "    σΔμI2Ps[i,j] = mean(extend(σΔμI2,4.0,dt))\n",
    "    ρμEΔμEPs[i,j] = mean(extend(ρμEΔμE,4.0,dt))\n",
    "    ρμIΔμIPs[i,j] = mean(extend(ρμIΔμI,4.0,dt))\n",
    "    rEPs[i,j] = rE\n",
    "    rIPs[i,j] = rI\n",
    "    ΔrEPs[i,j] = ΔrE\n",
    "    ΔrIPs[i,j] = ΔrI\n",
    "    σrE2Ps[i,j] = mean(extend(σrE2,4.0,dt))\n",
    "    σrI2Ps[i,j] = mean(extend(σrI2,4.0,dt))\n",
    "    σΔrE2Ps[i,j] = mean(extend(σΔrE2,4.0,dt))\n",
    "    σΔrI2Ps[i,j] = mean(extend(σΔrI2,4.0,dt))\n",
    "    ρrEΔrEPs[i,j] = mean(extend(ρrEΔrE,4.0,dt))\n",
    "    ρrIΔrIPs[i,j] = mean(extend(ρrIΔrI,4.0,dt))\n",
    "    \n",
    "    @printf \"%d/%d completed\\n\" length(rXPs)*(i-1)+j length(JPs)*length(rXPs)\n",
    "end"
   ]
  },
  {
   "cell_type": "code",
   "execution_count": null,
   "id": "833c8d29",
   "metadata": {},
   "outputs": [],
   "source": [
    "for i in eachindex(JPs),\n",
    "        j in eachindex(rXPs)\n",
    "    npK = NetworkParams(4*500,0.1,0.25,8.0,3.0,1.0,1.0,2.0,0.2,rpE,rpI)\n",
    "    J = JPs[i]/2\n",
    "    rX = rXPs[j]\n",
    "    \n",
    "    TWrm = 1.0\n",
    "    TSave = 0.4\n",
    "    dt = 0.01/6\n",
    "    \n",
    "    count = 1\n",
    "    @time rE,rI,CrE,CrI,conv = dmft(npK,J,rX,TWrm,TSave,dt)\n",
    "    while !conv && count < 20\n",
    "        @time rE,rI,CrE,CrI,conv = dmft(npK,J,rX,TWrm,TSave,dt,rEinit=rE,rIinit=rI,\n",
    "            CrEinit=CrE,CrIinit=CrI)\n",
    "        count += 1\n",
    "    end\n",
    "    convP2s[i,j] = conv\n",
    "    count = 1\n",
    "    @time ΔrE,ΔrI,CΔrE,CΔrI,RrEΔrE,RrIΔrI,conv = optodmft(op,npK,J,rX,TWrm,TSave,dt,\n",
    "        rE,rI,CrE,CrI)\n",
    "    while !conv && count < 8\n",
    "        @time ΔrE,ΔrI,CΔrE,CΔrI,RrEΔrE,RrIΔrI,conv = optodmft(op,npK,J,rX,TWrm,TSave,dt,\n",
    "            rE,rI,CrE,CrI,ΔrEinit=ΔrE,ΔrIinit=ΔrI,CΔrEinit=CΔrE,CΔrIinit=CΔrI,\n",
    "            RrEΔrEinit=RrEΔrE,RrIΔrIinit=RrIΔrI)\n",
    "        count += 1\n",
    "    end\n",
    "    convP2s[i,j] &= conv\n",
    "    \n",
    "    function extend(a::Vector{Float64},T::AbstractFloat,dt::AbstractFloat)::Matrix{Float64}\n",
    "        oldn = length(a)\n",
    "        newn = round(Int,T/dt)+1\n",
    "        b = a[end]*ones((newn,newn))\n",
    "        for i in 1:oldn\n",
    "            b[i:i+oldn-1,i] .= a\n",
    "            b[i,i:i+oldn-1] .= a\n",
    "        end\n",
    "        for i in 1:newn-oldn\n",
    "            b[i+oldn:-1:i+1,i+oldn] .= a\n",
    "            b[i+oldn,i+oldn:-1:i+1] .= a\n",
    "        end\n",
    "        return b\n",
    "    end\n",
    "    \n",
    "    q = 1-npK.p\n",
    "    τEJK = npK.rpE.τs*J*npK.K\n",
    "    τIJK = npK.rpI.τs*J*npK.K\n",
    "    J2K = J^2*npK.K\n",
    "    τE2J2K = npK.rpE.τs^2*J^2*npK.K\n",
    "    τI2J2K = npK.rpE.τs^2*J^2*npK.K\n",
    "    W2 = npK.W.^2\n",
    "    σrX2 = (npK.sX*rX)^2\n",
    "    \n",
    "    σrE2 = CrE.-rE^2\n",
    "    σrI2 = CrI.-rI^2\n",
    "    σΔrE2 = CΔrE.-ΔrE^2\n",
    "    σΔrI2 = CΔrI.-ΔrI^2\n",
    "    ρrEΔrE = RrEΔrE.-rE*ΔrE\n",
    "    ρrIΔrI = RrIΔrI.-rI*ΔrI\n",
    "    \n",
    "    μE = τEJK*(npK.W[1,3]*rX+npK.W[1,1]*rE+npK.γ*npK.W[1,2]*rI)\n",
    "    μI = τIJK*(npK.W[2,3]*rX+npK.W[2,1]*rE+npK.γ*npK.W[2,2]*rI)\n",
    "    ΔμE = τEJK*(npK.W[1,1]*ΔrE+npK.γ*npK.W[1,2]*ΔrI)\n",
    "    ΔμI = τIJK*(npK.W[2,1]*ΔrE+npK.γ*npK.W[2,2]*ΔrI)\n",
    "    σμE2 = τE2J2K*(q*(W2[1,3]*rX^2+W2[1,1]*rE^2+npK.γ*W2[1,2]*rI^2) .+\n",
    "                    W2[1,3]*σrX2.+W2[1,1]*σrE2.+npK.γ*W2[1,2]*σrI2)\n",
    "    σμI2 = τI2J2K*(q*(W2[2,3]*rX^2+W2[2,1]*rE^2+npK.γ*W2[2,2]*rI^2) .+\n",
    "                    W2[2,3]*σrX2.+W2[2,1]*σrE2.+npK.γ*W2[2,2]*σrI2)\n",
    "    σΔμE2 = τE2J2K*(q*(W2[1,1]*ΔrE^2+npK.γ*W2[1,2]*ΔrI^2) .+\n",
    "                    W2[1,1]*σΔrE2.+npK.γ*W2[1,2]*σΔrI2)\n",
    "    σΔμI2 = τI2J2K*(q*(W2[2,1]*ΔrE^2+npK.γ*W2[2,2]*ΔrI^2) .+\n",
    "                    W2[2,1]*σΔrE2.+npK.γ*W2[2,2]*σΔrI2)\n",
    "    ρμEΔμE = τE2J2K*(q*(W2[1,1]*rE*ΔrE+npK.γ*W2[1,2]*rI*ΔrI) .+\n",
    "                    W2[1,1]*ρrEΔrE.+npK.γ*W2[1,2]*ρrIΔrI)\n",
    "    ρμIΔμI = τI2J2K*(q*(W2[2,1]*rE*ΔrE+npK.γ*W2[2,2]*rI*ΔrI) .+\n",
    "                    W2[2,1]*ρrEΔrE.+npK.γ*W2[2,2]*ρrIΔrI)\n",
    "    \n",
    "    chP2s[i,j] = abs(1-CrE[end]/CrE[1]) > 1E-3\n",
    "    μEP2s[i,j] = μE\n",
    "    μIP2s[i,j] = μI\n",
    "    ΔμEP2s[i,j] = ΔμE\n",
    "    ΔμIP2s[i,j] = ΔμI\n",
    "    σμE2P2s[i,j] = mean(extend(σμE2,4.0,dt))\n",
    "    σμI2P2s[i,j] = mean(extend(σμI2,4.0,dt))\n",
    "    σΔμE2P2s[i,j] = mean(extend(σΔμE2,4.0,dt))\n",
    "    σΔμI2P2s[i,j] = mean(extend(σΔμI2,4.0,dt))\n",
    "    ρμEΔμEP2s[i,j] = mean(extend(ρμEΔμE,4.0,dt))\n",
    "    ρμIΔμIP2s[i,j] = mean(extend(ρμIΔμI,4.0,dt))\n",
    "    rEP2s[i,j] = rE\n",
    "    rIP2s[i,j] = rI\n",
    "    ΔrEP2s[i,j] = ΔrE\n",
    "    ΔrIP2s[i,j] = ΔrI\n",
    "    σrE2P2s[i,j] = mean(extend(σrE2,4.0,dt))\n",
    "    σrI2P2s[i,j] = mean(extend(σrI2,4.0,dt))\n",
    "    σΔrE2P2s[i,j] = mean(extend(σΔrE2,4.0,dt))\n",
    "    σΔrI2P2s[i,j] = mean(extend(σΔrI2,4.0,dt))\n",
    "    ρrEΔrEP2s[i,j] = mean(extend(ρrEΔrE,4.0,dt))\n",
    "    ρrIΔrIP2s[i,j] = mean(extend(ρrIΔrI,4.0,dt))\n",
    "    \n",
    "    @printf \"%d/%d completed\\n\" length(rXPs)*(i-1)+j length(JPs)*length(rXPs)\n",
    "end"
   ]
  },
  {
   "cell_type": "code",
   "execution_count": null,
   "id": "21f3da1f",
   "metadata": {},
   "outputs": [],
   "source": [
    "h5open(\"suppfig3.h5\", \"w\") do fid\n",
    "    create_group(fid,\"P\")\n",
    "    fid[\"P\"][\"r_Xs\"] = rXPs\n",
    "    fid[\"P\"][\"Js\"] = JPs\n",
    "    fid[\"P\"][\"chs\"] = chPs\n",
    "    fid[\"P\"][\"convs\"] = convPs\n",
    "    fid[\"P\"][\"mu_Es\"] = μEPs\n",
    "    fid[\"P\"][\"mu_Is\"] = μIPs\n",
    "    fid[\"P\"][\"delta_mu_Es\"] = ΔμEPs\n",
    "    fid[\"P\"][\"delta_mu_Is\"] = ΔμIPs\n",
    "    fid[\"P\"][\"var_mu_Es\"] = σμE2Ps\n",
    "    fid[\"P\"][\"var_mu_Is\"] = σμI2Ps\n",
    "    fid[\"P\"][\"var_delta_mu_Es\"] = σΔμE2Ps\n",
    "    fid[\"P\"][\"var_delta_mu_Is\"] = σΔμI2Ps\n",
    "    fid[\"P\"][\"cov_mu_E_delta_mu_Es\"] = ρμEΔμEPs\n",
    "    fid[\"P\"][\"cov_mu_I_delta_mu_Is\"] = ρμIΔμIPs\n",
    "    fid[\"P\"][\"r_Es\"] = rEPs\n",
    "    fid[\"P\"][\"r_Is\"] = rIPs\n",
    "    fid[\"P\"][\"delta_r_Es\"] = ΔrEPs\n",
    "    fid[\"P\"][\"delta_r_Is\"] = ΔrIPs\n",
    "    fid[\"P\"][\"var_r_Es\"] = σrE2Ps\n",
    "    fid[\"P\"][\"var_r_Is\"] = σrI2Ps\n",
    "    fid[\"P\"][\"var_delta_r_Es\"] = σΔrE2Ps\n",
    "    fid[\"P\"][\"var_delta_r_Is\"] = σΔrI2Ps\n",
    "    fid[\"P\"][\"cov_r_E_delta_r_Es\"] = ρrEΔrEPs\n",
    "    fid[\"P\"][\"cov_r_I_delta_r_Is\"] = ρrIΔrIPs\n",
    "\n",
    "    create_group(fid,\"P2\")\n",
    "    fid[\"P2\"][\"r_Xs\"] = rXP2s\n",
    "    fid[\"P2\"][\"Js\"] = JP2s\n",
    "    fid[\"P2\"][\"chs\"] = chP2s\n",
    "    fid[\"P2\"][\"convs\"] = convP2s\n",
    "    fid[\"P2\"][\"mu_Es\"] = μEP2s\n",
    "    fid[\"P2\"][\"mu_Is\"] = μIP2s\n",
    "    fid[\"P2\"][\"delta_mu_Es\"] = ΔμEP2s\n",
    "    fid[\"P2\"][\"delta_mu_Is\"] = ΔμIP2s\n",
    "    fid[\"P2\"][\"var_mu_Es\"] = σμE2P2s\n",
    "    fid[\"P2\"][\"var_mu_Is\"] = σμI2P2s\n",
    "    fid[\"P2\"][\"var_delta_mu_Es\"] = σΔμE2P2s\n",
    "    fid[\"P2\"][\"var_delta_mu_Is\"] = σΔμI2P2s\n",
    "    fid[\"P2\"][\"cov_mu_E_delta_mu_Es\"] = ρμEΔμEP2s\n",
    "    fid[\"P2\"][\"cov_mu_I_delta_mu_Is\"] = ρμIΔμIP2s\n",
    "    fid[\"P2\"][\"r_Es\"] = rEP2s\n",
    "    fid[\"P2\"][\"r_Is\"] = rIP2s\n",
    "    fid[\"P2\"][\"delta_r_Es\"] = ΔrEP2s\n",
    "    fid[\"P2\"][\"delta_r_Is\"] = ΔrIP2s\n",
    "    fid[\"P2\"][\"var_r_Es\"] = σrE2P2s\n",
    "    fid[\"P2\"][\"var_r_Is\"] = σrI2P2s\n",
    "    fid[\"P2\"][\"var_delta_r_Es\"] = σΔrE2P2s\n",
    "    fid[\"P2\"][\"var_delta_r_Is\"] = σΔrI2P2s\n",
    "    fid[\"P2\"][\"cov_r_E_delta_r_Es\"] = ρrEΔrEP2s\n",
    "    fid[\"P2\"][\"cov_r_I_delta_r_Is\"] = ρrIΔrIP2s\n",
    "end"
   ]
  }
 ],
 "metadata": {
  "kernelspec": {
   "display_name": "Julia 1.9.2",
   "language": "julia",
   "name": "julia-1.9"
  },
  "language_info": {
   "file_extension": ".jl",
   "mimetype": "application/julia",
   "name": "julia",
   "version": "1.9.2"
  }
 },
 "nbformat": 4,
 "nbformat_minor": 5
}
