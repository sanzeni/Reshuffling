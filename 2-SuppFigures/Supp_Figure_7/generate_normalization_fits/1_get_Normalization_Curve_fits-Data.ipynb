{
 "cells": [
  {
   "cell_type": "code",
   "execution_count": 1,
   "id": "36f9ab8e",
   "metadata": {},
   "outputs": [],
   "source": [
    "import warnings\n",
    "warnings.filterwarnings(\"ignore\")\n",
    "%matplotlib inline \n",
    "\n",
    "import pickle\n",
    "import numpy as np\n",
    "import matplotlib\n",
    "import matplotlib.pyplot as plt\n",
    "import time\n",
    "import sys\n",
    "import os\n",
    "\n",
    "import seaborn as sns\n",
    "sns.set_style(\"whitegrid\")\n",
    "from scipy import  optimize\n",
    "\n"
   ]
  },
  {
   "cell_type": "code",
   "execution_count": 2,
   "id": "0cf18645",
   "metadata": {},
   "outputs": [
    {
     "name": "stdout",
     "output_type": "stream",
     "text": [
      "/Users/agos/Dropbox/ColumbiaProjects/Code_Reshuffling_Github/1-MainTextFigures/Figure_7_agos/generate_normalization_fits\n"
     ]
    }
   ],
   "source": [
    "######################################################\n",
    "### Load code\n",
    "######################################################\n",
    "\n",
    "\n",
    "sys.path.insert(0, './../../../DataAndScripts/structured_scripts/')\n",
    "\n",
    "from importlib import reload\n",
    "import functions_optimal as funopt\n",
    "import functions as fun\n",
    "import data_analysis as da\n",
    "import sims_utils as su\n",
    "import validate_utils as vu\n",
    "import sims_analysis_utils as sau\n",
    "import plot_functions as pl\n",
    "import plot_functions_normalization as pln\n",
    "import ricciardi_class as ric\n",
    "import network as network\n",
    "\n",
    "\n",
    "path2savedfits='./'\n",
    "path2data='/../../../DataAndScripts/experimental_data/'"
   ]
  },
  {
   "cell_type": "markdown",
   "id": "44375d91",
   "metadata": {},
   "source": [
    "# Make data class"
   ]
  },
  {
   "cell_type": "code",
   "execution_count": 4,
   "id": "00a9e170",
   "metadata": {},
   "outputs": [],
   "source": [
    "\n",
    "reload(da)\n",
    "data=da.Data_MonkeyMouse('both','./../../../DataAndScripts/experimental_data/')"
   ]
  },
  {
   "cell_type": "markdown",
   "id": "cc69cc1e",
   "metadata": {},
   "source": [
    "# First find and save best fit"
   ]
  },
  {
   "cell_type": "code",
   "execution_count": null,
   "id": "c04c758e",
   "metadata": {},
   "outputs": [],
   "source": [
    "\n",
    "output_norm={}\n",
    "output_norm['title']=[]\n",
    "\n",
    "for animal, animal_idx in zip(data.this_animals,range(2)):\n",
    "    ncells=np.sum(~np.isnan(data.rates[animal_idx][0,0,:]))\n",
    "    Rates_Matrix=np.transpose(data.rates[animal_idx][:,[0,-1],:ncells], (2, 1, 0))\n",
    "    Rates_Matrix_flatten= Rates_Matrix.reshape(ncells,2*data.nc[animal_idx])\n",
    "    print(Rates_Matrix_flatten.shape)\n",
    "    Rates_Matrix_flatten_data=Rates_Matrix_flatten[:ncells,:]\n",
    "\n",
    "    for redux in [True, False]:\n",
    "        name_out='Animal='+animal+'_Reduced='+str(redux)\n",
    "\n",
    "        reload(sau)\n",
    "        contrast=np.array([data.contrast[animal_idx]]).flatten()/np.max(data.contrast[animal_idx])\n",
    "        all_pars,all_fits,Rsq = sau.get_normalization_curves(contrast,Rates_Matrix_flatten_data[:5,:],ntrials_th=50,reduced=redux)\n",
    "\n",
    "        output_norm['title'].append(name_out)\n",
    "        output_norm['Rates_Matrix_flatten_'+name_out]=Rates_Matrix_flatten_data\n",
    "        output_norm['contrast_'+name_out]=contrast\n",
    "        output_norm['all_pars_'+name_out]=all_pars\n",
    "        output_norm['all_fits_'+name_out]=all_fits\n",
    "        output_norm['Rsq_'+name_out]=Rsq\n",
    "\n",
    "\n",
    "nameout_data=path2savedfits+'/Normalization_Data'\n",
    "# with open(nameout_data+\".pkl\", 'wb') as handle_Model:\n",
    "#     pickle.dump(output_norm, handle_Model, protocol=pickle.HIGHEST_PROTOCOL)\n",
    "\n"
   ]
  },
  {
   "cell_type": "code",
   "execution_count": null,
   "id": "24929644",
   "metadata": {},
   "outputs": [],
   "source": []
  }
 ],
 "metadata": {
  "kernelspec": {
   "display_name": "Python 3",
   "language": "python",
   "name": "python3"
  },
  "language_info": {
   "codemirror_mode": {
    "name": "ipython",
    "version": 3
   },
   "file_extension": ".py",
   "mimetype": "text/x-python",
   "name": "python",
   "nbconvert_exporter": "python",
   "pygments_lexer": "ipython3",
   "version": "3.6.13"
  }
 },
 "nbformat": 4,
 "nbformat_minor": 5
}
