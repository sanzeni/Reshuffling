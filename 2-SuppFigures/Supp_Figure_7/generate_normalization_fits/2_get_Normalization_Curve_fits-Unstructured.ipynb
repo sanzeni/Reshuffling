{
 "cells": [
  {
   "cell_type": "code",
   "execution_count": null,
   "id": "32cbac3f",
   "metadata": {},
   "outputs": [],
   "source": [
    "import warnings\n",
    "warnings.filterwarnings(\"ignore\")\n",
    "%matplotlib inline \n",
    "\n",
    "import pickle\n",
    "import numpy as np\n",
    "import matplotlib\n",
    "import matplotlib.pyplot as plt\n",
    "import time\n",
    "import sys\n",
    "import os\n",
    "\n",
    "import seaborn as sns\n",
    "sns.set_style(\"whitegrid\")\n",
    "from scipy import  optimize\n",
    "\n",
    "\n"
   ]
  },
  {
   "cell_type": "code",
   "execution_count": null,
   "id": "d03909ac",
   "metadata": {},
   "outputs": [],
   "source": [
    "######################################################\n",
    "### Load code\n",
    "######################################################\n",
    "\n",
    "\n",
    "sys.path.insert(0, './../../../DataAndScripts/structured_scripts/')\n",
    "\n",
    "from importlib import reload\n",
    "import functions_optimal as funopt\n",
    "import functions as fun\n",
    "import data_analysis as da\n",
    "import sims_utils as su\n",
    "import validate_utils as vu\n",
    "import sims_analysis_utils as sau\n",
    "import plot_functions as pl\n",
    "import plot_functions_normalization as pln\n",
    "import ricciardi_class as ric\n",
    "import network as network\n",
    "\n",
    "\n",
    "path2savedfits='./'\n",
    "path2data='./../../../DataAndScripts/experimental_data/'\n",
    "path2sims='./../generate_simulations/'"
   ]
  },
  {
   "cell_type": "markdown",
   "id": "336f9683",
   "metadata": {},
   "source": [
    "# Make data class"
   ]
  },
  {
   "cell_type": "code",
   "execution_count": null,
   "id": "dd3392b3",
   "metadata": {},
   "outputs": [],
   "source": [
    "\n",
    "reload(da)\n",
    "data=da.Data_MonkeyMouse('both',path2data)"
   ]
  },
  {
   "cell_type": "markdown",
   "id": "a4ee131b",
   "metadata": {},
   "source": [
    "# Fit normalization model to unstructured model fitting mice and monkets data"
   ]
  },
  {
   "cell_type": "code",
   "execution_count": null,
   "id": "379657f8",
   "metadata": {},
   "outputs": [],
   "source": [
    "\n",
    "ncells=300\n",
    "output_norm={}\n",
    "output_norm['title']=[]\n",
    "\n",
    "for animal, animal_idx in zip(data.this_animals,range(2)):\n",
    "\n",
    "    with open(path2sims+'RATES_unstructured_'+ animal+'.npy', 'rb') as handle_loadModel:\n",
    "        Rates_Matrix=np.load(handle_loadModel)\n",
    "    Rates_Matrix=np.transpose(Rates_Matrix, (2, 1, 0))\n",
    "    N=Rates_Matrix.shape[0]\n",
    "    Rates_Matrix_flatten= Rates_Matrix.reshape(N,2*data.nc[animal_idx])\n",
    "    print(Rates_Matrix_flatten.shape)\n",
    "    Rates_Matrix_flatten_model=Rates_Matrix_flatten[:ncells,:]\n",
    "\n",
    "    for redux in [True, False]:\n",
    "        name_out='Animal='+animal+'_Reduced='+str(redux)\n",
    "\n",
    "        reload(sau)\n",
    "        contrast=np.array([data.contrast[animal_idx]]).flatten()/np.max(data.contrast[animal_idx])\n",
    "        all_pars,all_fits,Rsq = sau.get_normalization_curves(contrast,Rates_Matrix_flatten_model,ntrials_th=500,reduced=redux)\n",
    "\n",
    "        output_norm['title'].append(name_out)\n",
    "        output_norm['Rates_Matrix_flatten_'+name_out]=Rates_Matrix_flatten_model\n",
    "        output_norm['contrast_'+name_out]=contrast\n",
    "        output_norm['all_pars_'+name_out]=all_pars\n",
    "        output_norm['all_fits_'+name_out]=all_fits\n",
    "        output_norm['Rsq_'+name_out]=Rsq\n",
    "\n",
    "\n",
    "nameout_sim=path2savedfits+'/Normalization_Unstructured'\n",
    "# with open(nameout_sim+\".pkl\", 'wb') as handle_Model:\n",
    "#     pickle.dump(output_norm, handle_Model, protocol=pickle.HIGHEST_PROTOCOL)\n",
    "\n",
    "\n",
    "\n",
    "   "
   ]
  },
  {
   "cell_type": "code",
   "execution_count": null,
   "id": "e61a75b5",
   "metadata": {},
   "outputs": [],
   "source": [
    "data.this_animals"
   ]
  },
  {
   "cell_type": "code",
   "execution_count": null,
   "id": "7474a84c",
   "metadata": {},
   "outputs": [],
   "source": [
    "data.this_animals"
   ]
  },
  {
   "cell_type": "code",
   "execution_count": null,
   "id": "9c5335cf",
   "metadata": {},
   "outputs": [],
   "source": []
  }
 ],
 "metadata": {
  "kernelspec": {
   "display_name": "Python 3",
   "language": "python",
   "name": "python3"
  },
  "language_info": {
   "codemirror_mode": {
    "name": "ipython",
    "version": 3
   },
   "file_extension": ".py",
   "mimetype": "text/x-python",
   "name": "python",
   "nbconvert_exporter": "python",
   "pygments_lexer": "ipython3",
   "version": "3.6.13"
  }
 },
 "nbformat": 4,
 "nbformat_minor": 5
}
