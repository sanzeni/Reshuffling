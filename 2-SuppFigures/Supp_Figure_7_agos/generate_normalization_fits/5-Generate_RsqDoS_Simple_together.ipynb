{
 "cells": [
  {
   "cell_type": "code",
   "execution_count": 15,
   "id": "e42f5f0a",
   "metadata": {},
   "outputs": [],
   "source": [
    "import warnings\n",
    "warnings.filterwarnings(\"ignore\")\n",
    "%matplotlib inline \n",
    "\n",
    "import pickle5 as pickle\n",
    "import numpy as np\n",
    "import matplotlib\n",
    "import matplotlib.pyplot as plt\n",
    "import time\n",
    "import sys\n",
    "import os\n",
    "\n",
    "import seaborn as sns\n",
    "sns.set_style(\"whitegrid\")\n",
    "from scipy import  optimize\n",
    "\n",
    "\n",
    "\n",
    "\n"
   ]
  },
  {
   "cell_type": "code",
   "execution_count": 16,
   "id": "bef80acf",
   "metadata": {},
   "outputs": [],
   "source": [
    "######################################################\n",
    "### Load code\n",
    "######################################################\n",
    "\n",
    "\n",
    "sys.path.insert(0, './../../../DataAndScripts/structured_scripts/')\n",
    "\n",
    "from importlib import reload\n",
    "import functions_optimal as funopt\n",
    "import functions as fun\n",
    "import data_analysis as da\n",
    "import sims_utils as su\n",
    "import validate_utils as vu\n",
    "import sims_analysis_utils as sau\n",
    "import plot_functions as pl\n",
    "import plot_functions_normalization as pln\n",
    "import ricciardi_class as ric\n",
    "import network as network\n",
    "\n",
    "\n",
    "path2savedfits='./'\n",
    "path2data='./../../../DataAndScripts/experimental_data/'\n",
    "path2sims='./../generate_simulations/'\n"
   ]
  },
  {
   "cell_type": "code",
   "execution_count": 17,
   "id": "34d39550",
   "metadata": {},
   "outputs": [],
   "source": [
    "from importlib import reload\n",
    "import data_analysis as da\n",
    "import plot_functions as pl\n",
    "\n",
    "input_dir='./'\n",
    "output_dir='./'\n"
   ]
  },
  {
   "cell_type": "code",
   "execution_count": 18,
   "id": "4076e5f1",
   "metadata": {},
   "outputs": [],
   "source": [
    "# Make data class"
   ]
  },
  {
   "cell_type": "code",
   "execution_count": 19,
   "id": "dba1e95c",
   "metadata": {},
   "outputs": [],
   "source": [
    "\n",
    "reload(da)\n",
    "data=da.Data_MonkeyMouse('both',path2data)"
   ]
  },
  {
   "cell_type": "code",
   "execution_count": null,
   "id": "f70ad48e",
   "metadata": {},
   "outputs": [],
   "source": []
  },
  {
   "cell_type": "markdown",
   "id": "a9cea9a9",
   "metadata": {},
   "source": [
    "# Read Output from Normalization fits "
   ]
  },
  {
   "cell_type": "code",
   "execution_count": 29,
   "id": "76bc31eb",
   "metadata": {},
   "outputs": [],
   "source": [
    "reload(pl)\n",
    "\n",
    "nameout_data=input_dir+'/Normalization_data'\n",
    "with open(nameout_data+\".pkl\", 'rb') as handle_data:\n",
    "    output_norm_data=pickle.load(handle_data)\n",
    "        \n",
    "nameout_sim_uns=input_dir+'/Normalization_Unstructured'\n",
    "with open(nameout_sim_uns+\".pkl\", 'rb') as handle_Unstructured:\n",
    "    output_norm_unstr=pickle.load(handle_Unstructured)\n",
    "      \n",
    "        \n",
    "nameout_sim_str=input_dir+'/Normalization_Structured'\n",
    "with open(nameout_sim_str+\".pkl\", 'rb') as handle_Structured:\n",
    "    output_norm_str=pickle.load(handle_Structured)\n",
    "        "
   ]
  },
  {
   "cell_type": "markdown",
   "id": "0ba8e904",
   "metadata": {},
   "source": [
    "# Compile the info needed for Figure 7"
   ]
  },
  {
   "cell_type": "code",
   "execution_count": 33,
   "id": "7aa06d09",
   "metadata": {},
   "outputs": [],
   "source": [
    "\n",
    "OutRsqDos={}\n",
    "for which_set, which_set_name in zip([output_norm_data, output_norm_unstr,  output_norm_str],['data','unstr','str']):\n",
    "\n",
    "    for animal, animal_idx in zip(data.this_animals,range(2)):\n",
    "\n",
    "        for redux in [True]:\n",
    "            name_out='_Animal='+animal+'_Reduced='+str(redux)\n",
    "\n",
    "            OutRsqDos['Rsq'+name_out+'_'+which_set_name]=which_set['Rsq'+name_out]\n",
    "            OutRsqDos['DoS'+name_out+'_'+which_set_name]=which_set['all_pars'+name_out][:,-3]/which_set['all_pars'+name_out][:,-1]\n",
    "\n",
    "with open(output_dir+'/RsqDoS_Simple_together.pkl', 'wb') as file:\n",
    "    pickle.dump(OutRsqDos,file)\n",
    "\n"
   ]
  },
  {
   "cell_type": "code",
   "execution_count": null,
   "id": "3ad9c5b1",
   "metadata": {},
   "outputs": [],
   "source": []
  },
  {
   "cell_type": "code",
   "execution_count": null,
   "id": "2238af4b",
   "metadata": {},
   "outputs": [],
   "source": []
  }
 ],
 "metadata": {
  "kernelspec": {
   "display_name": "Python 3",
   "language": "python",
   "name": "python3"
  },
  "language_info": {
   "codemirror_mode": {
    "name": "ipython",
    "version": 3
   },
   "file_extension": ".py",
   "mimetype": "text/x-python",
   "name": "python",
   "nbconvert_exporter": "python",
   "pygments_lexer": "ipython3",
   "version": "3.6.13"
  }
 },
 "nbformat": 4,
 "nbformat_minor": 5
}
