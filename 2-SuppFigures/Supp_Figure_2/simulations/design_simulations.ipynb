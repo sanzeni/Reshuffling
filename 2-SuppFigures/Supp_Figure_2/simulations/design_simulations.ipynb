{
 "cells": [
  {
   "cell_type": "markdown",
   "metadata": {},
   "source": [
    "# Design simulations for supp Fig 2\n",
    "\n"
   ]
  },
  {
   "cell_type": "code",
   "execution_count": 1,
   "metadata": {},
   "outputs": [
    {
     "name": "stdout",
     "output_type": "stream",
     "text": [
      "Once deleted, variables cannot be recovered. Proceed (y/[n])? y\n"
     ]
    }
   ],
   "source": [
    "%reset\n",
    "#%qtconsole\n",
    "%load_ext autoreload\n",
    "%autoreload 2\n",
    "%matplotlib inline \n",
    "import matplotlib.pyplot as plt\n",
    "\n",
    "import numpy as np\n",
    "import matplotlib as mpl\n",
    "from scipy import stats\n",
    "\n",
    "\n",
    "from scipy.interpolate import interp1d\n",
    "import pandas as pd\n",
    "\n"
   ]
  },
  {
   "cell_type": "markdown",
   "metadata": {},
   "source": [
    "# Fixed Gs"
   ]
  },
  {
   "cell_type": "code",
   "execution_count": 2,
   "metadata": {},
   "outputs": [],
   "source": [
    "Possible_J=10**np.linspace(-5,-3,10)\n",
    "Possible_r_X=5*10**np.linspace(-1,1,10)#np.linspace(1,30,10)\n",
    "Possible_sigma_Lambda_over_Lambda=10**np.linspace(-1,1,10)\n",
    "Possible_Tmax_over_tau_E=[2*10**2]#[10**2,10**3]\n",
    "n_rep=20;\n",
    "\n",
    "sigma_t=0.01; \n",
    "tau_rp=0.002; \n",
    "g_E=8.0; \n",
    "g_I=3.; \n",
    "beta=1.; \n",
    "K=500; \n",
    "ell=20;\n",
    "\n",
    "#J=0.0006; \n",
    "#r_X=10;\n",
    "\n",
    "p=0.1; \n",
    "sigma_X_over_r_X=0.2; \n",
    "Lambda=1*10**-3; \n",
    "\n"
   ]
  },
  {
   "cell_type": "code",
   "execution_count": 3,
   "metadata": {},
   "outputs": [
    {
     "data": {
      "text/plain": [
       "20000"
      ]
     },
     "execution_count": 3,
     "metadata": {},
     "output_type": "execute_result"
    }
   ],
   "source": [
    "count=0;\n",
    "for idx_dT in range(len(Possible_Tmax_over_tau_E)):\n",
    "    Tmax_over_tau_E=Possible_Tmax_over_tau_E[idx_dT];\n",
    "    for idx_rep in range(n_rep):\n",
    "        for idx_S in range(len(Possible_sigma_Lambda_over_Lambda)):\n",
    "            sigma_Lambda_over_Lambda=Possible_sigma_Lambda_over_Lambda[idx_S]\n",
    "            for idx_r_X in range(len(Possible_r_X)):\n",
    "                r_X=Possible_r_X[idx_r_X];\n",
    "                for idx_J in range(len(Possible_J)):\n",
    "                    J=Possible_J[idx_J]\n",
    "\n",
    "                    data=np.ones((1,11));\n",
    "                    data[:,0]=J\n",
    "                    data[:,1]=r_X\n",
    "                    data[:,2]=sigma_Lambda_over_Lambda\n",
    "                    data[:,3]=Tmax_over_tau_E\n",
    "                    data[:,4]=sigma_t\n",
    "                    data[:,5]=tau_rp\n",
    "                    data[:,6]=g_E \n",
    "                    data[:,7]=g_I\n",
    "                    data[:,8]=beta\n",
    "                    data[:,9]=K\n",
    "                    data[:,10]=ell\n",
    "\n",
    "                    if count==0:\n",
    "                        DATA=data;\n",
    "                    if count>0:\n",
    "                        DATA=np.vstack((DATA,data));\n",
    "                    count=count+1\n",
    "\n",
    "len(DATA)"
   ]
  },
  {
   "cell_type": "code",
   "execution_count": 4,
   "metadata": {},
   "outputs": [],
   "source": [
    "df = pd.DataFrame(DATA,columns=['J','r_X','sigma_Lambda_over_Lambda','Tmax_over_tau_E','sigma_t','tau_rp',\n",
    "                                'g_E','g_I','beta','K','ell'])\n",
    "file_name='simulation_param.txt'\n",
    "df.to_csv(file_name, sep='\\t')"
   ]
  },
  {
   "cell_type": "code",
   "execution_count": 5,
   "metadata": {},
   "outputs": [
    {
     "data": {
      "text/plain": [
       "array([ 0.5       ,  0.83405027,  1.3912797 ,  2.32079442,  3.87131841,\n",
       "        6.45774833, 10.77217345, 17.96906832, 29.97421252, 50.        ])"
      ]
     },
     "execution_count": 5,
     "metadata": {},
     "output_type": "execute_result"
    }
   ],
   "source": [
    "Possible_r_X"
   ]
  },
  {
   "cell_type": "markdown",
   "metadata": {},
   "source": [
    "# As a function of g and opsin expression"
   ]
  },
  {
   "cell_type": "code",
   "execution_count": 14,
   "metadata": {},
   "outputs": [],
   "source": [
    "Possible_J=10**np.linspace(-5,-3,10)\n",
    "Possible_r_X=[10]\n",
    "Possible_sigma_Lambda_over_Lambda=[1.0]#10**np.linspace(-1,1,10)\n",
    "Possible_Tmax_over_tau_E=[2*10**2]#[10**2,10**3]\n",
    "n_rep=20;\n",
    "\n",
    "sigma_t=0.01; \n",
    "tau_rp=0.002; \n",
    "g_E=8.0; \n",
    "g_I=3.; \n",
    "beta=1.; \n",
    "K=500; \n",
    "ell=20;\n",
    "\n",
    "#J=0.0006; \n",
    "#r_X=10;\n",
    "\n",
    "p=0.1; \n",
    "sigma_X_over_r_X=0.2; \n",
    "Lambda=1*10**-3; \n",
    "\n"
   ]
  },
  {
   "cell_type": "code",
   "execution_count": 15,
   "metadata": {},
   "outputs": [
    {
     "data": {
      "text/plain": [
       "7200"
      ]
     },
     "execution_count": 15,
     "metadata": {},
     "output_type": "execute_result"
    }
   ],
   "source": [
    "possible_g_E=np.arange(3,11,1)\n",
    "            \n",
    "count=0;\n",
    "for idx_dT in range(len(Possible_Tmax_over_tau_E)):\n",
    "    Tmax_over_tau_E=Possible_Tmax_over_tau_E[idx_dT];\n",
    "    for idx_rep in range(n_rep):\n",
    "        for idx_S in range(len(Possible_sigma_Lambda_over_Lambda)):\n",
    "            sigma_Lambda_over_Lambda=Possible_sigma_Lambda_over_Lambda[idx_S]\n",
    "            for idx_r_X in range(len(Possible_r_X)):\n",
    "                r_X=Possible_r_X[idx_r_X];\n",
    "                for idx_J in range(len(Possible_J)):\n",
    "                    for idx_g_E in range(len(possible_g_E)):\n",
    "                        g_E=possible_g_E[idx_g_E];\n",
    "                        possible_g_I=np.arange(2,g_E,1)\n",
    "                        for idx_g_I in range(len(possible_g_I)):\n",
    "                            g_I=possible_g_I[idx_g_I];\n",
    "                            \n",
    "                            J=Possible_J[idx_J]\n",
    "\n",
    "                            data=np.ones((1,11));\n",
    "                            data[:,0]=J\n",
    "                            data[:,1]=r_X\n",
    "                            data[:,2]=sigma_Lambda_over_Lambda\n",
    "                            data[:,3]=Tmax_over_tau_E\n",
    "                            data[:,4]=sigma_t\n",
    "                            data[:,5]=tau_rp\n",
    "                            data[:,6]=g_E \n",
    "                            data[:,7]=g_I\n",
    "                            data[:,8]=beta\n",
    "                            data[:,9]=K\n",
    "                            data[:,10]=ell\n",
    "\n",
    "                            if count==0:\n",
    "                                DATA=data;\n",
    "                            if count>0:\n",
    "                                DATA=np.vstack((DATA,data));\n",
    "                            count=count+1\n",
    "\n",
    "len(DATA)"
   ]
  },
  {
   "cell_type": "code",
   "execution_count": 16,
   "metadata": {},
   "outputs": [],
   "source": [
    "df = pd.DataFrame(DATA,columns=['J','r_X','sigma_Lambda_over_Lambda','Tmax_over_tau_E','sigma_t','tau_rp',\n",
    "                                'g_E','g_I','beta','K','ell'])\n",
    "file_name='simulation_param.txt'\n",
    "df.to_csv(file_name, sep='\\t')"
   ]
  },
  {
   "cell_type": "code",
   "execution_count": null,
   "metadata": {},
   "outputs": [],
   "source": []
  }
 ],
 "metadata": {
  "anaconda-cloud": {},
  "kernelspec": {
   "display_name": "Python 3",
   "language": "python",
   "name": "python3"
  },
  "language_info": {
   "codemirror_mode": {
    "name": "ipython",
    "version": 3
   },
   "file_extension": ".py",
   "mimetype": "text/x-python",
   "name": "python",
   "nbconvert_exporter": "python",
   "pygments_lexer": "ipython3",
   "version": "3.8.8"
  }
 },
 "nbformat": 4,
 "nbformat_minor": 4
}
