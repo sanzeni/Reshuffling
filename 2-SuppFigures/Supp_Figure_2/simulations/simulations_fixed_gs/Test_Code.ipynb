{
 "cells": [
  {
   "cell_type": "code",
   "execution_count": 57,
   "metadata": {},
   "outputs": [
    {
     "name": "stdout",
     "output_type": "stream",
     "text": [
      "Once deleted, variables cannot be recovered. Proceed (y/[n])? y\n",
      "The autoreload extension is already loaded. To reload it, use:\n",
      "  %reload_ext autoreload\n"
     ]
    }
   ],
   "source": [
    "%reset\n",
    "#%qtconsole\n",
    "%load_ext autoreload\n",
    "%autoreload 2\n",
    "%matplotlib inline \n",
    "import matplotlib.pyplot as plt\n",
    "import functions as fun\n",
    "\n",
    "import numpy as np\n",
    "import matplotlib as mpl\n",
    "from scipy import stats\n",
    "\n",
    "from scipy.interpolate import interp1d,interp2d\n",
    "from scipy.optimize import least_squares\n",
    "\n",
    "import pandas as pd\n",
    "\n",
    "\n",
    "\n"
   ]
  },
  {
   "cell_type": "code",
   "execution_count": null,
   "metadata": {},
   "outputs": [],
   "source": []
  },
  {
   "cell_type": "code",
   "execution_count": 86,
   "metadata": {},
   "outputs": [],
   "source": [
    "sigma_t=0.01; # Input noise, determine how smooth the single neuron transfer function is \n",
    "tau_rp=0.002; # Refractory period\n",
    "\n",
    "g_E=8.0; g_I=3.;beta=1.; # parameters characterizing the relative strength of synaptic connections\n",
    "K=500; # average number of E connections per neuron (I connections are 1/4 of that)\n",
    "sigma_Lambda_over_Lambda=1; # ratio between mean and standard deviation of the opsin expression\n",
    "\n",
    "J=0.001; # Synaptic efficacy in Volts\n",
    "L=[0.,  20. ]; #  Laser intensity that fits the data\n",
    "r_X=10*np.ones(1)\n",
    "#[20,20,20]; # To speed up the code, I show results onlye for low anf high contrast and laser\n",
    "\n",
    "Tmax_over_tau_E=100;\n",
    "\n",
    "p=0.1; # probability of connection between cells. \n",
    "sigma_X_over_r_X=0.2; # Presynaptic population has mean rate r_X, Gaussianly distributed with std=0.2* r_X\n",
    "Lambda=1*10**-3; # mean opsin expression in Volt\n",
    "\n",
    "sigma_Lambda=sigma_Lambda_over_Lambda*Lambda\n",
    "\n",
    "# In what follows, I compute W_{AB} starting from the parameters defined above\n",
    "G_E,G_I=1.0,2.0 # Gain of Excitatory and inhibitory cells and I cells\n",
    "w_EE=1;w_IE=w_EE/beta;\n",
    "w_EI=g_E*w_EE;w_II=g_I*w_IE;\n",
    "w_EX,w_IX=(G_I*fun.gamma*g_E-G_E)*w_EE,(G_I*fun.gamma*g_I-G_E)*w_IE; \n",
    "w_X=np.asarray([w_EX,w_IX]);\n",
    "w=np.zeros((2,2));\n",
    "w[0,:]=w_EE,-w_EI\n",
    "w[1,:]=w_IE,-w_II\n",
    "\n"
   ]
  },
  {
   "cell_type": "code",
   "execution_count": 59,
   "metadata": {},
   "outputs": [
    {
     "name": "stderr",
     "output_type": "stream",
     "text": [
      "/Users/ale/Dropbox/research/Laser_on_E_cells/Draft_figures_simulations/Figure_4/simulations/simulations_fixed_gs/functions.py:53: IntegrationWarning: The occurrence of roundoff error is detected, which prevents \n",
      "  the requested tolerance from being achieved.  The error may be \n",
      "  underestimated.\n",
      "  adelleh=integrate.quad(lambda u: f(u),minimo,massimo)\n",
      "/Users/ale/Dropbox/research/Laser_on_E_cells/Draft_figures_simulations/Figure_4/simulations/simulations_fixed_gs/functions.py:53: IntegrationWarning: The maximum number of subdivisions (50) has been achieved.\n",
      "  If increasing the limit yields no improvement it is advised to analyze \n",
      "  the integrand in order to determine the difficulties.  If the position of a \n",
      "  local difficulty can be determined (singularity, discontinuity) one will \n",
      "  probably gain from splitting up the interval and calling the integrator \n",
      "  on the subranges.  Perhaps a special-purpose integrator should be used.\n",
      "  adelleh=integrate.quad(lambda u: f(u),minimo,massimo)\n"
     ]
    }
   ],
   "source": [
    "#'''\n",
    "mu_tab_max=10.0;\n",
    "mu_tab=np.linspace(-mu_tab_max,mu_tab_max,200000)\n",
    "mu_tab=np.concatenate(([-10000],mu_tab))\n",
    "mu_tab=np.concatenate((mu_tab,[10000]))\n",
    "\n",
    "phi_tab_E,phi_tab_I=mu_tab*0,mu_tab*0;\n",
    "for idx in range(len(phi_tab_E)):\n",
    "    phi_tab_E[idx]=fun.comp_phi_tab(mu_tab[idx],fun.tau_E,tau_rp,sigma_t)\n",
    "    phi_tab_I[idx]=fun.comp_phi_tab(mu_tab[idx],fun.tau_I,tau_rp,sigma_t)\n",
    "\n",
    "phi_int_E=interp1d(mu_tab, phi_tab_E, kind='linear')  \n",
    "phi_int_I=interp1d(mu_tab, phi_tab_I, kind='linear')\n",
    "#'''"
   ]
  },
  {
   "cell_type": "code",
   "execution_count": 87,
   "metadata": {},
   "outputs": [],
   "source": [
    "# Generate quenched disorder\n",
    "M,mu_X_over_r_X_tau,Lambda_i,N_E,N_I=fun.Generate_quenched_disorder(sigma_X_over_r_X,J,K,w,w_X,p,Lambda,sigma_Lambda)\n"
   ]
  },
  {
   "cell_type": "code",
   "execution_count": 88,
   "metadata": {},
   "outputs": [
    {
     "data": {
      "image/png": "[encoded data removed]",
      "text/plain": [
       "<Figure size 432x288 with 1 Axes>"
      ]
     },
     "metadata": {
      "needs_background": "light"
     },
     "output_type": "display_data"
    }
   ],
   "source": [
    "sigma_l=np.sqrt(np.log(1+sigma_Lambda_over_Lambda**2))\n",
    "mu_l=np.log(Lambda)-sigma_l**2/2\n",
    "\n",
    "\n",
    "count, bins, ignored = plt.hist(Lambda_i[0:N_E], \n",
    "                                10**np.linspace(np.log10(np.min(Lambda_i[0:N_E])*0.1),np.log10(1.1*np.max(Lambda_i[0:N_E])),33), \n",
    "                                density=True, align='mid')\n",
    "\n",
    "plt.title(r'$\\Lambda=$%.1fmV, $\\sigma_\\lambda=$%.1fmV'%(np.mean(Lambda_i[0:N_E])*10**3,np.std(Lambda_i[0:N_E])*10**3))\n",
    "x = 10**np.linspace(min(np.log10(bins*0.5)), max(np.log10(bins*1.5)), 10000)\n",
    "pdf = (np.exp(-(np.log(x) - mu_l)**2 / (2 * sigma_l**2))\n",
    "       / (x * sigma_l * np.sqrt(2 * np.pi)))\n",
    "\n",
    "plt.plot(x, pdf, linewidth=2, color='r')\n",
    "plt.axis('tight')\n",
    "plt.xscale('log')\n",
    "plt.yscale('log')\n",
    "plt.xlabel(r'$\\lambda_i$')\n",
    "plt.ylabel('Number of E cells')\n",
    "plt.xlim([np.min(Lambda_i[0:N_E])*0.1,(1.1*np.max(Lambda_i[0:N_E]))])\n",
    "plt.ylim([1,10**4])\n",
    "plt.show()"
   ]
  },
  {
   "cell_type": "code",
   "execution_count": 89,
   "metadata": {},
   "outputs": [
    {
     "name": "stdout",
     "output_type": "stream",
     "text": [
      "Computing and saving network response\n",
      "1.0 0.5\n",
      "15.382608293987825 27.353406067248528 33.27574755234298 33.92625952452409\n",
      "1.0 1.0\n",
      "17.01957049343507 29.798494092553177 38.686845319912784 39.04058699878191\n",
      "[ 17.77676785   1.79858736  33.74828169  24.1645854  -97.30280613]\n"
     ]
    }
   ],
   "source": [
    "print('Computing and saving network response')\n",
    "T=np.arange(0,Tmax_over_tau_E*fun.tau_E,fun.tau_I/3);\n",
    "\n",
    "mask_time=T>(10*fun.tau_E)\n",
    "RATES=-1*np.ones((len(r_X),len(L),N_E+N_I))\n",
    "DYNA=-1*np.ones((len(r_X),len(L),N_E+N_I,len(T)))\n",
    "MUS=-1*np.ones((len(r_X),len(L),N_E+N_I))\n",
    "Lambda_i_L=1./tau_rp*np.ones((len(r_X),len(L),N_E+N_I))\n",
    "MFT_SOL_R=np.ones((len(r_X),len(L),10))\n",
    "MFT_SOL_M=np.ones((len(r_X),len(L),10))\n",
    "Phi=[phi_int_E,phi_int_I];\n",
    "for idx_r_X in range(len(r_X)):\n",
    "    for idx_L in range(len(L)):\n",
    "        r_X_local,L_local=r_X[idx_r_X],L[idx_L];\n",
    "        print((idx_r_X+1)/len(r_X),(idx_L+1)/len(L))\n",
    "        DYNA[idx_r_X,idx_L,:,:], MUS[idx_r_X,idx_L,:],Lambda_i_L[idx_r_X,idx_L,:]=fun.High_dimensional_dynamics(T,L_local,r_X_local,M,mu_X_over_r_X_tau,Lambda_i,N_E,N_I,phi_int_E,phi_int_I);\n",
    "        RATES[idx_r_X,idx_L,:]=np.mean(DYNA[idx_r_X,idx_L,:,mask_time],axis=0)\n",
    "        print(np.mean(RATES[idx_r_X,idx_L,0:N_E]),\n",
    "              np.mean(RATES[idx_r_X,idx_L,N_E::]),\n",
    "              np.std(RATES[idx_r_X,idx_L,0:N_E]),\n",
    "              np.std(RATES[idx_r_X,idx_L,N_E::]))\n",
    "    Base_Sim=RATES[idx_r_X,0,:]\n",
    "    Delta_Sim=RATES[idx_r_X,idx_L,:]-RATES[idx_r_X,0,:]\n",
    "\n",
    "    moments_of_r_sim=np.zeros(5)\n",
    "    moments_of_r_sim[0]=np.mean(Base_Sim)\n",
    "    moments_of_r_sim[1]=np.mean(Delta_Sim)\n",
    "    moments_of_r_sim[2]=np.std(Base_Sim)\n",
    "    moments_of_r_sim[3]=np.std(Delta_Sim)\n",
    "    moments_of_r_sim[4]=np.cov(Base_Sim,Delta_Sim)[0,1]\n",
    "    print(moments_of_r_sim[:])\n"
   ]
  },
  {
   "cell_type": "code",
   "execution_count": 90,
   "metadata": {},
   "outputs": [
    {
     "name": "stderr",
     "output_type": "stream",
     "text": [
      "<ipython-input-90-48da48abf256>:47: VisibleDeprecationWarning: Passing `normed=True` on non-uniform bins has always been broken, and computes neither the probability density function nor the probability mass function. The result is only correct if the bins are uniform, when density=True will produce the same result anyway. The argument will be removed in a future version of numpy.\n",
      "  hist_Delta, bin_edges_Delta=np.histogram(Delta_Sim,bin_edges_Delta,normed=True)\n"
     ]
    },
    {
     "data": {
      "image/png": "[encoded data removed]",
      "text/plain": [
       "<Figure size 720x144 with 4 Axes>"
      ]
     },
     "metadata": {},
     "output_type": "display_data"
    }
   ],
   "source": [
    "bin_edges=np.arange(0,1./tau_rp,.1)\n",
    "spacings=np.diff(bin_edges)[0];\n",
    "bin_means=0.5*(bin_edges[0:-1]+bin_edges[1::])\n",
    "bin_edges_Delta=np.arange(-1./tau_rp,1./tau_rp,.1)\n",
    "spacings_Delta=np.diff(bin_edges)[0];\n",
    "bin_means_Delta=0.5*(bin_edges_Delta[0:-1]+bin_edges_Delta[1::])\n",
    "\n",
    "fig, axs = plt.subplots(len(r_X),4, figsize=(2.5*4,2.0*len(r_X)), facecolor='w', edgecolor='k')#,sharey='row')#,sharex=True)\n",
    "fig.subplots_adjust(hspace = .5, wspace=.5)\n",
    "area=1.0;linethicknes=1.0;\n",
    "axs = axs.ravel()\n",
    "font = {'family' : 'normal','weight' : 'normal','size'   : 7, 'family':'serif','serif':['Arial']}\n",
    "mpl.rc('font', **font)\n",
    "mpl.rcParams['lines.linewidth'] =linethicknes\n",
    "mpl.rcParams['text.usetex'] = False\n",
    "mpl.rcParams['mathtext.fontset'] = 'stix'\n",
    "mpl.rcParams['mathtext.rm'] = 'serif'\n",
    "mpl.rcParams['pdf.fonttype'] = 42\n",
    "\n",
    "for idx_r_X in range(len(r_X)):\n",
    "    maks_cells=(RATES[idx_r_X,1,:]+RATES[idx_r_X,0,:])>=0\n",
    "\n",
    "    color=['k','b',];\n",
    "    idx_cell=0;\n",
    "    sol_M=MFT_SOL_M[idx_r_X,idx_L,:]\n",
    "    mu,S2_mu=sol_M[idx_cell],sol_M[idx_cell+2]\n",
    "    delta_mu,S2_delta_mu,Cov_mu_delta_mu=sol_M[idx_cell+4],sol_M[idx_cell+6],sol_M[idx_cell+8]\n",
    "    Frac=[1,0]\n",
    "    label=['Without opto','With opto']\n",
    "    for idx_L in range(len(L)):\n",
    "        #hist, bin_edges=np.histogram(RATES[idx_r_X,idx_L,0:N_E],bin_edges)#,normed=True)\n",
    "        hist, bin_edges=np.histogram(RATES[idx_r_X,idx_L,maks_cells],bin_edges)#,normed=True)\n",
    "        bin_mean=0.5*(bin_edges[0:-1]+bin_edges[1::])\n",
    "        spacings=np.diff(bin_edges)[0];\n",
    "        hist=hist/np.sum(hist*spacings)\n",
    "        axs[idx_r_X*4+0].scatter(bin_mean,np.cumsum(spacings*hist),c=color[idx_L],s=area,label=label[idx_L])\n",
    "    '''    \n",
    "        P_of_nu=fun.P_of_r_A(bin_edges,Phi[idx_cell],\n",
    "                       mu,S2_mu,delta_mu,\n",
    "                       S2_delta_mu,Cov_mu_delta_mu,\n",
    "                       L[idx_L],Lambda,sigma_Lambda,Frac[idx_cell]);\n",
    "        axs[idx_r_X*4+0].plot(bin_mean,np.cumsum(P_of_nu[:]*spacings),c='purple')    \n",
    "    '''\n",
    "    #Delta_Sim=RATES[idx_r_X,1,0:N_E]-RATES[idx_r_X,0,0:N_E]\n",
    "\n",
    "    Delta_Sim=RATES[idx_r_X,1,maks_cells]-RATES[idx_r_X,0,maks_cells]\n",
    "    hist_Delta, bin_edges_Delta=np.histogram(Delta_Sim,bin_edges_Delta,normed=True)\n",
    "    CDF_Resp_Delta=np.cumsum(hist_Delta*spacings_Delta)\n",
    "    axs[idx_r_X*4+1].scatter(bin_means_Delta,CDF_Resp_Delta,c='b',s=area);\n",
    "\n",
    "    #axs[idx_r_X*4+2].scatter(RATES[idx_r_X,0,maks_cells],RATES[idx_r_X,1,maks_cells]-RATES[idx_r_X,0,maks_cells],c='b',s=1,alpha=0.3);\n",
    "    idx_cells=np.where(Lambda_i>0)\n",
    "    axs[idx_r_X*4+2].scatter(RATES[idx_r_X,0,idx_cells],RATES[idx_r_X,1,idx_cells]-RATES[idx_r_X,0,idx_cells],c='purple',s=1,alpha=0.1);\n",
    "    idx_cells=np.where((Lambda_i==0)&(np.arange(len(Lambda_i))<N_E))\n",
    "    axs[idx_r_X*4+2].scatter(RATES[idx_r_X,0,idx_cells],RATES[idx_r_X,1,idx_cells]-RATES[idx_r_X,0,idx_cells],c='r',s=1,alpha=0.1);\n",
    "    idx_cells=np.where((Lambda_i==0)&(np.arange(len(Lambda_i))>N_E))\n",
    "    axs[idx_r_X*4+2].scatter(RATES[idx_r_X,0,idx_cells],RATES[idx_r_X,1,idx_cells]-RATES[idx_r_X,0,idx_cells],c='b',s=1,alpha=0.1);\n",
    "\n",
    "    cov=np.cov(RATES[idx_r_X,0,:],RATES[idx_r_X,1,:]-RATES[idx_r_X,0,:])\n",
    "    axs[idx_r_X*4+2].set_title(cov[0,1]/cov[1,1])\n",
    "    '''\n",
    "    P_of_nu=fun.P_of_delta_r_A(bin_edges_Delta,Phi[idx_cell],\n",
    "                       mu,S2_mu,delta_mu,\n",
    "                       S2_delta_mu,Cov_mu_delta_mu,\n",
    "                       L[1],Lambda,sigma_Lambda,Frac[idx_cell]);\n",
    "\n",
    "    axs[1].plot(bin_means_Delta,np.cumsum(P_of_nu*spacings_Delta),c='purple')\n",
    "    '''\n",
    "\n",
    "\n",
    "    for idx_cell in range(17):\n",
    "        axs[idx_r_X*4+3].plot(T[mask_time]-T[mask_time][0],DYNA[idx_r_X,1,idx_cell,mask_time],marker='o',markersize=0.1,alpha=0.5)\n",
    "\n",
    "    axs[idx_r_X*4+0].axis([0,250,.0,1.])\n",
    "    axs[idx_r_X*4+0].legend(loc='lower right')\n",
    "    axs[idx_r_X*4+1].axis([-100,100,0,1.])\n",
    "    axs[idx_r_X*4+0].set_title('J=%.2fmV'%(J*10**3))\n",
    "    axs[idx_r_X*4+0].set_ylabel('CDF')\n",
    "    axs[idx_r_X*4+1].set_ylabel('CDF')\n",
    "    axs[idx_r_X*4+0].set_xlabel('$r$ (spk/s)')\n",
    "    axs[idx_r_X*4+1].set_xlabel('$\\Delta r$ (spk/s)')\n",
    "    axs[idx_r_X*4+2].set_ylabel('$\\Delta r$ (spk/s)')\n",
    "    axs[idx_r_X*4+2].set_xlabel('$r$ (spk/s)')\n",
    "    axs[idx_r_X*4+3].set_ylabel('$r$ (spk/s)')\n",
    "    axs[idx_r_X*4+3].set_xlabel('time (s)')\n",
    "    axs[idx_r_X*4+3].set_title('Trajectory of example cells')\n",
    "\n"
   ]
  },
  {
   "cell_type": "code",
   "execution_count": null,
   "metadata": {},
   "outputs": [],
   "source": []
  },
  {
   "cell_type": "code",
   "execution_count": null,
   "metadata": {},
   "outputs": [],
   "source": []
  },
  {
   "cell_type": "code",
   "execution_count": 84,
   "metadata": {},
   "outputs": [
    {
     "name": "stdout",
     "output_type": "stream",
     "text": [
      "[  32.99896684    1.08398496   66.80534457   24.16204564 -176.15916327]\n",
      "Saving results\n",
      "0.67 0.9966666666666668\n"
     ]
    }
   ],
   "source": [
    "idx_r_X,idx_L=0,-1\n",
    "Base_Sim=RATES[idx_r_X,0,:]\n",
    "Delta_Sim=RATES[idx_r_X,idx_L,:]-RATES[idx_r_X,0,:]\n",
    "\n",
    "moments_of_r_sim=np.zeros(5)\n",
    "moments_of_r_sim[0]=np.mean(Base_Sim)\n",
    "moments_of_r_sim[1]=np.mean(Delta_Sim)\n",
    "moments_of_r_sim[2]=np.std(Base_Sim)\n",
    "moments_of_r_sim[3]=np.std(Delta_Sim)\n",
    "moments_of_r_sim[4]=np.cov(Base_Sim,Delta_Sim)[0,1]\n",
    "print(moments_of_r_sim[:])\n",
    "\n",
    "\n",
    "pippo_m=np.mean(DYNA[idx_r_X,idx_L,:,0:np.int32(len(T)/2)],axis=1)-np.mean(DYNA[idx_r_X,idx_L,:,np.int32(len(T)/2)::],axis=1)\n",
    "pippo_p=np.mean(DYNA[idx_r_X,idx_L,:,0:np.int32(len(T)/2)],axis=1)+np.mean(DYNA[idx_r_X,idx_L,:,np.int32(len(T)/2)::],axis=1)\n",
    "\n",
    "pippo_n=pippo_m/pippo_p\n",
    "\n",
    "\n",
    "print('Saving results')\n",
    "# simulations param+mean results+ meaurements of rate convergence\n",
    "\n",
    "sim_param=np.asarray([sigma_t,tau_rp,g_E,g_I,beta,K,p,sigma_X_over_r_X,1,\n",
    "      Lambda,sigma_Lambda_over_Lambda,J,r_X[idx_r_X],L[idx_L],Tmax_over_tau_E])\n",
    "sim_results=moments_of_r_sim\n",
    "sim_convergence=np.asarray([np.std(pippo_m),np.max(np.abs(pippo_m)),\n",
    "                           np.std(pippo_n),np.max(np.abs(pippo_n))])\n",
    "\n",
    "\n",
    "pippo_E=np.cov(Base_Sim[0:N_E],Delta_Sim[0:N_E])\n",
    "pippo_I=np.cov(Base_Sim[N_E::],Delta_Sim[N_E::])\n",
    "\n",
    "idx_r_X=0;idx_L=0;\n",
    "idx_T_all=np.where((T>np.max(T)/2))[0]\n",
    "auto=np.zeros(len(idx_T_all))\n",
    "count=0;\n",
    "for idx_T in idx_T_all:\n",
    "    pippo=np.corrcoef(DYNA[idx_r_X,idx_L,:,idx_T],DYNA[idx_r_X,idx_L,:,idx_T_all[0]])\n",
    "    auto[count]=pippo[0,1]\n",
    "    count=count+1\n",
    "max_decay=(np.max(T[idx_T_all])-np.min(T[idx_T_all]))\n",
    "tau_decay=max_decay\n",
    "idx_decay=np.argmin(np.abs(auto-0.5))\n",
    "if np.min(auto)<0.95:\n",
    "    tau_decay=T[0:len(auto)][idx_decay]\n",
    "print(tau_decay,max_decay)    \n",
    "    \n",
    "    \n",
    "additional_measurements=[pippo_E[0,1]/pippo_E[1,1],pippo_I[0,1]/pippo_I[1,1],tau_decay,max_decay]\n",
    "results=np.zeros((1,len(sim_param)\n",
    "                  +len(sim_results)\n",
    "                 +len(sim_convergence)\n",
    "                 +len(additional_measurements)))\n",
    "\n",
    "results[0,0:len(sim_param)]=sim_param[:]\n",
    "results[0,len(sim_param):(len(sim_param)+len(sim_results))]=sim_results\n",
    "results[0,(len(sim_param)+len(sim_results)):(len(sim_param)+len(sim_results)+len(sim_convergence))]=sim_convergence\n",
    "results[0,(len(sim_param)+len(sim_results)+len(sim_convergence))::]=additional_measurements\n",
    "\n"
   ]
  },
  {
   "cell_type": "code",
   "execution_count": 85,
   "metadata": {},
   "outputs": [
    {
     "data": {
      "text/plain": [
       "[<matplotlib.lines.Line2D at 0x7fb38ab369a0>]"
      ]
     },
     "execution_count": 85,
     "metadata": {},
     "output_type": "execute_result"
    },
    {
     "data": {
      "image/png": "[encoded data removed]",
      "text/plain": [
       "<Figure size 432x288 with 1 Axes>"
      ]
     },
     "metadata": {
      "needs_background": "light"
     },
     "output_type": "display_data"
    }
   ],
   "source": [
    "color=['k','b']\n",
    "#idx_T_all=np.where((T>30*fun.tau_I)&(T<40*fun.tau_I))[0]\n",
    "plt.plot(T[0:len(auto)],auto,c=color[idx_L])\n"
   ]
  },
  {
   "cell_type": "code",
   "execution_count": 45,
   "metadata": {},
   "outputs": [
    {
     "data": {
      "text/plain": [
       "1"
      ]
     },
     "execution_count": 45,
     "metadata": {},
     "output_type": "execute_result"
    }
   ],
   "source": [
    "rel_decay"
   ]
  },
  {
   "cell_type": "code",
   "execution_count": null,
   "metadata": {},
   "outputs": [],
   "source": []
  }
 ],
 "metadata": {
  "anaconda-cloud": {},
  "kernelspec": {
   "display_name": "Python 3",
   "language": "python",
   "name": "python3"
  },
  "language_info": {
   "codemirror_mode": {
    "name": "ipython",
    "version": 3
   },
   "file_extension": ".py",
   "mimetype": "text/x-python",
   "name": "python",
   "nbconvert_exporter": "python",
   "pygments_lexer": "ipython3",
   "version": "3.8.8"
  }
 },
 "nbformat": 4,
 "nbformat_minor": 2
}
